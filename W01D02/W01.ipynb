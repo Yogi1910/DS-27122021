{
 "cells": [
  {
   "cell_type": "markdown",
   "id": "da31cfb5",
   "metadata": {},
   "source": [
    "# DS PYTHON\n",
    "\n",
    "## Day 01"
   ]
  },
  {
   "cell_type": "code",
   "execution_count": null,
   "id": "0a08edca",
   "metadata": {},
   "outputs": [],
   "source": [
    "#Today is the first day of python series. "
   ]
  },
  {
   "cell_type": "code",
   "execution_count": null,
   "id": "574a10f7",
   "metadata": {},
   "outputs": [],
   "source": [
    "#Roadblocks\n",
    "1. Redo the steps that I told you\n",
    "2. Take community support (stack overflow)\n",
    "3. Forward your queries to me (teams)"
   ]
  },
  {
   "cell_type": "code",
   "execution_count": null,
   "id": "53272a23",
   "metadata": {},
   "outputs": [],
   "source": [
    "#First weeks expectaions\n",
    "\n",
    "All must have pyton installation done\n",
    "Try Jupyter online \n",
    "Stay motivated"
   ]
  },
  {
   "cell_type": "code",
   "execution_count": 3,
   "id": "9bb1720a",
   "metadata": {},
   "outputs": [
    {
     "name": "stdout",
     "output_type": "stream",
     "text": [
      "0.6666666666666666\n"
     ]
    }
   ],
   "source": [
    "A= 2\n",
    "b=3\n",
    "print(A/b)"
   ]
  },
  {
   "cell_type": "markdown",
   "id": "5789e102",
   "metadata": {},
   "source": [
    "## Day 02"
   ]
  },
  {
   "cell_type": "markdown",
   "id": "308e1625",
   "metadata": {},
   "source": [
    "### Topics for today\n",
    "\n",
    "#### 1. Jupyter environment\n",
    "#### 2. Coding/ Marking down\n",
    "#### 3. Why data types\n",
    "#### 4. BuiltIn data types\n",
    "#### 5. Different uses"
   ]
  },
  {
   "cell_type": "code",
   "execution_count": null,
   "id": "fc54506e",
   "metadata": {},
   "outputs": [],
   "source": [
    "a) Help> keyboard shortcuts\n",
    "b) Kernel = computational engine (reading/exceuting/presenting)\n",
    "c) switch between code and markdown for documenation and coding\n",
    "d) [] details of execution : order of execution , * for a busy/under execution cell"
   ]
  },
  {
   "cell_type": "code",
   "execution_count": 5,
   "id": "f2c20d8f",
   "metadata": {},
   "outputs": [
    {
     "name": "stdout",
     "output_type": "stream",
     "text": [
      "type your nameYogesh\n",
      "hello Yogesh\n"
     ]
    }
   ],
   "source": [
    "a =4.5\n",
    "\n",
    "name = input('type your name')\n",
    "print('hello', name)"
   ]
  },
  {
   "cell_type": "markdown",
   "id": "02674a4d",
   "metadata": {},
   "source": [
    "#### DATA TYPES"
   ]
  },
  {
   "cell_type": "code",
   "execution_count": null,
   "id": "eb7ef762",
   "metadata": {},
   "outputs": [],
   "source": [
    "Data is information\n",
    "\n",
    "Insta post is data\n",
    "amazon bucket list is a data\n",
    "QR code\n",
    "Stock market trend\n",
    "google search\n",
    "account balance\n",
    "Edyoda id\n",
    "Gmail profile picture\n",
    "Phone no\n",
    "Weather"
   ]
  },
  {
   "cell_type": "code",
   "execution_count": null,
   "id": "d8154574",
   "metadata": {},
   "outputs": [],
   "source": [
    "# While coding in a language we need to store information/data\n",
    "# In order to so we will need data types to store data.\n",
    " \n",
    "# Because we have different types of data, we need different types of Data Types\n",
    "# One method of storing may be better than the other, hence multiple types\n",
    "\n"
   ]
  },
  {
   "cell_type": "code",
   "execution_count": null,
   "id": "8fb24e98",
   "metadata": {},
   "outputs": [],
   "source": [
    "1) int :   Intergers -1, 1, 1000, 50 \n",
    "    \n",
    "2) float : Decimal numbers (3.141, 3.8, 8, 58.0, 1, 25,0.08, 0.08)\n",
    "    \n",
    "3) str :   string 'Sachin', 'sekhar'...  characters surrounded by single quotes (''), double quotes (\"\"), \n",
    "            triple quotes(\"\"\"\"\"\")\n",
    "        \n",
    "4) list :  collection of orderd items [9911667755, 7788665533 , 'EDYODA', 3.9.7] mutable (Editable)\n",
    "    \n",
    "5) tuple:  collection of items  (12,14,'Python',9.2) immutable (not editable)\n",
    "    \n",
    "6) dict :  Dictionary stores data points in the form of key, value pairs\n",
    "           {'Uday': 3.6,'Akansha':3.9,'Athish':[2.7,3.10]}\n",
    "           keys have to be unique\n",
    "            \n",
    "           {key1:value,key2:value}\n",
    "           \n",
    "7) set  :  collection of keys. Keys are unique, immuatable. Sets are mutable.\n",
    "    \n",
    "8) bool :  True, False\n",
    "    \n",
    "9) None : Nonetype object"
   ]
  },
  {
   "cell_type": "code",
   "execution_count": 65,
   "id": "c0350b26",
   "metadata": {},
   "outputs": [
    {
     "name": "stdout",
     "output_type": "stream",
     "text": [
      "<class 'int'>\n"
     ]
    }
   ],
   "source": [
    "c= -8\n",
    "print(type(c))"
   ]
  },
  {
   "cell_type": "code",
   "execution_count": 17,
   "id": "baf9a734",
   "metadata": {},
   "outputs": [
    {
     "name": "stdout",
     "output_type": "stream",
     "text": [
      "this is \"EDYODA\" python's second class\n"
     ]
    }
   ],
   "source": [
    "d = '''this is \"EDYODA\" python's second class'''\n",
    "print(d)"
   ]
  },
  {
   "cell_type": "code",
   "execution_count": null,
   "id": "45a7acc1",
   "metadata": {},
   "outputs": [],
   "source": [
    "# multiline commnet\n",
    "\n",
    "'''\n",
    "A  is a good boy\n",
    "c is not a good girl\n",
    "'''\n"
   ]
  },
  {
   "cell_type": "code",
   "execution_count": 24,
   "id": "7c600115",
   "metadata": {},
   "outputs": [
    {
     "name": "stdout",
     "output_type": "stream",
     "text": [
      "{'Uday': 3.7, 'Akansha': 3.9, 'Athish': [2.7, 3.1], 'UDAY': 3.6}\n"
     ]
    }
   ],
   "source": [
    "# version = name:[version, installed?]\n",
    "\n",
    "version = {'Uday': 'INDIA','Akansha':[3.9,False],'Athish':[[2.7,3.10],True],'UDAY2':[3.6,None]}\n",
    "print(version)"
   ]
  },
  {
   "cell_type": "code",
   "execution_count": 23,
   "id": "37802014",
   "metadata": {},
   "outputs": [
    {
     "data": {
      "text/plain": [
       "False"
      ]
     },
     "execution_count": 23,
     "metadata": {},
     "output_type": "execute_result"
    }
   ],
   "source": [
    "'Uday' == 'UDAY'"
   ]
  },
  {
   "cell_type": "code",
   "execution_count": 34,
   "id": "e51c482a",
   "metadata": {},
   "outputs": [
    {
     "ename": "SyntaxError",
     "evalue": "invalid syntax (<ipython-input-34-655af5b48eeb>, line 4)",
     "output_type": "error",
     "traceback": [
      "\u001b[0;36m  File \u001b[0;32m\"<ipython-input-34-655af5b48eeb>\"\u001b[0;36m, line \u001b[0;32m4\u001b[0m\n\u001b[0;31m    S1 = set{3,'Apple','Apple',3}\u001b[0m\n\u001b[0m            ^\u001b[0m\n\u001b[0;31mSyntaxError\u001b[0m\u001b[0;31m:\u001b[0m invalid syntax\n"
     ]
    }
   ],
   "source": [
    "L1 =[3,'Apple','Apple',3]\n",
    "print(L1)\n",
    "\n",
    "S1 = set([3,'Apple','Apple',3])\n",
    "print(S1)\n"
   ]
  },
  {
   "cell_type": "code",
   "execution_count": 33,
   "id": "29c68933",
   "metadata": {},
   "outputs": [
    {
     "data": {
      "text/plain": [
       "False"
      ]
     },
     "execution_count": 33,
     "metadata": {},
     "output_type": "execute_result"
    }
   ],
   "source": [
    "'yogiraj' == 'yogiraaj'"
   ]
  },
  {
   "cell_type": "code",
   "execution_count": 38,
   "id": "bea61a53",
   "metadata": {},
   "outputs": [
    {
     "name": "stdout",
     "output_type": "stream",
     "text": [
      "[]\n"
     ]
    }
   ],
   "source": [
    "\n",
    "\n",
    "a = list()\n",
    "b = []\n",
    "\n",
    "a =list()\n",
    "print(a)"
   ]
  },
  {
   "cell_type": "code",
   "execution_count": 46,
   "id": "dbc7f6ed",
   "metadata": {},
   "outputs": [
    {
     "data": {
      "text/plain": [
       "1"
      ]
     },
     "execution_count": 46,
     "metadata": {},
     "output_type": "execute_result"
    }
   ],
   "source": [
    "0 + False + True"
   ]
  },
  {
   "cell_type": "markdown",
   "id": "4f9d076b",
   "metadata": {},
   "source": [
    "### Indexing\n",
    "\n",
    "##### In python indexing starts from 0"
   ]
  },
  {
   "cell_type": "code",
   "execution_count": 54,
   "id": "b5383d1b",
   "metadata": {},
   "outputs": [
    {
     "name": "stdout",
     "output_type": "stream",
     "text": [
      "[10000, 'Mango', 1, 2, 3, 5, 8, 13, 21]\n"
     ]
    },
    {
     "ename": "TypeError",
     "evalue": "'tuple' object does not support item assignment",
     "output_type": "error",
     "traceback": [
      "\u001b[0;31m---------------------------------------------------------------------------\u001b[0m",
      "\u001b[0;31mTypeError\u001b[0m                                 Traceback (most recent call last)",
      "\u001b[0;32m<ipython-input-54-dfc2338d6ad7>\u001b[0m in \u001b[0;36m<module>\u001b[0;34m\u001b[0m\n\u001b[1;32m      7\u001b[0m \u001b[0mT1\u001b[0m \u001b[0;34m=\u001b[0m \u001b[0;34m(\u001b[0m\u001b[0;36m10000\u001b[0m\u001b[0;34m,\u001b[0m\u001b[0;34m'Apple'\u001b[0m\u001b[0;34m,\u001b[0m\u001b[0;36m1\u001b[0m\u001b[0;34m,\u001b[0m\u001b[0;36m2\u001b[0m\u001b[0;34m,\u001b[0m\u001b[0;36m3\u001b[0m\u001b[0;34m,\u001b[0m\u001b[0;36m5\u001b[0m\u001b[0;34m,\u001b[0m\u001b[0;36m8\u001b[0m\u001b[0;34m,\u001b[0m\u001b[0;36m13\u001b[0m\u001b[0;34m,\u001b[0m\u001b[0;36m21\u001b[0m\u001b[0;34m)\u001b[0m\u001b[0;34m\u001b[0m\u001b[0m\n\u001b[1;32m      8\u001b[0m \u001b[0;34m\u001b[0m\u001b[0m\n\u001b[0;32m----> 9\u001b[0;31m \u001b[0mT1\u001b[0m\u001b[0;34m[\u001b[0m\u001b[0;36m1\u001b[0m\u001b[0;34m]\u001b[0m \u001b[0;34m=\u001b[0m \u001b[0;34m'Mango'\u001b[0m\u001b[0;34m\u001b[0m\u001b[0m\n\u001b[0m\u001b[1;32m     10\u001b[0m  \u001b[0;31m# mutability\u001b[0m\u001b[0;34m\u001b[0m\u001b[0;34m\u001b[0m\u001b[0m\n\u001b[1;32m     11\u001b[0m \u001b[0mprint\u001b[0m\u001b[0;34m(\u001b[0m\u001b[0mT1\u001b[0m\u001b[0;34m)\u001b[0m\u001b[0;34m\u001b[0m\u001b[0m\n",
      "\u001b[0;31mTypeError\u001b[0m: 'tuple' object does not support item assignment"
     ]
    }
   ],
   "source": [
    "L2 = [10000,'Apple',1,2,3,5,8,13,21]\n",
    "\n",
    "L2[1] = 'Mango'\n",
    " # mutability\n",
    "print(L2)\n",
    "\n",
    "T1 = (10000,'Apple',1,2,3,5,8,13,21)\n",
    "\n",
    "T1[1] = 'Mango'\n",
    " #Immutability\n",
    "print(T1)"
   ]
  },
  {
   "cell_type": "code",
   "execution_count": 64,
   "id": "faa3d44c",
   "metadata": {},
   "outputs": [
    {
     "name": "stdout",
     "output_type": "stream",
     "text": [
      "False\n"
     ]
    },
    {
     "ename": "KeyError",
     "evalue": "1",
     "output_type": "error",
     "traceback": [
      "\u001b[0;31m---------------------------------------------------------------------------\u001b[0m",
      "\u001b[0;31mKeyError\u001b[0m                                  Traceback (most recent call last)",
      "\u001b[0;32m<ipython-input-64-4dacfbc71b00>\u001b[0m in \u001b[0;36m<module>\u001b[0;34m\u001b[0m\n\u001b[1;32m      4\u001b[0m \u001b[0mprint\u001b[0m\u001b[0;34m(\u001b[0m\u001b[0mversion\u001b[0m\u001b[0;34m[\u001b[0m\u001b[0;34m\"Akansha\"\u001b[0m\u001b[0;34m]\u001b[0m\u001b[0;34m[\u001b[0m\u001b[0;36m1\u001b[0m\u001b[0;34m]\u001b[0m\u001b[0;34m)\u001b[0m\u001b[0;34m\u001b[0m\u001b[0m\n\u001b[1;32m      5\u001b[0m \u001b[0;34m\u001b[0m\u001b[0m\n\u001b[0;32m----> 6\u001b[0;31m \u001b[0mprint\u001b[0m\u001b[0;34m(\u001b[0m\u001b[0mversion\u001b[0m\u001b[0;34m[\u001b[0m\u001b[0;36m1\u001b[0m\u001b[0;34m]\u001b[0m\u001b[0;34m)\u001b[0m\u001b[0;34m\u001b[0m\u001b[0m\n\u001b[0m",
      "\u001b[0;31mKeyError\u001b[0m: 1"
     ]
    }
   ],
   "source": [
    "version = {'Uday': [3.7,True],'Akansha':[3.9,False],'Athish':[[2.7,3.10],True],'UDAY2':[3.6,None]}\n",
    "# details of Akansha\n",
    "\n",
    "print(version[\"Akansha\"][1])\n",
    "\n",
    "print(version[1])\n"
   ]
  },
  {
   "cell_type": "code",
   "execution_count": 61,
   "id": "def8c2cb",
   "metadata": {},
   "outputs": [
    {
     "name": "stdout",
     "output_type": "stream",
     "text": [
      "_\n"
     ]
    }
   ],
   "source": [
    "str1 = \"EDYODA_PYTHON\"\n",
    "print(str1[6])\n"
   ]
  },
  {
   "cell_type": "code",
   "execution_count": 74,
   "id": "04bd7c25",
   "metadata": {},
   "outputs": [
    {
     "name": "stdout",
     "output_type": "stream",
     "text": [
      "<class 'NoneType'>\n"
     ]
    }
   ],
   "source": [
    "A = None\n",
    "B = None\n",
    "C = None\n",
    "\n",
    "\n",
    "print(type(A))"
   ]
  },
  {
   "cell_type": "code",
   "execution_count": 75,
   "id": "b2d2799e",
   "metadata": {},
   "outputs": [
    {
     "data": {
      "text/plain": [
       "False"
      ]
     },
     "execution_count": 75,
     "metadata": {},
     "output_type": "execute_result"
    }
   ],
   "source": [
    "12 == 1"
   ]
  },
  {
   "cell_type": "code",
   "execution_count": 70,
   "id": "28105377",
   "metadata": {},
   "outputs": [
    {
     "data": {
      "text/plain": [
       "True"
      ]
     },
     "execution_count": 70,
     "metadata": {},
     "output_type": "execute_result"
    }
   ],
   "source": [
    "True == 1"
   ]
  },
  {
   "cell_type": "code",
   "execution_count": 73,
   "id": "4b20352f",
   "metadata": {},
   "outputs": [
    {
     "data": {
      "text/plain": [
       "True"
      ]
     },
     "execution_count": 73,
     "metadata": {},
     "output_type": "execute_result"
    }
   ],
   "source": [
    "0==False"
   ]
  },
  {
   "cell_type": "code",
   "execution_count": null,
   "id": "5c54b383",
   "metadata": {},
   "outputs": [],
   "source": [
    "True and 1 are same thing.\n",
    "\n",
    "\n",
    "list[order]\n",
    "DICT[key]"
   ]
  }
 ],
 "metadata": {
  "kernelspec": {
   "display_name": "Python 3",
   "language": "python",
   "name": "python3"
  },
  "language_info": {
   "codemirror_mode": {
    "name": "ipython",
    "version": 3
   },
   "file_extension": ".py",
   "mimetype": "text/x-python",
   "name": "python",
   "nbconvert_exporter": "python",
   "pygments_lexer": "ipython3",
   "version": "3.6.2"
  }
 },
 "nbformat": 4,
 "nbformat_minor": 5
}
