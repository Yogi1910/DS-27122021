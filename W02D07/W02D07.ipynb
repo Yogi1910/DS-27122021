{
 "cells": [
  {
   "cell_type": "code",
   "execution_count": 4,
   "id": "3606ff4b",
   "metadata": {},
   "outputs": [
    {
     "name": "stdout",
     "output_type": "stream",
     "text": [
      "50^^^^^^^^10end it \n",
      "\n",
      "a\n"
     ]
    }
   ],
   "source": [
    "# input() takes input from the user in string format\n",
    "#x = int(input())\n",
    "#y = int(input())\n",
    "#\\n new line default\n",
    "\n",
    "x=50\n",
    "y=10\n",
    "print(x,y,sep='^^^^^^^^',end = 'end it \\n\\n')\n",
    "print('a')"
   ]
  },
  {
   "cell_type": "code",
   "execution_count": null,
   "id": "be962585",
   "metadata": {},
   "outputs": [],
   "source": [
    "x ==50"
   ]
  },
  {
   "cell_type": "markdown",
   "id": "ad2025fc",
   "metadata": {},
   "source": [
    "### bool function"
   ]
  },
  {
   "cell_type": "code",
   "execution_count": 12,
   "id": "d377a224",
   "metadata": {},
   "outputs": [
    {
     "name": "stdout",
     "output_type": "stream",
     "text": [
      "8\n",
      "<class 'str'>\n",
      "True\n",
      "<class 'bool'>\n",
      "execute\n"
     ]
    }
   ],
   "source": [
    "# to conert a value to boolean equivalent(True or false) or value\n",
    "print(str(8))\n",
    "print(type(str(8)))\n",
    "print(bool(1))\n",
    "print(type(bool(1)))\n",
    "\n",
    "if 3==3:\n",
    "    print('execute')\n",
    "    \n"
   ]
  },
  {
   "cell_type": "code",
   "execution_count": 24,
   "id": "8a460048",
   "metadata": {},
   "outputs": [
    {
     "name": "stdout",
     "output_type": "stream",
     "text": [
      "False\n",
      "False\n",
      "False\n",
      "False\n",
      "False\n",
      "False\n"
     ]
    }
   ],
   "source": [
    "# What all values return False (What are the object that have boolean equivalent as False)\n",
    "# 1. default value (ithout an input is False)\n",
    "# 2. Nonetype\n",
    "# 3. 0 or 0.0\n",
    "# 4. empty sequence\n",
    "# 5. any other object that will return None\n",
    "\n",
    "\n",
    "print(bool())\n",
    "print(bool(None))\n",
    "print(bool(0))\n",
    "print(bool(0.0))\n",
    "print(bool(False))\n",
    "print(bool([]))\n",
    "print(bool({}))\n",
    "\n",
    "if bool():\n",
    "    print('BBYEE')\n",
    "    \n",
    "if bool(None):\n",
    "    print('BBYEE') \n",
    "    \n",
    "if bool(0.0) or bool(0):\n",
    "    print('BBYEE')\n",
    "    \n",
    "if bool([]):\n",
    "    print('BBYEE')\n",
    "    "
   ]
  },
  {
   "cell_type": "markdown",
   "id": "9c3fc1c0",
   "metadata": {},
   "source": [
    "#### True Equivalents"
   ]
  },
  {
   "cell_type": "code",
   "execution_count": 36,
   "id": "1aeb306e",
   "metadata": {},
   "outputs": [
    {
     "name": "stdout",
     "output_type": "stream",
     "text": [
      "True\n",
      "True\n",
      "True\n",
      "True\n",
      "True\n",
      "True\n"
     ]
    }
   ],
   "source": [
    "print(bool(2.2))\n",
    "print(bool(6))\n",
    "print(bool({1:'one'}))\n",
    "print(bool([1,2,3]))\n",
    "print(bool(-5))\n",
    "print(bool(True))\n",
    "\n"
   ]
  },
  {
   "cell_type": "code",
   "execution_count": 47,
   "id": "06b96360",
   "metadata": {},
   "outputs": [
    {
     "name": "stdout",
     "output_type": "stream",
     "text": [
      "True\n",
      "False\n",
      "3\n",
      "1\n",
      "2\n"
     ]
    }
   ],
   "source": [
    "# after if we are observing boolean equivalents\n",
    "\n",
    "x = [1,2,3]\n",
    "y = []\n",
    "z = 0\n",
    "\n",
    "print(bool(y))\n",
    "print(bool(z))\n",
    "\n",
    "print(len(x))\n",
    "\n",
    "\n",
    "\n",
    "if len(x)>0:\n",
    "    print('1')\n",
    "    \n",
    "if y:\n",
    "    print(\"2\")\n",
    "    \n",
    "if z:\n",
    "    print(\"3\")\n",
    "    \n",
    "    "
   ]
  },
  {
   "cell_type": "markdown",
   "id": "1162acd7",
   "metadata": {},
   "source": [
    "### Iterable "
   ]
  },
  {
   "cell_type": "code",
   "execution_count": 48,
   "id": "c9ef9203",
   "metadata": {},
   "outputs": [
    {
     "name": "stdout",
     "output_type": "stream",
     "text": [
      "apple\n",
      "kiwi\n",
      "mango\n"
     ]
    }
   ],
   "source": [
    "# iterable is an object  which can be looped over  with the help ofa loop\n",
    "# container that has some data and we perform an iteration to get elements one by one\n",
    "# Memory efficient because you have one data pointat a time stored\n",
    "\n",
    "L1 = ['apple','kiwi','mango']\n",
    "\n",
    "print(L1[0])\n",
    "print(L1[1])\n",
    "print(L1[2])\n",
    "\n",
    "\n",
    "\n",
    "\n",
    "\n",
    "\n",
    "\n",
    "\n"
   ]
  },
  {
   "cell_type": "markdown",
   "id": "e5d4a37c",
   "metadata": {},
   "source": [
    "### for loop"
   ]
  },
  {
   "cell_type": "code",
   "execution_count": null,
   "id": "468de721",
   "metadata": {},
   "outputs": [],
   "source": [
    "# syntex\n",
    "# I = irterator \n",
    "\n",
    "# DRY\n",
    "\n",
    "for i in iterable:\n",
    "    statement\n",
    "    \n"
   ]
  },
  {
   "cell_type": "code",
   "execution_count": 63,
   "id": "fa502399",
   "metadata": {},
   "outputs": [
    {
     "name": "stdout",
     "output_type": "stream",
     "text": [
      "apple\n",
      "\n",
      "kiwi\n",
      "\n",
      "mango\n",
      "\n",
      "100\n",
      "50\n",
      "25\n",
      "12.5\n",
      "6.25\n"
     ]
    }
   ],
   "source": [
    "L1 = ['apple','kiwi','mango']\n",
    "\n",
    "L2= [100,50,25,12.5,6.25]\n",
    "\n",
    "for i in L1:\n",
    "    print(i,end='\\n\\n')\n",
    "    \n",
    "for Deepak in L2:\n",
    "    print(Deepak)\n",
    "\n",
    "    \n",
    "\n",
    "\n",
    "\n"
   ]
  },
  {
   "cell_type": "code",
   "execution_count": 65,
   "id": "5490640d",
   "metadata": {},
   "outputs": [
    {
     "name": "stdout",
     "output_type": "stream",
     "text": [
      "0\n",
      "1\n",
      "4\n",
      "9\n",
      "16\n",
      "25\n",
      "36\n",
      "49\n",
      "64\n",
      "81\n",
      "100\n"
     ]
    }
   ],
   "source": [
    "# I ask you to print square of each number from 0 to 10:\n",
    "\n",
    "L1 = [0,1,2,3,4,5,6,7,8,9,10]\n",
    "\n",
    "for x in L1:\n",
    "    print(x**2)\n",
    "    \n",
    "\n"
   ]
  },
  {
   "cell_type": "code",
   "execution_count": 72,
   "id": "ab4e0ce1",
   "metadata": {},
   "outputs": [
    {
     "ename": "IndentationError",
     "evalue": "unindent does not match any outer indentation level (<tokenize>, line 11)",
     "output_type": "error",
     "traceback": [
      "\u001b[0;36m  File \u001b[0;32m\"<tokenize>\"\u001b[0;36m, line \u001b[0;32m11\u001b[0m\n\u001b[0;31m    print('even')\u001b[0m\n\u001b[0m    ^\u001b[0m\n\u001b[0;31mIndentationError\u001b[0m\u001b[0;31m:\u001b[0m unindent does not match any outer indentation level\n"
     ]
    }
   ],
   "source": [
    "# I ask you to print square of each number from 0 to 10, also print if the square is odd/even\n",
    "\n",
    "\n",
    "L1 = [0,1,2,3,4,5,6,7,8,9,10,11]\n",
    "\n",
    "for x in L1:\n",
    "    print(x**2,end=' ')\n",
    "   \n",
    "   \n",
    "    if x%2==0:\n",
    "        print('even')\n",
    "    else:\n",
    "        print('odd')\n",
    "        \n",
    "\n",
    "    \n",
    "    "
   ]
  },
  {
   "cell_type": "code",
   "execution_count": 76,
   "id": "dbbfba71",
   "metadata": {},
   "outputs": [
    {
     "data": {
      "text/plain": [
       "[0, 1, 2, 3, 4, 5, 6, 7, 8, 9, 10, 11]"
      ]
     },
     "execution_count": 76,
     "metadata": {},
     "output_type": "execute_result"
    }
   ],
   "source": [
    "# iterable function\n",
    "\n",
    "list(range(12))\n",
    "\n",
    "# range function prints n values from 0 where n is the input \n",
    "# range(n) prints 0 to n-1"
   ]
  },
  {
   "cell_type": "code",
   "execution_count": 77,
   "id": "2982589b",
   "metadata": {},
   "outputs": [
    {
     "name": "stdout",
     "output_type": "stream",
     "text": [
      "0 even\n",
      "1 odd\n",
      "4 even\n",
      "9 odd\n",
      "16 even\n",
      "25 odd\n",
      "36 even\n",
      "49 odd\n",
      "64 even\n",
      "81 odd\n",
      "100 even\n",
      "121 odd\n"
     ]
    }
   ],
   "source": [
    "\n",
    "\n",
    "\n",
    "for x in range(12):\n",
    "    print(x**2,end=' ')\n",
    "   \n",
    "   \n",
    "    if x%2==0:\n",
    "        print('even')\n",
    "    else:\n",
    "        print('odd')"
   ]
  },
  {
   "cell_type": "code",
   "execution_count": 90,
   "id": "64e43eaa",
   "metadata": {},
   "outputs": [
    {
     "name": "stdout",
     "output_type": "stream",
     "text": [
      "True\n",
      "True\n",
      "0 2 4 6 8 10 12 14 16 18 20 22 24 26 "
     ]
    }
   ],
   "source": [
    "# by defailt start = 0\n",
    "# by defauly step/sride = 1\n",
    "# range(start: end : stride)\n",
    "\n",
    "print(list(range(0,17))==list(range(17)))\n",
    "print(list(range(0,17,1))==list(range(17)))\n",
    "\n",
    "for i in range(0,27,2):\n",
    "    print(i,end=' ')\n",
    "\n",
    "    \n",
    "# print all the even numbers and 0 till 27\n"
   ]
  },
  {
   "cell_type": "code",
   "execution_count": 91,
   "id": "14269d59",
   "metadata": {},
   "outputs": [
    {
     "name": "stdout",
     "output_type": "stream",
     "text": [
      "6 9 12 15 18 21 24 27 30 33 36 39 42 45 48 51 54 57 60 63 66 69 72 75 78 81 84 87 90 93 "
     ]
    }
   ],
   "source": [
    "# 6 to 93 all multiples of 3\n",
    "\n",
    "for i in range(6,94,3):\n",
    "    print(i,end=' ')"
   ]
  },
  {
   "cell_type": "markdown",
   "id": "6e524aa4",
   "metadata": {},
   "source": [
    "### Slicing"
   ]
  },
  {
   "cell_type": "code",
   "execution_count": 106,
   "id": "06b4369a",
   "metadata": {},
   "outputs": [
    {
     "name": "stdout",
     "output_type": "stream",
     "text": [
      "[6, 9, 12, 15, 18, 21, 24, 27, 30, 33, 36, 39, 42, 45, 48, 51, 54, 57, 60, 63, 66, 69, 72, 75, 78, 81, 84, 87, 90, 93]\n"
     ]
    }
   ],
   "source": [
    "#list_name[start:end:steps]\n",
    "\n",
    "# 6 to 93 all multiples of 3\n",
    "\n",
    "\n",
    "L1 = list(range(94))\n",
    "\n",
    "print(L1[6:94:3])\n",
    "\n",
    "\n",
    "# Tell me this slcing works with which other data types"
   ]
  },
  {
   "cell_type": "code",
   "execution_count": 111,
   "id": "7b2fae63",
   "metadata": {},
   "outputs": [
    {
     "name": "stdout",
     "output_type": "stream",
     "text": [
      "enter a number below 1000:-99\n",
      "9\n",
      "<class 'int'>\n"
     ]
    }
   ],
   "source": [
    "# write a program to get the last digit of a number\n",
    "# take input form the user\n",
    "\n",
    "x = input('enter a number below 1000:-')\n",
    "\n",
    "print(int(x[-1]))\n",
    "print(type(int(x[-1])))\n",
    "\n"
   ]
  },
  {
   "cell_type": "code",
   "execution_count": 114,
   "id": "f806602f",
   "metadata": {},
   "outputs": [
    {
     "name": "stdout",
     "output_type": "stream",
     "text": [
      "False\n"
     ]
    }
   ],
   "source": [
    "a =True\n",
    "b= True\n",
    "c = True\n",
    "print(not(a or b or not c))"
   ]
  },
  {
   "cell_type": "code",
   "execution_count": 113,
   "id": "1f8cb8ab",
   "metadata": {},
   "outputs": [
    {
     "data": {
      "text/plain": [
       "True"
      ]
     },
     "execution_count": 113,
     "metadata": {},
     "output_type": "execute_result"
    }
   ],
   "source": [
    "a or b or False"
   ]
  },
  {
   "cell_type": "code",
   "execution_count": null,
   "id": "e45e81eb",
   "metadata": {},
   "outputs": [],
   "source": []
  }
 ],
 "metadata": {
  "kernelspec": {
   "display_name": "Python 3",
   "language": "python",
   "name": "python3"
  },
  "language_info": {
   "codemirror_mode": {
    "name": "ipython",
    "version": 3
   },
   "file_extension": ".py",
   "mimetype": "text/x-python",
   "name": "python",
   "nbconvert_exporter": "python",
   "pygments_lexer": "ipython3",
   "version": "3.6.2"
  }
 },
 "nbformat": 4,
 "nbformat_minor": 5
}
