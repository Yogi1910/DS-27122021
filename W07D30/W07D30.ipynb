{
 "cells": [
  {
   "cell_type": "markdown",
   "id": "b9d2eff0",
   "metadata": {},
   "source": [
    "### Revision"
   ]
  },
  {
   "cell_type": "code",
   "execution_count": 2,
   "id": "62a06c60",
   "metadata": {},
   "outputs": [
    {
     "data": {
      "text/plain": [
       "['apple', 'mango', 'kiwi', 'grapes', 'banana', 'orange']"
      ]
     },
     "execution_count": 2,
     "metadata": {},
     "output_type": "execute_result"
    }
   ],
   "source": [
    "string = \"apple mango:kiwi,grapes,banana,orange\"\n",
    "\n",
    "#use split in re module to get all the words\n",
    "\n",
    "import re\n",
    "\n",
    "re.split(r'[:,\\s]',string)\n",
    "\n"
   ]
  },
  {
   "cell_type": "code",
   "execution_count": 6,
   "id": "9aa2d327",
   "metadata": {},
   "outputs": [
    {
     "data": {
      "text/plain": [
       "'apple mango kiwi grapes banana orange'"
      ]
     },
     "execution_count": 6,
     "metadata": {},
     "output_type": "execute_result"
    }
   ],
   "source": [
    "string = \"apple mango:kiwi,grapes,banana,orange\"\n",
    "\n",
    "#use split in re module to get all the words\n",
    "\n",
    "import re\n",
    "\n",
    "re.sub(r'[:,\\s]',' ',string)"
   ]
  },
  {
   "cell_type": "code",
   "execution_count": 12,
   "id": "1c5e4d13",
   "metadata": {},
   "outputs": [
    {
     "name": "stdout",
     "output_type": "stream",
     "text": [
      "1\n",
      "3\n"
     ]
    }
   ],
   "source": [
    "c = 1\n",
    "\n",
    "def add():\n",
    "    \n",
    "    global c\n",
    "    c=c+2\n",
    "    print(c)\n",
    "    \n",
    "print(c)\n",
    "\n",
    "add()\n"
   ]
  },
  {
   "cell_type": "code",
   "execution_count": null,
   "id": "8b64c386",
   "metadata": {},
   "outputs": [],
   "source": [
    "symbol\n",
    "\n",
    "Union --->        |\n",
    "Intersection ----> &\n",
    "DIFFERENCE ------> - \n",
    "SYMMETRIC DIFFERENCE -----> ^\n"
   ]
  },
  {
   "cell_type": "markdown",
   "id": "356be393",
   "metadata": {},
   "source": [
    "#### STUDIED IN THE LAST CLASS"
   ]
  },
  {
   "cell_type": "code",
   "execution_count": null,
   "id": "9a405891",
   "metadata": {},
   "outputs": [],
   "source": [
    "datetime\n",
    "\n",
    "classes --> \n",
    "\n",
    "time\n",
    "date\n",
    "datetime\n",
    "timedelta\n",
    "\n",
    "strftime ----- date into string\n",
    "strptime ----- string into datetime object\n",
    "\n"
   ]
  },
  {
   "cell_type": "markdown",
   "id": "d005df8c",
   "metadata": {},
   "source": [
    "#### strptime"
   ]
  },
  {
   "cell_type": "code",
   "execution_count": 2,
   "id": "c7862fc9",
   "metadata": {},
   "outputs": [
    {
     "data": {
      "text/plain": [
       "datetime.datetime(1999, 5, 25, 2, 35, 8)"
      ]
     },
     "execution_count": 2,
     "metadata": {},
     "output_type": "execute_result"
    }
   ],
   "source": [
    "T1 = \"25/05/99 02:35:08\"\n",
    "\n",
    "from datetime import datetime as dt\n",
    "\n",
    "DT1 = dt.strptime(T1,\"%d/%m/%y %H:%M:%S\")\n",
    "\n",
    "DT1\n",
    "\n"
   ]
  },
  {
   "cell_type": "code",
   "execution_count": 19,
   "id": "973a4d2b",
   "metadata": {},
   "outputs": [
    {
     "name": "stdout",
     "output_type": "stream",
     "text": [
      "1999-05-06 02:35:08 \n",
      " 1999-06-05 02:35:08\n"
     ]
    }
   ],
   "source": [
    "T2 = \"06/05/07 02:35:08\"\n",
    "\n",
    "DT2 = dt.strptime(T2,\"%d/%m/%y %H:%M:%S\")\n",
    "\n",
    "DT3 = dt.strptime(T2,\"%m/%d/%y %H:%M:%S\")\n",
    "\n",
    "print(DT2,'\\n',DT3)"
   ]
  },
  {
   "cell_type": "code",
   "execution_count": 3,
   "id": "cc9256b8",
   "metadata": {},
   "outputs": [
    {
     "name": "stdout",
     "output_type": "stream",
     "text": [
      "2007-05-06 02:35:08 \n",
      " 2007-06-05 02:35:08\n"
     ]
    }
   ],
   "source": [
    "T3 = \"06/05-07 02:35/08\"\n",
    "\n",
    "\n",
    "\n",
    "DT4 = dt.strptime(T3,\"%d/%m-%y %H:%M/%S\")\n",
    "\n",
    "DT5 = dt.strptime(T3,\"%m/%d-%y %H:%M/%S\")\n",
    "\n",
    "print(DT4,'\\n',DT5)"
   ]
  },
  {
   "cell_type": "code",
   "execution_count": null,
   "id": "fead1b06",
   "metadata": {},
   "outputs": [],
   "source": [
    "if one year or 365 days need to be added to T3\n",
    "\n",
    "T3 = \"06/05-07 02:35/08\"\n",
    "\n",
    "I will convert it into a DT object --> strptime\n",
    "use function to add no of days     --> timedelta\n",
    "I will agian convert back ti string --> strftime\n",
    "\n"
   ]
  },
  {
   "cell_type": "markdown",
   "id": "0b1bedb1",
   "metadata": {},
   "source": [
    "### Object Oriented Programming\n",
    "\n"
   ]
  },
  {
   "cell_type": "code",
   "execution_count": null,
   "id": "5fc81c80",
   "metadata": {},
   "outputs": [],
   "source": [
    "Python is object oriented programming language\n",
    "\n",
    "Every object belongs to a \"class\"\n",
    "\n",
    "In OOP we try to mimic the real world\n",
    "\n",
    "Object is a collections of data and functions that operate on that data\n",
    "\n",
    "3 things:---\n",
    "    \n",
    "state ----represented by attributes\n",
    "\n",
    "Behaviour --- methods\n",
    "\n",
    "Identity ---- unique\n",
    "\n",
    "\n",
    "classes and objects are the key to OOP, classes are the blueprint of the object.\n",
    "\n",
    "\n",
    "\n",
    "\n"
   ]
  },
  {
   "cell_type": "code",
   "execution_count": 5,
   "id": "08fbcc12",
   "metadata": {},
   "outputs": [],
   "source": [
    "A Human is a class which may have attirbute, if we want to name, height, organs of 1000\n",
    "humans, so we dont need ti create these many classes.\n",
    "\n",
    "\n",
    "We need to instanciate multiple objects of the Human class."
   ]
  },
  {
   "cell_type": "code",
   "execution_count": 8,
   "id": "d3f9460a",
   "metadata": {},
   "outputs": [
    {
     "data": {
      "image/png": "[encoded data removed]",
      "text/plain": [
       "<PIL.JpegImagePlugin.JpegImageFile image mode=RGB size=400x305 at 0x105BA6A20>"
      ]
     },
     "execution_count": 8,
     "metadata": {},
     "output_type": "execute_result"
    }
   ],
   "source": [
    "from PIL import Image\n",
    "I = Image.open('CAR _OBJECT.jpeg')\n",
    "\n",
    "I"
   ]
  },
  {
   "cell_type": "code",
   "execution_count": 9,
   "id": "0ba8a7de",
   "metadata": {},
   "outputs": [],
   "source": [
    "### Syntax\n",
    "\n",
    "\n",
    "class name_of_the_class:\n",
    "\n",
    "    # statemnt block\n",
    "    \n",
    "object_name = name_of_the_class(argument)\n"
   ]
  },
  {
   "cell_type": "code",
   "execution_count": 14,
   "id": "1b730c83",
   "metadata": {},
   "outputs": [
    {
     "name": "stdout",
     "output_type": "stream",
     "text": [
      "Virat 30\n"
     ]
    }
   ],
   "source": [
    "class Human:\n",
    "    \n",
    "    name = \"Virat\"\n",
    "    age  = 30\n",
    "\n",
    "    \n",
    "H1 = Human()\n",
    "\n",
    "print(H1.name,H1.age)"
   ]
  },
  {
   "cell_type": "markdown",
   "id": "493fe939",
   "metadata": {},
   "source": [
    "###  __init___() function"
   ]
  },
  {
   "cell_type": "code",
   "execution_count": null,
   "id": "b562fc6f",
   "metadata": {},
   "outputs": [],
   "source": [
    "All classes have this function\n",
    "\n",
    "always excuted when the class is instanciated\n",
    "\n",
    "Hence we use this function to assign values or properties to the objects\n",
    "\n",
    "    \n",
    "\n"
   ]
  },
  {
   "cell_type": "code",
   "execution_count": 38,
   "id": "a677a52a",
   "metadata": {},
   "outputs": [
    {
     "name": "stdout",
     "output_type": "stream",
     "text": [
      "Hi this is  Virat and I am  indian\n",
      "This is class of Famous indian celebs\n",
      "Homo Sapiens\n",
      "indian\n"
     ]
    }
   ],
   "source": [
    "class Human:\n",
    "    \n",
    "    \"This is class of Famous indian celebs\"\n",
    "    \n",
    "    species  = 'Homo Sapiens'   #### class attribute\n",
    "    \n",
    "    def __init__(self,name,age):\n",
    "    \n",
    "        self.NAME = name       #### instance attribute\n",
    "        self.AGE  = age\n",
    "        self.nationality ='indian'\n",
    "   \n",
    "\n",
    "    def print_details(self):\n",
    "        print('Hi this is ', self.NAME,  'and I am ' ,self.nationality )        \n",
    "    \n",
    "    \n",
    "    \n",
    "    \n",
    "H2 = Human('Virat',30)   ## crate an object called H2 from Human class\n",
    "\n",
    "\n",
    "\n",
    "H2.print_details()\n",
    "\n",
    "\n",
    "\n",
    "\n",
    "print(H2.__doc__)\n",
    "print(H2.species)\n",
    "\n",
    "print(H2.nationality)"
   ]
  },
  {
   "cell_type": "markdown",
   "id": "b581873e",
   "metadata": {},
   "source": [
    "#### self"
   ]
  },
  {
   "cell_type": "code",
   "execution_count": null,
   "id": "f92adefe",
   "metadata": {},
   "outputs": [],
   "source": [
    "self parameter is a reference to the current instance of the class and is \n",
    "used to access variables that belong to the 'class'\n",
    "\n",
    "it need not be self everytime, but it has to be the first parameter.\n",
    "\n"
   ]
  },
  {
   "cell_type": "code",
   "execution_count": 32,
   "id": "7d4521c0",
   "metadata": {},
   "outputs": [],
   "source": [
    "class EMPTY:\n",
    "    \n",
    "    pass\n",
    "\n",
    "Optional class document string"
   ]
  },
  {
   "cell_type": "code",
   "execution_count": 33,
   "id": "f2e99f0e",
   "metadata": {},
   "outputs": [
    {
     "data": {
      "text/plain": [
       "'Return the number of items in a container.'"
      ]
     },
     "execution_count": 33,
     "metadata": {},
     "output_type": "execute_result"
    }
   ],
   "source": [
    "len.__doc__"
   ]
  },
  {
   "cell_type": "code",
   "execution_count": null,
   "id": "63492ebe",
   "metadata": {},
   "outputs": [],
   "source": [
    "class attributes : belong to the class itself these will be shared by all the instances.\n",
    "    \n",
    "Instance attribute: Each object has its own attributes.\n",
    "    \n"
   ]
  },
  {
   "cell_type": "code",
   "execution_count": 47,
   "id": "af6a4eaf",
   "metadata": {},
   "outputs": [
    {
     "name": "stdout",
     "output_type": "stream",
     "text": [
      "1\n",
      "2\n"
     ]
    }
   ],
   "source": [
    "#Home work : try to understand this---->\n",
    "    \n",
    "    \n",
    "class generate:\n",
    "    \n",
    "    count= 0\n",
    "    \n",
    "    def increase(self):\n",
    "        generate.count+=1\n",
    "        \n",
    "I1= generate()\n",
    "I1.increase()\n",
    "\n",
    "print(I1.count)\n",
    "\n",
    "I1.increase()\n",
    "\n",
    "print(I1.count)\n"
   ]
  },
  {
   "cell_type": "code",
   "execution_count": null,
   "id": "5a276c4a",
   "metadata": {},
   "outputs": [],
   "source": []
  }
 ],
 "metadata": {
  "kernelspec": {
   "display_name": "Python 3",
   "language": "python",
   "name": "python3"
  },
  "language_info": {
   "codemirror_mode": {
    "name": "ipython",
    "version": 3
   },
   "file_extension": ".py",
   "mimetype": "text/x-python",
   "name": "python",
   "nbconvert_exporter": "python",
   "pygments_lexer": "ipython3",
   "version": "3.6.2"
  }
 },
 "nbformat": 4,
 "nbformat_minor": 5
}
