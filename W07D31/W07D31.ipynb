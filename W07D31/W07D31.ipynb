{
 "cells": [
  {
   "cell_type": "code",
   "execution_count": 6,
   "id": "169421e7",
   "metadata": {},
   "outputs": [
    {
     "data": {
      "text/plain": [
       "{4, 5, 6, 7, 8}"
      ]
     },
     "execution_count": 6,
     "metadata": {},
     "output_type": "execute_result"
    }
   ],
   "source": [
    "S1 = {4,5,6,}\n",
    "\n",
    "S1.update([7,8])\n",
    "\n",
    "S1"
   ]
  },
  {
   "cell_type": "code",
   "execution_count": 8,
   "id": "fa92011e",
   "metadata": {},
   "outputs": [
    {
     "data": {
      "text/plain": [
       "True"
      ]
     },
     "execution_count": 8,
     "metadata": {},
     "output_type": "execute_result"
    }
   ],
   "source": [
    "S1.issuperset({6,7})\n",
    "\n"
   ]
  },
  {
   "cell_type": "code",
   "execution_count": 10,
   "id": "8dfa674a",
   "metadata": {},
   "outputs": [
    {
     "data": {
      "text/plain": [
       "True"
      ]
     },
     "execution_count": 10,
     "metadata": {},
     "output_type": "execute_result"
    }
   ],
   "source": [
    "{6,7}.issubset(S1)"
   ]
  },
  {
   "cell_type": "code",
   "execution_count": 14,
   "id": "55816e14",
   "metadata": {},
   "outputs": [
    {
     "name": "stdout",
     "output_type": "stream",
     "text": [
      "True\n"
     ]
    },
    {
     "data": {
      "text/plain": [
       "True"
      ]
     },
     "execution_count": 14,
     "metadata": {},
     "output_type": "execute_result"
    }
   ],
   "source": [
    "#A is subset of B and A is superset of B.\n",
    "\n",
    "A = {1,2,3}\n",
    "\n",
    "B = {1,2,3}\n",
    "\n",
    "print(A.issuperset(B))\n",
    "\n",
    "A.issubset(B)"
   ]
  },
  {
   "cell_type": "code",
   "execution_count": null,
   "id": "af05aca1",
   "metadata": {},
   "outputs": [],
   "source": [
    "How to make this conversion\n",
    "['apple','kiwi']   ----- >  ['kiwi','apple']"
   ]
  },
  {
   "cell_type": "code",
   "execution_count": 37,
   "id": "d6ee11d7",
   "metadata": {},
   "outputs": [
    {
     "name": "stdout",
     "output_type": "stream",
     "text": [
      "['kiwi', 'apple']\n",
      "['kiwi', 'apple']\n",
      "['kiwi', 'apple']\n",
      "['kiwi', 'apple']\n",
      "['kiwi', 'apple']\n"
     ]
    }
   ],
   "source": [
    "A = ['apple','kiwi']\n",
    "\n",
    "A.reverse()\n",
    "\n",
    "print(A)\n",
    "\n",
    "A = ['apple','kiwi']\n",
    "\n",
    "print(A[::-1])\n",
    "\n",
    "\n",
    "C = [A[i] for i in range(1,-1,-1)]\n",
    "\n",
    "print(C)\n",
    "\n",
    "A = ['apple','kiwi']\n",
    "\n",
    "D = sorted(A,key =len)\n",
    "\n",
    "print(D)\n",
    "\n",
    "A = ['apple','kiwi']\n",
    "\n",
    "A.sort(reverse=True)\n",
    "\n",
    "print(A)"
   ]
  },
  {
   "cell_type": "code",
   "execution_count": 46,
   "id": "77ee8864",
   "metadata": {},
   "outputs": [],
   "source": [
    "s ='3.14\\n3.14'\n",
    "\n",
    "import re as monkey\n",
    "\n",
    "monkey.search(r'n',s)"
   ]
  },
  {
   "cell_type": "markdown",
   "id": "07547c60",
   "metadata": {},
   "source": [
    "## OOP -2"
   ]
  },
  {
   "cell_type": "code",
   "execution_count": 64,
   "id": "9484633a",
   "metadata": {},
   "outputs": [],
   "source": [
    "class Dog:\n",
    "    \n",
    "    purpose = 'love and safety'\n",
    "    \n",
    "    # i need every dog to have different name color age\n",
    "    \n",
    "    def __init__(self,name, age ,color):\n",
    "        \n",
    "        self.name = name\n",
    "        self.age = age\n",
    "        self.color = color\n",
    "        \n",
    "    def bark(self): \n",
    "        \n",
    "        print('woof woof')\n",
    "    \n",
    "    def eat(self,food):\n",
    "        \n",
    "        print(self.name,'is eating',food)\n",
    "        \n",
    "    def walk(self):\n",
    "        \n",
    "        print('this', self.color, 'colored dog is going for a walk')\n",
    "    \n",
    "        "
   ]
  },
  {
   "cell_type": "code",
   "execution_count": 65,
   "id": "062568d2",
   "metadata": {},
   "outputs": [],
   "source": [
    "dog1 = Dog('tommy',2,'white')\n",
    "dog2 = Dog('bruno',3,'black')\n",
    "dog3 = Dog('roxy', 4, 'black')\n"
   ]
  },
  {
   "cell_type": "code",
   "execution_count": 66,
   "id": "01356c8d",
   "metadata": {},
   "outputs": [
    {
     "name": "stdout",
     "output_type": "stream",
     "text": [
      "bruno is eating biscuits\n",
      "roxy is eating meat\n",
      "this black colored dog is going for a walk\n"
     ]
    }
   ],
   "source": [
    "dog1.name\n",
    "dog2.age\n",
    "\n",
    "dog2.eat('biscuits')\n",
    "dog3.eat('meat')\n",
    "\n",
    "dog3.walk()"
   ]
  },
  {
   "cell_type": "code",
   "execution_count": null,
   "id": "51d3be09",
   "metadata": {},
   "outputs": [],
   "source": [
    "Q : create a class Fan with different name, color\n",
    "    \n",
    "    all fans shuld be in stop mode ie 0 speed\n",
    "    \n",
    "    maxspeed =5\n",
    "    \n",
    "    utility is to blow air so that we dont feel hot\n",
    "    \n",
    "    All fans should be created with switched off state"
   ]
  },
  {
   "cell_type": "code",
   "execution_count": 100,
   "id": "d5728f69",
   "metadata": {},
   "outputs": [
    {
     "name": "stdout",
     "output_type": "stream",
     "text": [
      "Switched on with a speed of 1\n",
      "Switched off\n",
      "Switched off\n"
     ]
    }
   ],
   "source": [
    "class fan:\n",
    "    \n",
    "    utility = 'blows air so that we dont feel hot'\n",
    "    \n",
    "    # class attribute\n",
    "    \n",
    "    def __init__(self,name,color):\n",
    "        \n",
    "        self.name =name\n",
    "        self.color =color\n",
    "        self.speed = 0\n",
    "        self.maxspeed = 5\n",
    "        self.switch = False\n",
    "        \n",
    "    def TurnOn(self):\n",
    "        \n",
    "        self.switch = True\n",
    "        self.speed = 1\n",
    "        print('Switched on', 'with a speed of' ,self.speed)\n",
    "        \n",
    "              \n",
    "    def TurnOff(self):\n",
    "        \n",
    "        self.switch = False\n",
    "        print('Switched off')\n",
    "        \n",
    "        self.speed = 0\n",
    "        \n",
    "    def IncSpeed(self):\n",
    "        \n",
    "        if self.switch ==True:\n",
    "        \n",
    "            if self.speed+1 > self.maxspeed:\n",
    "                print('Not possible')\n",
    "\n",
    "            else:\n",
    "                self.speed+=1\n",
    "                print('increased by one/1')\n",
    "                \n",
    "        else:\n",
    "            \n",
    "            print('switch to on karo uncle!')\n",
    "            \n",
    "    def DecSpeed(self):  \n",
    "        \n",
    "        if self.speed == 0:\n",
    "            print('Not possible because it is already off')\n",
    "            \n",
    "        else:\n",
    "            self.speed-=1\n",
    "            print('decreased by one/1')\n",
    "            \n",
    "            \n",
    "    def getSpeed(self):\n",
    "        \n",
    "        print(self.speed)\n",
    "            \n",
    "        \n",
    "FAN1 = fan('bajaj','white')\n",
    "\n",
    "FAN1.TurnOn()\n",
    "\n",
    "FAN1.TurnOff()\n",
    "\n",
    "\n",
    "FAN2 = fan('usha','black')\n",
    "        \n",
    "    \n",
    "FAN2.TurnOff()\n",
    "        \n",
    "\n",
    "        \n",
    "    \n",
    "        \n",
    "\n",
    "        "
   ]
  },
  {
   "cell_type": "code",
   "execution_count": 101,
   "id": "6d3ca913",
   "metadata": {},
   "outputs": [
    {
     "name": "stdout",
     "output_type": "stream",
     "text": [
      "bajaj blows air so that we dont feel hot\n",
      "0\n",
      "None\n",
      "False\n",
      "Switched on with a speed of 1\n",
      "None\n",
      "True\n",
      "increased by one/1\n",
      "None\n",
      "2\n"
     ]
    }
   ],
   "source": [
    "FAN1 = fan('bajaj','white')\n",
    "\n",
    "print(FAN1.name,FAN1.utility)\n",
    "\n",
    "print(FAN1.getSpeed())\n",
    "\n",
    "print(FAN1.switch)\n",
    "\n",
    "print(FAN1.TurnOn())\n",
    "\n",
    "print(FAN1.switch)\n",
    "\n",
    "print(FAN1.IncSpeed())\n",
    "\n",
    "FAN1.getSpeed()\n"
   ]
  },
  {
   "cell_type": "code",
   "execution_count": 122,
   "id": "15229071",
   "metadata": {},
   "outputs": [
    {
     "name": "stdout",
     "output_type": "stream",
     "text": [
      "switch to on karo uncle!\n",
      "switch to on karo uncle!\n",
      "switch to on karo uncle!\n",
      "switch to on karo uncle!\n",
      "switch to on karo uncle!\n",
      "switch to on karo uncle!\n",
      "Switched on with a speed of 1\n",
      "increased by one/1\n",
      "2\n",
      "increased by one/1\n",
      "3\n",
      "increased by one/1\n",
      "4\n",
      "increased by one/1\n",
      "5\n",
      "Not possible\n",
      "5\n",
      "Not possible\n",
      "5\n"
     ]
    }
   ],
   "source": [
    "FAN2 = fan('usha','black')\n",
    "\n",
    "for i in range(6):\n",
    "    FAN2.IncSpeed()\n",
    "    \n",
    "FAN2.switch\n",
    "\n",
    "FAN2.TurnOn()\n",
    "\n",
    "for i in range(6):\n",
    "    FAN2.IncSpeed()\n",
    "    FAN2.getSpeed()"
   ]
  },
  {
   "cell_type": "code",
   "execution_count": 131,
   "id": "736ac712",
   "metadata": {},
   "outputs": [
    {
     "name": "stdout",
     "output_type": "stream",
     "text": [
      "usha\n",
      "KHAITAN\n"
     ]
    }
   ],
   "source": [
    "### Change the attritbutes  (instance)\n",
    "\n",
    "FAN2 = fan('usha','black')\n",
    "\n",
    "print(FAN2.name)\n",
    "\n",
    "FAN2.name = 'KHAITAN'\n",
    "\n",
    "print(FAN2.name)"
   ]
  },
  {
   "cell_type": "code",
   "execution_count": 127,
   "id": "19948054",
   "metadata": {},
   "outputs": [
    {
     "data": {
      "text/plain": [
       "'blows air so that we dont feel hot'"
      ]
     },
     "execution_count": 127,
     "metadata": {},
     "output_type": "execute_result"
    }
   ],
   "source": [
    "FAN2.utility"
   ]
  },
  {
   "cell_type": "code",
   "execution_count": 128,
   "id": "05e1da29",
   "metadata": {},
   "outputs": [
    {
     "data": {
      "text/plain": [
       "'blows air so that we dont feel hot'"
      ]
     },
     "execution_count": 128,
     "metadata": {},
     "output_type": "execute_result"
    }
   ],
   "source": [
    "FAN1.utility"
   ]
  },
  {
   "cell_type": "code",
   "execution_count": 129,
   "id": "352156ac",
   "metadata": {},
   "outputs": [],
   "source": [
    "fan.utility = 'HAWA HAWA BAS HAWA'"
   ]
  },
  {
   "cell_type": "code",
   "execution_count": 130,
   "id": "38c2564f",
   "metadata": {},
   "outputs": [
    {
     "data": {
      "text/plain": [
       "'HAWA HAWA BAS HAWA'"
      ]
     },
     "execution_count": 130,
     "metadata": {},
     "output_type": "execute_result"
    }
   ],
   "source": [
    "FAN1.utility"
   ]
  },
  {
   "cell_type": "code",
   "execution_count": 132,
   "id": "9b0e6e5a",
   "metadata": {},
   "outputs": [
    {
     "data": {
      "text/plain": [
       "'HAWA HAWA BAS HAWA'"
      ]
     },
     "execution_count": 132,
     "metadata": {},
     "output_type": "execute_result"
    }
   ],
   "source": [
    "FAN2.utility"
   ]
  },
  {
   "cell_type": "code",
   "execution_count": 133,
   "id": "f0ffd21a",
   "metadata": {},
   "outputs": [],
   "source": [
    "FAN1.utility = 'xyz'"
   ]
  },
  {
   "cell_type": "code",
   "execution_count": 134,
   "id": "3fc64d61",
   "metadata": {},
   "outputs": [
    {
     "data": {
      "text/plain": [
       "'HAWA HAWA BAS HAWA'"
      ]
     },
     "execution_count": 134,
     "metadata": {},
     "output_type": "execute_result"
    }
   ],
   "source": [
    "FAN2.utility"
   ]
  },
  {
   "cell_type": "code",
   "execution_count": 135,
   "id": "05637a0d",
   "metadata": {},
   "outputs": [
    {
     "data": {
      "text/plain": [
       "'xyz'"
      ]
     },
     "execution_count": 135,
     "metadata": {},
     "output_type": "execute_result"
    }
   ],
   "source": [
    "FAN1.utility"
   ]
  },
  {
   "cell_type": "code",
   "execution_count": null,
   "id": "2182fd0b",
   "metadata": {},
   "outputs": [],
   "source": [
    "Home work : \n",
    " \n",
    "\n",
    "\n",
    "Create a class AC : brand and capacity\n",
    "put its status off\n",
    "turn on , if already print already on\n",
    "\n",
    "same for turn off\n",
    "\n",
    "set mode : if hot then set temp to 28\n",
    "           if cool then set temp to 18\n",
    "           if no user argment passed then auto 23\n",
    "            \n",
    "        \n",
    "           change_temp(self,mode='auto')  \n",
    "            \n",
    "\n",
    "Home work:\n",
    "    \n",
    "    \n",
    "    Creat a car class:\n",
    "    fuel up if tank is empty\n",
    "    start and speed accordingly\n",
    "    consume fuel\n",
    "    brakes\n",
    "    gear\n",
    "    accelerate\n",
    "    Head light\n",
    "    "
   ]
  }
 ],
 "metadata": {
  "kernelspec": {
   "display_name": "Python 3",
   "language": "python",
   "name": "python3"
  },
  "language_info": {
   "codemirror_mode": {
    "name": "ipython",
    "version": 3
   },
   "file_extension": ".py",
   "mimetype": "text/x-python",
   "name": "python",
   "nbconvert_exporter": "python",
   "pygments_lexer": "ipython3",
   "version": "3.6.2"
  }
 },
 "nbformat": 4,
 "nbformat_minor": 5
}
