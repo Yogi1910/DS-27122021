{
 "cells": [
  {
   "cell_type": "code",
   "execution_count": null,
   "id": "a7e66561",
   "metadata": {},
   "outputs": [],
   "source": [
    "# Question with filter\n",
    "\n",
    "Fruits = ['mango','Apple','kiwi','lichi','PG']\n",
    "\n",
    "1.  return only those fruits which have at least 1 vowel in them\n",
    "2.  return only those numbers from 0 to 1000 which are divisible by 3 4 5\n",
    "\n",
    "\n"
   ]
  },
  {
   "cell_type": "code",
   "execution_count": 83,
   "id": "d584de37",
   "metadata": {},
   "outputs": [
    {
     "data": {
      "text/plain": [
       "['mango', 'Apple', 'kiwi', 'lichi']"
      ]
     },
     "execution_count": 83,
     "metadata": {},
     "output_type": "execute_result"
    }
   ],
   "source": [
    "Fruits = ['mango','Apple','kiwi','lichi','PG']\n",
    "\n",
    "\n",
    "import re\n",
    "\n",
    "def vowel(word):\n",
    "    return re.search('[aeiouAEIOU]',word)\n",
    "\n",
    "\n",
    "list(filter(vowel,Fruits))"
   ]
  },
  {
   "cell_type": "code",
   "execution_count": 84,
   "id": "b4306822",
   "metadata": {},
   "outputs": [
    {
     "data": {
      "text/plain": [
       "['mango', 'Apple', 'kiwi', 'lichi']"
      ]
     },
     "execution_count": 84,
     "metadata": {},
     "output_type": "execute_result"
    }
   ],
   "source": [
    "Fruits = ['mango','Apple','kiwi','lichi','PG']\n",
    "\n",
    "\n",
    "import re\n",
    "\n",
    "vowel = lambda word : re.search('[aeiouAEIOU]',word)!=None\n",
    "\n",
    "list(filter(vowel,Fruits))"
   ]
  },
  {
   "cell_type": "code",
   "execution_count": 3,
   "id": "78d88d5b",
   "metadata": {},
   "outputs": [
    {
     "data": {
      "text/plain": [
       "['mango', 'Apple', 'kiwi', 'lichi']"
      ]
     },
     "execution_count": 3,
     "metadata": {},
     "output_type": "execute_result"
    }
   ],
   "source": [
    "import re\n",
    "\n",
    "Fruits = ['mango','Apple','kiwi','lichi','PG']\n",
    "vowel = lambda word : re.search('[aeiouAEIOU]',word)\n",
    "list(filter(vowel,Fruits))"
   ]
  },
  {
   "cell_type": "code",
   "execution_count": null,
   "id": "30cbe532",
   "metadata": {},
   "outputs": [],
   "source": [
    "Q2 :"
   ]
  },
  {
   "cell_type": "code",
   "execution_count": 4,
   "id": "facf1f18",
   "metadata": {},
   "outputs": [
    {
     "data": {
      "text/plain": [
       "[0,\n",
       " 60,\n",
       " 120,\n",
       " 180,\n",
       " 240,\n",
       " 300,\n",
       " 360,\n",
       " 420,\n",
       " 480,\n",
       " 540,\n",
       " 600,\n",
       " 660,\n",
       " 720,\n",
       " 780,\n",
       " 840,\n",
       " 900,\n",
       " 960]"
      ]
     },
     "execution_count": 4,
     "metadata": {},
     "output_type": "execute_result"
    }
   ],
   "source": [
    "numbers=list(range(1001))\n",
    "\n",
    "def divisible(number):\n",
    "    return number%3==0 and number%4==0 and number%5==0\n",
    "    \n",
    "        \n",
    "list(filter(divisible,numbers))"
   ]
  },
  {
   "cell_type": "code",
   "execution_count": null,
   "id": "0f6b2268",
   "metadata": {},
   "outputs": [],
   "source": [
    "numbers=list(range(1001))\n",
    "\n",
    "def divisible(number):\n",
    "    return number%3==0 and number%4==0 and number%5==0\n",
    "    \n",
    "        \n",
    "list(filter(divisible,numbers))"
   ]
  },
  {
   "cell_type": "code",
   "execution_count": 5,
   "id": "30d6586b",
   "metadata": {},
   "outputs": [
    {
     "data": {
      "text/plain": [
       "[0,\n",
       " 60,\n",
       " 120,\n",
       " 180,\n",
       " 240,\n",
       " 300,\n",
       " 360,\n",
       " 420,\n",
       " 480,\n",
       " 540,\n",
       " 600,\n",
       " 660,\n",
       " 720,\n",
       " 780,\n",
       " 840,\n",
       " 900,\n",
       " 960]"
      ]
     },
     "execution_count": 5,
     "metadata": {},
     "output_type": "execute_result"
    }
   ],
   "source": [
    "fun1 = lambda number: number%3==0 and number%4==0 and number%5==0\n",
    "\n",
    "list(filter(fun1,numbers))"
   ]
  },
  {
   "cell_type": "code",
   "execution_count": 6,
   "id": "9a539da2",
   "metadata": {},
   "outputs": [
    {
     "data": {
      "text/plain": [
       "[0,\n",
       " 60,\n",
       " 120,\n",
       " 180,\n",
       " 240,\n",
       " 300,\n",
       " 360,\n",
       " 420,\n",
       " 480,\n",
       " 540,\n",
       " 600,\n",
       " 660,\n",
       " 720,\n",
       " 780,\n",
       " 840,\n",
       " 900,\n",
       " 960]"
      ]
     },
     "execution_count": 6,
     "metadata": {},
     "output_type": "execute_result"
    }
   ],
   "source": [
    "num=filter(lambda a:a%3==0 and a%4==0 and a%5==0,range(1001))\n"
   ]
  },
  {
   "cell_type": "code",
   "execution_count": null,
   "id": "5897a847",
   "metadata": {},
   "outputs": [],
   "source": [
    "map()/filter()  #syntax: map(func,iter)"
   ]
  },
  {
   "cell_type": "markdown",
   "id": "7ee00fee",
   "metadata": {},
   "source": [
    "### Lambda functions and list comprehension"
   ]
  },
  {
   "cell_type": "code",
   "execution_count": null,
   "id": "57a3002d",
   "metadata": {},
   "outputs": [],
   "source": [
    "# list comprehension\n",
    "new_list = [expression for item in iterable if condition]\n",
    "\n",
    "\n",
    "time efficient\n",
    "space efficient\n",
    "iterative statement ----->formula\n"
   ]
  },
  {
   "cell_type": "code",
   "execution_count": null,
   "id": "6c2585fb",
   "metadata": {},
   "outputs": [],
   "source": [
    "# lambda fuction\n",
    "shorthand representation of python function\n",
    "\n",
    "no return"
   ]
  },
  {
   "cell_type": "code",
   "execution_count": null,
   "id": "835957f3",
   "metadata": {},
   "outputs": [],
   "source": [
    "inp : [[1,2],[3,4],[5,6]]\n",
    "    \n",
    "outp : [[1,3,5],[2,4,6]]\n",
    "    \n",
    "\n",
    "\n",
    "\n",
    "2 mins:"
   ]
  },
  {
   "cell_type": "code",
   "execution_count": 15,
   "id": "5ad628a1",
   "metadata": {},
   "outputs": [
    {
     "data": {
      "text/plain": [
       "[[1, 3, 5], [2, 4, 6]]"
      ]
     },
     "execution_count": 15,
     "metadata": {},
     "output_type": "execute_result"
    }
   ],
   "source": [
    "inp = [[1,2],[3,4],[5,6]]\n",
    "    \n",
    "[[l[i] for l in inp ] for i in range(2)]\n",
    "\n",
    "\n",
    "\n",
    "\n"
   ]
  },
  {
   "cell_type": "code",
   "execution_count": 7,
   "id": "2307636d",
   "metadata": {},
   "outputs": [
    {
     "data": {
      "text/plain": [
       "['a', 'p', 'p', 'l', 'e']"
      ]
     },
     "execution_count": 7,
     "metadata": {},
     "output_type": "execute_result"
    }
   ],
   "source": [
    "s= 'apple'\n",
    "\n",
    "[i for i in s]"
   ]
  },
  {
   "cell_type": "code",
   "execution_count": 16,
   "id": "5b16d709",
   "metadata": {},
   "outputs": [
    {
     "name": "stdout",
     "output_type": "stream",
     "text": [
      "[[1, 3, 5], [2, 4, 6]]\n"
     ]
    }
   ],
   "source": [
    "inp = [[1,2],[3,4],[5,6]]\n",
    "\n",
    "\n",
    "\n",
    "l1=[i[0] for i in inp]\n",
    "l2=[i[1] for i in inp]\n",
    "\n",
    "l3=[]\n",
    "\n",
    "l3.append(l1)\n",
    "l3.append(l2)\n",
    "\n",
    "print(l3)"
   ]
  },
  {
   "cell_type": "code",
   "execution_count": null,
   "id": "b9f90e24",
   "metadata": {},
   "outputs": [],
   "source": [
    "for x in range(2):\n",
    "\n",
    "l1=[i[x] for i in inp]\n"
   ]
  },
  {
   "cell_type": "code",
   "execution_count": 25,
   "id": "0f599289",
   "metadata": {},
   "outputs": [
    {
     "data": {
      "text/plain": [
       "[[0], [0, 1], [0, 1, 2], [0, 1, 2, 3], [0, 1, 2, 3, 4], [0, 1, 2, 3, 4, 5]]"
      ]
     },
     "execution_count": 25,
     "metadata": {},
     "output_type": "execute_result"
    }
   ],
   "source": [
    "# nested list comprehension\n",
    "\n",
    "[[i for i in range(j)] for j in range(1,7)]"
   ]
  },
  {
   "cell_type": "code",
   "execution_count": 19,
   "id": "8ed358c5",
   "metadata": {},
   "outputs": [
    {
     "data": {
      "text/plain": [
       "[0, 1, 2, 3, 4]"
      ]
     },
     "execution_count": 19,
     "metadata": {},
     "output_type": "execute_result"
    }
   ],
   "source": [
    "[[i for i in range(5)] for j in range(3)]"
   ]
  },
  {
   "cell_type": "code",
   "execution_count": 26,
   "id": "a91eaf35",
   "metadata": {},
   "outputs": [
    {
     "name": "stdout",
     "output_type": "stream",
     "text": [
      "how many elements?5\n",
      "1\n",
      "3\n",
      "5\n",
      "7\n",
      "9\n"
     ]
    },
    {
     "data": {
      "text/plain": [
       "[1, 3, 5, 7, 9]"
      ]
     },
     "execution_count": 26,
     "metadata": {},
     "output_type": "execute_result"
    }
   ],
   "source": [
    "#. Take a list as an input from the user\n",
    "\n",
    "LIST = []\n",
    "\n",
    "n = int(input('how many elements?'))\n",
    "\n",
    "for i in range(n):\n",
    "\n",
    "    e = int(input())\n",
    "    LIST.append(e)\n",
    "    \n",
    "    \n",
    "LIST"
   ]
  },
  {
   "cell_type": "code",
   "execution_count": 31,
   "id": "560fb92f",
   "metadata": {},
   "outputs": [
    {
     "name": "stdout",
     "output_type": "stream",
     "text": [
      "10 20 30 40\n"
     ]
    },
    {
     "data": {
      "text/plain": [
       "[10, 20, 30, 40]"
      ]
     },
     "execution_count": 31,
     "metadata": {},
     "output_type": "execute_result"
    }
   ],
   "source": [
    "#. Take a list as an input from the user\n",
    "\n",
    "# map() function can be used\n",
    "\n",
    "# put space between entries\n",
    "\n",
    "\n",
    "list(map(int,input().split(' ')))"
   ]
  },
  {
   "cell_type": "code",
   "execution_count": null,
   "id": "c83c5b92",
   "metadata": {},
   "outputs": [],
   "source": [
    "# key as a paramter for below functions:\n",
    "\n",
    "sorted\n",
    "sort\n",
    "max \n",
    "min"
   ]
  },
  {
   "cell_type": "code",
   "execution_count": 5,
   "id": "2f2368df",
   "metadata": {},
   "outputs": [
    {
     "data": {
      "text/plain": [
       "'zb'"
      ]
     },
     "execution_count": 5,
     "metadata": {},
     "output_type": "execute_result"
    }
   ],
   "source": [
    "max(['apple','banana','strawberry','pine-applessssssssss','zb','za'])"
   ]
  },
  {
   "cell_type": "code",
   "execution_count": 41,
   "id": "5f9c37d0",
   "metadata": {},
   "outputs": [
    {
     "data": {
      "text/plain": [
       "['apple', 'banana', 'pine-applessssssssss', 'strawberry', 'za', 'zb']"
      ]
     },
     "execution_count": 41,
     "metadata": {},
     "output_type": "execute_result"
    }
   ],
   "source": [
    "F = ['apple','banana','strawberry','pine-applessssssssss','zb','za']\n",
    "\n",
    "sorted(F)"
   ]
  },
  {
   "cell_type": "code",
   "execution_count": 43,
   "id": "0a3b9173",
   "metadata": {},
   "outputs": [
    {
     "data": {
      "text/plain": [
       "'pine-applessssssssss'"
      ]
     },
     "execution_count": 43,
     "metadata": {},
     "output_type": "execute_result"
    }
   ],
   "source": [
    "max(['apple','banana','strawberry','pine-applessssssssss','zb','za'],key = len)"
   ]
  },
  {
   "cell_type": "code",
   "execution_count": null,
   "id": "5077725b",
   "metadata": {},
   "outputs": [],
   "source": [
    "# When we did a question:  the word with most number of words"
   ]
  },
  {
   "cell_type": "code",
   "execution_count": 44,
   "id": "cb6b828e",
   "metadata": {},
   "outputs": [
    {
     "data": {
      "text/plain": [
       "'strawberry'"
      ]
     },
     "execution_count": 44,
     "metadata": {},
     "output_type": "execute_result"
    }
   ],
   "source": [
    "def second_alpha(word):\n",
    "    \n",
    "    return word[1]\n",
    "\n",
    "max(['apple','banana','strawberry','pine-applessssssssss','zb','za'],key = second_alpha)"
   ]
  },
  {
   "cell_type": "code",
   "execution_count": 45,
   "id": "ca79a584",
   "metadata": {},
   "outputs": [
    {
     "data": {
      "text/plain": [
       "['RN1', 'RN15', 'RN2', 'RN3', 'RN30', 'RN7']"
      ]
     },
     "execution_count": 45,
     "metadata": {},
     "output_type": "execute_result"
    }
   ],
   "source": [
    "# roll no of students\n",
    "\n",
    "RN = ['RN1','RN2','RN3','RN15','RN30','RN7']\n",
    "\n",
    "sorted(RN)\n",
    "\n"
   ]
  },
  {
   "cell_type": "code",
   "execution_count": 54,
   "id": "aa77b4df",
   "metadata": {},
   "outputs": [
    {
     "data": {
      "text/plain": [
       "['RN1', 'RN2', 'RN3', 'RN7', 'RN15', 'RN30']"
      ]
     },
     "execution_count": 54,
     "metadata": {},
     "output_type": "execute_result"
    }
   ],
   "source": [
    "fun2  = lambda x : int(x[2:])\n",
    "\n",
    "RN = ['RN1','RN2','RN3','RN15','RN30','RN7']\n",
    "\n",
    "sorted(RN, key = fun2)\n"
   ]
  },
  {
   "cell_type": "code",
   "execution_count": 52,
   "id": "e1fa6eac",
   "metadata": {},
   "outputs": [
    {
     "data": {
      "text/plain": [
       "15"
      ]
     },
     "execution_count": 52,
     "metadata": {},
     "output_type": "execute_result"
    }
   ],
   "source": [
    "fun2('RN15')"
   ]
  },
  {
   "cell_type": "markdown",
   "id": "d5e15786",
   "metadata": {},
   "source": [
    "### function zip()"
   ]
  },
  {
   "cell_type": "code",
   "execution_count": null,
   "id": "1a79dc81",
   "metadata": {},
   "outputs": [],
   "source": [
    "return a single iterable object after combining iterables/containers\n",
    "\n",
    "\n"
   ]
  },
  {
   "cell_type": "code",
   "execution_count": 66,
   "id": "7842d67c",
   "metadata": {},
   "outputs": [
    {
     "data": {
      "text/plain": [
       "[(2, 4, 8), (3, 9, 27), (4, 16, 64)]"
      ]
     },
     "execution_count": 66,
     "metadata": {},
     "output_type": "execute_result"
    }
   ],
   "source": [
    "L1 = [2,3,4]\n",
    "L2 = [4,9,16]\n",
    "L3 = [8,27,64]\n",
    "\n",
    "\n",
    "list(zip(L1,L2,L3))"
   ]
  },
  {
   "cell_type": "code",
   "execution_count": 67,
   "id": "05e57caf",
   "metadata": {},
   "outputs": [
    {
     "data": {
      "text/plain": [
       "[(2, 4, 8), (3, 9, 27)]"
      ]
     },
     "execution_count": 67,
     "metadata": {},
     "output_type": "execute_result"
    }
   ],
   "source": [
    "L1 = [2,3]\n",
    "L2 = [4,9,16,'SQ']\n",
    "L3 = [8,27,64]\n",
    "\n",
    "\n",
    "list(zip(L1,L2,L3))"
   ]
  },
  {
   "cell_type": "code",
   "execution_count": 69,
   "id": "de4787c0",
   "metadata": {},
   "outputs": [
    {
     "data": {
      "text/plain": [
       "{'The': 3,\n",
       " 'quick': 5,\n",
       " 'brown': 5,\n",
       " 'fox': 3,\n",
       " 'jumps': 5,\n",
       " 'over': 4,\n",
       " 'the': 3,\n",
       " 'lazy': 4,\n",
       " 'dog': 3}"
      ]
     },
     "execution_count": 69,
     "metadata": {},
     "output_type": "execute_result"
    }
   ],
   "source": [
    "string = 'The quick brown fox jumps over the lazy dog'\n",
    "\n",
    "L4 = string.split(' ')\n",
    "\n",
    "L5 = list(map(len,L4))\n",
    "\n",
    "dict(zip(L4,L5))"
   ]
  },
  {
   "cell_type": "code",
   "execution_count": 70,
   "id": "1a4471c8",
   "metadata": {},
   "outputs": [
    {
     "data": {
      "text/plain": [
       "['The', 'quick', 'brown', 'fox', 'jumps', 'over', 'the', 'lazy', 'dog']"
      ]
     },
     "execution_count": 70,
     "metadata": {},
     "output_type": "execute_result"
    }
   ],
   "source": [
    "L4"
   ]
  },
  {
   "cell_type": "code",
   "execution_count": 71,
   "id": "f6f90b08",
   "metadata": {},
   "outputs": [
    {
     "data": {
      "text/plain": [
       "[3, 5, 5, 3, 5, 4, 3, 4, 3]"
      ]
     },
     "execution_count": 71,
     "metadata": {},
     "output_type": "execute_result"
    }
   ],
   "source": [
    "L5"
   ]
  },
  {
   "cell_type": "markdown",
   "id": "673a1c3d",
   "metadata": {},
   "source": [
    "### Exception handling"
   ]
  },
  {
   "cell_type": "code",
   "execution_count": 76,
   "id": "0bb805f1",
   "metadata": {},
   "outputs": [
    {
     "name": "stdout",
     "output_type": "stream",
     "text": [
      "3\n",
      "0.1\n",
      "0.1111111111111111\n",
      "0.125\n",
      "0.14285714285714285\n",
      "0.16666666666666666\n",
      "0.2\n",
      "0.25\n",
      "0.3333333333333333\n",
      "0.5\n",
      "1.0\n"
     ]
    },
    {
     "ename": "ZeroDivisionError",
     "evalue": "division by zero",
     "output_type": "error",
     "traceback": [
      "\u001b[0;31m---------------------------------------------------------------------------\u001b[0m",
      "\u001b[0;31mZeroDivisionError\u001b[0m                         Traceback (most recent call last)",
      "\u001b[0;32m<ipython-input-76-e1f6c56585c1>\u001b[0m in \u001b[0;36m<module>\u001b[0;34m\u001b[0m\n\u001b[1;32m      3\u001b[0m \u001b[0;32mfor\u001b[0m \u001b[0mi\u001b[0m \u001b[0;32min\u001b[0m \u001b[0mrange\u001b[0m\u001b[0;34m(\u001b[0m\u001b[0;36m10\u001b[0m\u001b[0;34m,\u001b[0m\u001b[0;34m-\u001b[0m\u001b[0;36m1\u001b[0m\u001b[0;34m,\u001b[0m\u001b[0;34m-\u001b[0m\u001b[0;36m1\u001b[0m\u001b[0;34m)\u001b[0m\u001b[0;34m:\u001b[0m\u001b[0;34m\u001b[0m\u001b[0m\n\u001b[1;32m      4\u001b[0m \u001b[0;34m\u001b[0m\u001b[0m\n\u001b[0;32m----> 5\u001b[0;31m     \u001b[0mprint\u001b[0m\u001b[0;34m(\u001b[0m\u001b[0;36m1\u001b[0m\u001b[0;34m/\u001b[0m\u001b[0mi\u001b[0m\u001b[0;34m)\u001b[0m\u001b[0;34m\u001b[0m\u001b[0m\n\u001b[0m",
      "\u001b[0;31mZeroDivisionError\u001b[0m: division by zero"
     ]
    }
   ],
   "source": [
    "print(3)\n",
    "\n",
    "for i in range(10,-1,-1):\n",
    "    \n",
    "    print(1/i)"
   ]
  },
  {
   "cell_type": "code",
   "execution_count": 75,
   "id": "23ef36c7",
   "metadata": {},
   "outputs": [
    {
     "data": {
      "text/plain": [
       "[]"
      ]
     },
     "execution_count": 75,
     "metadata": {},
     "output_type": "execute_result"
    }
   ],
   "source": [
    "1) syntax error\n",
    "2) exceptions\n",
    "\n",
    "catch exception statements which can raise exceptions.\n",
    "\n",
    "\n"
   ]
  },
  {
   "cell_type": "markdown",
   "id": "215c7571",
   "metadata": {},
   "source": [
    "#### try and except clause"
   ]
  },
  {
   "cell_type": "code",
   "execution_count": 77,
   "id": "77291b30",
   "metadata": {
    "scrolled": true
   },
   "outputs": [
    {
     "name": "stdout",
     "output_type": "stream",
     "text": [
      "asad\n"
     ]
    },
    {
     "ename": "ValueError",
     "evalue": "invalid literal for int() with base 10: 'asad'",
     "output_type": "error",
     "traceback": [
      "\u001b[0;31m---------------------------------------------------------------------------\u001b[0m",
      "\u001b[0;31mValueError\u001b[0m                                Traceback (most recent call last)",
      "\u001b[0;32m<ipython-input-77-b5dc58eb57b8>\u001b[0m in \u001b[0;36m<module>\u001b[0;34m\u001b[0m\n\u001b[0;32m----> 1\u001b[0;31m \u001b[0muser\u001b[0m \u001b[0;34m=\u001b[0m \u001b[0mint\u001b[0m\u001b[0;34m(\u001b[0m\u001b[0minput\u001b[0m\u001b[0;34m(\u001b[0m\u001b[0;34m)\u001b[0m\u001b[0;34m)\u001b[0m\u001b[0;34m\u001b[0m\u001b[0m\n\u001b[0m",
      "\u001b[0;31mValueError\u001b[0m: invalid literal for int() with base 10: 'asad'"
     ]
    }
   ],
   "source": [
    "user = int(input())"
   ]
  },
  {
   "cell_type": "code",
   "execution_count": 2,
   "id": "4ec8a71c",
   "metadata": {},
   "outputs": [
    {
     "name": "stdout",
     "output_type": "stream",
     "text": [
      "L-singh\n",
      "err..... some error occured\n",
      "uff....done\n"
     ]
    }
   ],
   "source": [
    "try:\n",
    "    user = int(input())\n",
    "    # some code that you want to run always\n",
    "    \n",
    "    \n",
    "except:\n",
    "    \n",
    "    \n",
    "    print('err..... some error occured')\n",
    "    # this is code which will run iff try block raises and exception/error\n",
    "    \n",
    "    \n",
    "print('uff....done')\n",
    "    \n",
    "#. either try will be executed or exception"
   ]
  },
  {
   "cell_type": "code",
   "execution_count": 3,
   "id": "77139f40",
   "metadata": {},
   "outputs": [
    {
     "name": "stdout",
     "output_type": "stream",
     "text": [
      "0.1\n",
      "0.1111111111111111\n",
      "0.125\n",
      "0.14285714285714285\n",
      "0.16666666666666666\n",
      "0.2\n",
      "0.25\n",
      "0.3333333333333333\n",
      "0.5\n",
      "1.0\n",
      "Please! no error\n",
      "Done for tha day\n"
     ]
    }
   ],
   "source": [
    "try:\n",
    "    \n",
    "    for i in range(10,-1,-1):\n",
    "    \n",
    "        print(1/i)\n",
    "    \n",
    "except:\n",
    "    \n",
    "    print('Please! no error')\n",
    "    \n",
    "    \n",
    "print('Done for tha day')\n",
    "    \n",
    "    "
   ]
  },
  {
   "cell_type": "code",
   "execution_count": 8,
   "id": "1d34d20b",
   "metadata": {},
   "outputs": [
    {
     "name": "stdout",
     "output_type": "stream",
     "text": [
      "GN\n"
     ]
    }
   ],
   "source": [
    "try:\n",
    "    \n",
    "    print(0/0)\n",
    "    \n",
    "except:\n",
    "    \n",
    "    print('GN')"
   ]
  },
  {
   "cell_type": "code",
   "execution_count": null,
   "id": "24f7a357",
   "metadata": {},
   "outputs": [],
   "source": []
  }
 ],
 "metadata": {
  "kernelspec": {
   "display_name": "Python 3",
   "language": "python",
   "name": "python3"
  },
  "language_info": {
   "codemirror_mode": {
    "name": "ipython",
    "version": 3
   },
   "file_extension": ".py",
   "mimetype": "text/x-python",
   "name": "python",
   "nbconvert_exporter": "python",
   "pygments_lexer": "ipython3",
   "version": "3.6.2"
  }
 },
 "nbformat": 4,
 "nbformat_minor": 5
}
