{
 "cells": [
  {
   "cell_type": "code",
   "execution_count": null,
   "id": "0ebef969",
   "metadata": {},
   "outputs": [],
   "source": [
    "Revision:\n",
    "    \n",
    "map(fun,iterable)\n",
    "filter(fun,iterable)------bollean o/p function\n",
    "lambda argument : expression\n",
    "\n",
    "list comprehension\n",
    "zip ---combininig\n"
   ]
  },
  {
   "cell_type": "code",
   "execution_count": null,
   "id": "69876ccb",
   "metadata": {},
   "outputs": [],
   "source": [
    "# print statement in single line\n",
    "n = int(input())\n",
    "\n",
    "print(\"even\") if n%2==0 else print(\"odd\")"
   ]
  },
  {
   "cell_type": "code",
   "execution_count": null,
   "id": "88df7ffd",
   "metadata": {},
   "outputs": [],
   "source": [
    "n = int(input())\n",
    "\n",
    "fun1 = lambda n:\"even\" if n%2==0 else \"odd\"\n",
    "\n",
    "fun1(n)\n",
    "                                                    \n",
    "                                                         "
   ]
  },
  {
   "cell_type": "code",
   "execution_count": null,
   "id": "37b9507c",
   "metadata": {},
   "outputs": [],
   "source": [
    "# arguments type\n",
    "\n",
    "fun2(3,man = 2 )\n",
    "\n",
    "fun3(3,4)"
   ]
  },
  {
   "cell_type": "code",
   "execution_count": null,
   "id": "3f5e9338",
   "metadata": {},
   "outputs": [],
   "source": [
    "# arguments type\n",
    "\n",
    "#fun2(3,man = 2 )\n",
    "\n",
    "\n",
    "def fun3(a,b = 3):  # b=3 iff no argument for b is passed\n",
    "    \n",
    "    \n",
    "    return a/b\n",
    "\n",
    "\n",
    "fun3(10,11)\n",
    "    \n",
    "    \n",
    "\n",
    "\n"
   ]
  },
  {
   "cell_type": "code",
   "execution_count": null,
   "id": "ae759611",
   "metadata": {},
   "outputs": [],
   "source": [
    "def fun4(a =5 ,b = 3):  # b=3 iff no argument for b is passed\n",
    "    \n",
    "    \n",
    "    return a+b\n",
    "\n",
    "\n",
    "fun4()   # {0,1,2}"
   ]
  },
  {
   "cell_type": "code",
   "execution_count": null,
   "id": "649bd970",
   "metadata": {},
   "outputs": [],
   "source": [
    "# question \n",
    "\n",
    "*args # what is the data type of arguments stored after taking argument in this manner\n",
    "\n",
    "**kwargs\n",
    "\n",
    "\n"
   ]
  },
  {
   "cell_type": "code",
   "execution_count": null,
   "id": "b2d4d896",
   "metadata": {},
   "outputs": [],
   "source": [
    "def fun5(*args):\n",
    "    \n",
    "    print(args)\n",
    " \n",
    "NN = [1,2,3,3]\n",
    "\n",
    "fun5(*NN)"
   ]
  },
  {
   "cell_type": "code",
   "execution_count": null,
   "id": "1b385dd2",
   "metadata": {},
   "outputs": [],
   "source": [
    "# module *\n",
    "\n",
    "#all the functions\n",
    "\n",
    "# if i want to import all modules with *\n",
    "\n",
    "#from pakage import *\n",
    "\n",
    "#__all__ is a list \n",
    "\n",
    "#and that should be created where?\n",
    "\n",
    "__init__\n",
    "\n",
    "# module is a .py file---collection of function\n",
    "\n",
    "# pakage is a folder\n",
    "\n",
    "from module import *\n",
    "\n",
    "from package import *\n",
    "\n",
    "# __all__ = ['mod1','mod2']  # mod 3 will be imported ---no\n",
    "\n",
    "# this list goes in  __init__  file\n",
    "\n",
    "\n",
    "\n",
    "\n",
    "\n",
    "\n",
    "\n",
    "\n",
    "\n",
    "\n",
    "\n",
    "\n",
    "\n",
    "\n",
    "\n",
    "\n"
   ]
  },
  {
   "cell_type": "markdown",
   "id": "1c85d763",
   "metadata": {},
   "source": [
    "### Exception handling\n"
   ]
  },
  {
   "cell_type": "code",
   "execution_count": null,
   "id": "e02c6871",
   "metadata": {},
   "outputs": [],
   "source": [
    "try:\n",
    "    0/0\n",
    "    \n",
    "except:\n",
    "    \n",
    "    print('err....')"
   ]
  },
  {
   "cell_type": "code",
   "execution_count": null,
   "id": "7fa75cf2",
   "metadata": {},
   "outputs": [],
   "source": [
    "Q : how to use map function to take list as an input from the user\n",
    "    "
   ]
  },
  {
   "cell_type": "code",
   "execution_count": null,
   "id": "b6c07865",
   "metadata": {},
   "outputs": [],
   "source": [
    "LIST  = []\n",
    "\n",
    "\n",
    "try:\n",
    "    while True:\n",
    "        LIST.append(int(input()))\n",
    "except:\n",
    "    \n",
    "    print(LIST)\n",
    "    \n",
    "    \n",
    "\n",
    "  "
   ]
  },
  {
   "cell_type": "markdown",
   "id": "a39d1e6c",
   "metadata": {},
   "source": [
    "### else block"
   ]
  },
  {
   "cell_type": "code",
   "execution_count": null,
   "id": "4b2ebc16",
   "metadata": {},
   "outputs": [],
   "source": [
    "try:\n",
    "    \n",
    "    # some piec of code\n",
    "\n",
    "except:\n",
    "    \n",
    "    # optional clause\n",
    "    # will excute in case of an error occuring in try block\n",
    "    \n",
    "else:\n",
    "    \n",
    "    # execute if no exception"
   ]
  },
  {
   "cell_type": "code",
   "execution_count": null,
   "id": "3d7e90e1",
   "metadata": {},
   "outputs": [],
   "source": [
    "LIST  = []\n",
    "\n",
    "n=0\n",
    "try:\n",
    "    while n<3:\n",
    "        LIST.append(int(input()))\n",
    "        n+=1\n",
    "except:\n",
    "    \n",
    "    print(LIST)\n",
    "    \n",
    "else:\n",
    "    \n",
    "    print('list from else:----',LIST)\n",
    "    \n",
    "\n",
    "    \n"
   ]
  },
  {
   "cell_type": "code",
   "execution_count": null,
   "id": "55b0a61f",
   "metadata": {},
   "outputs": [],
   "source": [
    "LIST"
   ]
  },
  {
   "cell_type": "markdown",
   "id": "d3f67769",
   "metadata": {},
   "source": [
    "### finally block"
   ]
  },
  {
   "cell_type": "code",
   "execution_count": null,
   "id": "2b38a763",
   "metadata": {},
   "outputs": [],
   "source": [
    "try:\n",
    "    \n",
    "    # some piece of code\n",
    "\n",
    "except:\n",
    "    \n",
    "    # optional clause\n",
    "    # will excute in case of an error occuring in try block\n",
    "    \n",
    "else:\n",
    "    \n",
    "    # execute if no exception\n",
    "    \n",
    "finally:\n",
    "    \n",
    "    # some code (always executed)"
   ]
  },
  {
   "cell_type": "code",
   "execution_count": null,
   "id": "b0dabfa0",
   "metadata": {},
   "outputs": [],
   "source": [
    "LIST  = []\n",
    "\n",
    "n=0\n",
    "try:\n",
    "    while n<3:\n",
    "        LIST.append(int(input()))\n",
    "        n+=1\n",
    "        \n",
    "except:\n",
    "    \n",
    "    print(LIST)\n",
    "    \n",
    "else:\n",
    "    \n",
    "    print('list from else:----',LIST)\n",
    "    \n",
    "\n",
    "finally:\n",
    "    \n",
    "    print('the numbers entered by the user are :--',len(LIST))"
   ]
  },
  {
   "cell_type": "code",
   "execution_count": null,
   "id": "8cbc9bdb",
   "metadata": {},
   "outputs": [],
   "source": [
    "# Question: \n",
    "\n",
    "\n",
    "1) You write a code to open a file with open() command----where does that code go?-----try\n",
    "2) If there is an error should you try next address"
   ]
  },
  {
   "cell_type": "code",
   "execution_count": null,
   "id": "1dafd44f",
   "metadata": {},
   "outputs": [],
   "source": [
    "try:\n",
    "    # check i file exists\n",
    "    x = open('Ieshaan.txt','r')\n",
    "    \n",
    "except:\n",
    "    \n",
    "    print('file does not exist¡')\n",
    "    x= open('Ieshaan.txt','w')\n",
    "    \n",
    "else:\n",
    "    \n",
    "    \n",
    "    # perfrom some write operation if found\n",
    "    \n",
    "    x= open('Ieshaan.txt','a')  # a does not overwrite\n",
    "    x.readlines()\n",
    "    \n",
    "finally:\n",
    "    \n",
    "    x.close()\n",
    "     \n",
    "        \n",
    "        \n",
    "# Question :  after opening a file with 'a' can readlines() in the next command\n",
    "\n"
   ]
  },
  {
   "cell_type": "markdown",
   "id": "3d49664a",
   "metadata": {},
   "source": [
    "## generators"
   ]
  },
  {
   "cell_type": "code",
   "execution_count": null,
   "id": "731722f9",
   "metadata": {},
   "outputs": [],
   "source": [
    "It is like a function but to generate a value it uses\n",
    "yield statement. \n",
    "\n",
    "So if yield statement is inside a function then it is a generator function\n",
    "\n",
    "# to get values from genrator function we will use __next__()\n",
    "\n",
    "\n",
    "# So generator function return a generator object\n",
    "# that is iterable"
   ]
  },
  {
   "cell_type": "code",
   "execution_count": null,
   "id": "89c89227",
   "metadata": {},
   "outputs": [],
   "source": [
    "def num_gen():\n",
    "    n=0\n",
    "    \n",
    "    while n<100:\n",
    "        print(n)\n",
    "        n+=1\n",
    "\n",
    "\n",
    "num_gen()"
   ]
  },
  {
   "cell_type": "code",
   "execution_count": null,
   "id": "e9d1ea2e",
   "metadata": {},
   "outputs": [],
   "source": [
    "def num_gen():\n",
    "    n=0\n",
    "    \n",
    "    while n<100:\n",
    "        yield n\n",
    "        n+=1\n"
   ]
  },
  {
   "cell_type": "code",
   "execution_count": null,
   "id": "c2cb8d4d",
   "metadata": {},
   "outputs": [],
   "source": [
    "x = num_gen()\n",
    "\n"
   ]
  },
  {
   "cell_type": "code",
   "execution_count": null,
   "id": "6ce12ebc",
   "metadata": {},
   "outputs": [],
   "source": [
    "x.__next__()"
   ]
  },
  {
   "cell_type": "code",
   "execution_count": null,
   "id": "e5d9037e",
   "metadata": {},
   "outputs": [],
   "source": [
    "def sq_gen():\n",
    "    n=0\n",
    "    \n",
    "    while n<100:\n",
    "        yield n**2\n",
    "        n+=1\n",
    "\n"
   ]
  },
  {
   "cell_type": "code",
   "execution_count": null,
   "id": "c086c667",
   "metadata": {},
   "outputs": [],
   "source": [
    "y = sq_gen()\n",
    "\n"
   ]
  },
  {
   "cell_type": "code",
   "execution_count": null,
   "id": "11f76299",
   "metadata": {},
   "outputs": [],
   "source": [
    "y.__next__()"
   ]
  },
  {
   "cell_type": "code",
   "execution_count": null,
   "id": "f799d573",
   "metadata": {},
   "outputs": [],
   "source": [
    "def GEN(string):\n",
    "    \n",
    "    for i in string:\n",
    "        yield i"
   ]
  },
  {
   "cell_type": "code",
   "execution_count": null,
   "id": "360228de",
   "metadata": {},
   "outputs": [],
   "source": [
    "LS = GEN('SINGHLUCKHBIR')"
   ]
  },
  {
   "cell_type": "code",
   "execution_count": null,
   "id": "fae549c4",
   "metadata": {},
   "outputs": [],
   "source": [
    "LS.__next__()"
   ]
  },
  {
   "cell_type": "code",
   "execution_count": null,
   "id": "a7ce21ff",
   "metadata": {},
   "outputs": [],
   "source": [
    "# fibonacci series"
   ]
  },
  {
   "cell_type": "code",
   "execution_count": null,
   "id": "43476c18",
   "metadata": {},
   "outputs": [],
   "source": [
    "# Easy implementation\n",
    "# memory efficient\n",
    "# can represent infinte streams"
   ]
  },
  {
   "cell_type": "code",
   "execution_count": null,
   "id": "61eed801",
   "metadata": {},
   "outputs": [],
   "source": [
    "def inf_str():\n",
    "    n=0\n",
    "    \n",
    "    while True:\n",
    "        yield n**2\n",
    "        n+=1"
   ]
  },
  {
   "cell_type": "code",
   "execution_count": null,
   "id": "b4d1ea9b",
   "metadata": {},
   "outputs": [],
   "source": [
    "z = inf_str()\n"
   ]
  },
  {
   "cell_type": "code",
   "execution_count": null,
   "id": "e5c60245",
   "metadata": {},
   "outputs": [],
   "source": [
    "z.__next__()"
   ]
  },
  {
   "cell_type": "code",
   "execution_count": null,
   "id": "0f87f5b2",
   "metadata": {},
   "outputs": [],
   "source": [
    "# space separated\n",
    "\n",
    "list(map(int,input().split(' ')))\n",
    "\n"
   ]
  },
  {
   "cell_type": "markdown",
   "id": "a36a65dd",
   "metadata": {},
   "source": []
  }
 ],
 "metadata": {
  "kernelspec": {
   "display_name": "Python 3",
   "language": "python",
   "name": "python3"
  },
  "language_info": {
   "codemirror_mode": {
    "name": "ipython",
    "version": 3
   },
   "file_extension": ".py",
   "mimetype": "text/x-python",
   "name": "python",
   "nbconvert_exporter": "python",
   "pygments_lexer": "ipython3",
   "version": "3.6.2"
  }
 },
 "nbformat": 4,
 "nbformat_minor": 5
}
