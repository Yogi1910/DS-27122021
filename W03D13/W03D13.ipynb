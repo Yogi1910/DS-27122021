{
 "cells": [
  {
   "cell_type": "code",
   "execution_count": 1,
   "id": "2cc1e54f",
   "metadata": {},
   "outputs": [
    {
     "data": {
      "text/plain": [
       "'abc\\ndef\\nhij\\nklm\\nopqrst\\nuvwxyz\\n'"
      ]
     },
     "execution_count": 1,
     "metadata": {},
     "output_type": "execute_result"
    }
   ],
   "source": [
    "# 1. print alphabets/words in one line.\n",
    "\n",
    "\n",
    "s='''abc\n",
    "def\n",
    "hij\n",
    "klm\n",
    "opqrst\n",
    "uvwxyz\n",
    "'''\n",
    "\n",
    "s"
   ]
  },
  {
   "cell_type": "code",
   "execution_count": 8,
   "id": "93f8c578",
   "metadata": {},
   "outputs": [
    {
     "data": {
      "text/plain": [
       "'abc def hij klm opqrst uvwxyz '"
      ]
     },
     "execution_count": 8,
     "metadata": {},
     "output_type": "execute_result"
    }
   ],
   "source": [
    "#'/n' >-------' '\n",
    "\n",
    "#1.\n",
    "s.replace('\\n',' ')\n",
    "\n",
    "\n",
    "#2.\n",
    "s1 = s.split('\\n')\n",
    "\n",
    "' '.join(s1)\n",
    "\n",
    "\n"
   ]
  },
  {
   "cell_type": "code",
   "execution_count": 9,
   "id": "ea97310c",
   "metadata": {},
   "outputs": [
    {
     "ename": "SyntaxError",
     "evalue": "invalid syntax (<ipython-input-9-370837fa45e3>, line 1)",
     "output_type": "error",
     "traceback": [
      "\u001b[0;36m  File \u001b[0;32m\"<ipython-input-9-370837fa45e3>\"\u001b[0;36m, line \u001b[0;32m1\u001b[0m\n\u001b[0;31m    2. Pull the domain name\u001b[0m\n\u001b[0m          ^\u001b[0m\n\u001b[0;31mSyntaxError\u001b[0m\u001b[0;31m:\u001b[0m invalid syntax\n"
     ]
    }
   ],
   "source": [
    "2. Pull the domain name\n",
    "\n",
    "https://www.flipkart.com/search?q=tv+smart\n",
    "\n",
    "\n"
   ]
  },
  {
   "cell_type": "code",
   "execution_count": 22,
   "id": "ef0c1e30",
   "metadata": {},
   "outputs": [
    {
     "name": "stdout",
     "output_type": "stream",
     "text": [
      "https://www.flipkart\n"
     ]
    },
    {
     "data": {
      "text/plain": [
       "'flipkart'"
      ]
     },
     "execution_count": 22,
     "metadata": {},
     "output_type": "execute_result"
    }
   ],
   "source": [
    "s2 = \"https://www.flipkart.com/search?q=tv+smart\"\n",
    "\n",
    "#s2.split('.')[1]\n",
    "# .com is called a substring\n",
    "\n",
    "\n",
    "s3 = s2.split('.com')\n",
    "print(s3[0] )\n",
    "\n",
    "s3[0].split('.')[-1]\n",
    "\n"
   ]
  },
  {
   "cell_type": "code",
   "execution_count": 23,
   "id": "0474cabf",
   "metadata": {},
   "outputs": [],
   "source": [
    "#3.\n",
    "\n",
    "A ='''Python was conceived in the late 1980sby Guido van Rossum at Centrum Wiskunde & Informatica (CWI) in the\n",
    "Netherlands as a successor to the ABC programming language, which was inspired by SETL, capable of exception \n",
    "handling and interfacing with the Amoeba operating system.Its implementation began in December 1989.[41] Van \n",
    "Rossum shouldered sole responsibility for the project, as the lead developer, until 12 July 2018, when he announced \n",
    "his \"permanent vacation\" from his responsibilities as Python's \"benevolent dictator for life\", a title the Python \n",
    "community bestowed upon him to reflect his long-term commitment as the project's chief decision-maker. In \n",
    "January 2019, active Python core developers elected a five-member \"Steering Council\" to lead the project.\n",
    "\n",
    "Python 2.0 was released on 16 October 2000, with many major new features, including a cycle-detecting garbage \n",
    "collector (in addition to reference counting) for memory management and support for Unicode.\n",
    "\n",
    "Python 3.0 was released on 3 December 2008. It was a major revision of the language that is not completely \n",
    "backward-compatible. Many of its major features were backported to Python 2.6.x and 2.7.x version series. \n",
    "Releases of Python 3 include the 2to3 utility, which automates the translation of Python 2 code to Python 3.\n",
    "\n",
    "Python 2.7's end-of-life date was initially set at 2015 then postponed to 2020 out of concern that a large body of \n",
    "existing code could not easily be forward-ported to Python 3.No more security patches or other improvements \n",
    "will be released for it. With Python 2's end-of-life, only Python 3.6.xand later are supported.\n",
    "\n",
    "Python 3.9.2 and 3.8.8 were expedited as all versions of Python (including 2.7) had security issues, leading \n",
    "to possible remote code executionand web cache poisoning.'''\n",
    "\n",
    "#A.count('Python')\n",
    "#A.count('\\n')\n",
    "\n",
    "\n",
    "### Assignments:\n",
    "\n",
    "\n",
    "# upper case first character words----istitle()\n",
    "# lengthiest word-----------------    loop through and store maximum length variable\n",
    "# unique words from---------------- convert into a tuple"
   ]
  },
  {
   "cell_type": "code",
   "execution_count": null,
   "id": "25373c12",
   "metadata": {},
   "outputs": [],
   "source": [
    "len(A)\n",
    "A.count('Python') + A.count('python')\n",
    "A.count('\\n\\n')+1\n",
    "\n",
    "# a single space split will create 2 chunks"
   ]
  },
  {
   "cell_type": "markdown",
   "id": "fea5e2d5",
   "metadata": {},
   "source": [
    "##### Strings"
   ]
  },
  {
   "cell_type": "code",
   "execution_count": 42,
   "id": "8b27dca3",
   "metadata": {},
   "outputs": [
    {
     "data": {
      "text/plain": [
       "'good example of how to use sets in python'"
      ]
     },
     "execution_count": 42,
     "metadata": {},
     "output_type": "execute_result"
    }
   ],
   "source": [
    "# find:  returning the index of the first occurance\n",
    "\n",
    "s3 = 'This is a good example of how to use sets in python'\n",
    "\n",
    "s3.find('his')\n",
    "\n",
    "s3[2:]\n",
    "\n",
    "s4 = 'ee aa bb cc aa'\n",
    "\n",
    "s4.find('a')\n",
    "\n",
    "s3.find('example')\n",
    "\n",
    "s3.find('good')\n",
    "\n",
    "s3[10:]"
   ]
  },
  {
   "cell_type": "code",
   "execution_count": 45,
   "id": "fed6ecfe",
   "metadata": {},
   "outputs": [
    {
     "data": {
      "text/plain": [
       "'good sets in python'"
      ]
     },
     "execution_count": 45,
     "metadata": {},
     "output_type": "execute_result"
    }
   ],
   "source": [
    "##. rfind() returns the index of first occurance of substring from the right\n",
    "\n",
    "\n",
    "s5 = 'This is a good example of how to use good sets in python'\n",
    "\n",
    "s5.find('good')\n",
    "s5.rfind('good')\n",
    "\n",
    "s5[37:]\n",
    "\n",
    "\n"
   ]
  },
  {
   "cell_type": "code",
   "execution_count": 47,
   "id": "83d34ee3",
   "metadata": {},
   "outputs": [
    {
     "data": {
      "text/plain": [
       "True"
      ]
     },
     "execution_count": 47,
     "metadata": {},
     "output_type": "execute_result"
    }
   ],
   "source": [
    "###   isspace() --------- if all thecharatcer are space\n",
    "\n",
    "s6 = 'ABHISHEK'\n",
    "s6.isupper()"
   ]
  },
  {
   "cell_type": "code",
   "execution_count": 148,
   "id": "92d282e0",
   "metadata": {},
   "outputs": [
    {
     "ename": "SyntaxError",
     "evalue": "EOL while scanning string literal (<ipython-input-148-e5b406e8f02d>, line 4)",
     "output_type": "error",
     "traceback": [
      "\u001b[0;36m  File \u001b[0;32m\"<ipython-input-148-e5b406e8f02d>\"\u001b[0;36m, line \u001b[0;32m4\u001b[0m\n\u001b[0;31m    s8 = '\u001b[0m\n\u001b[0m           ^\u001b[0m\n\u001b[0;31mSyntaxError\u001b[0m\u001b[0;31m:\u001b[0m EOL while scanning string literal\n"
     ]
    }
   ],
   "source": [
    "s7='Athish Gowda'\n",
    "s7.isspace()\n",
    "\n",
    "s8 = '  '\n",
    "s8.isspace()"
   ]
  },
  {
   "cell_type": "code",
   "execution_count": 57,
   "id": "e7b6368f",
   "metadata": {},
   "outputs": [
    {
     "name": "stdout",
     "output_type": "stream",
     "text": [
      "12\n"
     ]
    }
   ],
   "source": [
    "s5 = 'This is a good example of how to use good sets in python'\n",
    "\n",
    "s5.count(' ')\n",
    "\n",
    "\n",
    "\n",
    "sum = 0\n",
    "\n",
    "for i in s5:\n",
    "    \n",
    "    if i.isspace():\n",
    "        sum=sum+1\n",
    "    else:\n",
    "        pass\n",
    "    \n",
    "print(sum)\n",
    "    \n",
    "\n"
   ]
  },
  {
   "cell_type": "code",
   "execution_count": 149,
   "id": "f60f2945",
   "metadata": {},
   "outputs": [
    {
     "data": {
      "text/plain": [
       "True"
      ]
     },
     "execution_count": 149,
     "metadata": {},
     "output_type": "execute_result"
    }
   ],
   "source": [
    "'     '.isspace()"
   ]
  },
  {
   "cell_type": "code",
   "execution_count": 59,
   "id": "0d381d25",
   "metadata": {},
   "outputs": [
    {
     "data": {
      "text/plain": [
       "'$'"
      ]
     },
     "execution_count": 59,
     "metadata": {},
     "output_type": "execute_result"
    }
   ],
   "source": [
    "# for every character there in one unicode behind (integer)\n",
    "\n",
    "ord('$')\n",
    "chr(36)\n",
    "\n",
    "\n",
    "\n",
    "# ord() function returns a specified character in an integer\n",
    "# chr() function that converst a specified integer into a string"
   ]
  },
  {
   "cell_type": "code",
   "execution_count": 73,
   "id": "715acfa7",
   "metadata": {},
   "outputs": [
    {
     "name": "stdout",
     "output_type": "stream",
     "text": [
      "a b c d e f g h i j k l m n o p q r s t u v w x y z \n",
      "A B C D E F G H I J K L M N O P Q R S T U V W X Y Z "
     ]
    }
   ],
   "source": [
    "# 97 for a\n",
    "# 65 for A\n",
    "\n",
    "for i in range(97,97+26):\n",
    "    print(chr(i),end=' ')\n",
    "    \n",
    "print()\n",
    "\n",
    "for i in range(65,65+26):\n",
    "    print(chr(i),end=' ')\n",
    "   "
   ]
  },
  {
   "cell_type": "markdown",
   "id": "ed78b38c",
   "metadata": {},
   "source": [
    "### Lists"
   ]
  },
  {
   "cell_type": "code",
   "execution_count": 77,
   "id": "bb52ba06",
   "metadata": {},
   "outputs": [
    {
     "data": {
      "text/plain": [
       "9"
      ]
     },
     "execution_count": 77,
     "metadata": {},
     "output_type": "execute_result"
    }
   ],
   "source": [
    "# mutable\n",
    "# indexing , slicing , ordered\n",
    "# iterable\n",
    "# allows duplicates\n",
    "# heterogenous data\n",
    "\n",
    "sample_list = [3, 4.0,'python',[1,2],(3,4),{1:'one',2:'two'},{8,97,6},True,None]\n",
    "\n",
    "len(sample_list)\n",
    "\n"
   ]
  },
  {
   "cell_type": "code",
   "execution_count": 79,
   "id": "ec041102",
   "metadata": {},
   "outputs": [
    {
     "data": {
      "text/plain": [
       "[[1, 2], (3, 4), {1: 'one', 2: 'two'}, {6, 8, 97}, True, None]"
      ]
     },
     "execution_count": 79,
     "metadata": {},
     "output_type": "execute_result"
    }
   ],
   "source": [
    "#Slicing (start,end,step)\n",
    "\n",
    "sample_list[3::]"
   ]
  },
  {
   "cell_type": "code",
   "execution_count": 81,
   "id": "14d157fe",
   "metadata": {},
   "outputs": [
    {
     "data": {
      "text/plain": [
       "[3, 4.0, 'java', [1, 2], (3, 4), {1: 'one', 2: 'two'}, {6, 8, 97}, True, None]"
      ]
     },
     "execution_count": 81,
     "metadata": {},
     "output_type": "execute_result"
    }
   ],
   "source": [
    "# updating values\n",
    "\n",
    "sample_list[2] = 'java'\n",
    "sample_list"
   ]
  },
  {
   "cell_type": "code",
   "execution_count": 83,
   "id": "72bbc353",
   "metadata": {},
   "outputs": [
    {
     "data": {
      "text/plain": [
       "[1, 2, 3, 4, 1, 2, 3, 4]"
      ]
     },
     "execution_count": 83,
     "metadata": {},
     "output_type": "execute_result"
    }
   ],
   "source": [
    "# repititive list\n",
    "\n",
    "l1 = [1,2,3,4]\n",
    "l1*2"
   ]
  },
  {
   "cell_type": "code",
   "execution_count": 85,
   "id": "2388c900",
   "metadata": {},
   "outputs": [
    {
     "data": {
      "text/plain": [
       "[1, 2, 'one', 'two']"
      ]
     },
     "execution_count": 85,
     "metadata": {},
     "output_type": "execute_result"
    }
   ],
   "source": [
    "# concatenation\n",
    "\n",
    "l2= [1,2] + ['one','two']\n",
    "l2"
   ]
  },
  {
   "cell_type": "code",
   "execution_count": 88,
   "id": "217cc86c",
   "metadata": {},
   "outputs": [
    {
     "name": "stdout",
     "output_type": "stream",
     "text": [
      "1\n",
      "2\n",
      "one\n",
      "two\n"
     ]
    }
   ],
   "source": [
    "# membership operator\n",
    "\n",
    "'three' not in l2\n",
    "\n",
    "# iteration\n",
    "\n",
    "for i in l2:\n",
    "    print(i)\n",
    "    \n",
    "# lenght---len()\n",
    "\n",
    "# min\n",
    "\n",
    "# max\n"
   ]
  },
  {
   "cell_type": "code",
   "execution_count": 92,
   "id": "c8d1c629",
   "metadata": {},
   "outputs": [
    {
     "data": {
      "text/plain": [
       "0"
      ]
     },
     "execution_count": 92,
     "metadata": {},
     "output_type": "execute_result"
    }
   ],
   "source": [
    "min(range(3,10,1))\n",
    "max(range(3,10,1))\n",
    "\n",
    "max([1,13,0])\n",
    "min([1,13,0])\n"
   ]
  },
  {
   "cell_type": "markdown",
   "id": "434cbf1d",
   "metadata": {},
   "source": [
    "### Methods\n",
    "\n"
   ]
  },
  {
   "cell_type": "code",
   "execution_count": 97,
   "id": "74be839f",
   "metadata": {},
   "outputs": [
    {
     "data": {
      "text/plain": [
       "'four'"
      ]
     },
     "execution_count": 97,
     "metadata": {},
     "output_type": "execute_result"
    }
   ],
   "source": [
    "# append()  will update the list and the input will be added last\n",
    "\n",
    "\n",
    "l1 = ['one','two','three']\n",
    "\n",
    "l1.append('four')\n",
    "\n",
    "l1[-1]\n"
   ]
  },
  {
   "cell_type": "code",
   "execution_count": 99,
   "id": "15edd876",
   "metadata": {},
   "outputs": [
    {
     "data": {
      "text/plain": [
       "['one', 'two', 'three', ['four', 'five']]"
      ]
     },
     "execution_count": 99,
     "metadata": {},
     "output_type": "execute_result"
    }
   ],
   "source": [
    "l1 = ['one','two','three']\n",
    "\n",
    "l1.append(['four','five'])\n",
    "\n",
    "l1\n"
   ]
  },
  {
   "cell_type": "code",
   "execution_count": 104,
   "id": "3b8c0dc8",
   "metadata": {},
   "outputs": [
    {
     "data": {
      "text/plain": [
       "['one', 'two', 'three', 'four', 'five', 'monkey']"
      ]
     },
     "execution_count": 104,
     "metadata": {},
     "output_type": "execute_result"
    }
   ],
   "source": [
    "# extend()   extend the size of list with all the inputs in the string\n",
    "\n",
    "l2 = ['one','two','three']\n",
    "\n",
    "l2.extend(['four','five','monkey'])\n",
    "\n",
    "l2\n"
   ]
  },
  {
   "cell_type": "code",
   "execution_count": null,
   "id": "4557c4f5",
   "metadata": {},
   "outputs": [],
   "source": [
    "['one','two','three'] + ['four','five','monkey']"
   ]
  },
  {
   "cell_type": "code",
   "execution_count": 106,
   "id": "4c5b6fcc",
   "metadata": {},
   "outputs": [
    {
     "data": {
      "text/plain": [
       "['one', 'two']"
      ]
     },
     "execution_count": 106,
     "metadata": {},
     "output_type": "execute_result"
    }
   ],
   "source": [
    "# del also works\n",
    "\n",
    "del l1[2]\n",
    "l1"
   ]
  },
  {
   "cell_type": "code",
   "execution_count": 109,
   "id": "9e2778d3",
   "metadata": {},
   "outputs": [
    {
     "data": {
      "text/plain": [
       "3"
      ]
     },
     "execution_count": 109,
     "metadata": {},
     "output_type": "execute_result"
    }
   ],
   "source": [
    "##  count(): counts frequency of each element in the list \n",
    "\n",
    "l3 = [1,2,3,3,4,5,3,6,7,2,4,5,123]\n",
    "\n",
    "l3.count(3)"
   ]
  },
  {
   "cell_type": "code",
   "execution_count": 115,
   "id": "3ae29746",
   "metadata": {},
   "outputs": [
    {
     "data": {
      "text/plain": [
       "[2, 3, 3, 4, 5, 3, 6, 7, 99999, 1234]"
      ]
     },
     "execution_count": 115,
     "metadata": {},
     "output_type": "execute_result"
    }
   ],
   "source": [
    "# index(): will give you the index of the first occurance of the input\n",
    "\n",
    "l3 = [1,2,3,3,4,5,3,6,7,99999,1234,123]\n",
    "\n",
    "l3.index(3)\n",
    "\n",
    "\n",
    "# pop() : del and throw the elements , if not given any argument/input last element will be deleted\n",
    "\n",
    "\n",
    "l3.pop()\n",
    "l3.pop(0)\n",
    "\n",
    "l3\n",
    "\n",
    "\n",
    "\n"
   ]
  },
  {
   "cell_type": "code",
   "execution_count": 117,
   "id": "7dc64166",
   "metadata": {},
   "outputs": [
    {
     "data": {
      "text/plain": [
       "[123, 1234, 99999, 7, 6, 3, 5, '5 point something', 3, 3, 2, 1]"
      ]
     },
     "execution_count": 117,
     "metadata": {},
     "output_type": "execute_result"
    }
   ],
   "source": [
    "# reverse() reverses the list order\n",
    "\n",
    "l4 = [1,2,3,3,'5 point something',5,3,6,7,99999,1234,123]\n",
    "l4.reverse()\n",
    "\n",
    "l4\n",
    "\n",
    "\n"
   ]
  },
  {
   "cell_type": "code",
   "execution_count": 119,
   "id": "b14cb568",
   "metadata": {},
   "outputs": [
    {
     "data": {
      "text/plain": [
       "[]"
      ]
     },
     "execution_count": 119,
     "metadata": {},
     "output_type": "execute_result"
    }
   ],
   "source": [
    "# clear():\n",
    "\n",
    "l5 = [1,2,3,3,'5 point something',5,3,6,7,99999,1234,123]\n",
    "l5.clear()\n",
    "\n",
    "l5\n",
    "\n",
    "\n",
    "\n"
   ]
  },
  {
   "cell_type": "code",
   "execution_count": 123,
   "id": "37d58039",
   "metadata": {},
   "outputs": [
    {
     "name": "stdout",
     "output_type": "stream",
     "text": [
      "2\n",
      "10\n",
      "2\n",
      "10\n"
     ]
    }
   ],
   "source": [
    "l6 = [1,2,3,4,5,10]\n",
    "l7 = [6,7,8,9,2,10]\n",
    "\n",
    "  \n",
    "#print element  that is common to both lists\n",
    "\n",
    "\n",
    "for i in l6:\n",
    "    for j in l7:\n",
    "        if i==j:      # comparison operator\n",
    "            print(i)\n",
    "        else:\n",
    "            pass\n",
    "        \n",
    "        \n",
    "for i in l6:\n",
    "    if i in l7:       # membership operator\n",
    "        print(i)"
   ]
  },
  {
   "cell_type": "code",
   "execution_count": 133,
   "id": "ca30b5e3",
   "metadata": {},
   "outputs": [
    {
     "data": {
      "text/plain": [
       "5"
      ]
     },
     "execution_count": 133,
     "metadata": {},
     "output_type": "execute_result"
    }
   ],
   "source": [
    "## find and index\n",
    "\n",
    "l8 = ['Asad','sekhar','abhay','nikhil']\n",
    "\n",
    "l8.index('Asad')\n",
    "\n",
    "s8 = ' '.join(l8)\n",
    "\n",
    "s8.find('sekhar')\n",
    "\n",
    "s8.index('sekhar')\n",
    "\n",
    "\n"
   ]
  },
  {
   "cell_type": "code",
   "execution_count": 139,
   "id": "da424029",
   "metadata": {},
   "outputs": [
    {
     "ename": "ValueError",
     "evalue": "substring not found",
     "output_type": "error",
     "traceback": [
      "\u001b[0;31m---------------------------------------------------------------------------\u001b[0m",
      "\u001b[0;31mValueError\u001b[0m                                Traceback (most recent call last)",
      "\u001b[0;32m<ipython-input-139-b9b83422927b>\u001b[0m in \u001b[0;36m<module>\u001b[0;34m\u001b[0m\n\u001b[1;32m      4\u001b[0m \u001b[0ms8\u001b[0m\u001b[0;34m.\u001b[0m\u001b[0mfind\u001b[0m\u001b[0;34m(\u001b[0m\u001b[0;34m'Ieshaan'\u001b[0m\u001b[0;34m)\u001b[0m\u001b[0;34m\u001b[0m\u001b[0m\n\u001b[1;32m      5\u001b[0m \u001b[0;34m\u001b[0m\u001b[0m\n\u001b[0;32m----> 6\u001b[0;31m \u001b[0ms8\u001b[0m\u001b[0;34m.\u001b[0m\u001b[0mindex\u001b[0m\u001b[0;34m(\u001b[0m\u001b[0;34m'Ieshaan'\u001b[0m\u001b[0;34m)\u001b[0m\u001b[0;34m\u001b[0m\u001b[0m\n\u001b[0m",
      "\u001b[0;31mValueError\u001b[0m: substring not found"
     ]
    }
   ],
   "source": [
    "###  any substring that is not present in the string returns -1\n",
    "#### while index an item/substring which is absent return an error\n",
    "\n",
    "\n",
    "\n",
    "s8.find('Ieshaan')\n",
    "\n",
    "s8.index('Ieshaan')"
   ]
  },
  {
   "cell_type": "code",
   "execution_count": 136,
   "id": "8cd3b1b7",
   "metadata": {},
   "outputs": [
    {
     "data": {
      "text/plain": [
       "37"
      ]
     },
     "execution_count": 136,
     "metadata": {},
     "output_type": "execute_result"
    }
   ],
   "source": [
    "s3 = 'This is a good example of how to use his sets in python'\n",
    "\n",
    "s3.rfind('his')"
   ]
  },
  {
   "cell_type": "code",
   "execution_count": 141,
   "id": "a2d85d11",
   "metadata": {},
   "outputs": [
    {
     "data": {
      "text/plain": [
       "0"
      ]
     },
     "execution_count": 141,
     "metadata": {},
     "output_type": "execute_result"
    }
   ],
   "source": [
    "s9 = 'komalksingh1999'\n",
    "s9.find('k')\n",
    "s9.rfind('k')\n",
    "\n",
    "s9.index('k')"
   ]
  },
  {
   "cell_type": "code",
   "execution_count": 142,
   "id": "f7878c6c",
   "metadata": {},
   "outputs": [
    {
     "data": {
      "text/plain": [
       "-1"
      ]
     },
     "execution_count": 142,
     "metadata": {},
     "output_type": "execute_result"
    }
   ],
   "source": [
    "s9.find('z')"
   ]
  },
  {
   "cell_type": "code",
   "execution_count": 143,
   "id": "773699cd",
   "metadata": {},
   "outputs": [
    {
     "ename": "ValueError",
     "evalue": "substring not found",
     "output_type": "error",
     "traceback": [
      "\u001b[0;31m---------------------------------------------------------------------------\u001b[0m",
      "\u001b[0;31mValueError\u001b[0m                                Traceback (most recent call last)",
      "\u001b[0;32m<ipython-input-143-9fdd38ca2119>\u001b[0m in \u001b[0;36m<module>\u001b[0;34m\u001b[0m\n\u001b[0;32m----> 1\u001b[0;31m \u001b[0ms9\u001b[0m\u001b[0;34m.\u001b[0m\u001b[0mindex\u001b[0m\u001b[0;34m(\u001b[0m\u001b[0;34m'z'\u001b[0m\u001b[0;34m)\u001b[0m\u001b[0;34m\u001b[0m\u001b[0m\n\u001b[0m",
      "\u001b[0;31mValueError\u001b[0m: substring not found"
     ]
    }
   ],
   "source": [
    "s9.index('z')"
   ]
  },
  {
   "cell_type": "code",
   "execution_count": 147,
   "id": "0f166b28",
   "metadata": {},
   "outputs": [
    {
     "data": {
      "text/plain": [
       "1"
      ]
     },
     "execution_count": 147,
     "metadata": {},
     "output_type": "execute_result"
    }
   ],
   "source": [
    "s10 = 'ffgggggggggggg'\n",
    "\n",
    "s10.rfind('f')\n",
    "\n",
    "# rfind here means that if you search 'f' from right side and what is the index of first occurance\n",
    "\n",
    "# rfind or find will not change th index of an character"
   ]
  },
  {
   "cell_type": "code",
   "execution_count": 158,
   "id": "e6bf8fd9",
   "metadata": {},
   "outputs": [
    {
     "name": "stdout",
     "output_type": "stream",
     "text": [
      "Vrusabh 1\n",
      "Rehan: 2\n",
      "Himalayn 3\n",
      "Ganga 4\n",
      "Haridwar 5\n",
      "Gangotri 6\n",
      "the number of nouns in this sentense are : 6\n",
      "the number of nouns in this sentense are :6\n"
     ]
    }
   ],
   "source": [
    "A = \"Vrusabh and Rehan:  The Himalayan river Ganga flows fast through the mountains. A city Haridwar is just 100kms away from Gangotri\"\n",
    "\n",
    "sum = 0\n",
    "for p in A.split(' '):\n",
    "    if p.istitle() and p not in ['A','An','The']:\n",
    "        \n",
    "        sum=sum+1\n",
    "        print(p,sum)\n",
    "    else:\n",
    "        pass\n",
    "    \n",
    "print('the number of nouns in this sentense are :', sum)\n",
    "print('the number of nouns in this sentense are :' + str(sum))\n",
    "    \n",
    "    "
   ]
  },
  {
   "cell_type": "code",
   "execution_count": null,
   "id": "b00a28d7",
   "metadata": {},
   "outputs": [],
   "source": []
  }
 ],
 "metadata": {
  "kernelspec": {
   "display_name": "Python 3",
   "language": "python",
   "name": "python3"
  },
  "language_info": {
   "codemirror_mode": {
    "name": "ipython",
    "version": 3
   },
   "file_extension": ".py",
   "mimetype": "text/x-python",
   "name": "python",
   "nbconvert_exporter": "python",
   "pygments_lexer": "ipython3",
   "version": "3.6.2"
  }
 },
 "nbformat": 4,
 "nbformat_minor": 5
}
