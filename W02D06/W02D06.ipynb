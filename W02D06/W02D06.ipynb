{
 "cells": [
  {
   "cell_type": "code",
   "execution_count": null,
   "id": "69999493",
   "metadata": {},
   "outputs": [],
   "source": [
    "1) >= # ?comparison\n",
    "2) or # ?logical\n",
    "3) // # ? Arithmatic\n",
    "4) is not # ? identity"
   ]
  },
  {
   "cell_type": "code",
   "execution_count": 15,
   "id": "8d4589d5",
   "metadata": {},
   "outputs": [
    {
     "name": "stdout",
     "output_type": "stream",
     "text": [
      "4 5\n",
      "4 5\n",
      "4*5\n",
      "4-------5\n",
      "4 keerthana 5\n",
      "4 <---first and second ----> 5\n"
     ]
    }
   ],
   "source": [
    "a = 4\n",
    "b = 5\n",
    "print(a,b)\n",
    "print(a,b,sep=' ')\n",
    "print(a,b,sep = '*')\n",
    "print(a,b,sep = '-------')\n",
    "print(a,b,sep=' keerthana ')\n",
    "print(a,b,sep=' <---first and second ----> ')\n",
    "\n",
    "# print(object,sep,end)\n",
    "# end = '\\n' by default.   -----move to the next line\n",
    "# sep =  outputs separated by -------' ' by default\n",
    "\n",
    "# assignment \n",
    "\n",
    "#input function\n",
    "#bool function"
   ]
  },
  {
   "cell_type": "markdown",
   "id": "0b00540f",
   "metadata": {},
   "source": [
    "## Conditional Statements"
   ]
  },
  {
   "cell_type": "code",
   "execution_count": null,
   "id": "1e728e36",
   "metadata": {},
   "outputs": [],
   "source": [
    "# We help computers in decision making\n",
    "# if your age is >18 then you are eligible to vote (conditional statement)\n",
    "# Decision making statements\n",
    "# Decsion making, making a choice, executing a certain block of command is automated\n",
    "\n",
    "\n"
   ]
  },
  {
   "cell_type": "markdown",
   "id": "e344a848",
   "metadata": {},
   "source": [
    "### if statement"
   ]
  },
  {
   "cell_type": "code",
   "execution_count": null,
   "id": "1902c1a7",
   "metadata": {},
   "outputs": [],
   "source": [
    "#if cloudss  it will rain\n",
    "\n",
    "if expression:\n",
    "    statement\n",
    "    \n",
    "# expression is evaluated as true and false (boolean) and subsequently statement is exucuted\n",
    "\n",
    "a = 4\n",
    "\n",
    "if a>3:\n",
    "    print('the number is greater than 3')\n",
    "    \n"
   ]
  },
  {
   "cell_type": "code",
   "execution_count": 24,
   "id": "1e6b2661",
   "metadata": {},
   "outputs": [
    {
     "name": "stdout",
     "output_type": "stream",
     "text": [
      "4 -the number is greater than 3\n",
      "4 --the number is greater than 3\n"
     ]
    }
   ],
   "source": [
    "a =4\n",
    "\n",
    "if a<3:\n",
    "    print(a,'-the number is greater than 3')\n",
    "    \n",
    "if True:\n",
    "    print(a,'--the number is greater than 3')\n",
    "    \n",
    "if False:\n",
    "    print(a,'---the number is greater than 3')\n",
    "    \n",
    "# statement will be executed when the the condition is True\n"
   ]
  },
  {
   "cell_type": "code",
   "execution_count": 32,
   "id": "ad499c88",
   "metadata": {},
   "outputs": [
    {
     "name": "stdout",
     "output_type": "stream",
     "text": [
      "monkey the number is 3\n"
     ]
    },
    {
     "data": {
      "text/plain": [
       "True"
      ]
     },
     "execution_count": 32,
     "metadata": {},
     "output_type": "execute_result"
    }
   ],
   "source": [
    "a=3\n",
    "\n",
    "if a<3:\n",
    "    print(a,'-the number is less than 3')\n",
    "    \n",
    "if a>3:\n",
    "    print(a,'the number is greater than or equal to 3')\n",
    "    \n",
    "if a==3:\n",
    "    print('monkey','the number is 3')\n",
    "    \n",
    "# 3 conditions in the above example\n",
    "# Else will play a major role when condition that is false is to be execuated too.\n",
    "    \n",
    "\n",
    "\n",
    "#a>=3"
   ]
  },
  {
   "cell_type": "markdown",
   "id": "b0089a3f",
   "metadata": {},
   "source": [
    "### IF ELSE "
   ]
  },
  {
   "cell_type": "code",
   "execution_count": 34,
   "id": "8d16e80f",
   "metadata": {},
   "outputs": [
    {
     "name": "stdout",
     "output_type": "stream",
     "text": [
      "take a break and have a kit-kat\n"
     ]
    }
   ],
   "source": [
    "age = 12\n",
    "\n",
    "if age >=18:\n",
    "    print('come to vote')\n",
    "else:\n",
    "    print('take a break and have a kit-kat')\n",
    "    \n",
    "# I have not defined anywhere that what to do it age<= 18----Else keyword helps us\n",
    "# This to be executed when both true and false are specified"
   ]
  },
  {
   "cell_type": "markdown",
   "id": "cfdd0db6",
   "metadata": {},
   "source": [
    "### if elif else"
   ]
  },
  {
   "cell_type": "code",
   "execution_count": 50,
   "id": "cb83ec2a",
   "metadata": {},
   "outputs": [
    {
     "ename": "IndentationError",
     "evalue": "expected an indented block (<ipython-input-50-2b3304a324bd>, line 13)",
     "output_type": "error",
     "traceback": [
      "\u001b[0;36m  File \u001b[0;32m\"<ipython-input-50-2b3304a324bd>\"\u001b[0;36m, line \u001b[0;32m13\u001b[0m\n\u001b[0;31m    print('four')\u001b[0m\n\u001b[0m        ^\u001b[0m\n\u001b[0;31mIndentationError\u001b[0m\u001b[0;31m:\u001b[0m expected an indented block\n"
     ]
    }
   ],
   "source": [
    "# Print one two three four five as outut based on the input given by user: 1,2,3,4,5\n",
    "\n",
    "num = 1\n",
    "\n",
    "\n",
    "if num ==1:\n",
    "    print('one')\n",
    "elif num ==2:\n",
    "    print('two')\n",
    "elif num==3:\n",
    "    print('three')\n",
    "elif num==4:\n",
    "    print('four')\n",
    "elif num==5:\n",
    "    print('five') \n",
    "else:\n",
    "    print('wrong input')\n",
    "\n",
    "# first if then elif then else to be executed"
   ]
  },
  {
   "cell_type": "code",
   "execution_count": null,
   "id": "71f295a7",
   "metadata": {},
   "outputs": [],
   "source": [
    "# indentation\n",
    "# IndentationError # keyerror # item error # syntax error # item assignment # index error\n",
    "# enter after the column automatically assigned\n",
    "\n"
   ]
  },
  {
   "cell_type": "markdown",
   "id": "4b3fd892",
   "metadata": {},
   "source": [
    "### Nested if statements"
   ]
  },
  {
   "cell_type": "code",
   "execution_count": 54,
   "id": "62877cda",
   "metadata": {},
   "outputs": [
    {
     "name": "stdout",
     "output_type": "stream",
     "text": [
      "negative number\n"
     ]
    }
   ],
   "source": [
    "#a= [1,2,3,[4,5]] # nested list\n",
    "\n",
    "# if statement inside an if statement\n",
    "\n",
    "# used when one variable needs to pe processed more than once\n",
    "\n",
    "num = -1\n",
    "\n",
    "if num>=0:  # if the condition is false here I don't excute theif block\n",
    "    if num == 0:\n",
    "        print('no zeroes please')\n",
    "    else:\n",
    "        print('positive number')\n",
    "    \n",
    "    \n",
    "else:\n",
    "    print('negative number')\n",
    "    \n",
    "    "
   ]
  },
  {
   "cell_type": "code",
   "execution_count": null,
   "id": "eee04906",
   "metadata": {},
   "outputs": [],
   "source": [
    "# i will give you one number \n",
    "\n",
    "\n",
    "you have to tell me\n",
    "\n",
    "num  = 8\n",
    "\n",
    "\n",
    "1) divisible by 3,5 (both, one of these, none)\n",
    "\n"
   ]
  },
  {
   "cell_type": "code",
   "execution_count": 59,
   "id": "09316bc5",
   "metadata": {},
   "outputs": [
    {
     "name": "stdout",
     "output_type": "stream",
     "text": [
      "number divisible by both\n"
     ]
    }
   ],
   "source": [
    "num= 15\n",
    "\n",
    "if num%5==0:\n",
    "    if num%3==0:\n",
    "        print('number divisible by both')\n",
    "    else:\n",
    "        print('divisible by 5')\n",
    "        \n",
    "elif num%3==0:\n",
    "    print('divisible by 3')\n",
    "    \n",
    "else:\n",
    "    print('divisible by none')\n",
    "    \n",
    "    "
   ]
  },
  {
   "cell_type": "code",
   "execution_count": 63,
   "id": "9edb1b43",
   "metadata": {},
   "outputs": [
    {
     "name": "stdout",
     "output_type": "stream",
     "text": [
      "divisible by 5\n"
     ]
    }
   ],
   "source": [
    "num =10\n",
    "\n",
    "if num%3==0:\n",
    "    if num%5==0:\n",
    "        print('dividible by both')\n",
    "    else:\n",
    "        print('dividible by 3')\n",
    "elif num%5==0:\n",
    "    print('divisible by 5')\n",
    "else:\n",
    "    print('not divisible')"
   ]
  },
  {
   "cell_type": "code",
   "execution_count": 67,
   "id": "42461889",
   "metadata": {},
   "outputs": [
    {
     "name": "stdout",
     "output_type": "stream",
     "text": [
      "divisible  by one \n"
     ]
    }
   ],
   "source": [
    "num = 10\n",
    " \n",
    "if num%5 ==0 and num%3==0:\n",
    "    print('divisible by both')\n",
    "\n",
    "elif num%5==0 or num%3==0:\n",
    "    print('divisible  by one ')\n",
    "\n",
    "    \n",
    "    \n",
    "    \n",
    "    \n",
    "    \n",
    "    \n",
    "else:\n",
    "    print('not divisible')"
   ]
  },
  {
   "cell_type": "code",
   "execution_count": 82,
   "id": "375c5633",
   "metadata": {},
   "outputs": [
    {
     "name": "stdout",
     "output_type": "stream",
     "text": [
      "divisible by 5\n"
     ]
    }
   ],
   "source": [
    "# condition that we evaluate must have a boolean output\n",
    "\n",
    "num = 15\n",
    " \n",
    "A = num%5 ==0\n",
    "X = num%5\n",
    "\n",
    "\n",
    "#print(X)\n",
    "\n",
    "\n",
    "if not X: # to reverse the value of X\n",
    "    print('divisible by 5')\n",
    "\n",
    "if not X: # to reverse the value of X\n",
    "    print('divisible by 5')\n",
    "\n",
    "True,1\n",
    "False,0"
   ]
  },
  {
   "cell_type": "code",
   "execution_count": 69,
   "id": "33fae785",
   "metadata": {},
   "outputs": [
    {
     "name": "stdout",
     "output_type": "stream",
     "text": [
      "True\n"
     ]
    }
   ],
   "source": [
    "A = num%5 ==0\n",
    "print(A)"
   ]
  },
  {
   "cell_type": "code",
   "execution_count": 86,
   "id": "43bb9f4e",
   "metadata": {},
   "outputs": [
    {
     "name": "stdout",
     "output_type": "stream",
     "text": [
      "number is zero\n"
     ]
    }
   ],
   "source": [
    "num = 0\n",
    "\n",
    "if not num:\n",
    "    print('number is zero')"
   ]
  },
  {
   "cell_type": "code",
   "execution_count": 89,
   "id": "2237dcf8",
   "metadata": {},
   "outputs": [
    {
     "name": "stdout",
     "output_type": "stream",
     "text": [
      "good\n"
     ]
    }
   ],
   "source": [
    "# True quivalents\n",
    "\n",
    "num = 1\n",
    "\n",
    "if num>2:\n",
    "    if num%2==0:\n",
    "        print('great')\n",
    "    else:\n",
    "        print('good')\n",
    "else:\n",
    "    print('bad')"
   ]
  },
  {
   "cell_type": "code",
   "execution_count": null,
   "id": "01071b93",
   "metadata": {},
   "outputs": [],
   "source": [
    "# if a number is greater than 2 and even then great else good"
   ]
  },
  {
   "cell_type": "markdown",
   "id": "3a4bebcb",
   "metadata": {},
   "source": [
    "### Short hand statements"
   ]
  },
  {
   "cell_type": "code",
   "execution_count": 90,
   "id": "e1cc8971",
   "metadata": {},
   "outputs": [
    {
     "name": "stdout",
     "output_type": "stream",
     "text": [
      "great\n"
     ]
    }
   ],
   "source": [
    "# executed in single line\n",
    "# if\n",
    "\n",
    "i = 15\n",
    "if i>12: print('great')"
   ]
  },
  {
   "cell_type": "code",
   "execution_count": 97,
   "id": "d6e8ae8a",
   "metadata": {},
   "outputs": [
    {
     "name": "stdout",
     "output_type": "stream",
     "text": [
      "-1\n"
     ]
    }
   ],
   "source": [
    "# if else\n",
    "\n",
    "a=-1\n",
    "b=4\n",
    "\n",
    "# Right\n",
    "# use these fr small pieces to avoid confusion\n",
    "\n",
    "print(a) if a<b else print(b)"
   ]
  },
  {
   "cell_type": "code",
   "execution_count": null,
   "id": "28404e6f",
   "metadata": {},
   "outputs": [],
   "source": [
    "# Code is always right \n",
    "# comments may lie sometimes\n",
    "\n",
    "\n"
   ]
  }
 ],
 "metadata": {
  "kernelspec": {
   "display_name": "Python 3",
   "language": "python",
   "name": "python3"
  },
  "language_info": {
   "codemirror_mode": {
    "name": "ipython",
    "version": 3
   },
   "file_extension": ".py",
   "mimetype": "text/x-python",
   "name": "python",
   "nbconvert_exporter": "python",
   "pygments_lexer": "ipython3",
   "version": "3.6.2"
  }
 },
 "nbformat": 4,
 "nbformat_minor": 5
}
