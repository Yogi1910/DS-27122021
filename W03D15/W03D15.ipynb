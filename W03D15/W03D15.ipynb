{
 "cells": [
  {
   "cell_type": "markdown",
   "id": "c786b04a",
   "metadata": {},
   "source": [
    "### Tuples"
   ]
  },
  {
   "cell_type": "code",
   "execution_count": null,
   "id": "8b6278de",
   "metadata": {},
   "outputs": [],
   "source": [
    "# Immutables\n",
    "# ordered\n",
    "# duplicates allowed\n",
    "# double round brackets to assign\n",
    "# indexing works\n",
    "# membership operator works\n",
    "# to replace/delete/update an item we can opt to convert it into a list and back to tuple\n",
    "# concatenation allowed\n",
    "# I can repeat items with multiplication operator\n",
    "# iterable"
   ]
  },
  {
   "cell_type": "code",
   "execution_count": 33,
   "id": "09b4d0c5",
   "metadata": {},
   "outputs": [
    {
     "data": {
      "text/plain": [
       "(1, 2, 3, 40, 500)"
      ]
     },
     "execution_count": 33,
     "metadata": {},
     "output_type": "execute_result"
    }
   ],
   "source": [
    "T1 = tuple((1,2,3))+(40,500)\n",
    "\n",
    "T1"
   ]
  },
  {
   "cell_type": "code",
   "execution_count": 35,
   "id": "255fbf06",
   "metadata": {},
   "outputs": [
    {
     "data": {
      "text/plain": [
       "('A', 'B', 'A', 'B')"
      ]
     },
     "execution_count": 35,
     "metadata": {},
     "output_type": "execute_result"
    }
   ],
   "source": [
    "T2 = ('A','B')*2\n",
    "T2"
   ]
  },
  {
   "cell_type": "code",
   "execution_count": null,
   "id": "9fdbfb20",
   "metadata": {},
   "outputs": [],
   "source": [
    "# functions\n",
    "\n",
    "count\n",
    "len()\n",
    "index\n"
   ]
  },
  {
   "cell_type": "code",
   "execution_count": 36,
   "id": "c7e0af67",
   "metadata": {},
   "outputs": [
    {
     "data": {
      "text/plain": [
       "4"
      ]
     },
     "execution_count": 36,
     "metadata": {},
     "output_type": "execute_result"
    }
   ],
   "source": [
    "T1 = tuple((1,2,3))+(40,500)\n",
    "\n",
    "T1.index(500)"
   ]
  },
  {
   "cell_type": "code",
   "execution_count": 54,
   "id": "dbeb8ef9",
   "metadata": {},
   "outputs": [
    {
     "name": "stdout",
     "output_type": "stream",
     "text": [
      "[0]\n",
      "[0, 1]\n",
      "[0, 1, 2]\n",
      "[0, 1, 2, 3]\n",
      "[0, 1, 2, 3, 4]\n"
     ]
    },
    {
     "data": {
      "text/plain": [
       "[[0], [0, 1], [0, 1, 2], [0, 1, 2, 3], [0, 1, 2, 3, 4]]"
      ]
     },
     "execution_count": 54,
     "metadata": {},
     "output_type": "execute_result"
    }
   ],
   "source": [
    "#### Please print the following nested list with a for loop\n",
    "\n",
    "[[0],[0,1],[0,1,2],[0,1,2,3],[0,1,2,3,4]]\n",
    "\n",
    "EL1 = []\n",
    "\n",
    "\n",
    "for y in range(1,6):\n",
    "    EL2 = []\n",
    "    \n",
    "    \n",
    "    for x in range(y):\n",
    "        EL2.append(x)\n",
    "    print(EL2)\n",
    "    \n",
    "    EL1.append(EL2)\n",
    "\n",
    "    \n",
    "    \n",
    "EL1"
   ]
  },
  {
   "cell_type": "code",
   "execution_count": 42,
   "id": "a7c3d242",
   "metadata": {},
   "outputs": [
    {
     "data": {
      "text/plain": [
       "[0, 1]"
      ]
     },
     "execution_count": 42,
     "metadata": {},
     "output_type": "execute_result"
    }
   ],
   "source": [
    "EL1 =[]\n",
    "\n",
    "for x in range(y):\n",
    "        EL1.append(x)\n",
    "        \n",
    "EL1\n",
    "        \n",
    "        "
   ]
  },
  {
   "cell_type": "code",
   "execution_count": 49,
   "id": "151a3262",
   "metadata": {},
   "outputs": [
    {
     "data": {
      "text/plain": [
       "[0]"
      ]
     },
     "execution_count": 49,
     "metadata": {},
     "output_type": "execute_result"
    }
   ],
   "source": [
    "list(range(1))"
   ]
  },
  {
   "cell_type": "code",
   "execution_count": 65,
   "id": "226226ed",
   "metadata": {},
   "outputs": [
    {
     "ename": "SyntaxError",
     "evalue": "Missing parentheses in call to 'print' (<ipython-input-65-61b32fc8e5e1>, line 7)",
     "output_type": "error",
     "traceback": [
      "\u001b[0;36m  File \u001b[0;32m\"<ipython-input-65-61b32fc8e5e1>\"\u001b[0;36m, line \u001b[0;32m7\u001b[0m\n\u001b[0;31m    print \"HELLO!\"\u001b[0m\n\u001b[0m                 ^\u001b[0m\n\u001b[0;31mSyntaxError\u001b[0m\u001b[0;31m:\u001b[0m Missing parentheses in call to 'print'\n"
     ]
    }
   ],
   "source": [
    "A = ('apple')\n",
    "print(type(A))\n",
    "\n",
    "\n",
    "#  SyntaxError\n",
    "\n",
    "print \"HELLO!\"\n",
    "\n",
    "\n",
    "\n",
    "\n",
    "\n"
   ]
  },
  {
   "cell_type": "code",
   "execution_count": 66,
   "id": "adc07caa",
   "metadata": {},
   "outputs": [
    {
     "ename": "IndexError",
     "evalue": "list index out of range",
     "output_type": "error",
     "traceback": [
      "\u001b[0;31m---------------------------------------------------------------------------\u001b[0m",
      "\u001b[0;31mIndexError\u001b[0m                                Traceback (most recent call last)",
      "\u001b[0;32m<ipython-input-66-78dd610f82a3>\u001b[0m in \u001b[0;36m<module>\u001b[0;34m\u001b[0m\n\u001b[1;32m      1\u001b[0m \u001b[0mL\u001b[0m \u001b[0;34m=\u001b[0m \u001b[0;34m[\u001b[0m\u001b[0;36m1\u001b[0m\u001b[0;34m,\u001b[0m\u001b[0;36m2\u001b[0m\u001b[0;34m,\u001b[0m\u001b[0;36m3\u001b[0m\u001b[0;34m]\u001b[0m\u001b[0;34m\u001b[0m\u001b[0m\n\u001b[0;32m----> 2\u001b[0;31m \u001b[0mprint\u001b[0m\u001b[0;34m(\u001b[0m\u001b[0mL\u001b[0m\u001b[0;34m[\u001b[0m\u001b[0;36m3\u001b[0m\u001b[0;34m]\u001b[0m\u001b[0;34m)\u001b[0m\u001b[0;34m\u001b[0m\u001b[0m\n\u001b[0m",
      "\u001b[0;31mIndexError\u001b[0m: list index out of range"
     ]
    }
   ],
   "source": [
    "# IndexError\n",
    "\n",
    "L = [1,2,3]\n",
    "print(L[3])"
   ]
  },
  {
   "cell_type": "code",
   "execution_count": 69,
   "id": "06ab2d82",
   "metadata": {},
   "outputs": [
    {
     "ename": "KeyError",
     "evalue": "3",
     "output_type": "error",
     "traceback": [
      "\u001b[0;31m---------------------------------------------------------------------------\u001b[0m",
      "\u001b[0;31mKeyError\u001b[0m                                  Traceback (most recent call last)",
      "\u001b[0;32m<ipython-input-69-4d48fc7aa92f>\u001b[0m in \u001b[0;36m<module>\u001b[0;34m\u001b[0m\n\u001b[1;32m      1\u001b[0m \u001b[0mD\u001b[0m \u001b[0;34m=\u001b[0m \u001b[0;34m{\u001b[0m\u001b[0;36m1\u001b[0m\u001b[0;34m:\u001b[0m\u001b[0;34m'o'\u001b[0m\u001b[0;34m,\u001b[0m\u001b[0;36m2\u001b[0m\u001b[0;34m:\u001b[0m\u001b[0;34m't'\u001b[0m\u001b[0;34m,\u001b[0m\u001b[0;36m4\u001b[0m\u001b[0;34m:\u001b[0m\u001b[0;34m'f'\u001b[0m\u001b[0;34m}\u001b[0m\u001b[0;34m\u001b[0m\u001b[0m\n\u001b[1;32m      2\u001b[0m \u001b[0;34m\u001b[0m\u001b[0m\n\u001b[0;32m----> 3\u001b[0;31m \u001b[0mD\u001b[0m\u001b[0;34m[\u001b[0m\u001b[0;36m3\u001b[0m\u001b[0;34m]\u001b[0m  \u001b[0;31m# inside square brackets you expect a key not a index like lists/tuples\u001b[0m\u001b[0;34m\u001b[0m\u001b[0m\n\u001b[0m",
      "\u001b[0;31mKeyError\u001b[0m: 3"
     ]
    }
   ],
   "source": [
    "# KeyError\n",
    "\n",
    "D = {1:'o',2:'t',4:'f'}\n",
    "\n",
    "D[3]  # inside square brackets you expect a key not a index like lists/tuples"
   ]
  },
  {
   "cell_type": "code",
   "execution_count": 70,
   "id": "0c8cd171",
   "metadata": {},
   "outputs": [
    {
     "ename": "TypeError",
     "evalue": "must be str, not int",
     "output_type": "error",
     "traceback": [
      "\u001b[0;31m---------------------------------------------------------------------------\u001b[0m",
      "\u001b[0;31mTypeError\u001b[0m                                 Traceback (most recent call last)",
      "\u001b[0;32m<ipython-input-70-7baa28abc78b>\u001b[0m in \u001b[0;36m<module>\u001b[0;34m\u001b[0m\n\u001b[0;32m----> 1\u001b[0;31m \u001b[0mA\u001b[0m  \u001b[0;34m=\u001b[0m \u001b[0;34m'2'\u001b[0m\u001b[0;34m+\u001b[0m\u001b[0;36m2\u001b[0m\u001b[0;34m\u001b[0m\u001b[0m\n\u001b[0m\u001b[1;32m      2\u001b[0m \u001b[0mprint\u001b[0m\u001b[0;34m(\u001b[0m\u001b[0mA\u001b[0m\u001b[0;34m)\u001b[0m\u001b[0;34m\u001b[0m\u001b[0m\n",
      "\u001b[0;31mTypeError\u001b[0m: must be str, not int"
     ]
    }
   ],
   "source": [
    "# TypeError\n",
    "\n",
    "A  = '2'+ 2\n",
    "print(A)"
   ]
  },
  {
   "cell_type": "code",
   "execution_count": 71,
   "id": "173c2fc6",
   "metadata": {},
   "outputs": [
    {
     "ename": "ValueError",
     "evalue": "invalid literal for int() with base 10: 'xy'",
     "output_type": "error",
     "traceback": [
      "\u001b[0;31m---------------------------------------------------------------------------\u001b[0m",
      "\u001b[0;31mValueError\u001b[0m                                Traceback (most recent call last)",
      "\u001b[0;32m<ipython-input-71-e39c5b373612>\u001b[0m in \u001b[0;36m<module>\u001b[0;34m\u001b[0m\n\u001b[0;32m----> 1\u001b[0;31m \u001b[0mprint\u001b[0m\u001b[0;34m(\u001b[0m\u001b[0mint\u001b[0m\u001b[0;34m(\u001b[0m\u001b[0;34m'xy'\u001b[0m\u001b[0;34m)\u001b[0m\u001b[0;34m)\u001b[0m\u001b[0;34m\u001b[0m\u001b[0m\n\u001b[0m",
      "\u001b[0;31mValueError\u001b[0m: invalid literal for int() with base 10: 'xy'"
     ]
    }
   ],
   "source": [
    "#ValueError\n",
    "\n",
    "\n",
    "print(int('xy'))"
   ]
  },
  {
   "cell_type": "code",
   "execution_count": 72,
   "id": "84162484",
   "metadata": {},
   "outputs": [
    {
     "ename": "NameError",
     "evalue": "name 'c' is not defined",
     "output_type": "error",
     "traceback": [
      "\u001b[0;31m---------------------------------------------------------------------------\u001b[0m",
      "\u001b[0;31mNameError\u001b[0m                                 Traceback (most recent call last)",
      "\u001b[0;32m<ipython-input-72-042546bb592f>\u001b[0m in \u001b[0;36m<module>\u001b[0;34m\u001b[0m\n\u001b[1;32m      1\u001b[0m \u001b[0ma\u001b[0m \u001b[0;34m=\u001b[0m\u001b[0;36m2\u001b[0m\u001b[0;34m\u001b[0m\u001b[0m\n\u001b[1;32m      2\u001b[0m \u001b[0mb\u001b[0m \u001b[0;34m=\u001b[0m\u001b[0;36m2\u001b[0m\u001b[0;34m\u001b[0m\u001b[0m\n\u001b[0;32m----> 3\u001b[0;31m \u001b[0mprint\u001b[0m\u001b[0;34m(\u001b[0m\u001b[0mc\u001b[0m\u001b[0;34m)\u001b[0m\u001b[0;34m\u001b[0m\u001b[0m\n\u001b[0m\u001b[1;32m      4\u001b[0m \u001b[0;34m\u001b[0m\u001b[0m\n",
      "\u001b[0;31mNameError\u001b[0m: name 'c' is not defined"
     ]
    }
   ],
   "source": [
    "#NameError\n",
    "\n",
    "a = 2 \n",
    "b = 2\n",
    "print(c)\n",
    "\n"
   ]
  },
  {
   "cell_type": "code",
   "execution_count": 73,
   "id": "c05dcfd0",
   "metadata": {},
   "outputs": [
    {
     "ename": "ZeroDivisionError",
     "evalue": "division by zero",
     "output_type": "error",
     "traceback": [
      "\u001b[0;31m---------------------------------------------------------------------------\u001b[0m",
      "\u001b[0;31mZeroDivisionError\u001b[0m                         Traceback (most recent call last)",
      "\u001b[0;32m<ipython-input-73-9dc72824473d>\u001b[0m in \u001b[0;36m<module>\u001b[0;34m\u001b[0m\n\u001b[1;32m      1\u001b[0m \u001b[0mx\u001b[0m \u001b[0;34m=\u001b[0m \u001b[0;36m100\u001b[0m\u001b[0;34m\u001b[0m\u001b[0m\n\u001b[1;32m      2\u001b[0m \u001b[0my\u001b[0m\u001b[0;34m=\u001b[0m\u001b[0;36m0\u001b[0m\u001b[0;34m\u001b[0m\u001b[0m\n\u001b[0;32m----> 3\u001b[0;31m \u001b[0mprint\u001b[0m\u001b[0;34m(\u001b[0m\u001b[0mx\u001b[0m\u001b[0;34m/\u001b[0m\u001b[0my\u001b[0m\u001b[0;34m)\u001b[0m\u001b[0;34m\u001b[0m\u001b[0m\n\u001b[0m\u001b[1;32m      4\u001b[0m \u001b[0;34m\u001b[0m\u001b[0m\n",
      "\u001b[0;31mZeroDivisionError\u001b[0m: division by zero"
     ]
    }
   ],
   "source": [
    "# ZeroDivisionError\n",
    "\n",
    "x = 100\n",
    "y=0\n",
    "print(x/y)\n",
    "\n"
   ]
  },
  {
   "cell_type": "markdown",
   "id": "98db1866",
   "metadata": {},
   "source": [
    "## Dictionary"
   ]
  },
  {
   "cell_type": "code",
   "execution_count": 91,
   "id": "11f8f4ca",
   "metadata": {},
   "outputs": [
    {
     "name": "stdout",
     "output_type": "stream",
     "text": [
      "<class 'dict'>\n",
      "<class 'dict'>\n",
      "{'b': 'second', 'c': 'third'}\n"
     ]
    },
    {
     "data": {
      "text/plain": [
       "{'b': 'second', 'c': 'third', 100: 100}"
      ]
     },
     "execution_count": 91,
     "metadata": {},
     "output_type": "execute_result"
    }
   ],
   "source": [
    "# Assignemnt\n",
    "\n",
    "D1 = dict()  #\n",
    "D2 = {'a':'first letter'}\n",
    "\n",
    "\n",
    "print(type(D1))\n",
    "print(type(D2))\n",
    "\n",
    "\n",
    "# insert items one by one\n",
    "\n",
    "D3 = dict()\n",
    "D3['b'] = 'second'\n",
    "D3['c'] = 'third'\n",
    "\n",
    "print(D3)\n",
    "\n",
    "# insert/convert a key value pair from other data type\n",
    "# ny datatype that represents data in key,value pair can be converted into dictionaries \n",
    "    \n",
    "T4 = (('b','second'),['c','third'],[100,100])\n",
    "D4= dict(L4)\n",
    "D4\n",
    "\n",
    "\n",
    "\n"
   ]
  },
  {
   "cell_type": "code",
   "execution_count": null,
   "id": "7fc1c4a3",
   "metadata": {},
   "outputs": [],
   "source": []
  },
  {
   "cell_type": "code",
   "execution_count": null,
   "id": "a1e6c2fc",
   "metadata": {},
   "outputs": [],
   "source": [
    "Question:\n",
    "Can a list be a value of dictionary?\n",
    "Can a list be a key of dictionary?"
   ]
  },
  {
   "cell_type": "code",
   "execution_count": 95,
   "id": "0bdbb4ea",
   "metadata": {},
   "outputs": [
    {
     "ename": "ValueError",
     "evalue": "dictionary update sequence element #0 has length 4; 2 is required",
     "output_type": "error",
     "traceback": [
      "\u001b[0;31m---------------------------------------------------------------------------\u001b[0m",
      "\u001b[0;31mValueError\u001b[0m                                Traceback (most recent call last)",
      "\u001b[0;32m<ipython-input-95-7ae011549ead>\u001b[0m in \u001b[0;36m<module>\u001b[0;34m\u001b[0m\n\u001b[0;32m----> 1\u001b[0;31m \u001b[0mdict\u001b[0m\u001b[0;34m(\u001b[0m\u001b[0;34m[\u001b[0m\u001b[0;34m[\u001b[0m\u001b[0;36m1\u001b[0m\u001b[0;34m,\u001b[0m\u001b[0;36m2\u001b[0m\u001b[0;34m,\u001b[0m\u001b[0;36m3\u001b[0m\u001b[0;34m,\u001b[0m\u001b[0;36m4\u001b[0m\u001b[0;34m]\u001b[0m\u001b[0;34m]\u001b[0m\u001b[0;34m)\u001b[0m\u001b[0;34m\u001b[0m\u001b[0m\n\u001b[0m",
      "\u001b[0;31mValueError\u001b[0m: dictionary update sequence element #0 has length 4; 2 is required"
     ]
    }
   ],
   "source": [
    "# Couple of things to must about keys:\n",
    "\n",
    "They are immmutable\n",
    "They are unique\n",
    "\n",
    "\n"
   ]
  },
  {
   "cell_type": "code",
   "execution_count": 96,
   "id": "ca905bd4",
   "metadata": {},
   "outputs": [
    {
     "ename": "NameError",
     "evalue": "name 'Ordered' is not defined",
     "output_type": "error",
     "traceback": [
      "\u001b[0;31m---------------------------------------------------------------------------\u001b[0m",
      "\u001b[0;31mNameError\u001b[0m                                 Traceback (most recent call last)",
      "\u001b[0;32m<ipython-input-96-49e3cc498481>\u001b[0m in \u001b[0;36m<module>\u001b[0;34m\u001b[0m\n\u001b[1;32m      1\u001b[0m \u001b[0;31m# Properties\u001b[0m\u001b[0;34m\u001b[0m\u001b[0;34m\u001b[0m\u001b[0m\n\u001b[1;32m      2\u001b[0m \u001b[0;34m\u001b[0m\u001b[0m\n\u001b[0;32m----> 3\u001b[0;31m \u001b[0mOrdered\u001b[0m \u001b[0;31m#:--------(after a certain version : >=3.7 )\u001b[0m\u001b[0;34m\u001b[0m\u001b[0m\n\u001b[0m\u001b[1;32m      4\u001b[0m \u001b[0mMutable\u001b[0m \u001b[0;31m# LSD\u001b[0m\u001b[0;34m\u001b[0m\u001b[0m\n\u001b[1;32m      5\u001b[0m \u001b[0;34m\"Doesn't Allow dupliucates\"\u001b[0m\u001b[0;34m\u001b[0m\u001b[0m\n",
      "\u001b[0;31mNameError\u001b[0m: name 'Ordered' is not defined"
     ]
    }
   ],
   "source": [
    "# Properties\n",
    "\n",
    "1 Ordered #:--------(after a certain version : >=3.7 )\n",
    "2 Mutable # LSD\n",
    "3 \"Doesn't Allow dupliucates\"\n",
    "\n",
    "D3 = {'b': 'second', 'c': 'third', 100: 100}\n",
    "list(D3)"
   ]
  },
  {
   "cell_type": "code",
   "execution_count": 102,
   "id": "75395cc7",
   "metadata": {},
   "outputs": [
    {
     "data": {
      "text/plain": [
       "('b', 'c', 100)"
      ]
     },
     "execution_count": 102,
     "metadata": {},
     "output_type": "execute_result"
    }
   ],
   "source": [
    "D3 = {'b': 'second', 'c': 'third', 100: 100}\n",
    "list(D3) ## list will return list of keys\n",
    "tuple(D3)"
   ]
  },
  {
   "cell_type": "code",
   "execution_count": 101,
   "id": "3e2a6288",
   "metadata": {},
   "outputs": [
    {
     "data": {
      "text/plain": [
       "False"
      ]
     },
     "execution_count": 101,
     "metadata": {},
     "output_type": "execute_result"
    }
   ],
   "source": [
    "# membership ooperator\n",
    "\n",
    "D3 = {'b': 'second', 'c': 'third', 100: [100,200]}\n",
    "\n",
    "100 in D3\n",
    "'third' in D3  ## M operator only searches for keys"
   ]
  },
  {
   "cell_type": "code",
   "execution_count": 111,
   "id": "52c67c8e",
   "metadata": {},
   "outputs": [
    {
     "data": {
      "text/plain": [
       "{'b': {'B': 'UPPER', 66: 'ord'}, 'c': 'third', 100: [100, 200]}"
      ]
     },
     "execution_count": 111,
     "metadata": {},
     "output_type": "execute_result"
    }
   ],
   "source": [
    "# Nested dictionries\n",
    "\n",
    "D4 = {'b': {'B': 'UPPER',66:'ord'}, 'c': 'third', 100: [100,200]}\n",
    "D4"
   ]
  },
  {
   "cell_type": "code",
   "execution_count": 112,
   "id": "0ca84795",
   "metadata": {},
   "outputs": [
    {
     "data": {
      "text/plain": [
       "{'b': {'B': 'UPPER', 66: ''}, 'c': 'third', 100: [100, 200]}"
      ]
     },
     "execution_count": 112,
     "metadata": {},
     "output_type": "execute_result"
    }
   ],
   "source": [
    "#get the ord from nested dict\n",
    "\n",
    "D4['b'][66] = ''\n",
    "D4"
   ]
  },
  {
   "cell_type": "markdown",
   "id": "8c826d2c",
   "metadata": {},
   "source": [
    "### methods"
   ]
  },
  {
   "cell_type": "code",
   "execution_count": 109,
   "id": "9bcbb9aa",
   "metadata": {},
   "outputs": [
    {
     "data": {
      "text/plain": [
       "{}"
      ]
     },
     "execution_count": 109,
     "metadata": {},
     "output_type": "execute_result"
    }
   ],
   "source": [
    "\n",
    "\n",
    "D5 = D4.copy()\n",
    "D4.clear()\n",
    "\n",
    "D5\n",
    "\n",
    "# Questions: diff b/w clear() and del"
   ]
  },
  {
   "cell_type": "code",
   "execution_count": 117,
   "id": "b4182a33",
   "metadata": {},
   "outputs": [
    {
     "data": {
      "text/plain": [
       "dict_keys(['B', 66])"
      ]
     },
     "execution_count": 117,
     "metadata": {},
     "output_type": "execute_result"
    }
   ],
   "source": [
    "# We have to understand. : keys, values, items\n",
    "# keys() wil return all the keys in as a list\n",
    "D5 = {'b': {'B': 'UPPER',66:'ord'}, 'c': 'third', 100: [100,200]}\n",
    "D5.keys()\n",
    "\n",
    "D5['b'].keys()"
   ]
  },
  {
   "cell_type": "code",
   "execution_count": 118,
   "id": "2dd18ebf",
   "metadata": {},
   "outputs": [
    {
     "data": {
      "text/plain": [
       "dict_values([{'B': 'UPPER', 66: 'ord'}, 'third', [100, 200]])"
      ]
     },
     "execution_count": 118,
     "metadata": {},
     "output_type": "execute_result"
    }
   ],
   "source": [
    "# values()\n",
    "D5.values()\n",
    "# values() wil return all the keys in as a list\n"
   ]
  },
  {
   "cell_type": "code",
   "execution_count": 119,
   "id": "36a59bf9",
   "metadata": {},
   "outputs": [
    {
     "data": {
      "text/plain": [
       "dict_items([('b', {'B': 'UPPER', 66: 'ord'}), ('c', 'third'), (100, [100, 200])])"
      ]
     },
     "execution_count": 119,
     "metadata": {},
     "output_type": "execute_result"
    }
   ],
   "source": [
    "D5.items()\n",
    "# items()   returns key value as a pair"
   ]
  },
  {
   "cell_type": "code",
   "execution_count": 122,
   "id": "edc6ccb6",
   "metadata": {},
   "outputs": [
    {
     "ename": "KeyError",
     "evalue": "'b'",
     "output_type": "error",
     "traceback": [
      "\u001b[0;31m---------------------------------------------------------------------------\u001b[0m",
      "\u001b[0;31mKeyError\u001b[0m                                  Traceback (most recent call last)",
      "\u001b[0;32m<ipython-input-122-8cc0f34f4fe1>\u001b[0m in \u001b[0;36m<module>\u001b[0;34m\u001b[0m\n\u001b[0;32m----> 1\u001b[0;31m \u001b[0mD5\u001b[0m\u001b[0;34m.\u001b[0m\u001b[0mpop\u001b[0m\u001b[0;34m(\u001b[0m\u001b[0;34m'b'\u001b[0m\u001b[0;34m)\u001b[0m\u001b[0;34m\u001b[0m\u001b[0m\n\u001b[0m\u001b[1;32m      2\u001b[0m \u001b[0;34m\u001b[0m\u001b[0m\n\u001b[1;32m      3\u001b[0m \u001b[0;31m# pop() in dictionaries takes one argument -that is key, nothing by default\u001b[0m\u001b[0;34m\u001b[0m\u001b[0;34m\u001b[0m\u001b[0m\n\u001b[1;32m      4\u001b[0m \u001b[0;34m\u001b[0m\u001b[0m\n\u001b[1;32m      5\u001b[0m \u001b[0mD5\u001b[0m\u001b[0;34m\u001b[0m\u001b[0m\n",
      "\u001b[0;31mKeyError\u001b[0m: 'b'"
     ]
    }
   ],
   "source": [
    "D6 = {'b': {'B': 'UPPER',66:'ord'}, 'c': 'third', 100: [100,200]}\n",
    "D6.pop('b')\n",
    "\n",
    "# pop() in dictionaries takes one argument -that is key, nothing by default\n",
    "\n",
    "D6\n",
    "\n",
    "\n"
   ]
  },
  {
   "cell_type": "code",
   "execution_count": 123,
   "id": "0a9dfab9",
   "metadata": {},
   "outputs": [
    {
     "data": {
      "text/plain": [
       "{'b': {'B': 'UPPER', 66: 'ord'}, 'c': 'third'}"
      ]
     },
     "execution_count": 123,
     "metadata": {},
     "output_type": "execute_result"
    }
   ],
   "source": [
    "D6 = {'b': {'B': 'UPPER',66:'ord'}, 'c': 'third', 100: [100,200]}\n",
    "D6.popitem()\n",
    "\n",
    "\n",
    "# popitem() will remove the last elementin dictionaries\n",
    "\n",
    "\n",
    "D6"
   ]
  },
  {
   "cell_type": "code",
   "execution_count": 126,
   "id": "2042289d",
   "metadata": {},
   "outputs": [
    {
     "name": "stdout",
     "output_type": "stream",
     "text": [
      "<class 'dict_keys'>\n"
     ]
    },
    {
     "ename": "TypeError",
     "evalue": "'dict_keys' object does not support indexing",
     "output_type": "error",
     "traceback": [
      "\u001b[0;31m---------------------------------------------------------------------------\u001b[0m",
      "\u001b[0;31mTypeError\u001b[0m                                 Traceback (most recent call last)",
      "\u001b[0;32m<ipython-input-126-e6cf990dadd5>\u001b[0m in \u001b[0;36m<module>\u001b[0;34m\u001b[0m\n\u001b[1;32m      3\u001b[0m \u001b[0mprint\u001b[0m\u001b[0;34m(\u001b[0m\u001b[0mtype\u001b[0m\u001b[0;34m(\u001b[0m\u001b[0mD5\u001b[0m\u001b[0;34m.\u001b[0m\u001b[0mkeys\u001b[0m\u001b[0;34m(\u001b[0m\u001b[0;34m)\u001b[0m\u001b[0;34m)\u001b[0m\u001b[0;34m)\u001b[0m\u001b[0;34m\u001b[0m\u001b[0m\n\u001b[1;32m      4\u001b[0m \u001b[0;34m\u001b[0m\u001b[0m\n\u001b[0;32m----> 5\u001b[0;31m \u001b[0mD5\u001b[0m\u001b[0;34m.\u001b[0m\u001b[0mkeys\u001b[0m\u001b[0;34m(\u001b[0m\u001b[0;34m)\u001b[0m\u001b[0;34m[\u001b[0m\u001b[0;36m1\u001b[0m\u001b[0;34m]\u001b[0m\u001b[0;34m\u001b[0m\u001b[0m\n\u001b[0m",
      "\u001b[0;31mTypeError\u001b[0m: 'dict_keys' object does not support indexing"
     ]
    }
   ],
   "source": [
    "D5 = {'b': {'B': 'UPPER',66:'ord'}, 'c': 'third', 100: [100,200]}\n",
    "\n",
    "print(type(D5.keys()))\n",
    "\n",
    "D5.keys()"
   ]
  },
  {
   "cell_type": "code",
   "execution_count": 135,
   "id": "4871c1f4",
   "metadata": {},
   "outputs": [
    {
     "data": {
      "text/plain": [
       "'The thing that youarelooking for is not here'"
      ]
     },
     "execution_count": 135,
     "metadata": {},
     "output_type": "execute_result"
    }
   ],
   "source": [
    "# get() also works to access values of a dictionary with the help of keys\n",
    "\n",
    "D7 = {'b': {'B': 'UPPER',66:'ord'}, 'c': 'third', 100: [100,200]}\n",
    "\n",
    "D7.get(200,'The thing that you are looking for is not here')\n",
    "\n",
    "\n",
    "#if arg1 in Dict:\n",
    "    #print value\n",
    "    \n",
    "#else:\n",
    "    #print cutomised message\n",
    "    \n",
    "# get does not throw an error because of which programmes do not face interruptions\n",
    "\n",
    "\n"
   ]
  },
  {
   "cell_type": "code",
   "execution_count": 138,
   "id": "c7dc2488",
   "metadata": {},
   "outputs": [
    {
     "data": {
      "text/plain": [
       "{'watsapp': 1, 'telegram': 2, 'hike': 3, 'snap': 4}"
      ]
     },
     "execution_count": 138,
     "metadata": {},
     "output_type": "execute_result"
    }
   ],
   "source": [
    "#setdefault()\n",
    "\n",
    "# return the value of key else insert the key to dictionary\n",
    "# if value not given for the key, None object will be inserted\n",
    "\n",
    "\n",
    "# if key is present:\n",
    "       # no change\n",
    "    \n",
    " #else:\n",
    "     #add a new pair\n",
    "\n",
    "\n",
    "PC = {'watsapp':1,'telegram':2,'hike':3}\n",
    "\n",
    "PC.setdefault('hike',4)\n",
    "\n",
    "PC\n",
    "\n",
    "\n",
    "PC.setdefault('snap',4)\n",
    "\n",
    "PC\n",
    "\n",
    "PC['hike']  = 4"
   ]
  },
  {
   "cell_type": "code",
   "execution_count": null,
   "id": "9143a6d8",
   "metadata": {},
   "outputs": [],
   "source": [
    "Question:\n",
    "    \n",
    "    \n",
    "#Write a piece of code to calculate freq of each item/char in a string stored n dictionary\n",
    "\n",
    "S1 = 'I like antarctica but it is cold, I like sahara but it is hot hence I stay at home'\n",
    "\n",
    "\n",
    "create an empty dict\n",
    "Hint :  (1) if element is already in dict: +=1\n",
    "        (2) if it is not : make it =1\n",
    "    \n",
    "    \n",
    "    \n",
    "    "
   ]
  },
  {
   "cell_type": "code",
   "execution_count": 139,
   "id": "c8040a47",
   "metadata": {},
   "outputs": [
    {
     "data": {
      "text/plain": [
       "{'I': 3,\n",
       " ' ': 18,\n",
       " 'l': 3,\n",
       " 'i': 7,\n",
       " 'k': 2,\n",
       " 'e': 5,\n",
       " 'a': 8,\n",
       " 'n': 2,\n",
       " 't': 9,\n",
       " 'r': 2,\n",
       " 'c': 4,\n",
       " 'b': 2,\n",
       " 'u': 2,\n",
       " 's': 4,\n",
       " 'o': 3,\n",
       " 'd': 1,\n",
       " ',': 1,\n",
       " 'h': 4,\n",
       " 'y': 1,\n",
       " 'm': 1}"
      ]
     },
     "execution_count": 139,
     "metadata": {},
     "output_type": "execute_result"
    }
   ],
   "source": [
    "NOW = {}\n",
    "\n",
    "S1 = 'I like antarctica but it is cold, I like sahara but it is hot hence I stay at home'\n",
    "\n",
    "for i in S1:\n",
    "    \n",
    "    if i in NOW:\n",
    "        NOW[i]+=1  ##### this is to increment the number\n",
    "    else:\n",
    "        NOW[i]=1  ##### this is to create a key and value pair\n",
    "        \n",
    "NOW\n"
   ]
  },
  {
   "cell_type": "code",
   "execution_count": 141,
   "id": "39693bcf",
   "metadata": {},
   "outputs": [
    {
     "data": {
      "text/plain": [
       "False"
      ]
     },
     "execution_count": 141,
     "metadata": {},
     "output_type": "execute_result"
    }
   ],
   "source": [
    "i = 'I'\n",
    "\n",
    "NOW = {}\n",
    "\n",
    "'I' in NOW\n",
    "\n",
    "NOW['I'] = 1"
   ]
  },
  {
   "cell_type": "code",
   "execution_count": 142,
   "id": "c26cf5df",
   "metadata": {},
   "outputs": [
    {
     "data": {
      "text/plain": [
       "{'I': 2}"
      ]
     },
     "execution_count": 142,
     "metadata": {},
     "output_type": "execute_result"
    }
   ],
   "source": [
    "NOW['I'] = 1\n",
    "NOW['I']+=1\n",
    "\n",
    "NOW"
   ]
  },
  {
   "cell_type": "code",
   "execution_count": 144,
   "id": "5e96ac4c",
   "metadata": {},
   "outputs": [
    {
     "data": {
      "text/plain": [
       "{4: 'f'}"
      ]
     },
     "execution_count": 144,
     "metadata": {},
     "output_type": "execute_result"
    }
   ],
   "source": [
    "# for a key if vlues are fighting last assignment wins\n",
    "D = {}\n",
    "\n",
    "D[4] = 'F'\n",
    "D[4] = 'f'# updating\n",
    "print(D)\n",
    "\n",
    "D = {4:'f',4:'F'}\n",
    "D"
   ]
  },
  {
   "cell_type": "code",
   "execution_count": 148,
   "id": "6a409a86",
   "metadata": {},
   "outputs": [
    {
     "data": {
      "text/plain": [
       "{'watsapp': 1, 'telegram': 2, 'hike': 3, 'insta': None}"
      ]
     },
     "execution_count": 148,
     "metadata": {},
     "output_type": "execute_result"
    }
   ],
   "source": [
    "PC = {'watsapp':1,'telegram':2,'hike':3}\n",
    "\n",
    "PC.setdefault('insta')\n",
    "\n",
    "PC"
   ]
  },
  {
   "cell_type": "code",
   "execution_count": 150,
   "id": "50e238b0",
   "metadata": {},
   "outputs": [
    {
     "data": {
      "text/plain": [
       "5"
      ]
     },
     "execution_count": 150,
     "metadata": {},
     "output_type": "execute_result"
    }
   ],
   "source": [
    "basket = 'cauliflower'\n",
    "\n",
    "S= set('aeiouAEIOU')\n",
    "\n",
    "# Code that prints no of vowels in the string\n",
    "\n",
    "V = 0\n",
    "for i in basket:\n",
    "    if i in S:\n",
    "        V=V+1\n",
    "    else:\n",
    "        pass\n",
    "\n",
    "V\n"
   ]
  },
  {
   "cell_type": "code",
   "execution_count": null,
   "id": "522e8639",
   "metadata": {},
   "outputs": [],
   "source": [
    "#basket = ['cauliflower','capsicum','pineapple','apple','mushroom','banana']\n",
    "\n",
    "#Create a dictionary such that\n",
    "\n",
    "#{name of fruit: no of vowels}"
   ]
  },
  {
   "cell_type": "code",
   "execution_count": null,
   "id": "460332e9",
   "metadata": {},
   "outputs": [],
   "source": []
  }
 ],
 "metadata": {
  "kernelspec": {
   "display_name": "Python 3",
   "language": "python",
   "name": "python3"
  },
  "language_info": {
   "codemirror_mode": {
    "name": "ipython",
    "version": 3
   },
   "file_extension": ".py",
   "mimetype": "text/x-python",
   "name": "python",
   "nbconvert_exporter": "python",
   "pygments_lexer": "ipython3",
   "version": "3.6.2"
  }
 },
 "nbformat": 4,
 "nbformat_minor": 5
}
