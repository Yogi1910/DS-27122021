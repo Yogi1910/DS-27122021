{
 "cells": [
  {
   "cell_type": "code",
   "execution_count": 18,
   "id": "38761b2a",
   "metadata": {},
   "outputs": [
    {
     "name": "stdout",
     "output_type": "stream",
     "text": [
      "16\n",
      "50\n",
      "9\n",
      "[115, 1, 30, 1, 54, 1, 54, 1, 26]\n"
     ]
    }
   ],
   "source": [
    "#readlines()\n",
    "#read()\n",
    "#readline()\n",
    "\n",
    "def noun(string):\n",
    "    n=0\n",
    "    for i in string:\n",
    "        if i.istitle():\n",
    "            n+=1\n",
    "            \n",
    "    return n\n",
    "        \n",
    "        \n",
    "\n",
    "\n",
    "\n",
    "with open('python.txt','r') as ape:\n",
    "    \n",
    "    char = []\n",
    "    \n",
    "    x = ape.read()\n",
    "    print(x.count('Python')+ x.count('python'))\n",
    "    \n",
    "    print(noun(x))\n",
    "    \n",
    "    ape.seek(0,0)\n",
    "    \n",
    "    print(len(ape.readlines()))\n",
    "    \n",
    "    ape.seek(0,0)\n",
    "    \n",
    "    for i in ape.readlines():\n",
    "        \n",
    "        char.append(len(i.split(' '))+1)\n",
    "        \n",
    "    \n",
    "    print(char)\n",
    "    \n",
    "    \n",
    "# Assignment\n",
    "\n",
    "#1. How many times python is appearing?\n",
    "#2. How many nouns are there?\n",
    "#3. how mnay lines have Python.txt?\n",
    "#4. No of char in each line?\n",
    "\n"
   ]
  },
  {
   "cell_type": "code",
   "execution_count": 2,
   "id": "21cbfefa",
   "metadata": {},
   "outputs": [
    {
     "name": "stdout",
     "output_type": "stream",
     "text": [
      "one\\ntwo\n"
     ]
    }
   ],
   "source": [
    "# raw string : r charatcter (r'portal) stand for raw\n",
    "# it doesn't interpret the \\ character as an exscape character\n",
    "\n",
    "s = r'one\\ntwo'\n",
    "\n",
    "print(s)"
   ]
  },
  {
   "cell_type": "code",
   "execution_count": 19,
   "id": "21049956",
   "metadata": {},
   "outputs": [
    {
     "data": {
      "text/plain": [
       "'Python was conceived in the late 1980s[39] by Guido van Rossum at Centrum Wiskunde & Informatica (CWI) in the Netherlands as a successor to the ABC programming language, which was inspired by SETL,[40] capable of exception handling and interfacing with the Amoeba operating system.[10] Its implementation began in December 1989.[41] Van Rossum shouldered sole responsibility for the project, as the lead developer, until 12 July 2018, when he announced his \"permanent vacation\" from his responsibilities as Python\\'s \"benevolent dictator for life\", a title the Python community bestowed upon him to reflect his long-term commitment as the project\\'s chief decision-maker.[42] In January 2019, active Python core developers elected a five-member \"Steering Council\" to lead the project.[43][44]\\n\\nPython 2.0 was released on 16 October 2000, with many major new features, including a cycle-detecting garbage collector (in addition to reference counting) for memory management and support for Unicode.[45]\\n\\nPython 3.0 was released on 3 December 2008. It was a major revision of the language that is not completely backward-compatible.[46] Many of its major features were backported to Python 2.6.x[47] and 2.7.x version series. Releases of Python 3 include the 2to3 utility, which automates the translation of Python 2 code to Python 3.[48]\\n\\nPython 2.7\\'s end-of-life date was initially set at 2015 then postponed to 2020 out of concern that a large body of existing code could not easily be forward-ported to Python 3.[49][50] No more security patches or other improvements will be released for it.[51][52] With Python 2\\'s end-of-life, only Python 3.6.x[53] and later are supported.\\n\\nPython 3.9.2 and 3.8.8 were expedited[54] as all versions of Python (including 2.7[55]) had security issues, leading to possible remote code execution[56] and web cache poisoning.[57]'"
      ]
     },
     "execution_count": 19,
     "metadata": {},
     "output_type": "execute_result"
    }
   ],
   "source": [
    "x"
   ]
  },
  {
   "cell_type": "code",
   "execution_count": 21,
   "id": "713fcd8c",
   "metadata": {},
   "outputs": [
    {
     "data": {
      "text/plain": [
       "4"
      ]
     },
     "execution_count": 21,
     "metadata": {},
     "output_type": "execute_result"
    }
   ],
   "source": [
    "'How many nouns are there?'.split(' ')\n",
    "\n",
    "'How many nouns are there?'.count(' ')"
   ]
  },
  {
   "cell_type": "markdown",
   "id": "127733ec",
   "metadata": {},
   "source": [
    "### Regex"
   ]
  },
  {
   "cell_type": "code",
   "execution_count": null,
   "id": "de04a0ee",
   "metadata": {},
   "outputs": [],
   "source": [
    "#search pattern \n",
    "\n"
   ]
  },
  {
   "cell_type": "code",
   "execution_count": 22,
   "id": "2d0cc6c7",
   "metadata": {},
   "outputs": [
    {
     "data": {
      "text/plain": [
       "<_sre.SRE_Match object; span=(3, 6), match='ish'>"
      ]
     },
     "execution_count": 22,
     "metadata": {},
     "output_type": "execute_result"
    }
   ],
   "source": [
    "import re\n",
    "\n",
    "search_string = 'Athish'\n",
    "\n",
    "re.search('ish',search_string)"
   ]
  },
  {
   "cell_type": "code",
   "execution_count": null,
   "id": "7e69a5fa",
   "metadata": {},
   "outputs": [],
   "source": []
  },
  {
   "cell_type": "code",
   "execution_count": 3,
   "id": "a17bb5ae",
   "metadata": {},
   "outputs": [
    {
     "data": {
      "text/plain": [
       "()"
      ]
     },
     "execution_count": 3,
     "metadata": {},
     "output_type": "execute_result"
    }
   ],
   "source": [
    "# Validating phone number in Python\n",
    "# Validating PAN number\n",
    "\n"
   ]
  },
  {
   "cell_type": "markdown",
   "id": "12cd0565",
   "metadata": {},
   "source": [
    "#### metacharacters"
   ]
  },
  {
   "cell_type": "code",
   "execution_count": null,
   "id": "d1ab9b1d",
   "metadata": {},
   "outputs": [],
   "source": [
    "dot  .    -------   any/all character (\\n doesn't match)\n",
    "                                  \n",
    "caret ^    ------- starts with\n",
    "                                       \n",
    "$         -------  ends with \n",
    "                                       \n",
    "+          ------- one or more occurances \n",
    "                                       \n",
    "?         -------  zero or more occurances \n",
    "                                       \n",
    "{}        ------- speific number of occurences\n",
    "                                       \n",
    "           ------- {2,5} any number of occurances between 2 and 5.\n",
    "                                       \n",
    "|        ------  either or"
   ]
  },
  {
   "cell_type": "code",
   "execution_count": 47,
   "id": "9eafba25",
   "metadata": {},
   "outputs": [
    {
     "name": "stdout",
     "output_type": "stream",
     "text": [
      "<_sre.SRE_Match object; span=(1, 2), match='A'>\n",
      "None\n",
      "None\n",
      "<_sre.SRE_Match object; span=(0, 1), match='@'>\n"
     ]
    }
   ],
   "source": [
    "L = ['aAtHish','athiisH','athiiish','@thish']\n",
    "\n",
    "\n",
    "for i in L:\n",
    "    \n",
    "    #print(re.search('^A', i ))\n",
    "    #print(re.search('H$', i ))\n",
    "    #print(re.search('i+', i ))\n",
    "    #print(re.search('z?', i ))\n",
    "    #print(re.search('i{4}', i ))\n",
    "    #print(re.search('i{2,5}', i ))\n",
    "     print(re.search('@|A', i ))\n",
    "    \n",
    "\n"
   ]
  },
  {
   "cell_type": "code",
   "execution_count": null,
   "id": "e64ae71f",
   "metadata": {},
   "outputs": [],
   "source": [
    "### Multiple charatcer or set of characters\n",
    "\n",
    "[adg]   =  a or d or g\n",
    "\n",
    "[a-d]      from a to d--a or b or c or d\n",
    "\n",
    "^[i-l]  \n",
    "\n",
    "[0123]      0 or 1 or 2 or 3\n",
    "\n",
    "[0-3]       0 or 1 or 2 or 3\n",
    "\n",
    "[2-5][3-6]  will check for 2 occurances of digits --2 to 5-- and --3 to 6--\n",
    " \n",
    "[A-Z][a-z]  A-Z before a-z\n",
    "\n",
    "[A-Za-z]    either A-Z or a-z\n",
    "\n",
    "[.]\n",
    "\n"
   ]
  },
  {
   "cell_type": "code",
   "execution_count": 82,
   "id": "06c56d0e",
   "metadata": {},
   "outputs": [
    {
     "name": "stdout",
     "output_type": "stream",
     "text": [
      "None\n",
      "None\n",
      "None\n",
      "None\n",
      "None\n",
      "None\n",
      "None\n"
     ]
    }
   ],
   "source": [
    "L1 = ['1Apple','Lichi','kiwi','1papaya','pear2335','dragon3','mango.']\n",
    "\n",
    "for i in L1:\n",
    "    \n",
    "     #print(re.search('[apy]', i ))\n",
    "     #print(re.search('[m-o]', i ))\n",
    "     #print(re.search('^[i-l]', i ))\n",
    "     #print(re.search('[0123]', i ))\n",
    "     #print(re.search('[0-3]', i ))\n",
    "     #print(re.search('pear[2-5][3-6]', i ))\n",
    "     #print(re.search('[A-Z][a-z]...', i ))\n",
    "      #print(re.search('^[A-Za-z]', i ))\n",
    "      print(re.search('[.]', i ))\n",
    "    "
   ]
  },
  {
   "cell_type": "markdown",
   "id": "7e31b3e7",
   "metadata": {},
   "source": [
    "### special sequences"
   ]
  },
  {
   "cell_type": "code",
   "execution_count": 95,
   "id": "27764454",
   "metadata": {},
   "outputs": [
    {
     "ename": "SyntaxError",
     "evalue": "EOL while scanning string literal (<ipython-input-95-c3dd0b4e9920>, line 1)",
     "output_type": "error",
     "traceback": [
      "\u001b[0;36m  File \u001b[0;32m\"<ipython-input-95-c3dd0b4e9920>\"\u001b[0;36m, line \u001b[0;32m1\u001b[0m\n\u001b[0;31m    '\\' generally in python changes the meaning of chracter that follows\u001b[0m\n\u001b[0m                                                                        ^\u001b[0m\n\u001b[0;31mSyntaxError\u001b[0m\u001b[0;31m:\u001b[0m EOL while scanning string literal\n"
     ]
    }
   ],
   "source": [
    "'\\' generally in python changes the meaning of chracter that follows\n",
    "\n",
    "'\\n'\n",
    "\n",
    "\n",
    "\\A =  if specified charater us at the beginning\n",
    "\n",
    "\\B =  present but not at the begining\n",
    "\n",
    "\\d = if the string contains digits\n",
    "\n",
    "\\D =  if the string does not contain any digit\n",
    "\n",
    "\\s = whitespace charater\n",
    "\n",
    "\\S = does not contain white space characters\n",
    "\n",
    "\\z = match if specified character is at last"
   ]
  },
  {
   "cell_type": "code",
   "execution_count": 112,
   "id": "b9afa218",
   "metadata": {},
   "outputs": [
    {
     "name": "stdout",
     "output_type": "stream",
     "text": [
      "<_sre.SRE_Match object; span=(10, 11), match='i'>\n",
      "<_sre.SRE_Match object; span=(4, 5), match='i'>\n",
      "<_sre.SRE_Match object; span=(3, 4), match='i'>\n",
      "None\n",
      "None\n",
      "None\n",
      "None\n",
      "None\n",
      "None\n"
     ]
    }
   ],
   "source": [
    "L2 = ['1Apple kiwi','Lichi','kiwi','1papaya','pear2335','dragon3','mango.','345','@ME']\n",
    "\n",
    "for i in L2:\n",
    "    \n",
    "     #print(re.search('\\Ak', i ))\n",
    "     #print(re.search('\\Bp', i ))\n",
    "     #print(re.search('\\d', i ))\n",
    "     #print(re.search('\\d{1}', i ))\n",
    "      #print(i.isalnum())\n",
    "     #print(re.search('\\D', i ))\n",
    "      #print(re.search('\\s', i ))\n",
    "      #print(re.search('\\S', i ))\n",
    "      #print(re.search('i\\Z', i ))\n",
    "      #print(re.search('[.]', i ))\n",
    "    "
   ]
  },
  {
   "cell_type": "code",
   "execution_count": 118,
   "id": "90528225",
   "metadata": {},
   "outputs": [
    {
     "name": "stdout",
     "output_type": "stream",
     "text": [
      "match\n"
     ]
    }
   ],
   "source": [
    "#Question :  match if the input but the user is a PAN card or not?\n",
    "\n",
    "PAN =   'ABCDE9123A'\n",
    "    \n",
    "import re    \n",
    "\n",
    "\n",
    "if re.search('[A-Z]{5}[0-9]{4}[A-Z]',PAN):\n",
    "    \n",
    "    print('match')"
   ]
  },
  {
   "cell_type": "code",
   "execution_count": 121,
   "id": "54b571de",
   "metadata": {},
   "outputs": [
    {
     "name": "stdout",
     "output_type": "stream",
     "text": [
      "match\n"
     ]
    }
   ],
   "source": [
    "PAN =   'ABCDE9123A'\n",
    "\n",
    "if re.search('[A-Z]+[0-9]+[A-Z]$',PAN):\n",
    "    \n",
    "    print('match')\n",
    "\n"
   ]
  },
  {
   "cell_type": "code",
   "execution_count": 123,
   "id": "cf9fad15",
   "metadata": {},
   "outputs": [
    {
     "name": "stdout",
     "output_type": "stream",
     "text": [
      "Enter the numberABCDE91239\n",
      "No match\n"
     ]
    }
   ],
   "source": [
    "a=input(\"Enter the number\")\n",
    "\n",
    "import re\n",
    "\n",
    "if re.search('[A-Z]{5}[0-9]{4}[A-Z]',a):\n",
    "    print('Match')\n",
    "else:\n",
    "    print('No match')\n"
   ]
  },
  {
   "cell_type": "code",
   "execution_count": null,
   "id": "e1bcee54",
   "metadata": {},
   "outputs": [],
   "source": [
    "# Question check if a number is mobile number in india\n",
    "\n",
    "number should start form 6 7 8 9\n",
    "and it should have 10 digits\n",
    "no alphabets\n",
    "\n",
    "\n"
   ]
  },
  {
   "cell_type": "code",
   "execution_count": 4,
   "id": "37eece57",
   "metadata": {},
   "outputs": [
    {
     "name": "stdout",
     "output_type": "stream",
     "text": [
      "match\n"
     ]
    }
   ],
   "source": [
    "mobile =   '9967546534'\n",
    "\n",
    "s = '^[6-9][0-9]{9}'\n",
    "\n",
    "import re\n",
    "\n",
    "if re.search(s, mobile):\n",
    "    \n",
    "    print('match')"
   ]
  },
  {
   "cell_type": "code",
   "execution_count": 142,
   "id": "c9957cbd",
   "metadata": {},
   "outputs": [],
   "source": [
    "re.search('s', mobile)"
   ]
  },
  {
   "cell_type": "code",
   "execution_count": 144,
   "id": "8a66f269",
   "metadata": {},
   "outputs": [
    {
     "data": {
      "text/plain": [
       "'9967546534'"
      ]
     },
     "execution_count": 144,
     "metadata": {},
     "output_type": "execute_result"
    }
   ],
   "source": [
    "mobile"
   ]
  },
  {
   "cell_type": "code",
   "execution_count": null,
   "id": "6aff1905",
   "metadata": {},
   "outputs": [],
   "source": [
    "#Question :\n",
    "    \n",
    "VISA card.  \n",
    "\n",
    "if 13 digit then middle char  = alphabet{1}\n",
    "if 14 digit all numeric\n",
    "should start from 4 or 5\n"
   ]
  }
 ],
 "metadata": {
  "kernelspec": {
   "display_name": "Python 3",
   "language": "python",
   "name": "python3"
  },
  "language_info": {
   "codemirror_mode": {
    "name": "ipython",
    "version": 3
   },
   "file_extension": ".py",
   "mimetype": "text/x-python",
   "name": "python",
   "nbconvert_exporter": "python",
   "pygments_lexer": "ipython3",
   "version": "3.6.2"
  }
 },
 "nbformat": 4,
 "nbformat_minor": 5
}
