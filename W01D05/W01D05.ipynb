{
 "cells": [
  {
   "cell_type": "code",
   "execution_count": null,
   "id": "0293f847",
   "metadata": {},
   "outputs": [],
   "source": [
    "# spaces may matter when you are worried about indentation, defining string\n",
    "# Can tuple inside a list be edited? ---N\n",
    "# Can a list inside a tuple be edited? --Y\n",
    "\n",
    "# LSD   mutuable"
   ]
  },
  {
   "cell_type": "code",
   "execution_count": 32,
   "id": "d4872aa5",
   "metadata": {},
   "outputs": [
    {
     "ename": "TypeError",
     "evalue": "'tuple' object does not support item assignment",
     "output_type": "error",
     "traceback": [
      "\u001b[0;31m---------------------------------------------------------------------------\u001b[0m",
      "\u001b[0;31mTypeError\u001b[0m                                 Traceback (most recent call last)",
      "\u001b[0;32m<ipython-input-32-5540731c8885>\u001b[0m in \u001b[0;36m<module>\u001b[0;34m\u001b[0m\n\u001b[1;32m      1\u001b[0m \u001b[0mA\u001b[0m \u001b[0;34m=\u001b[0m \u001b[0;34m[\u001b[0m\u001b[0;36m1\u001b[0m\u001b[0;34m,\u001b[0m\u001b[0;34m(\u001b[0m\u001b[0;36m2\u001b[0m\u001b[0;34m,\u001b[0m\u001b[0;36m3\u001b[0m\u001b[0;34m)\u001b[0m\u001b[0;34m]\u001b[0m\u001b[0;34m\u001b[0m\u001b[0m\n\u001b[1;32m      2\u001b[0m \u001b[0;34m\u001b[0m\u001b[0m\n\u001b[0;32m----> 3\u001b[0;31m \u001b[0mA\u001b[0m\u001b[0;34m[\u001b[0m\u001b[0;36m1\u001b[0m\u001b[0;34m]\u001b[0m\u001b[0;34m[\u001b[0m\u001b[0;36m0\u001b[0m\u001b[0;34m]\u001b[0m \u001b[0;34m=\u001b[0m \u001b[0;36m20\u001b[0m\u001b[0;34m\u001b[0m\u001b[0m\n\u001b[0m",
      "\u001b[0;31mTypeError\u001b[0m: 'tuple' object does not support item assignment"
     ]
    }
   ],
   "source": [
    "A = [1,(2,3)]\n",
    "\n",
    "A[1][0] = 20"
   ]
  },
  {
   "cell_type": "code",
   "execution_count": 40,
   "id": "04be2e65",
   "metadata": {},
   "outputs": [],
   "source": [
    "a = [3,4,5]\n",
    "b = [3,4,5]"
   ]
  },
  {
   "cell_type": "code",
   "execution_count": 41,
   "id": "1e1a3606",
   "metadata": {},
   "outputs": [
    {
     "name": "stdout",
     "output_type": "stream",
     "text": [
      "False\n"
     ]
    }
   ],
   "source": [
    "print(id(a)==id(b))"
   ]
  },
  {
   "cell_type": "code",
   "execution_count": 55,
   "id": "3975e3eb",
   "metadata": {},
   "outputs": [
    {
     "name": "stdout",
     "output_type": "stream",
     "text": [
      "4297645056 4297645056\n",
      "4380671768 4380670616\n"
     ]
    }
   ],
   "source": [
    "# why does it not happen for intergers and strings\n",
    "# exceptions: ---  integers from -5 to 256\n",
    "#           : ---  strings for a certain length\n",
    "\n",
    "# python is optimized in such a manner that few int and str have pre defined objects.\n",
    "\n",
    "a = 256\n",
    "b = 256\n",
    "\n",
    "print(id(a),id(b))\n",
    "\n",
    "A = 'a'\n",
    "B = 'a'\n",
    "\n",
    "A = 'a'*21\n",
    "B = 'a'*21\n",
    "print(id(A),id(B))\n",
    "\n"
   ]
  },
  {
   "cell_type": "code",
   "execution_count": 49,
   "id": "aaf5fd58",
   "metadata": {},
   "outputs": [
    {
     "data": {
      "text/plain": [
       "'appleappleappleappleappleappleappleappleappleappleappleappleappleappleappleappleappleappleappleapple'"
      ]
     },
     "execution_count": 49,
     "metadata": {},
     "output_type": "execute_result"
    }
   ],
   "source": [
    "'a'*20"
   ]
  },
  {
   "cell_type": "code",
   "execution_count": 57,
   "id": "013b3181",
   "metadata": {},
   "outputs": [
    {
     "name": "stdout",
     "output_type": "stream",
     "text": [
      "1000\n",
      "False\n"
     ]
    }
   ],
   "source": [
    "L1 = [1000,2,3]\n",
    "L2 = [1000,2,3]\n",
    "print(L1[0])\n",
    "print(id(L1[0])==id(L2[0]))"
   ]
  },
  {
   "cell_type": "markdown",
   "id": "9c53df36",
   "metadata": {},
   "source": [
    "## Operators"
   ]
  },
  {
   "cell_type": "markdown",
   "id": "c969b39e",
   "metadata": {},
   "source": [
    "### Comparison"
   ]
  },
  {
   "cell_type": "code",
   "execution_count": null,
   "id": "0f103c80",
   "metadata": {},
   "outputs": [],
   "source": [
    "1) == # eqaul to --We try to find if values are equal or not\n",
    "2) != # not eaual to\n",
    "3) > # greater than\n",
    "4) < # less than\n",
    "5) >= # greater than or equal to \n",
    "6) <= # less than or equal to\n"
   ]
  },
  {
   "cell_type": "code",
   "execution_count": 72,
   "id": "0a136281",
   "metadata": {},
   "outputs": [
    {
     "name": "stdout",
     "output_type": "stream",
     "text": [
      "True\n"
     ]
    },
    {
     "data": {
      "text/plain": [
       "False"
      ]
     },
     "execution_count": 72,
     "metadata": {},
     "output_type": "execute_result"
    }
   ],
   "source": [
    "'3' == '3'\n",
    "print('3' != 3)\n",
    "\n",
    "len(' apple') > len('APPLE ')\n",
    "\n",
    "4**2 == 33%17\n"
   ]
  },
  {
   "cell_type": "code",
   "execution_count": 73,
   "id": "06bf6004",
   "metadata": {},
   "outputs": [
    {
     "data": {
      "text/plain": [
       "16"
      ]
     },
     "execution_count": 73,
     "metadata": {},
     "output_type": "execute_result"
    }
   ],
   "source": [
    "33%17"
   ]
  },
  {
   "cell_type": "markdown",
   "id": "20ccc4af",
   "metadata": {},
   "source": [
    "## Identity"
   ]
  },
  {
   "cell_type": "code",
   "execution_count": 74,
   "id": "b26fb459",
   "metadata": {},
   "outputs": [
    {
     "ename": "SyntaxError",
     "evalue": "invalid syntax (<ipython-input-74-180c82366c37>, line 1)",
     "output_type": "error",
     "traceback": [
      "\u001b[0;36m  File \u001b[0;32m\"<ipython-input-74-180c82366c37>\"\u001b[0;36m, line \u001b[0;32m1\u001b[0m\n\u001b[0;31m    1) is\u001b[0m\n\u001b[0m     ^\u001b[0m\n\u001b[0;31mSyntaxError\u001b[0m\u001b[0;31m:\u001b[0m invalid syntax\n"
     ]
    }
   ],
   "source": [
    "1) is\n",
    "2) is not\n",
    "\n",
    "# coamparing their identity\n",
    "\n"
   ]
  },
  {
   "cell_type": "code",
   "execution_count": 90,
   "id": "459bdda2",
   "metadata": {},
   "outputs": [
    {
     "name": "stdout",
     "output_type": "stream",
     "text": [
      "False\n",
      "True\n",
      "True\n",
      "False\n"
     ]
    }
   ],
   "source": [
    "a= 300\n",
    "b= 300\n",
    "c =4\n",
    "\n",
    "l1 =[1,2,[40,50]]\n",
    "l2 = [1,2,[40,50]]\n",
    "\n",
    "\n",
    "print(a is b)\n",
    "print(a==b)\n",
    "#c is b\n",
    "\n",
    "print(l1[2]==l2[2])\n",
    "\n",
    "\n",
    "print(l1[2] is l2[2])"
   ]
  },
  {
   "cell_type": "code",
   "execution_count": 88,
   "id": "e1268410",
   "metadata": {},
   "outputs": [
    {
     "data": {
      "text/plain": [
       "True"
      ]
     },
     "execution_count": 88,
     "metadata": {},
     "output_type": "execute_result"
    }
   ],
   "source": [
    "id([40,50]) == id([40,50])"
   ]
  },
  {
   "cell_type": "markdown",
   "id": "f2850b38",
   "metadata": {},
   "source": [
    " ## Membership\n",
    " "
   ]
  },
  {
   "cell_type": "code",
   "execution_count": 91,
   "id": "3eaa8bf6",
   "metadata": {},
   "outputs": [
    {
     "ename": "SyntaxError",
     "evalue": "invalid syntax (<ipython-input-91-b8f67043dd73>, line 1)",
     "output_type": "error",
     "traceback": [
      "\u001b[0;36m  File \u001b[0;32m\"<ipython-input-91-b8f67043dd73>\"\u001b[0;36m, line \u001b[0;32m1\u001b[0m\n\u001b[0;31m    1)in   # if a particular sequence is prsent in an object\u001b[0m\n\u001b[0m     ^\u001b[0m\n\u001b[0;31mSyntaxError\u001b[0m\u001b[0;31m:\u001b[0m invalid syntax\n"
     ]
    }
   ],
   "source": [
    "1)in   # if a particular sequence is prsent in an object\n",
    "2)not in  # if a particular sequence is not prsent in an object\n",
    "\n",
    "# what type of data type it will return?\n",
    "\n",
    "\n"
   ]
  },
  {
   "cell_type": "code",
   "execution_count": 103,
   "id": "2a82f462",
   "metadata": {},
   "outputs": [
    {
     "name": "stdout",
     "output_type": "stream",
     "text": [
      "[3, 4]\n"
     ]
    },
    {
     "data": {
      "text/plain": [
       "True"
      ]
     },
     "execution_count": 103,
     "metadata": {},
     "output_type": "execute_result"
    }
   ],
   "source": [
    "L1 = [1,2,[3,4]]\n",
    "\n",
    "[3,4] in L1\n",
    "# direct element\n",
    "l1= [1,2,[3,4]]\n",
    "\n",
    "L1 = [l1]\n",
    "\n",
    "#print(len(L1))\n",
    "print(L1[0][2])\n",
    "3 in L1[0][2]\n",
    "\n"
   ]
  },
  {
   "cell_type": "code",
   "execution_count": 114,
   "id": "4ddcb395",
   "metadata": {},
   "outputs": [
    {
     "data": {
      "text/plain": [
       "True"
      ]
     },
     "execution_count": 114,
     "metadata": {},
     "output_type": "execute_result"
    }
   ],
   "source": [
    "L3 = [(1,2),('one','two')]\n",
    "# 'one' is not a direct element of L3, it is a direct element of 2nd tuple inside L3 \n",
    "# hence 'one' in L3 will return False\n",
    "\n",
    "('one','two') in L3\n",
    "S1 = \"I am happy that I am geeting money\"\n",
    "\n",
    "'happy THAT' not in S1\n"
   ]
  },
  {
   "cell_type": "markdown",
   "id": "a9adbc16",
   "metadata": {},
   "source": [
    "## Logical operators"
   ]
  },
  {
   "cell_type": "code",
   "execution_count": null,
   "id": "b0a4817b",
   "metadata": {},
   "outputs": [],
   "source": [
    "# combine conditional statement\n",
    "\n",
    "1) and # if both statements are true\n",
    "2) or  # any of the statements should be true\n",
    "3) not # reverses the result"
   ]
  },
  {
   "cell_type": "code",
   "execution_count": 123,
   "id": "bffafe8d",
   "metadata": {},
   "outputs": [
    {
     "name": "stdout",
     "output_type": "stream",
     "text": [
      "True\n",
      "True\n"
     ]
    },
    {
     "data": {
      "text/plain": [
       "True"
      ]
     },
     "execution_count": 123,
     "metadata": {},
     "output_type": "execute_result"
    }
   ],
   "source": [
    "a = 9\n",
    "\n",
    "print(a==9)\n",
    "print(10==9)\n",
    "\n",
    "a ==9 and 10==9\n",
    "a ==9 or 10==9"
   ]
  },
  {
   "cell_type": "code",
   "execution_count": 122,
   "id": "ce74d1cd",
   "metadata": {},
   "outputs": [
    {
     "data": {
      "text/plain": [
       "True"
      ]
     },
     "execution_count": 122,
     "metadata": {},
     "output_type": "execute_result"
    }
   ],
   "source": [
    "not True\n",
    "not False"
   ]
  },
  {
   "cell_type": "code",
   "execution_count": 124,
   "id": "29805aca",
   "metadata": {},
   "outputs": [
    {
     "name": "stdout",
     "output_type": "stream",
     "text": [
      "True\n"
     ]
    }
   ],
   "source": [
    "print(not 10==9)"
   ]
  },
  {
   "cell_type": "markdown",
   "id": "3e82a41a",
   "metadata": {},
   "source": [
    "## Arithmatic operators"
   ]
  },
  {
   "cell_type": "code",
   "execution_count": null,
   "id": "77c2f1ec",
   "metadata": {},
   "outputs": [],
   "source": [
    "1) +\n",
    "2)-\n",
    "3) *  #multiplication\n",
    "4) / division\n",
    "5) % modulus          # remainder\n",
    "6) ** exponentiation ##(power)\n",
    "7) Floor division   # removes the decimals the end from quotent\n",
    "                     # rounds off the number to nearest lower integer"
   ]
  },
  {
   "cell_type": "code",
   "execution_count": 132,
   "id": "4beb0299",
   "metadata": {},
   "outputs": [
    {
     "name": "stdout",
     "output_type": "stream",
     "text": [
      "6 6.0 3.142857142857143\n"
     ]
    }
   ],
   "source": [
    "print(2*3,2.0*3, 22/7)"
   ]
  },
  {
   "cell_type": "code",
   "execution_count": 136,
   "id": "65a052f2",
   "metadata": {},
   "outputs": [
    {
     "data": {
      "text/plain": [
       "9"
      ]
     },
     "execution_count": 136,
     "metadata": {},
     "output_type": "execute_result"
    }
   ],
   "source": [
    "39%10\n"
   ]
  },
  {
   "cell_type": "code",
   "execution_count": 137,
   "id": "88d72ca3",
   "metadata": {},
   "outputs": [
    {
     "data": {
      "text/plain": [
       "25"
      ]
     },
     "execution_count": 137,
     "metadata": {},
     "output_type": "execute_result"
    }
   ],
   "source": [
    "5**2"
   ]
  },
  {
   "cell_type": "code",
   "execution_count": 141,
   "id": "f93f7891",
   "metadata": {},
   "outputs": [
    {
     "data": {
      "text/plain": [
       "9"
      ]
     },
     "execution_count": 141,
     "metadata": {},
     "output_type": "execute_result"
    }
   ],
   "source": [
    "901//100   # point something"
   ]
  },
  {
   "cell_type": "code",
   "execution_count": 144,
   "id": "b442607a",
   "metadata": {},
   "outputs": [
    {
     "data": {
      "text/plain": [
       "6"
      ]
     },
     "execution_count": 144,
     "metadata": {},
     "output_type": "execute_result"
    }
   ],
   "source": [
    "82//13  # 13*6 + something"
   ]
  },
  {
   "cell_type": "markdown",
   "id": "9ffeed52",
   "metadata": {},
   "source": [
    "## Assigment operator"
   ]
  },
  {
   "cell_type": "code",
   "execution_count": null,
   "id": "d67efbab",
   "metadata": {},
   "outputs": [],
   "source": [
    "1) =  # assign value to variables\n",
    "2) += # increment\n",
    "3) -= # decrement value\n",
    "4) *= we will continue..."
   ]
  },
  {
   "cell_type": "code",
   "execution_count": 150,
   "id": "ad3a70e9",
   "metadata": {},
   "outputs": [
    {
     "name": "stdout",
     "output_type": "stream",
     "text": [
      "4\n",
      "14\n",
      "0\n"
     ]
    }
   ],
   "source": [
    "x = 3\n",
    "#x +=3 ------>  x= x+3\n",
    "y = 4\n",
    "\n",
    "print(y)\n",
    "y +=5   #.   y= y+5\n",
    "y +=5\n",
    "\n",
    "print(y)\n",
    "\n",
    "z = 10\n",
    "z-=10\n",
    "\n",
    "print(z)"
   ]
  },
  {
   "cell_type": "code",
   "execution_count": null,
   "id": "59510d29",
   "metadata": {},
   "outputs": [],
   "source": []
  }
 ],
 "metadata": {
  "kernelspec": {
   "display_name": "Python 3",
   "language": "python",
   "name": "python3"
  },
  "language_info": {
   "codemirror_mode": {
    "name": "ipython",
    "version": 3
   },
   "file_extension": ".py",
   "mimetype": "text/x-python",
   "name": "python",
   "nbconvert_exporter": "python",
   "pygments_lexer": "ipython3",
   "version": "3.6.2"
  }
 },
 "nbformat": 4,
 "nbformat_minor": 5
}
