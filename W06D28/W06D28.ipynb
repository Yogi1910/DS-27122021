{
 "cells": [
  {
   "cell_type": "markdown",
   "id": "d99d046a",
   "metadata": {},
   "source": [
    "### Revision"
   ]
  },
  {
   "cell_type": "code",
   "execution_count": null,
   "id": "3a712496",
   "metadata": {},
   "outputs": [],
   "source": [
    "maxsplit parameter?"
   ]
  },
  {
   "cell_type": "code",
   "execution_count": null,
   "id": "1e4359ad",
   "metadata": {},
   "outputs": [],
   "source": [
    "s = 'I know the answer but i feel lazy writing it in chatbox'\n",
    "\n",
    "s.split(maxsplit = 0) "
   ]
  },
  {
   "cell_type": "code",
   "execution_count": null,
   "id": "72a1be3a",
   "metadata": {},
   "outputs": [],
   "source": [
    "name = \"Ieshaan\"\n",
    "name"
   ]
  },
  {
   "cell_type": "code",
   "execution_count": null,
   "id": "a16055dc",
   "metadata": {},
   "outputs": [],
   "source": [
    "'apple'.title() == 'apple mango'.capitalize()"
   ]
  },
  {
   "cell_type": "code",
   "execution_count": null,
   "id": "bafab385",
   "metadata": {},
   "outputs": [],
   "source": [
    "Question:  concatenation?\n",
    "    \n",
    "    \n",
    "strings?\n",
    "LIST?"
   ]
  },
  {
   "cell_type": "code",
   "execution_count": null,
   "id": "7360c783",
   "metadata": {},
   "outputs": [],
   "source": [
    "str.isspace('A B')\n"
   ]
  },
  {
   "cell_type": "code",
   "execution_count": null,
   "id": "33ff695a",
   "metadata": {},
   "outputs": [],
   "source": [
    "'AB'.isspace()"
   ]
  },
  {
   "cell_type": "code",
   "execution_count": null,
   "id": "665ed643",
   "metadata": {},
   "outputs": [],
   "source": [
    "#Q: output?\n",
    "s = 'I know the answer is 10 but I feel lazy writing it in chatbox'\n",
    "\n",
    "sum(not x.isspace() for x in s)\n",
    "sum(x.isalpha() for x in s)\n",
    "sum(x.isalnum() for x in s)"
   ]
  },
  {
   "cell_type": "code",
   "execution_count": null,
   "id": "3654a8f2",
   "metadata": {},
   "outputs": [],
   "source": [
    "popitem()\n",
    "\n",
    "\n",
    "A=[1,2,3]\n",
    "\n",
    "A = {1:3,'a':4}\n",
    "\n",
    "A.popitem()"
   ]
  },
  {
   "cell_type": "markdown",
   "id": "e5520c9b",
   "metadata": {},
   "source": [
    "### generators\n"
   ]
  },
  {
   "cell_type": "code",
   "execution_count": null,
   "id": "c53fff1b",
   "metadata": {},
   "outputs": [],
   "source": [
    "def sq(x):\n",
    "    for i in x:\n",
    "        \n",
    "        yield i**2"
   ]
  },
  {
   "cell_type": "code",
   "execution_count": null,
   "id": "b8c04129",
   "metadata": {},
   "outputs": [],
   "source": [
    "G = sq(range(10))"
   ]
  },
  {
   "cell_type": "code",
   "execution_count": null,
   "id": "95328d24",
   "metadata": {},
   "outputs": [],
   "source": [
    "G.__next__()\n"
   ]
  },
  {
   "cell_type": "code",
   "execution_count": null,
   "id": "bf1b0749",
   "metadata": {},
   "outputs": [],
   "source": [
    "# This is an iterable\n",
    "\n",
    "G = sq(range(10))\n",
    "\n",
    "\n",
    "for j in G:\n",
    "    print(j)"
   ]
  },
  {
   "cell_type": "code",
   "execution_count": null,
   "id": "9885d579",
   "metadata": {},
   "outputs": [],
   "source": [
    "def div_4_5(num):\n",
    "    \n",
    "    for i in num:\n",
    "        if i%4==0 and i%5==0:\n",
    "            yield i"
   ]
  },
  {
   "cell_type": "code",
   "execution_count": null,
   "id": "47a0d48a",
   "metadata": {},
   "outputs": [],
   "source": [
    "G1 = div_4_5(range(1000))"
   ]
  },
  {
   "cell_type": "code",
   "execution_count": null,
   "id": "03ce0591",
   "metadata": {},
   "outputs": [],
   "source": [
    "G1.__next__()"
   ]
  },
  {
   "cell_type": "code",
   "execution_count": null,
   "id": "d4440834",
   "metadata": {},
   "outputs": [],
   "source": [
    "# Creating pipelines of generators \n",
    "\n",
    "\n",
    "PL = div_4_5(sq(range(1000)))"
   ]
  },
  {
   "cell_type": "code",
   "execution_count": null,
   "id": "7ba2c8c1",
   "metadata": {},
   "outputs": [],
   "source": [
    "PL.__next__()"
   ]
  },
  {
   "cell_type": "code",
   "execution_count": null,
   "id": "0346f1e2",
   "metadata": {},
   "outputs": [],
   "source": [
    "# generate a function which squeares only even numbers\n",
    "\n",
    "def sq(x):\n",
    "    for j in x:\n",
    "        \n",
    "        yield j**2\n",
    "        \n",
    "        \n",
    "def EVEN(num):\n",
    "    \n",
    "    for i in num:\n",
    "        if not bool(i%2):\n",
    "            yield i\n",
    "            \n",
    "            \n",
    "Pipeline = sq(EVEN(range(10)))\n",
    "            \n",
    "    \n",
    "        \n",
    "\n"
   ]
  },
  {
   "cell_type": "code",
   "execution_count": null,
   "id": "a56a9241",
   "metadata": {},
   "outputs": [],
   "source": [
    "for monkey in Pipeline:\n",
    "    \n",
    "    print(monkey)"
   ]
  },
  {
   "cell_type": "code",
   "execution_count": null,
   "id": "40e97060",
   "metadata": {},
   "outputs": [],
   "source": [
    "x = 100\n",
    "\n",
    "bool(x%2) ==False"
   ]
  },
  {
   "cell_type": "code",
   "execution_count": null,
   "id": "d5ccb606",
   "metadata": {},
   "outputs": [],
   "source": [
    "# Summ all the squares of positive even numbers below 10\n",
    "\n",
    "Pipeline = sq(EVEN(range(10)))\n",
    "sum(Pipeline)"
   ]
  },
  {
   "cell_type": "markdown",
   "id": "8a84ba58",
   "metadata": {},
   "source": [
    "### Collections"
   ]
  },
  {
   "cell_type": "code",
   "execution_count": null,
   "id": "e8493ac9",
   "metadata": {},
   "outputs": [],
   "source": [
    "Python provides these containers.\n",
    "Container =  stores different objects and provide access\n",
    "\n",
    "Tuple\n",
    "List\n",
    "Dict\n",
    "\n",
    "\n",
    "collections"
   ]
  },
  {
   "cell_type": "code",
   "execution_count": null,
   "id": "996d2b7a",
   "metadata": {},
   "outputs": [],
   "source": [
    "import collections"
   ]
  },
  {
   "cell_type": "code",
   "execution_count": null,
   "id": "099f5a18",
   "metadata": {},
   "outputs": [],
   "source": [
    "Counters\n",
    "deque\n",
    "ChainMap\n",
    "OrderDict"
   ]
  },
  {
   "cell_type": "markdown",
   "id": "07ff82e7",
   "metadata": {},
   "source": [
    "### Counters"
   ]
  },
  {
   "cell_type": "code",
   "execution_count": 9,
   "id": "31b9b12d",
   "metadata": {},
   "outputs": [
    {
     "data": {
      "text/plain": [
       "Counter({'R': 1,\n",
       "         'e': 1,\n",
       "         'h': 2,\n",
       "         'a': 2,\n",
       "         'n': 1,\n",
       "         'N': 1,\n",
       "         'i': 1,\n",
       "         's': 1,\n",
       "         'c': 1,\n",
       "         'l': 1})"
      ]
     },
     "execution_count": 9,
     "metadata": {},
     "output_type": "execute_result"
    }
   ],
   "source": [
    "# subclass of dictionary\n",
    "\n",
    "from collections import Counter\n",
    "\n",
    "C1 = Counter('RehanNischal')\n",
    "C1"
   ]
  },
  {
   "cell_type": "code",
   "execution_count": 10,
   "id": "c7e702dd",
   "metadata": {},
   "outputs": [
    {
     "data": {
      "text/plain": [
       "Counter({1: 1, 2: 7, 34: 2, 3: 2, 4: 3, 21: 1, 5: 1})"
      ]
     },
     "execution_count": 10,
     "metadata": {},
     "output_type": "execute_result"
    }
   ],
   "source": [
    "C2 = Counter('apple')\n",
    "C2\n",
    "\n",
    "C3 = Counter([1,2,34,3,2,4,4,2,21,2,34,5,3,2,2,4,2,])\n",
    "C3\n",
    "\n"
   ]
  },
  {
   "cell_type": "code",
   "execution_count": 12,
   "id": "834bd4a9",
   "metadata": {},
   "outputs": [
    {
     "data": {
      "text/plain": [
       "Counter({'a': 2, 'p': 4, 'l': 2, 'e': 2})"
      ]
     },
     "execution_count": 12,
     "metadata": {},
     "output_type": "execute_result"
    }
   ],
   "source": [
    "# update a Counter\n",
    "\n",
    "C2 = Counter('apple')\n",
    "C2\n",
    "\n",
    "C2.update('apple')\n",
    "C2"
   ]
  },
  {
   "cell_type": "code",
   "execution_count": null,
   "id": "a8edbe2e",
   "metadata": {},
   "outputs": [],
   "source": [
    "s = 'I know the answer but i feel lazy writing it in chatbox'\n",
    "\n",
    "D = dict(Counter(s))\n",
    "D\n",
    "\n",
    "V = 0\n",
    "for i in D:\n",
    "    if i in set('AEIOUaeiou'):\n",
    "        V = V+D[i]\n",
    "        \n",
    "\n",
    "V"
   ]
  },
  {
   "cell_type": "code",
   "execution_count": null,
   "id": "8cd83e71",
   "metadata": {},
   "outputs": [],
   "source": [
    "set('AEIOUaeiou')"
   ]
  },
  {
   "cell_type": "code",
   "execution_count": null,
   "id": "33052844",
   "metadata": {},
   "outputs": [],
   "source": [
    "C4 = Counter({'A':5,'B':6})\n",
    "C4\n",
    "\n",
    "C4.update(Counter('ABABAB'))\n",
    "C4"
   ]
  },
  {
   "cell_type": "code",
   "execution_count": null,
   "id": "094b56f2",
   "metadata": {},
   "outputs": [],
   "source": [
    "C4 = {'A':5,'B':6}\n",
    "C4\n",
    "\n"
   ]
  },
  {
   "cell_type": "markdown",
   "id": "7a2f7d52",
   "metadata": {},
   "source": [
    "### Deque"
   ]
  },
  {
   "cell_type": "code",
   "execution_count": null,
   "id": "96255244",
   "metadata": {},
   "outputs": [],
   "source": [
    "# Double ended queue\n",
    "\n",
    "Optimised list for quick append, pop type of operation from both the ends\n"
   ]
  },
  {
   "cell_type": "code",
   "execution_count": null,
   "id": "57ccf654",
   "metadata": {},
   "outputs": [],
   "source": [
    "from collections import deque"
   ]
  },
  {
   "cell_type": "code",
   "execution_count": null,
   "id": "f1fa6bc5",
   "metadata": {},
   "outputs": [],
   "source": [
    "D1 = deque([1,'monkey','delhi',True])\n",
    "D1"
   ]
  },
  {
   "cell_type": "code",
   "execution_count": 124,
   "id": "123f10a5",
   "metadata": {},
   "outputs": [
    {
     "name": "stdout",
     "output_type": "stream",
     "text": [
      "deque([1, 'monkey', 'delhi', True]) \n",
      "\n",
      "deque([1, 'monkey', 'delhi', True, 3.14]) after append\n",
      "\n",
      "deque([-3.14, 1, 'monkey', 'delhi', True, 3.14]) after appendleft\n",
      "\n",
      "deque([1, 'monkey', 'delhi', True, 3.14]) after popleft\n",
      "\n",
      "deque([1, 'monkey', 'delhi', True]) after pop\n",
      "\n",
      "deque(['Ieshaan', 'kalpesh', 'Vrushabh', 1, 'monkey', 'delhi', True]) after extendleft\n",
      "\n",
      "deque([True, 'delhi', 'monkey', 1, 'Vrushabh', 'kalpesh', 'Ieshaan']) after reverse\n",
      "\n"
     ]
    }
   ],
   "source": [
    "# append\n",
    "# appendleft\n",
    "# pop\n",
    "# popleft\n",
    "# extend left\n",
    "# count\n",
    "# extend\n",
    "# remove\n",
    "\n",
    "\n",
    "D1 = deque([1,'monkey','delhi',True])\n",
    "print(D1,'\\n')\n",
    "\n",
    "\n",
    "D1.append(3.14)\n",
    "print(D1,'after append\\n')\n",
    "\n",
    "D1.appendleft(-3.14)\n",
    "print(D1,'after appendleft\\n')\n",
    "\n",
    "\n",
    "D1.popleft()\n",
    "print(D1,'after popleft\\n')\n",
    "\n",
    "\n",
    "D1.pop()\n",
    "print(D1,'after pop\\n')\n",
    "\n",
    "D1.extendleft(['Vrushabh','kalpesh','Ieshaan'])\n",
    "print(D1,'after extendleft\\n')\n",
    "\n",
    "D1.reverse()\n",
    "print(D1,'after reverse\\n')\n"
   ]
  },
  {
   "cell_type": "markdown",
   "id": "e0877d67",
   "metadata": {},
   "source": [
    "###  ChainMap"
   ]
  },
  {
   "cell_type": "code",
   "execution_count": 130,
   "id": "c7eb0717",
   "metadata": {},
   "outputs": [
    {
     "name": "stdout",
     "output_type": "stream",
     "text": [
      "ChainMap({'Delhi': 50, 'Jaipur': 240}, {'Fuel': 26}, {'time': 2.5}) \n",
      " ['time', 'Fuel', 'Delhi', 'Jaipur']\n"
     ]
    }
   ],
   "source": [
    "# To encapsulate the dict into single unit\n",
    "\n",
    "from collections import ChainMap\n",
    "\n",
    "d1 = {'Delhi':50,'Jaipur':240}\n",
    "d2 = {'Fuel':26}\n",
    "d3 = {'time':2.5}\n",
    "\n",
    "\n",
    "CM = ChainMap(d1,d2,d3)\n",
    "print(CM,'\\n',list(CM))\n"
   ]
  },
  {
   "cell_type": "code",
   "execution_count": 137,
   "id": "0e77cb32",
   "metadata": {},
   "outputs": [
    {
     "data": {
      "text/plain": [
       "ChainMap({'Delhi': 50, 'Jaipur': 240}, {'Fuel': 26}, {'time': 2.5})"
      ]
     },
     "execution_count": 137,
     "metadata": {},
     "output_type": "execute_result"
    }
   ],
   "source": [
    "\n",
    "\n",
    "# access value\n",
    "\n",
    "CM['Fuel']\n",
    "\n",
    "# Values\n",
    "\n",
    "list(CM.values())\n",
    "\n",
    "# keys\n",
    "\n",
    "list(CM.keys())\n",
    "\n",
    "# new_child()\n",
    "\n",
    "#it adds the new item at the beggining\n"
   ]
  },
  {
   "cell_type": "code",
   "execution_count": 5,
   "id": "84c5e2ef",
   "metadata": {},
   "outputs": [
    {
     "name": "stdout",
     "output_type": "stream",
     "text": [
      "ChainMap({'Delhi': 50, 'Jaipur': 240}, {'Fuel': 26}, {'time': 2.5})\n"
     ]
    },
    {
     "data": {
      "text/plain": [
       "ChainMap({'clock': '10:30', 'had food?': False}, {'Delhi': 50, 'Jaipur': 240}, {'Fuel': 26}, {'time': 2.5})"
      ]
     },
     "execution_count": 5,
     "metadata": {},
     "output_type": "execute_result"
    }
   ],
   "source": [
    "from collections import ChainMap\n",
    "\n",
    "d1 = {'Delhi':50,'Jaipur':240}\n",
    "d2 = {'Fuel':26}\n",
    "d3 = {'time':2.5}\n",
    "\n",
    "\n",
    "CM = ChainMap(d1,d2,d3)\n",
    "print(CM)\n",
    "\n",
    "d4 = {'clock': '10:30','had food?':False}\n",
    "\n",
    "CM1 = CM.new_child(d4)\n",
    "CM1"
   ]
  },
  {
   "cell_type": "markdown",
   "id": "13698cbf",
   "metadata": {},
   "source": [
    "### OrderdDict\n",
    "\n"
   ]
  },
  {
   "cell_type": "code",
   "execution_count": null,
   "id": "91e39649",
   "metadata": {},
   "outputs": [],
   "source": [
    "it was intoduced in pythn 3.1\n",
    "after py 3.6 order in dict is already maintained"
   ]
  },
  {
   "cell_type": "code",
   "execution_count": null,
   "id": "35989235",
   "metadata": {},
   "outputs": [],
   "source": [
    "datatime module\n",
    "\n",
    "time\n",
    "date\n",
    "datetime"
   ]
  },
  {
   "cell_type": "code",
   "execution_count": null,
   "id": "d7ec816f",
   "metadata": {},
   "outputs": [],
   "source": [
    "membership  in sets ?----> \n",
    "how to add items to a set? --->\n",
    "how to add items from other data type to a set? ---->\n",
    "join ---- union\n",
    "intersection---common\n",
    "\n",
    "keep all the items but no duplicate?\n",
    "symmetric difference\n",
    "\n",
    "how to remove an item---> discard?\n"
   ]
  },
  {
   "cell_type": "code",
   "execution_count": 22,
   "id": "320f79ab",
   "metadata": {},
   "outputs": [
    {
     "name": "stdout",
     "output_type": "stream",
     "text": [
      "Enter any number456\n",
      "6\n",
      "6\n",
      "45\n",
      "5\n",
      "11\n",
      "4\n",
      "4\n",
      "15\n",
      "0\n",
      "Sum of digits is 15\n"
     ]
    }
   ],
   "source": [
    "num=int(input(\"Enter any number\"))\n",
    "\n",
    "\n",
    "s=0\n",
    "\n",
    "while(num):\n",
    "    \n",
    "    \n",
    "    \n",
    "    r=num%10\n",
    "    print('last digit',r)\n",
    "    s=s+r\n",
    "    \n",
    "    print('updated sum',s)\n",
    "    \n",
    "    num=num//10\n",
    "    \n",
    "    print('new number',num)\n",
    "\n",
    "print(\"Sum of digits is\",s)"
   ]
  },
  {
   "cell_type": "code",
   "execution_count": 15,
   "id": "a702521b",
   "metadata": {},
   "outputs": [
    {
     "data": {
      "text/plain": [
       "15"
      ]
     },
     "execution_count": 15,
     "metadata": {},
     "output_type": "execute_result"
    }
   ],
   "source": [
    "x = 456\n",
    "\n",
    "15"
   ]
  },
  {
   "cell_type": "code",
   "execution_count": 19,
   "id": "12f4a307",
   "metadata": {},
   "outputs": [
    {
     "data": {
      "text/plain": [
       "16"
      ]
     },
     "execution_count": 19,
     "metadata": {},
     "output_type": "execute_result"
    }
   ],
   "source": []
  },
  {
   "cell_type": "code",
   "execution_count": null,
   "id": "898043ea",
   "metadata": {},
   "outputs": [],
   "source": []
  }
 ],
 "metadata": {
  "kernelspec": {
   "display_name": "Python 3",
   "language": "python",
   "name": "python3"
  },
  "language_info": {
   "codemirror_mode": {
    "name": "ipython",
    "version": 3
   },
   "file_extension": ".py",
   "mimetype": "text/x-python",
   "name": "python",
   "nbconvert_exporter": "python",
   "pygments_lexer": "ipython3",
   "version": "3.6.2"
  }
 },
 "nbformat": 4,
 "nbformat_minor": 5
}
