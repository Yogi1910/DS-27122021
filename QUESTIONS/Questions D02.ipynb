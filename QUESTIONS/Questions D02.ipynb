{
 "cells": [
  {
   "cell_type": "markdown",
   "id": "1da2e244",
   "metadata": {},
   "source": [
    "# Question 02\n",
    "\n",
    "### 1. Create a tuple with different data types and make a comment explaining the properties of a tuple\n",
    "### 2. Write a Python program to get the 4th element and 4th element from last of a tuple of length (10)\n",
    "### 3. Write a Python program to convert a list to a tuple\n",
    "### 4. Convert a string with repetitive charaters to a tuple and calculate the length\n",
    "### 5. Convert a string with repetitive charaters to a set and calculate the length\n",
    "### 6. Create a list of length 11 and check if index 5 and index -5 are equal?\n",
    "### 7. Create a Dictionary D1 of length 3 and keys as string, integer, float\n",
    "### 8. Can you check: out of string, int, list, float, tuple, set, bool what all are eligible for dictioary keys?\n",
    "### 9. In dictionary D1 get the value against string key\n",
    "### 10.Create a list and tuple with their 4th element as same dictionary. Compare that id() of these two with               ###       comparison(==) and identity operator (is)"
   ]
  },
  {
   "cell_type": "code",
   "execution_count": null,
   "id": "25543894",
   "metadata": {},
   "outputs": [],
   "source": []
  }
 ],
 "metadata": {
  "kernelspec": {
   "display_name": "Python 3",
   "language": "python",
   "name": "python3"
  },
  "language_info": {
   "codemirror_mode": {
    "name": "ipython",
    "version": 3
   },
   "file_extension": ".py",
   "mimetype": "text/x-python",
   "name": "python",
   "nbconvert_exporter": "python",
   "pygments_lexer": "ipython3",
   "version": "3.6.2"
  }
 },
 "nbformat": 4,
 "nbformat_minor": 5
}
