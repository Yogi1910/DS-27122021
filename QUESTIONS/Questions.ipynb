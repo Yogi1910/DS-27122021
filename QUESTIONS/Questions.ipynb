{
 "cells": [
  {
   "cell_type": "markdown",
   "id": "4bec38ff",
   "metadata": {},
   "source": [
    "# Question D02\n",
    "\n",
    "#### 1. Create a tuple with different data types and make a comment explaining the properties of a tuple\n",
    "#### 2. Write a Python program to get the 4th element and 4th element from last of a tuple of length (10)\n",
    "#### 3. Write a Python program to convert a list to a tuple\n",
    "#### 4. Convert a string with repetitive charaters to a tuple and calculate the length\n",
    "#### 5. Convert a string with repetitive charaters to a set and calculate the length\n",
    "#### 6. Create a list of length 11 and check if index 5 and index -5 are equal?\n",
    "#### 7. Create a Dictionary D1 of length 3 and keys as string, integer, float\n",
    "#### 8. Can you check: out of string, int, list, float, tuple, set, bool what all are eligible for dictioary keys?\n",
    "#### 9. In dictionary D1 get the value against string key\n",
    "#### 10.Create a list and tuple with their 4th element as same dictionary. Compare that id() of these two with                      comparison(==) and identity operator (is)"
   ]
  },
  {
   "cell_type": "markdown",
   "id": "091ad1c6",
   "metadata": {},
   "source": [
    "# Question D07"
   ]
  },
  {
   "cell_type": "markdown",
   "id": "8ee19321",
   "metadata": {},
   "source": [
    "#### 1. Accept the marks of English, Math and Science, Social Studies Subject and display the stream allotted according to following\n",
    "\n",
    "####                    All Subjects more than 80 marks —       Science Stream\n",
    "\n",
    "####                    English >80 and Math, Science above 50 –Commerce Stream\n",
    "\n",
    "####                    English > 80 and Social studies > 80    —   Humanities"
   ]
  },
  {
   "cell_type": "markdown",
   "id": "71dbc961",
   "metadata": {},
   "source": [
    "### 2. Understand these statements:\n",
    "\n",
    "Q1. Evaluate the following statements:\n",
    "\n",
    "a=True\n",
    "b=True\n",
    "c=True\n",
    "d=True       \n",
    "1.         print(c)\n",
    "2.         print(d)\n",
    "3.         print(not a)\n",
    "4.         print(not b )\n",
    "5.         print(not c )\n",
    "6.         print(not d)\n",
    "7.         print(a and b )\n",
    "8.         print(a or b )\n",
    "9.         print(a and c)\n",
    "10.       print(a or c )\n",
    "11.        print(a and d )\n",
    "12.       print(a or d)\n",
    "13.       print(b and c )\n",
    "14.       print(b or c )\n",
    "15.       print(a and b or c)\n",
    "16.       print(a or b and c )\n",
    "17.       print(a and b and c)\n",
    "18.       print(a or b or c )\n",
    "19.       print(not a and b and c)\n",
    "20.       print(not a or b or c )\n",
    "21.       print(not (a and b and c))\n",
    "22.       print(not (a or b or c) )\n",
    "23.       print(not a and not b and not c)\n",
    "24.       print(not a or not b or not c )\n",
    "25.       print(not (not a or not b or not c))"
   ]
  },
  {
   "cell_type": "markdown",
   "id": "0bfdcdbf",
   "metadata": {},
   "source": [
    "####  3. The given number is of one digited or two digited or three digited or more than three digited."
   ]
  },
  {
   "cell_type": "markdown",
   "id": "6d508726",
   "metadata": {},
   "source": [
    "## Question D08"
   ]
  },
  {
   "cell_type": "markdown",
   "id": "6e1ad179",
   "metadata": {},
   "source": [
    "####    1.   Write a program to find the sum of the digits of a number accepted from user\n",
    "####    2.   Write a program to print first 10 even numbers in reverse order.\n",
    "####    3.   Write a program to display sum of odd numbers and even numbers that fall between 12 and 37(including both numbers)\n",
    "####    4.   Write a program to print the following pattern\n",
    "        5 5 5 5 5\n",
    "        4 4 4 4\n",
    "        3 3 3\n",
    "        2 2\n",
    "        1\n",
    "        \n",
    "####     5. Write the code that prints len() of 'antarctica' with the help of while loopand counter variable\n",
    "####     6. Write a for loop which print \"Hello!, \" plus each name in the list. i.e.: \"Hello!, Sam\"lst=[\"Sam\", \"Lisa\", \"Micha\", \"Dave\", \"Wyatt\",                      \"Emma\", \"Sage\"]\n",
    "\n",
    "####     7. names = ['Kelly', 'Jessa', 'Emma']. Repeat each letter 5 times from the list.\n",
    "\n"
   ]
  },
  {
   "cell_type": "markdown",
   "id": "44fc109d",
   "metadata": {},
   "source": [
    "## Question D20"
   ]
  },
  {
   "cell_type": "markdown",
   "id": "b0d07e94",
   "metadata": {},
   "source": [
    "### 1."
   ]
  },
  {
   "cell_type": "code",
   "execution_count": null,
   "id": "663cee97",
   "metadata": {},
   "outputs": [],
   "source": [
    "def f(): \n",
    "    print(s) \n",
    "s = \"I love Paris in the summer!\"\n",
    "f()"
   ]
  },
  {
   "cell_type": "markdown",
   "id": "3776f14b",
   "metadata": {},
   "source": [
    "### 2."
   ]
  },
  {
   "cell_type": "code",
   "execution_count": null,
   "id": "10f9e664",
   "metadata": {},
   "outputs": [],
   "source": [
    "def f(): \n",
    "    s = \"I love London!\"\n",
    "    print(s) \n",
    "\n",
    "s = \"I love Paris!\" \n",
    "f()\n",
    "print(s)"
   ]
  },
  {
   "cell_type": "markdown",
   "id": "6068f975",
   "metadata": {},
   "source": [
    "### 3."
   ]
  },
  {
   "cell_type": "code",
   "execution_count": null,
   "id": "35e49518",
   "metadata": {},
   "outputs": [],
   "source": [
    "def f(): \n",
    "    print(s)\n",
    "    s = \"I love London!\"\n",
    "    print(s)\n",
    "\n",
    "s = \"I love Paris!\"\n",
    "f()"
   ]
  },
  {
   "cell_type": "markdown",
   "id": "0919538f",
   "metadata": {},
   "source": [
    "### 4."
   ]
  },
  {
   "cell_type": "code",
   "execution_count": null,
   "id": "0aa5529b",
   "metadata": {},
   "outputs": [],
   "source": [
    "def f():\n",
    "    global s\n",
    "    print(s)\n",
    "    s = \"Only in spring, but London is great as well!\"\n",
    "    print(s)\n",
    "\n",
    "\n",
    "s = \"I am looking for a course in Paris!\" \n",
    "f()\n",
    "print(s)"
   ]
  },
  {
   "cell_type": "markdown",
   "id": "9bfce9a2",
   "metadata": {},
   "source": [
    "### 5."
   ]
  },
  {
   "cell_type": "code",
   "execution_count": null,
   "id": "b422c288",
   "metadata": {},
   "outputs": [],
   "source": [
    "def f():\n",
    "    s = \"I am globally not known\"\n",
    "    print(s) \n",
    "\n",
    "f()\n",
    "print(s)"
   ]
  },
  {
   "cell_type": "markdown",
   "id": "a4dd57e7",
   "metadata": {},
   "source": [
    "### 6."
   ]
  },
  {
   "cell_type": "code",
   "execution_count": null,
   "id": "6b7ef25b",
   "metadata": {},
   "outputs": [],
   "source": [
    "def f():\n",
    "    city = \"Hamburg\"\n",
    "    \n",
    "    \n",
    "    def g():\n",
    "        global city\n",
    "        city = \"Geneva\"\n",
    "        \n",
    "        \n",
    "    print(\"Before calling g: \" + city)\n",
    "    print(\"Calling g now:\")\n",
    "    g()\n",
    "    print(\"After calling g: \" + city)\n",
    "    \n",
    "f()\n",
    "print(\"Value of city in main: \" + city)"
   ]
  },
  {
   "cell_type": "code",
   "execution_count": null,
   "id": "78dd1c4a",
   "metadata": {},
   "outputs": [],
   "source": []
  }
 ],
 "metadata": {
  "kernelspec": {
   "display_name": "Python 3",
   "language": "python",
   "name": "python3"
  },
  "language_info": {
   "codemirror_mode": {
    "name": "ipython",
    "version": 3
   },
   "file_extension": ".py",
   "mimetype": "text/x-python",
   "name": "python",
   "nbconvert_exporter": "python",
   "pygments_lexer": "ipython3",
   "version": "3.6.2"
  }
 },
 "nbformat": 4,
 "nbformat_minor": 5
}
