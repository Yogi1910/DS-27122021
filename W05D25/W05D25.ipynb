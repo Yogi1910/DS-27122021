{
 "cells": [
  {
   "cell_type": "markdown",
   "id": "e850bd12",
   "metadata": {},
   "source": [
    "### REVISION"
   ]
  },
  {
   "cell_type": "code",
   "execution_count": null,
   "id": "02a29fa2",
   "metadata": {},
   "outputs": [],
   "source": [
    "Datatypes:\n",
    "    \n",
    "DICT\n",
    "LIST\n",
    "STRING\n",
    "SET\n",
    "INT\n",
    "FLOAT\n",
    "BOOL\n",
    "TUPLE\n",
    "NONE TYPE\n",
    "\n"
   ]
  },
  {
   "cell_type": "code",
   "execution_count": null,
   "id": "e8b0e48b",
   "metadata": {},
   "outputs": [],
   "source": [
    "MUTABLE DATA TYPE\n",
    "\n",
    "SET\n",
    "DICT\n",
    "LIST"
   ]
  },
  {
   "cell_type": "code",
   "execution_count": null,
   "id": "3ef4550e",
   "metadata": {},
   "outputs": [],
   "source": [
    "ARITHMATIC ---   +-*/\n",
    "ASSIGNMENT ---   =, +=\n",
    "LOGICAL    ---   and or not\n",
    "MEMBERSHIP ---   in, not in\n",
    "COMPARISON ---   ==, >=, !=\n",
    "IDENTITY   ---   is, is not\n"
   ]
  },
  {
   "cell_type": "code",
   "execution_count": null,
   "id": "7602a4ce",
   "metadata": {},
   "outputs": [],
   "source": [
    "condition statements -  if, if else, if elif else\n",
    "loops -              -  for loops while loops\n",
    "\n",
    "                        pass, break continue"
   ]
  },
  {
   "cell_type": "code",
   "execution_count": null,
   "id": "a4c3ef55",
   "metadata": {},
   "outputs": [],
   "source": [
    "# REGEX:---\n",
    "\n",
    "metacharacters\n",
    "\n",
    "# how to search a dot  \n",
    "\n",
    "\\A ---starts with\n",
    "?  --- 0 or more occurences\n",
    "+  --- 1 or more occ\n",
    "\n",
    "[0-4][0-4]\n",
    "[0-4]{2}\n",
    "\n",
    "[+]\n",
    "\n",
    "\n"
   ]
  },
  {
   "cell_type": "markdown",
   "id": "c0d7f9b2",
   "metadata": {},
   "source": []
  },
  {
   "cell_type": "code",
   "execution_count": null,
   "id": "81490742",
   "metadata": {},
   "outputs": [],
   "source": [
    "VISA\n",
    "\n",
    "1) should start from 4 or 5\n",
    "2) if 13 digit -----middle char==alphabet\n",
    "3) if 14 digit ----- all alhabets"
   ]
  },
  {
   "cell_type": "code",
   "execution_count": null,
   "id": "b43e0e25",
   "metadata": {},
   "outputs": [],
   "source": [
    "import re\n",
    "\n",
    "\n",
    "def VISA(x):\n",
    "    if len(x)==13 and re.search('^[45][0-9]{5}[A-Za-z][0-9]{6}$',x):\n",
    "        return 'VALID'\n",
    "    \n",
    "    elif len(x)==14 and re.search('^[45][0-9]{13}$',x):\n",
    "        return 'VALID'\n",
    "    \n",
    "    else:\n",
    "        return 'INVALID'"
   ]
  },
  {
   "cell_type": "code",
   "execution_count": null,
   "id": "90924ddb",
   "metadata": {},
   "outputs": [],
   "source": [
    "VISA('53456587563444')"
   ]
  },
  {
   "cell_type": "code",
   "execution_count": null,
   "id": "1fa3c3e7",
   "metadata": {},
   "outputs": [],
   "source": [
    "re.search('#?','YAMUNA.')"
   ]
  },
  {
   "cell_type": "code",
   "execution_count": null,
   "id": "34b7566a",
   "metadata": {},
   "outputs": [],
   "source": [
    "print(r'one\\ntwo')"
   ]
  },
  {
   "cell_type": "markdown",
   "id": "ebf444e5",
   "metadata": {},
   "source": [
    "### functional programming -  map(), filter(), lambda()"
   ]
  },
  {
   "cell_type": "code",
   "execution_count": null,
   "id": "64581357",
   "metadata": {},
   "outputs": [],
   "source": [
    "print(2) if True else print(3)\n",
    "\n",
    "\n"
   ]
  },
  {
   "cell_type": "code",
   "execution_count": null,
   "id": "093ecec7",
   "metadata": {},
   "outputs": [],
   "source": [
    "if True:\n",
    "    print(2)\n",
    "else:\n",
    "    print(3)"
   ]
  },
  {
   "cell_type": "code",
   "execution_count": null,
   "id": "4cfaa5e4",
   "metadata": {},
   "outputs": [],
   "source": [
    "[x*5 for x in range(1,11)]   # list comprehension"
   ]
  },
  {
   "cell_type": "code",
   "execution_count": null,
   "id": "f1c4e7e8",
   "metadata": {},
   "outputs": [],
   "source": [
    "x = []\n",
    "for i in range(1,11):\n",
    "    x.append(i*5)\n",
    "x\n",
    "    "
   ]
  },
  {
   "cell_type": "markdown",
   "id": "38c548e6",
   "metadata": {},
   "source": [
    "### map()"
   ]
  },
  {
   "cell_type": "code",
   "execution_count": null,
   "id": "d27f874a",
   "metadata": {},
   "outputs": [],
   "source": [
    "from PIL import Image\n",
    "\n",
    "I = Image.open('python-map-function.png')\n",
    "I"
   ]
  },
  {
   "cell_type": "code",
   "execution_count": null,
   "id": "71d16f6e",
   "metadata": {},
   "outputs": [],
   "source": [
    "#syntax\n",
    "\n",
    "map(function,iterable)"
   ]
  },
  {
   "cell_type": "code",
   "execution_count": null,
   "id": "484237d3",
   "metadata": {},
   "outputs": [],
   "source": [
    "list(map(len,['dog','is','barking']))\n",
    "\n",
    "\n",
    "X = []\n",
    "\n",
    "for i in ['dog','is','barking']:\n",
    "    \n",
    "    X.append(len(i))\n",
    "    \n",
    "X\n",
    "    "
   ]
  },
  {
   "cell_type": "code",
   "execution_count": null,
   "id": "c82f76c9",
   "metadata": {},
   "outputs": [],
   "source": [
    "#map() - return a map object of the results after applying the given funtion to\n",
    "#each item of a given iterable (tuple etc)"
   ]
  },
  {
   "cell_type": "code",
   "execution_count": null,
   "id": "84852988",
   "metadata": {},
   "outputs": [],
   "source": [
    "def welcome(guest):\n",
    "    \n",
    "    return 'Hello! '+ guest\n",
    "\n",
    "\n",
    "\n",
    "list(map(welcome,['ieshaan','athish']))"
   ]
  },
  {
   "cell_type": "code",
   "execution_count": null,
   "id": "0c5186a5",
   "metadata": {},
   "outputs": [],
   "source": [
    "# Question:  cube of every item in a list with map"
   ]
  },
  {
   "cell_type": "code",
   "execution_count": null,
   "id": "8f933c5e",
   "metadata": {},
   "outputs": [],
   "source": [
    "\n",
    "\n",
    "\n",
    "# Question:  all the letters to capital initials\n",
    "\n",
    "\n",
    "Fruits = ['mango','apple','kiwi','lichi']\n",
    "\n",
    "['Mango ','Apple','Kiwi','Lichi']"
   ]
  },
  {
   "cell_type": "code",
   "execution_count": null,
   "id": "982349b2",
   "metadata": {},
   "outputs": [],
   "source": [
    "Fruits = ['mango','apple','kiwi','lichi']\n",
    "\n",
    "tuple(map(str.title,Fruits))"
   ]
  },
  {
   "cell_type": "code",
   "execution_count": null,
   "id": "a22819a5",
   "metadata": {},
   "outputs": [],
   "source": [
    "def cube(n):\n",
    "    \n",
    "    return n,n**3\n",
    "\n",
    "\n",
    "NUM = [2,4,6,8]\n",
    "\n",
    "dict(map(cube,NUM))\n",
    "\n"
   ]
  },
  {
   "cell_type": "code",
   "execution_count": null,
   "id": "05772ee4",
   "metadata": {},
   "outputs": [],
   "source": [
    "dict([(1,2),(3,4),('a','b')])"
   ]
  },
  {
   "cell_type": "code",
   "execution_count": null,
   "id": "2905a575",
   "metadata": {},
   "outputs": [],
   "source": [
    "#. assigment would be:\n",
    "\n",
    "import random\n",
    "\n",
    "random.random()\n",
    "\n",
    "\n",
    "generate 1000 random values in a list \n",
    "1 : roundoff each of the value---map \n",
    "2 : get sum and average of the list values---your choice"
   ]
  },
  {
   "cell_type": "markdown",
   "id": "f6432508",
   "metadata": {},
   "source": [
    "#### filter()\n"
   ]
  },
  {
   "cell_type": "code",
   "execution_count": null,
   "id": "6c3a4a39",
   "metadata": {},
   "outputs": [],
   "source": [
    "from PIL import Image\n",
    "\n",
    "I1 = Image.open('Filter-function-in-Python.png')\n",
    "I1"
   ]
  },
  {
   "cell_type": "code",
   "execution_count": null,
   "id": "afd63ec1",
   "metadata": {},
   "outputs": [],
   "source": [
    "first of all it requires the function to return true or false (boolean)\n",
    "then it will all items of the iterable to the function\n",
    "\n",
    "\n",
    "filter(function,iterable)"
   ]
  },
  {
   "cell_type": "code",
   "execution_count": null,
   "id": "0636a4fa",
   "metadata": {},
   "outputs": [],
   "source": [
    "Fruits = ['mango','Apple','kiwi','lichi']\n",
    "\n",
    "\n",
    "list(map(str.istitle,Fruits))\n",
    "\n",
    "#list(filter(len,Fruits))\n"
   ]
  },
  {
   "cell_type": "code",
   "execution_count": null,
   "id": "aac8cf7c",
   "metadata": {},
   "outputs": [],
   "source": [
    "#error free codes\n",
    "\n",
    "Fruits = ['mango','Apple','kiwi','lichi']\n",
    "\n",
    "\n",
    "list(map(str.istitle,Fruits))\n",
    "\n",
    "list(filter(len,Fruits))\n",
    "\n",
    "\n"
   ]
  },
  {
   "cell_type": "code",
   "execution_count": null,
   "id": "c88eeb9c",
   "metadata": {},
   "outputs": [],
   "source": [
    "#. question with filter\n",
    "\n",
    "Fruits = ['mango','Apple','kiwi','lichi','PG']\n",
    "\n",
    "1 . return only those fruits which have at least 1 vowel in them\n",
    "2.  return only those numbers from 0 to 1000 which are divisible by 3 4 5\n",
    "\n"
   ]
  },
  {
   "cell_type": "markdown",
   "id": "27d1745b",
   "metadata": {},
   "source": [
    "#### lambda"
   ]
  },
  {
   "cell_type": "code",
   "execution_count": 86,
   "id": "f262acbc",
   "metadata": {},
   "outputs": [
    {
     "data": {
      "image/png": "[encoded data removed]",
      "text/plain": [
       "<PIL.PngImagePlugin.PngImageFile image mode=RGBA size=1020x484 at 0x105EBE358>"
      ]
     },
     "execution_count": 86,
     "metadata": {},
     "output_type": "execute_result"
    }
   ],
   "source": [
    "from PIL import Image\n",
    "\n",
    "I2 = Image.open('python-lambda-functions.png')\n",
    "I2"
   ]
  },
  {
   "cell_type": "code",
   "execution_count": null,
   "id": "9ed4b980",
   "metadata": {},
   "outputs": [],
   "source": [
    "Anonymous function\n",
    "Can take mutiple arguments but only one expression\n",
    "return statement\n",
    "\n",
    "syntax:\n",
    "    \n",
    "lambda arguments : expression"
   ]
  },
  {
   "cell_type": "code",
   "execution_count": null,
   "id": "a8f92e0b",
   "metadata": {},
   "outputs": [],
   "source": [
    "f1 = lambda a : 'Hello! '+a"
   ]
  },
  {
   "cell_type": "code",
   "execution_count": null,
   "id": "71620956",
   "metadata": {},
   "outputs": [],
   "source": [
    "f1('komalksingh1999')"
   ]
  },
  {
   "cell_type": "code",
   "execution_count": null,
   "id": "3381e3e3",
   "metadata": {},
   "outputs": [],
   "source": [
    "# cube function\n",
    "\n",
    "\n",
    "f2 = lambda x:x**3\n",
    "\n",
    "[f2(i) for i in range(1,11)]"
   ]
  },
  {
   "cell_type": "code",
   "execution_count": null,
   "id": "afd0a395",
   "metadata": {},
   "outputs": [],
   "source": [
    "#use lambda and map/filter to pull a list of people who are eligible to vote\n",
    "\n",
    "\n",
    "[13,16,35,67,45,32,21,67,98,19,12]"
   ]
  },
  {
   "cell_type": "code",
   "execution_count": null,
   "id": "ac4e5b6f",
   "metadata": {},
   "outputs": [],
   "source": [
    "Age=[13,16,35,67,45,32,21,67,98,19,12]\n",
    "vote = lambda x: x>=18\n",
    "\n",
    "list(filter(vote,Age))"
   ]
  },
  {
   "cell_type": "code",
   "execution_count": null,
   "id": "65ccb3d5",
   "metadata": {},
   "outputs": [],
   "source": [
    "a=[13,16,35,67,45,32,21,67,98,19,12]\n",
    "l=list(filter(lambda x:x>=18,a))\n",
    "print(l)L1 = [13,16,35,67,45,32,21,67,98,19,12]\n"
   ]
  },
  {
   "cell_type": "code",
   "execution_count": null,
   "id": "73ec529c",
   "metadata": {},
   "outputs": [],
   "source": [
    "# Question : check if a mobile number is valid\n",
    "\n",
    "\n",
    "use map ad filter to get the corrected list\n",
    "\n",
    "\n",
    "['9154403456','8699400007','9902699587','8376367282a']"
   ]
  },
  {
   "cell_type": "code",
   "execution_count": null,
   "id": "882e09a7",
   "metadata": {},
   "outputs": [],
   "source": [
    "mobile =   '9967546534'\n",
    "\n",
    "s = '^[6-9][0-9]{9}'\n",
    "\n",
    "import re\n",
    "\n",
    "if re.search(s, mobile):\n",
    "    \n",
    "    print('match')"
   ]
  },
  {
   "cell_type": "code",
   "execution_count": 87,
   "id": "1e72cd16",
   "metadata": {},
   "outputs": [],
   "source": [
    "def ABC(x):\n",
    "    return x+10"
   ]
  },
  {
   "cell_type": "code",
   "execution_count": 88,
   "id": "515f0f07",
   "metadata": {},
   "outputs": [
    {
     "data": {
      "text/plain": [
       "13"
      ]
     },
     "execution_count": 88,
     "metadata": {},
     "output_type": "execute_result"
    }
   ],
   "source": [
    "ABC(3)"
   ]
  },
  {
   "cell_type": "code",
   "execution_count": 89,
   "id": "cc666fdc",
   "metadata": {},
   "outputs": [],
   "source": [
    "L5 = [2,3,4,5,6]"
   ]
  },
  {
   "cell_type": "code",
   "execution_count": 91,
   "id": "0a8850d0",
   "metadata": {},
   "outputs": [
    {
     "data": {
      "text/plain": [
       "[12, 13, 14, 15, 16]"
      ]
     },
     "execution_count": 91,
     "metadata": {},
     "output_type": "execute_result"
    }
   ],
   "source": [
    "list(map(ABC,L5))"
   ]
  },
  {
   "cell_type": "code",
   "execution_count": null,
   "id": "136eaeb1",
   "metadata": {},
   "outputs": [],
   "source": []
  }
 ],
 "metadata": {
  "kernelspec": {
   "display_name": "Python 3",
   "language": "python",
   "name": "python3"
  },
  "language_info": {
   "codemirror_mode": {
    "name": "ipython",
    "version": 3
   },
   "file_extension": ".py",
   "mimetype": "text/x-python",
   "name": "python",
   "nbconvert_exporter": "python",
   "pygments_lexer": "ipython3",
   "version": "3.6.2"
  }
 },
 "nbformat": 4,
 "nbformat_minor": 5
}
