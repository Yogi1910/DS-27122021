{
 "cells": [
  {
   "cell_type": "markdown",
   "id": "f27df5e5",
   "metadata": {},
   "source": [
    "#### Questions:"
   ]
  },
  {
   "cell_type": "code",
   "execution_count": null,
   "id": "0f65381b",
   "metadata": {},
   "outputs": [],
   "source": [
    "# subset\n",
    "\n",
    "# if all the elements of set A are present in set B then set A is a subset of set B and Set B is superset of set A\n",
    "\n",
    "A = {1,2,3,4}\n",
    "\n",
    "B = {1,2,3,4,5,0,6}\n",
    "\n",
    "A.issubset(B)\n",
    "\n",
    "\n",
    "# superset\n",
    "\n",
    "B.issuperset(A)\n",
    "\n",
    "\n",
    "\n"
   ]
  },
  {
   "cell_type": "code",
   "execution_count": null,
   "id": "313e68fb",
   "metadata": {},
   "outputs": [],
   "source": [
    "A = {1,2}\n",
    "\n",
    "B = {1,2}\n",
    "\n",
    "B.issubset(A)\n",
    "\n",
    "\n",
    "#Q: #set A  = all the +ve numbers divisible by 6\n",
    "   #set B   = all the +ve numbers divisible by 2"
   ]
  },
  {
   "cell_type": "markdown",
   "id": "ab11529f",
   "metadata": {},
   "source": [
    "### How we import a package"
   ]
  },
  {
   "cell_type": "code",
   "execution_count": null,
   "id": "ea7628b6",
   "metadata": {},
   "outputs": [],
   "source": [
    "\n",
    "from PIL import Image\n",
    "\n",
    "from package import module\n",
    "\n"
   ]
  },
  {
   "cell_type": "markdown",
   "id": "8920b935",
   "metadata": {},
   "source": [
    "### Functions"
   ]
  },
  {
   "cell_type": "code",
   "execution_count": 24,
   "id": "8bbd1a4f",
   "metadata": {},
   "outputs": [
    {
     "name": "stdout",
     "output_type": "stream",
     "text": [
      "27\n",
      "64\n",
      "None\n"
     ]
    }
   ],
   "source": [
    "#juicer(fruit) = juice\n",
    "#jucier(mango) = mango juice\n",
    "#jucier(banana) = banana shake\n",
    "\n",
    "\n",
    "#Funtions are objects that are used to perform a task repititively with changing inputs\n",
    "# built-in function\n",
    "# how to create functions\n",
    "# To make reusable codes\n",
    "\n",
    "#print a function which prints the cube of ant number\n",
    "\n",
    "def cube(num):\n",
    "\n",
    "    \n",
    "    print(num**3)\n",
    "    \n",
    "    \n",
    "\n",
    "# syntax\n",
    "\n",
    "# def  =  keyword to define a function\n",
    "# cube =  name of the function\n",
    "# num  =  parameter\n",
    "# print()   fucntion block of code\n",
    "\n",
    "#replace(old,new,count)\n",
    "\n",
    "\n",
    "cube(3)==None\n",
    "\n",
    "cube_of_4 = cube(4)\n",
    "print(cube_of_4)\n",
    "\n"
   ]
  },
  {
   "cell_type": "markdown",
   "id": "207cc6e5",
   "metadata": {},
   "source": [
    "### syntax of a function"
   ]
  },
  {
   "cell_type": "code",
   "execution_count": null,
   "id": "74208468",
   "metadata": {},
   "outputs": [],
   "source": [
    "\n",
    "\n",
    "def Function(p1,p2,p3...):\n",
    "    \n",
    "    'code block'\n",
    "    return/print (optional)"
   ]
  },
  {
   "cell_type": "code",
   "execution_count": null,
   "id": "fb67ac77",
   "metadata": {},
   "outputs": [],
   "source": [
    "## create a function that takes two arguments no of marks achieved and total marks\n",
    "## and hence print the percentage\n",
    "\n",
    "\n",
    "def result(MA,TM):\n",
    "    return MA*100/TM, \" % marks achieved.\"\n",
    "    \n",
    "    "
   ]
  },
  {
   "cell_type": "code",
   "execution_count": null,
   "id": "4f78111c",
   "metadata": {},
   "outputs": [],
   "source": [
    "result(596,765)"
   ]
  },
  {
   "cell_type": "code",
   "execution_count": null,
   "id": "5533d655",
   "metadata": {},
   "outputs": [],
   "source": [
    "### print and return\n",
    "\n",
    "## print is a function return is not\n",
    "## print rquires paranthesis\n",
    "## return can take reference for assignment purposes whie print is just for printing the results/outputs\n",
    "\n"
   ]
  },
  {
   "cell_type": "code",
   "execution_count": null,
   "id": "dc324d82",
   "metadata": {},
   "outputs": [],
   "source": [
    "def result(MA,TM):\n",
    "    print(MA*100/TM, \" % marks achieved.\")\n",
    "\n"
   ]
  },
  {
   "cell_type": "code",
   "execution_count": null,
   "id": "e80d41aa",
   "metadata": {},
   "outputs": [],
   "source": [
    "result1 = result(80,100)\n",
    "result1==None"
   ]
  },
  {
   "cell_type": "code",
   "execution_count": null,
   "id": "bf973eae",
   "metadata": {},
   "outputs": [],
   "source": [
    "def result(MA,TM):\n",
    "    return MA*100/TM, \" % marks achieved.\"\n",
    "\n",
    "result1 = result(80,100)\n",
    "\n",
    "result1\n",
    "\n"
   ]
  },
  {
   "cell_type": "code",
   "execution_count": null,
   "id": "26fd875e",
   "metadata": {},
   "outputs": [],
   "source": [
    "#difference\n",
    "#difference_update()\n",
    "\n"
   ]
  },
  {
   "cell_type": "markdown",
   "id": "da74ffa3",
   "metadata": {},
   "source": [
    "### write a function that takes input a list and throws the second element of it"
   ]
  },
  {
   "cell_type": "code",
   "execution_count": null,
   "id": "ec8bca93",
   "metadata": {},
   "outputs": [],
   "source": [
    "\n",
    "\n",
    "def SE(monkey):\n",
    "    \n",
    "    print(monkey[1])\n",
    "    \n",
    "    \n",
    "### write a function that returns no of odds and no of evens in a list/iterbale\n",
    "\n",
    "SE((1,200,3))\n",
    "\n",
    "    \n",
    "    \n",
    "monday= {1:'LUCKHBIR'}\n",
    "monday[1]"
   ]
  },
  {
   "cell_type": "code",
   "execution_count": 27,
   "id": "aee5e653",
   "metadata": {},
   "outputs": [
    {
     "name": "stdout",
     "output_type": "stream",
     "text": [
      "There are/is 5 odd number/s\n",
      "There are/is 1 even number/s\n",
      "There are/is 50 odd number/s\n",
      "There are/is 50 even number/s\n"
     ]
    },
    {
     "data": {
      "text/plain": [
       "0"
      ]
     },
     "execution_count": 27,
     "metadata": {},
     "output_type": "execute_result"
    }
   ],
   "source": [
    "\n",
    "def evenOdd(ITER):\n",
    "    \n",
    "    odd = 0\n",
    "    even = 0\n",
    "    for i in ITER:\n",
    "        if i%2==0:\n",
    "            even+=1\n",
    "        else:\n",
    "            odd+=1\n",
    "            \n",
    "    print('There are/is {} odd number/s'.format(odd))\n",
    "    print('There are/is {} even number/s'.format(even))\n",
    "\n",
    "    \n",
    "evenOdd([12,25,37,47,57,67])\n",
    "\n",
    "evenOdd(range(100))\n"
   ]
  },
  {
   "cell_type": "markdown",
   "id": "0e2cf667",
   "metadata": {},
   "source": [
    "### Assignment =  create a table function which takes a number and produces the table\n"
   ]
  },
  {
   "cell_type": "markdown",
   "id": "579347db",
   "metadata": {},
   "source": [
    "### Namespace"
   ]
  },
  {
   "cell_type": "code",
   "execution_count": null,
   "id": "a10f4a14",
   "metadata": {},
   "outputs": [],
   "source": [
    "# table of names and their object addresses\n",
    "# collection of names\n",
    "\n",
    "Local\n",
    "Global\n",
    "Builtin\n",
    "\n",
    "\n"
   ]
  },
  {
   "cell_type": "markdown",
   "id": "15a59f48",
   "metadata": {},
   "source": [
    "### Scope of variable"
   ]
  },
  {
   "cell_type": "code",
   "execution_count": null,
   "id": "122fcaa6",
   "metadata": {},
   "outputs": [],
   "source": [
    "# portion of a program from where a name/variable can be accessed\n",
    "# scope depends on how and where you create the variables"
   ]
  },
  {
   "cell_type": "markdown",
   "id": "cb12ab18",
   "metadata": {},
   "source": [
    "#### Local variable"
   ]
  },
  {
   "cell_type": "code",
   "execution_count": null,
   "id": "0c69ad22",
   "metadata": {},
   "outputs": [],
   "source": [
    "def Athish(sekhar):\n",
    "    \n",
    "    a = 'awesome'\n",
    "    print('we all are '+ a)\n",
    "    \n",
    "\n",
    "# a is local variable ---variable that is defined inside a function are local variable\n",
    "# local variables are accessible inside the functions"
   ]
  },
  {
   "cell_type": "code",
   "execution_count": null,
   "id": "1d483e27",
   "metadata": {},
   "outputs": [],
   "source": [
    "Athish('EDYODA')\n",
    "\n",
    "print(a)"
   ]
  },
  {
   "cell_type": "markdown",
   "id": "35cbfcf3",
   "metadata": {},
   "source": [
    "### Global variable"
   ]
  },
  {
   "cell_type": "markdown",
   "id": "4189a4d8",
   "metadata": {},
   "source": [
    "#### created outside the function\n",
    "#### can be used by anyone inside or outsidea function"
   ]
  },
  {
   "cell_type": "code",
   "execution_count": null,
   "id": "cca74a68",
   "metadata": {},
   "outputs": [],
   "source": [
    "\n",
    "\n",
    "\n",
    "\n",
    "\n",
    "#x = 'global'   # global variable\n",
    "\n",
    "def f():\n",
    "    x = 3      # local variable\n",
    "    print(x)\n",
    "    \n",
    "f()     # this function knows that there is a var x inside it\n",
    "\n",
    "print(x)\n",
    "# x is not accessible from outside (main programe)"
   ]
  },
  {
   "cell_type": "code",
   "execution_count": null,
   "id": "8e2447d2",
   "metadata": {},
   "outputs": [],
   "source": [
    "x = 'global'   # global variable\n",
    "\n",
    "def f():\n",
    "    x = 3      # local variable\n",
    "    print(x)\n",
    "    \n",
    "f()     # this function knows that there is a var x inside it\n",
    "\n",
    "print(x)\n",
    "# x is accessible from outside becasue it is global and part of the main programmee(main programe)"
   ]
  },
  {
   "cell_type": "markdown",
   "id": "6ee1af0d",
   "metadata": {},
   "source": [
    "### Builtins\n"
   ]
  },
  {
   "cell_type": "code",
   "execution_count": null,
   "id": "e8f4e857",
   "metadata": {},
   "outputs": [],
   "source": [
    "### Builtin variables are present there from anywhere in python code as soon as your interpreter kicks off\n",
    "\n",
    "#str = 'global'   # global variable\n",
    "\n",
    "def f():\n",
    "    #str = 3      # local variable\n",
    "    print(str)\n",
    "    \n",
    "f()     \n",
    "\n",
    "print(str)\n",
    "\n",
    "\n",
    "\n"
   ]
  },
  {
   "cell_type": "markdown",
   "id": "c2f7fd12",
   "metadata": {},
   "source": [
    "## LEGB rule of python"
   ]
  },
  {
   "cell_type": "code",
   "execution_count": null,
   "id": "aae29958",
   "metadata": {},
   "outputs": [],
   "source": [
    "### conceptof how variables and names are looked up in your code\n",
    "\n",
    "\n",
    "if a variable is being accessed from anywhere\n",
    "\n",
    "it searches for\n",
    "\n",
    "1) local variable\n",
    "2) enclosed variable ## Day after tomorrow\n",
    "3) global variable\n",
    "4) builtin variable\n",
    "\n"
   ]
  },
  {
   "cell_type": "code",
   "execution_count": 28,
   "id": "bd11b485",
   "metadata": {},
   "outputs": [
    {
     "data": {
      "image/png": "[encoded data removed]",
      "text/plain": [
       "<PIL.PngImagePlugin.PngImageFile image mode=RGB size=700x343 at 0x1051DD160>"
      ]
     },
     "execution_count": 28,
     "metadata": {},
     "output_type": "execute_result"
    }
   ],
   "source": [
    "from PIL import Image\n",
    "PIC = Image.open('VARIABLE_scope.png')\n",
    "PIC"
   ]
  },
  {
   "cell_type": "code",
   "execution_count": null,
   "id": "2e7f8900",
   "metadata": {},
   "outputs": [],
   "source": [
    "x = 0\n",
    "\n",
    "def g()\n"
   ]
  },
  {
   "cell_type": "markdown",
   "id": "7165ea21",
   "metadata": {},
   "source": [
    "#### Question : Function that takes a list as an input and returns/prints out the list with uniques items\n",
    "#### don't use set()"
   ]
  },
  {
   "cell_type": "code",
   "execution_count": 12,
   "id": "f6a060a4",
   "metadata": {},
   "outputs": [],
   "source": [
    "\n",
    "def make_unique(list_input):\n",
    "    UN = []\n",
    "    \n",
    "    \n",
    "    for i in list_input:\n",
    "        if i not in UN:\n",
    "            UN.append(i)\n",
    "            \n",
    "    print(UN)\n",
    "\n",
    "\n",
    "        \n",
    "\n"
   ]
  },
  {
   "cell_type": "code",
   "execution_count": 14,
   "id": "8d5eb7b5",
   "metadata": {},
   "outputs": [
    {
     "name": "stdout",
     "output_type": "stream",
     "text": [
      "[1, 2, 3, 4, 0]\n"
     ]
    }
   ],
   "source": [
    "make_unique([1,2,2,3,3,3,4,4,4,4,0])"
   ]
  },
  {
   "cell_type": "code",
   "execution_count": null,
   "id": "671fb2ca",
   "metadata": {},
   "outputs": [],
   "source": []
  }
 ],
 "metadata": {
  "kernelspec": {
   "display_name": "Python 3",
   "language": "python",
   "name": "python3"
  },
  "language_info": {
   "codemirror_mode": {
    "name": "ipython",
    "version": 3
   },
   "file_extension": ".py",
   "mimetype": "text/x-python",
   "name": "python",
   "nbconvert_exporter": "python",
   "pygments_lexer": "ipython3",
   "version": "3.6.2"
  }
 },
 "nbformat": 4,
 "nbformat_minor": 5
}
