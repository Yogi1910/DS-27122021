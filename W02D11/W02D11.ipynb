{
 "cells": [
  {
   "cell_type": "code",
   "execution_count": null,
   "id": "fdf4b5e4",
   "metadata": {},
   "outputs": [],
   "source": [
    "Count the total number of digits in a number\n",
    "\n",
    "Print list in reverse order using a loop\n",
    "\n",
    "Use else block to display a message “Done” after successful execution of for loop\n",
    "\n",
    "Use a loop to display elements from a given list present at odd index positions\n",
    "\n"
   ]
  },
  {
   "cell_type": "code",
   "execution_count": 3,
   "id": "a8eb4527",
   "metadata": {},
   "outputs": [
    {
     "name": "stdout",
     "output_type": "stream",
     "text": [
      "3\n",
      "6\n",
      "9\n",
      "12\n",
      "15\n",
      "18\n",
      "3\n",
      "6\n",
      "9\n",
      "15\n",
      "18\n"
     ]
    }
   ],
   "source": [
    "#print numbers from 3  to 20 jumping 3 at a time (step 3)\n",
    "\n",
    "for i in range(3,21,3):\n",
    "    print(i)\n",
    "    \n"
   ]
  },
  {
   "cell_type": "code",
   "execution_count": null,
   "id": "2f4214b1",
   "metadata": {},
   "outputs": [],
   "source": [
    "# don't print 12\n",
    "\n",
    "for i in range(3,21,3):\n",
    "    if i==12:\n",
    "        continue\n",
    "    \n",
    "    print(i)"
   ]
  },
  {
   "cell_type": "code",
   "execution_count": 4,
   "id": "81f16fb1",
   "metadata": {},
   "outputs": [
    {
     "name": "stdout",
     "output_type": "stream",
     "text": [
      "3 6 9 15 18 "
     ]
    }
   ],
   "source": [
    "#print numbers from 3  to 20 jumping 3 at a time (step 3)----while loop\n",
    "\n",
    "for i in range(3,21,3):\n",
    "    if i==12:\n",
    "        continue\n",
    "    else:\n",
    "        print(i,end=' ')\n"
   ]
  },
  {
   "cell_type": "code",
   "execution_count": 5,
   "id": "e52e2cae",
   "metadata": {},
   "outputs": [
    {
     "name": "stdout",
     "output_type": "stream",
     "text": [
      "3\n",
      "4\n",
      "5\n",
      "6\n",
      "7\n",
      "8\n",
      "9\n",
      "10\n",
      "11\n",
      "12\n",
      "13\n",
      "14\n",
      "15\n",
      "16\n",
      "17\n",
      "18\n",
      "19\n",
      "20\n"
     ]
    }
   ],
   "source": [
    "# intitalisation\n",
    "# condition check\n",
    "# increment/decrement/variable updation\n",
    "\n",
    "#while True:\n",
    "    \n",
    "    # do something\n",
    "     \n",
    "x = 3\n",
    "\n",
    "while x <= 20:\n",
    "    print(x)\n",
    "    \n",
    "    x = x+1\n",
    "    \n",
    "\n"
   ]
  },
  {
   "cell_type": "code",
   "execution_count": null,
   "id": "3114b7ce",
   "metadata": {},
   "outputs": [],
   "source": [
    "#for loop ----- iterables\n",
    "#while loop---- boolean/condition"
   ]
  },
  {
   "cell_type": "code",
   "execution_count": 9,
   "id": "6842262f",
   "metadata": {},
   "outputs": [
    {
     "data": {
      "text/plain": [
       "False"
      ]
     },
     "execution_count": 9,
     "metadata": {},
     "output_type": "execute_result"
    }
   ],
   "source": [
    "x=21\n",
    "x <= 20"
   ]
  },
  {
   "cell_type": "code",
   "execution_count": 11,
   "id": "1727d626",
   "metadata": {},
   "outputs": [
    {
     "name": "stdout",
     "output_type": "stream",
     "text": [
      "3\n",
      "4\n",
      "5\n",
      "6\n",
      "7\n",
      "8\n",
      "9\n",
      "10\n",
      "11\n",
      "12\n",
      "13\n",
      "14\n"
     ]
    }
   ],
   "source": [
    "# don't print numbers after 14\n",
    "\n",
    "x = 3\n",
    "\n",
    "while x <= 20:\n",
    "    \n",
    "    if x  == 15:\n",
    "        break\n",
    "    print(x)\n",
    "    \n",
    "    x = x+1\n",
    "\n"
   ]
  },
  {
   "cell_type": "code",
   "execution_count": 15,
   "id": "77a08c0e",
   "metadata": {},
   "outputs": [
    {
     "name": "stdout",
     "output_type": "stream",
     "text": [
      "3 4 5 6 7 8 9 10 11 12 13 14 "
     ]
    }
   ],
   "source": [
    "# number from 40 to 30\n",
    "\n",
    "i=3\n",
    "\n",
    "while i <21:\n",
    "    print(i,end=' ')\n",
    "    \n",
    "    i=i+1\n",
    "    if i> 14:\n",
    "        break"
   ]
  },
  {
   "cell_type": "code",
   "execution_count": 22,
   "id": "033a4ebc",
   "metadata": {},
   "outputs": [
    {
     "data": {
      "text/plain": [
       "[40, 39, 38, 37, 36, 35, 34, 33, 32, 31, 30]"
      ]
     },
     "execution_count": 22,
     "metadata": {},
     "output_type": "execute_result"
    }
   ],
   "source": [
    "#range(start,end,step)\n",
    "\n",
    "# start by default  = 0\n",
    "# step by default = 1\n",
    "# end index is reached\n",
    "\n",
    "\n",
    "\n",
    "list(range(40,29,-1))\n"
   ]
  },
  {
   "cell_type": "code",
   "execution_count": 31,
   "id": "fdaead63",
   "metadata": {},
   "outputs": [
    {
     "name": "stdout",
     "output_type": "stream",
     "text": [
      "6\n"
     ]
    }
   ],
   "source": [
    "# Q----Count the total number of digits in a number\n",
    "\n",
    "\n",
    "x  =  -123456\n",
    "x  = abs(x)\n",
    "y = str(x)\n",
    "\n",
    "print(len(y))\n",
    "\n",
    "\n",
    "\n"
   ]
  },
  {
   "cell_type": "code",
   "execution_count": 35,
   "id": "aa18dda9",
   "metadata": {},
   "outputs": [
    {
     "name": "stdout",
     "output_type": "stream",
     "text": [
      "1\n"
     ]
    }
   ],
   "source": [
    "\n",
    "x = -1\n",
    "print(len(str(abs(int(x)))))\n",
    "\n",
    "# abs--- gives a postitive number /mod\n",
    "\n",
    "\n"
   ]
  },
  {
   "cell_type": "code",
   "execution_count": 42,
   "id": "b16089c7",
   "metadata": {},
   "outputs": [
    {
     "data": {
      "text/plain": [
       "0"
      ]
     },
     "execution_count": 42,
     "metadata": {},
     "output_type": "execute_result"
    }
   ],
   "source": [
    "123456//10\n",
    "12345//10\n",
    "1234//10\n",
    "123//10\n",
    "12//10\n",
    "1//10"
   ]
  },
  {
   "cell_type": "markdown",
   "id": "e88682ba",
   "metadata": {},
   "source": [
    "\n",
    "while x ==0:\n"
   ]
  },
  {
   "cell_type": "code",
   "execution_count": 65,
   "id": "5cccad12",
   "metadata": {},
   "outputs": [
    {
     "name": "stdout",
     "output_type": "stream",
     "text": [
      "4\n"
     ]
    }
   ],
   "source": [
    "c = 0\n",
    "\n",
    "num = -9034\n",
    "num = abs(int(num))\n",
    "\n",
    "\n",
    "while num > 0:\n",
    "    c=c+1\n",
    "    \n",
    "    num = num//10   # 123456>------12345\n",
    "                    # 12345<------1234\n",
    "print(c)\n",
    "    \n",
    "    \n",
    "    "
   ]
  },
  {
   "cell_type": "code",
   "execution_count": 77,
   "id": "91ec4866",
   "metadata": {},
   "outputs": [
    {
     "name": "stdout",
     "output_type": "stream",
     "text": [
      "2\n",
      "4\n",
      "6\n",
      "8\n",
      "10\n",
      "10\n",
      "8\n",
      "6\n",
      "4\n",
      "2\n"
     ]
    }
   ],
   "source": [
    "### Q:----Print list in reverse order using a loop\n",
    "\n",
    "L1 = [2,4,6,8,10]\n",
    "\n",
    "# index --- 0 1 2 3 4\n",
    "\n",
    "for i in L1:\n",
    "    print(i)\n",
    "\n",
    "    \n",
    "    \n",
    "#print(L1[4],L1[3],L1[2],L1[1],L1[0])\n",
    "\n",
    "#4 3 2 1 0\n",
    "\n",
    "for z in list(range(4,-1,-1)):\n",
    "    print(L1[z])\n",
    "    \n",
    "\n",
    "\n",
    "\n"
   ]
  },
  {
   "cell_type": "code",
   "execution_count": 80,
   "id": "b797d08c",
   "metadata": {},
   "outputs": [
    {
     "name": "stdout",
     "output_type": "stream",
     "text": [
      "[2, 4, 6, 8, 10]\n",
      "[10, 8, 6, 4, 2]\n"
     ]
    }
   ],
   "source": [
    "\n",
    "print(L1)\n",
    "L1.reverse()\n",
    "print(L1)"
   ]
  },
  {
   "cell_type": "code",
   "execution_count": 85,
   "id": "27882d30",
   "metadata": {},
   "outputs": [
    {
     "name": "stdout",
     "output_type": "stream",
     "text": [
      "10 8 6 4 2\n",
      "10 8 6 4 2 "
     ]
    }
   ],
   "source": [
    "L1 = [2,4,6,8,10]\n",
    "\n",
    "print(L1[-1],L1[-2],L1[-3],L1[-4],L1[-5])\n",
    "\n",
    "# -1,-2,-3,-4,-5\n",
    "\n",
    "for d in range(-1,-6,-1):\n",
    "    print(L1[d],end=' ')"
   ]
  },
  {
   "cell_type": "code",
   "execution_count": 87,
   "id": "87f3240b",
   "metadata": {},
   "outputs": [
    {
     "data": {
      "text/plain": [
       "[10, 8, 6, 4, 2]"
      ]
     },
     "execution_count": 87,
     "metadata": {},
     "output_type": "execute_result"
    }
   ],
   "source": [
    "L1[::-1]"
   ]
  },
  {
   "cell_type": "code",
   "execution_count": 89,
   "id": "c9759d65",
   "metadata": {},
   "outputs": [
    {
     "data": {
      "text/plain": [
       "[2, 6, 10]"
      ]
     },
     "execution_count": 89,
     "metadata": {},
     "output_type": "execute_result"
    }
   ],
   "source": [
    "L1[0:5:2]"
   ]
  },
  {
   "cell_type": "code",
   "execution_count": 93,
   "id": "b29e100c",
   "metadata": {},
   "outputs": [
    {
     "name": "stdout",
     "output_type": "stream",
     "text": [
      "10 8 6 4 2 \n",
      " successfully executed\n"
     ]
    }
   ],
   "source": [
    "# Use else block to display a message “Done” after successful execution of for loop\n",
    "\n",
    "L1 = [2,4,6,8,10]\n",
    "\n",
    "for d in range(-1,-6,-1):\n",
    "    print(L1[d],end=' ')\n",
    "    \n",
    "else:\n",
    "    print('\\n','successfully executed')\n",
    "    \n",
    "    \n",
    "# else in for and while loop is an optional statement will run after the code is executed"
   ]
  },
  {
   "cell_type": "code",
   "execution_count": 101,
   "id": "9f6b6e31",
   "metadata": {},
   "outputs": [
    {
     "name": "stdout",
     "output_type": "stream",
     "text": [
      "Elements of given array present on odd position: \n"
     ]
    },
    {
     "data": {
      "text/plain": [
       "[1, 4, 8]"
      ]
     },
     "execution_count": 101,
     "metadata": {},
     "output_type": "execute_result"
    }
   ],
   "source": [
    "#. Use a loop to display elements from a given list present at odd index positions\n",
    "\n",
    "arr = [1, 2, 3, 4, 5,6,8];     \n",
    "     \n",
    "print(\"Elements of given array present on odd position: \");        \n",
    "    \n"
   ]
  },
  {
   "cell_type": "code",
   "execution_count": 111,
   "id": "215743ee",
   "metadata": {},
   "outputs": [
    {
     "name": "stdout",
     "output_type": "stream",
     "text": [
      "10\n",
      "12\n",
      "14\n",
      "0\n",
      "[10, 12, 14] 36\n"
     ]
    },
    {
     "data": {
      "text/plain": [
       "12.0"
      ]
     },
     "execution_count": 111,
     "metadata": {},
     "output_type": "execute_result"
    }
   ],
   "source": [
    "###. Write a program to swap first and last digits of a number\n",
    "\n",
    "###. Write a program that keep on accepting number from the user until user enters Zero. \n",
    "###  Display the sum and average of all the numbers\n",
    "\n",
    "n = 1\n",
    "sum = 0\n",
    "\n",
    "\n",
    "\n",
    "L1 = []\n",
    "while n !=0:\n",
    "    \n",
    "    n = int(input())\n",
    "    \n",
    "    if n==0:\n",
    "        break\n",
    "    sum =sum+n\n",
    "    L1.append(n)\n",
    "    \n",
    "    \n",
    "print(L1,sum)\n",
    "\n",
    "sum/len(L1)\n",
    "\n",
    "\n"
   ]
  },
  {
   "cell_type": "code",
   "execution_count": 113,
   "id": "a2956267",
   "metadata": {},
   "outputs": [
    {
     "name": "stdout",
     "output_type": "stream",
     "text": [
      "10\n",
      "12\n",
      "14\n",
      "0\n",
      "[10, 12, 14] 36\n"
     ]
    },
    {
     "data": {
      "text/plain": [
       "12.0"
      ]
     },
     "execution_count": 113,
     "metadata": {},
     "output_type": "execute_result"
    }
   ],
   "source": [
    "n = 1\n",
    "sum = 0\n",
    "c = 0\n",
    "\n",
    "L1 = []\n",
    "while n !=0:\n",
    "    \n",
    "    n = int(input())\n",
    "    \n",
    "    if n==0:\n",
    "        break\n",
    "    sum =sum+n\n",
    "    L1.append(n)\n",
    "    c = c+1\n",
    "    \n",
    "print(L1,sum)\n",
    "\n",
    "sum/c"
   ]
  },
  {
   "cell_type": "code",
   "execution_count": 117,
   "id": "99737936",
   "metadata": {},
   "outputs": [
    {
     "name": "stdout",
     "output_type": "stream",
     "text": [
      "malayalam\n",
      "palindrome\n"
     ]
    }
   ],
   "source": [
    "###  Write a program to check whether a given number is palindrome or not\n",
    "\n",
    "'malayalam'\n",
    "1234554321\n",
    "\n",
    "#reversed = original\n",
    "\n",
    "word = 'apple'\n",
    "\n",
    "word[::-1]\n",
    "\n",
    "\n",
    "word = input()\n",
    "\n",
    "r_word = word[::-1]\n",
    "\n",
    "print('it is a palindrome') if r_word == word else print('not a palindrome')\n",
    "\n",
    "if r_word == word:\n",
    "    print('it is a palindrome')\n",
    "else:\n",
    "    print('not a palindrome')\n",
    "    \n",
    "# short hand if else\n"
   ]
  },
  {
   "cell_type": "code",
   "execution_count": 128,
   "id": "b539da48",
   "metadata": {},
   "outputs": [
    {
     "name": "stdout",
     "output_type": "stream",
     "text": [
      "True\n"
     ]
    }
   ],
   "source": [
    "word = '12345654321'\n",
    "\n",
    "\n",
    "for i in range(0,len(word)):\n",
    "    if word[i]!=word[len(word)-1-i]:\n",
    "        print(False)\n",
    "\n",
    "print(True)\n",
    "    "
   ]
  },
  {
   "cell_type": "code",
   "execution_count": 120,
   "id": "6b787305",
   "metadata": {},
   "outputs": [
    {
     "name": "stdout",
     "output_type": "stream",
     "text": [
      "True\n"
     ]
    }
   ],
   "source": [
    "# palindrome of length 9 should satisfy...\n",
    "\n",
    "print(word[0] ==word[8] )\n",
    "print(word[1] ==word[7] )\n",
    "print(word[2] ==word[6] )\n",
    "print(word[3] ==word[5] )\n",
    "print(word[4] ==word[4] )\n"
   ]
  },
  {
   "cell_type": "code",
   "execution_count": null,
   "id": "1a072fcd",
   "metadata": {},
   "outputs": [],
   "source": [
    "###. Write a program to find frequency of each item in a list\n",
    "\n",
    "[1,2,3,3,33,3,3,4,5,70,4,34,54,65,1]\n",
    "\n",
    "1: 2\n",
    "2: 1\n",
    "3: 4\n",
    "    \n",
    "\n",
    "\n",
    "\n",
    "\n",
    "\n"
   ]
  },
  {
   "cell_type": "code",
   "execution_count": 142,
   "id": "70b07d7e",
   "metadata": {},
   "outputs": [
    {
     "name": "stdout",
     "output_type": "stream",
     "text": [
      "{1: 1}\n",
      "{1: 1, 23: 1}\n",
      "{1: 1, 23: 1, 2: 1}\n",
      "{1: 1, 23: 1, 2: 1, 5: 1}\n",
      "{1: 1, 23: 1, 2: 1, 5: 2}\n",
      "{1: 2, 23: 1, 2: 1, 5: 2}\n",
      "{1: 2, 23: 2, 2: 1, 5: 2}\n",
      "{1: 2, 23: 2, 2: 2, 5: 2}\n",
      "{1: 2, 23: 2, 2: 3, 5: 2}\n"
     ]
    }
   ],
   "source": [
    "random_list = [1,23,2,5,5,1,23,2,2]\n",
    "\n",
    "freq = {}\n",
    "\n",
    "for item in random_list:\n",
    "    \n",
    "    \n",
    "    if item in freq:\n",
    "        freq[item]+=1\n",
    "    else:\n",
    "        freq[item] = 1\n",
    "        \n",
    "    print(freq)\n",
    "\n",
    "\n",
    "\n"
   ]
  },
  {
   "cell_type": "code",
   "execution_count": 137,
   "id": "14cca47e",
   "metadata": {},
   "outputs": [
    {
     "ename": "KeyError",
     "evalue": "1",
     "output_type": "error",
     "traceback": [
      "\u001b[0;31m---------------------------------------------------------------------------\u001b[0m",
      "\u001b[0;31mKeyError\u001b[0m                                  Traceback (most recent call last)",
      "\u001b[0;32m<ipython-input-137-7b9066b0d3b8>\u001b[0m in \u001b[0;36m<module>\u001b[0;34m\u001b[0m\n\u001b[1;32m      1\u001b[0m \u001b[0mfreq\u001b[0m \u001b[0;34m=\u001b[0m \u001b[0;34m{\u001b[0m\u001b[0;34m}\u001b[0m\u001b[0;34m\u001b[0m\u001b[0m\n\u001b[1;32m      2\u001b[0m \u001b[0;34m\u001b[0m\u001b[0m\n\u001b[0;32m----> 3\u001b[0;31m \u001b[0mfreq\u001b[0m\u001b[0;34m[\u001b[0m\u001b[0;36m1\u001b[0m\u001b[0;34m]\u001b[0m\u001b[0;34m+=\u001b[0m\u001b[0;36m1\u001b[0m\u001b[0;34m\u001b[0m\u001b[0m\n\u001b[0m",
      "\u001b[0;31mKeyError\u001b[0m: 1"
     ]
    }
   ],
   "source": [
    "freq = {1:2}\n",
    "\n",
    "freq[1]+=1"
   ]
  },
  {
   "cell_type": "code",
   "execution_count": null,
   "id": "34bbb014",
   "metadata": {},
   "outputs": [],
   "source": []
  }
 ],
 "metadata": {
  "kernelspec": {
   "display_name": "Python 3",
   "language": "python",
   "name": "python3"
  },
  "language_info": {
   "codemirror_mode": {
    "name": "ipython",
    "version": 3
   },
   "file_extension": ".py",
   "mimetype": "text/x-python",
   "name": "python",
   "nbconvert_exporter": "python",
   "pygments_lexer": "ipython3",
   "version": "3.6.2"
  }
 },
 "nbformat": 4,
 "nbformat_minor": 5
}
