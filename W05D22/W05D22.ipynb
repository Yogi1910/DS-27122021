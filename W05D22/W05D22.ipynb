{
 "cells": [
  {
   "cell_type": "markdown",
   "id": "8989119d",
   "metadata": {},
   "source": [
    "### ARBITRARY PARAMETERS"
   ]
  },
  {
   "cell_type": "code",
   "execution_count": null,
   "id": "8bda0027",
   "metadata": {},
   "outputs": [],
   "source": [
    "*args\n",
    "**kwrgs"
   ]
  },
  {
   "cell_type": "markdown",
   "id": "48958db0",
   "metadata": {},
   "source": [
    "### File handling in python ---- Regular expression"
   ]
  },
  {
   "cell_type": "code",
   "execution_count": null,
   "id": "4e178730",
   "metadata": {},
   "outputs": [],
   "source": [
    "string= 'man goes off after eating mangoes'\n",
    "string2 = 'man has joined a course called DS302021'\n",
    "\n",
    "string.rfind('man')\n",
    "#course format  shortname for the course + date+ month + year + duration"
   ]
  },
  {
   "cell_type": "markdown",
   "id": "ac26169a",
   "metadata": {},
   "source": [
    "### how is a file handled in python"
   ]
  },
  {
   "cell_type": "code",
   "execution_count": null,
   "id": "99b524ca",
   "metadata": {},
   "outputs": [],
   "source": [
    "\n",
    "1) open/access\n",
    "2) read/write or perform any operation\n",
    "3) close the file\n",
    "\n",
    "\n",
    "# resources that are opened are supposed to be closed after operation"
   ]
  },
  {
   "cell_type": "code",
   "execution_count": null,
   "id": "68a483aa",
   "metadata": {},
   "outputs": [],
   "source": [
    "# how to open a file in python\n",
    "\n",
    "open()\n",
    "open(filename, mode)\n",
    "\n"
   ]
  },
  {
   "cell_type": "code",
   "execution_count": null,
   "id": "5acc59aa",
   "metadata": {},
   "outputs": [],
   "source": [
    "monkey = open('COUNTING.txt','r')\n",
    "monkey"
   ]
  },
  {
   "cell_type": "code",
   "execution_count": null,
   "id": "ce491bdf",
   "metadata": {},
   "outputs": [],
   "source": [
    "# the second parameter/argument passed to it is mode \n",
    "# and tells you what you want to do woth your data"
   ]
  },
  {
   "cell_type": "markdown",
   "id": "531498b5",
   "metadata": {},
   "source": [
    "### mode"
   ]
  },
  {
   "cell_type": "code",
   "execution_count": null,
   "id": "686dfa6f",
   "metadata": {},
   "outputs": [],
   "source": [
    "# mode\n",
    "\n",
    "1) r: open an existing file for a read operation.\n",
    "2) w: open an existing file for a write operation, \n",
    "      if the file already contains some data it will be overridden.\n",
    "3) a: open an existing file for append operation, it would not override\n",
    "      the exisiting data\n",
    "        \n",
    "4) r+:To read and write data. The previous data will not be deleted.\n",
    "5) w+:To write and read data. The previous data will be overridden.\n",
    "6) a+:To append and read data. "
   ]
  },
  {
   "cell_type": "code",
   "execution_count": null,
   "id": "d7d86cf4",
   "metadata": {},
   "outputs": [],
   "source": [
    "monkey = open('COUNTING.txt','r')\n",
    "monkey\n",
    "monkey.close()"
   ]
  },
  {
   "cell_type": "code",
   "execution_count": null,
   "id": "501d1f0b",
   "metadata": {},
   "outputs": [],
   "source": [
    "# readline()\n",
    "\n",
    "\n",
    "\n",
    "# this will read the line where my pointer or handle is\n",
    "monkey = open('COUNTING.txt','r')\n",
    "for i in range(10):\n",
    "    print(monkey.readline())\n",
    "    \n",
    "monkey.close()"
   ]
  },
  {
   "cell_type": "code",
   "execution_count": null,
   "id": "ac034434",
   "metadata": {},
   "outputs": [],
   "source": [
    "# readlines()\n",
    "\n",
    "\n",
    "\n",
    "\n",
    "# this will read all the lines and put them in a list\n",
    "\n",
    "monkey = open('COUNTING.txt','r')\n",
    "LINES = monkey.readlines()\n",
    "\n",
    "monkey.close()"
   ]
  },
  {
   "cell_type": "code",
   "execution_count": null,
   "id": "7bf31d3e",
   "metadata": {},
   "outputs": [],
   "source": [
    "LINES"
   ]
  },
  {
   "cell_type": "code",
   "execution_count": null,
   "id": "f894da25",
   "metadata": {},
   "outputs": [],
   "source": [
    "# next line operator---/n"
   ]
  },
  {
   "cell_type": "code",
   "execution_count": null,
   "id": "b92f9fd2",
   "metadata": {},
   "outputs": [],
   "source": [
    "tell()\n",
    "\n",
    "# it tells you the location of the pointer and handle\n",
    "\n",
    "monkey.tell()"
   ]
  },
  {
   "cell_type": "code",
   "execution_count": null,
   "id": "4f4b4e0f",
   "metadata": {},
   "outputs": [],
   "source": [
    "# readline() and tell()\n",
    "# this will read the line where my pointer or handle is\n",
    "\n",
    "\n",
    "monkey = open('COUNTING.txt','r')\n",
    "for i in range(10):\n",
    "    print(monkey.readline(),'handle at:  ',monkey.tell())\n",
    "\n",
    "    \n",
    "monkey.close()"
   ]
  },
  {
   "cell_type": "code",
   "execution_count": null,
   "id": "321f3827",
   "metadata": {},
   "outputs": [],
   "source": [
    "# write a file:\n",
    "# returns a number of characters that are written or tell()\n",
    "\n",
    "\n",
    "\n",
    "\n",
    "donkey  = open('WRITE2.txt','w')\n",
    "donkey.write('I am writing in this file without creating it')\n",
    "donkey.close()\n",
    "\n",
    "\n",
    "# files can be written without being in existence\n",
    "# if I want to write in a file which doesn;t exist it means it will be created automatically\n"
   ]
  },
  {
   "cell_type": "code",
   "execution_count": null,
   "id": "4ee71a64",
   "metadata": {},
   "outputs": [],
   "source": [
    "# append a file\n",
    "\n",
    "lion = open('WRITE2.txt','a')\n",
    "lion.write('---->. \\n\\n\\n this is what I am writing with the help of append')\n",
    "\n",
    "\n",
    "lion.close()\n",
    "\n",
    "\n",
    "\n"
   ]
  },
  {
   "cell_type": "code",
   "execution_count": null,
   "id": "c887f478",
   "metadata": {},
   "outputs": [],
   "source": [
    "# read and write\n",
    "\n",
    "\n",
    "\n",
    "tiger = open('WRITE2.txt','r+')\n",
    "print(tiger.tell())\n",
    "tiger.readlines()\n",
    "\n",
    "tiger.write('lets cross check Luckhbir doubt here if we can write or not')\n",
    "\n",
    "tiger.close()\n",
    "            "
   ]
  },
  {
   "cell_type": "code",
   "execution_count": null,
   "id": "3a20e4f7",
   "metadata": {},
   "outputs": [],
   "source": [
    "# write and read\n",
    "\n"
   ]
  },
  {
   "cell_type": "code",
   "execution_count": null,
   "id": "989cf80f",
   "metadata": {
    "scrolled": true
   },
   "outputs": [],
   "source": [
    "# write and read\n",
    "\n",
    "puma = open('WRITE3.txt','w+')\n",
    "print(puma.tell())\n",
    "\n",
    "\n",
    "puma.write('lets cross check Luckhbir doubt here if we can write or not')\n",
    "print(puma.tell())\n",
    "\n",
    "puma.close()"
   ]
  },
  {
   "cell_type": "code",
   "execution_count": null,
   "id": "b44e2409",
   "metadata": {},
   "outputs": [],
   "source": [
    "# append and write\n",
    "\n",
    "cheetah = open('WRITE3.txt','a+')\n",
    "print(cheetah.tell())\n",
    "\n",
    "\n",
    "\n",
    "cheetah.write('\\n\\n I think we are done with the modes, I hope you find them easy.')\n",
    "cheetah.close()"
   ]
  },
  {
   "cell_type": "code",
   "execution_count": null,
   "id": "70b1397c",
   "metadata": {},
   "outputs": [],
   "source": [
    "# Question:  read a file and put all the content in a different file apart from line no 5\n",
    "\n",
    "file1 = open('COUNTING.txt','r')\n",
    "file2 = open('COUNTING1.txt','w')\n",
    "\n",
    "L = file1.readlines()\n",
    "\n",
    "handle = 1\n",
    "\n",
    "for i in L:\n",
    "    \n",
    "    if handle!=5:\n",
    "        file2.write(i)\n",
    "        \n",
    "    handle+=1\n",
    "\n",
    "\n"
   ]
  },
  {
   "cell_type": "code",
   "execution_count": null,
   "id": "2ffb34af",
   "metadata": {},
   "outputs": [],
   "source": [
    "# Question:  read a file and put all the content in a different file apart from line no 5\n",
    "\n",
    "file1 = open('COUNTING.txt','r')\n",
    "\n",
    "file2 = open('COUNTING2.txt','w')\n",
    "\n",
    "# L = file1.readlines()\n",
    "\n",
    "i = 0\n",
    "\n",
    "for i in range(10):\n",
    "    \n",
    "    a = file1.readline()\n",
    "    if i!=4:\n",
    "    \n",
    "    \n",
    "        \n",
    "        print(a)\n",
    "        file2.write(a)\n",
    "    \n",
    "    i+=1\n",
    "    \n",
    "file2.close()\n",
    "    \n",
    "    \n",
    "\n"
   ]
  },
  {
   "cell_type": "code",
   "execution_count": null,
   "id": "cedcc0f2",
   "metadata": {},
   "outputs": [],
   "source": [
    "# Question: put content of one file into another\n",
    "\n",
    "file1 = open('COUNTING.txt')\n",
    "\n",
    "file2 = open('COUNTING3.txt','w')\n",
    "\n",
    "L = file1.readlines()\n",
    "\n",
    "file1.close()\n",
    "\n",
    "for i in L:\n",
    "    \n",
    "    file2.write(i)\n",
    "    \n",
    "file2.close()\n",
    "\n"
   ]
  },
  {
   "cell_type": "code",
   "execution_count": null,
   "id": "f6da9194",
   "metadata": {},
   "outputs": [],
   "source": [
    "x = \"\".join(L)\n",
    "\n",
    "file2 = open('COUNTING4.txt','w')\n",
    "\n",
    "file2.write(x)\n",
    "\n",
    "file2.close()\n"
   ]
  },
  {
   "cell_type": "code",
   "execution_count": null,
   "id": "c253af4a",
   "metadata": {},
   "outputs": [],
   "source": [
    "x"
   ]
  },
  {
   "cell_type": "code",
   "execution_count": null,
   "id": "87302dbb",
   "metadata": {},
   "outputs": [],
   "source": []
  }
 ],
 "metadata": {
  "kernelspec": {
   "display_name": "Python 3",
   "language": "python",
   "name": "python3"
  },
  "language_info": {
   "codemirror_mode": {
    "name": "ipython",
    "version": 3
   },
   "file_extension": ".py",
   "mimetype": "text/x-python",
   "name": "python",
   "nbconvert_exporter": "python",
   "pygments_lexer": "ipython3",
   "version": "3.6.2"
  }
 },
 "nbformat": 4,
 "nbformat_minor": 5
}
