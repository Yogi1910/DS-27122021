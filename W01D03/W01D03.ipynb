{
 "cells": [
  {
   "cell_type": "markdown",
   "id": "38eaefc0",
   "metadata": {},
   "source": [
    "## DS DAY03"
   ]
  },
  {
   "cell_type": "markdown",
   "id": "1d076b19",
   "metadata": {},
   "source": [
    "#### So far : \n",
    "\n",
    "1. Data Types (standard/inbuilt)\n",
    "2. Indexing /Selection"
   ]
  },
  {
   "cell_type": "code",
   "execution_count": 9,
   "id": "7d189445",
   "metadata": {},
   "outputs": [
    {
     "name": "stdout",
     "output_type": "stream",
     "text": [
      "{1, 2, 3}\n",
      "<class 'set'>\n",
      "<class 'dict'>\n",
      "<class 'set'>\n",
      "<class 'list'> <class 'list'>\n",
      "<class 'tuple'>\n"
     ]
    }
   ],
   "source": [
    "# sets are collection of keys\n",
    "# dictionaries are cllection of key:value pairs\n",
    "\n",
    "S1 = {1,2,3,3,3,3,3,3,3}\n",
    "print(S1)\n",
    "print(type(S1))\n",
    "\n",
    "\n",
    "D1= dict()\n",
    "print(type(D1))\n",
    "\n",
    "ST1 = set()\n",
    "print(type(ST1))\n",
    "\n",
    "L1 = []\n",
    "L2 =list()\n",
    "\n",
    "print(type(L1),type(L2))\n",
    "\n",
    "T1 = (1,2,3,4,'pineapple')\n",
    "print(type(T1))\n",
    "\n"
   ]
  },
  {
   "cell_type": "code",
   "execution_count": 30,
   "id": "381d9dd2",
   "metadata": {},
   "outputs": [
    {
     "name": "stdout",
     "output_type": "stream",
     "text": [
      "4\n",
      "6\n",
      "4378608200\n",
      "6\n"
     ]
    }
   ],
   "source": [
    "L1 = [1,2,3,'four']\n",
    "print(len(L1))\n",
    "\n",
    "L2 = [1,2,3,100,200,{'year':2022}]\n",
    "print(len(L2))\n",
    "\n",
    "L3 = [1,2,30,L2]\n",
    "\n",
    "# variable assignment RHS= object\n",
    "\n",
    "# variable/name = object\n",
    "\n",
    "# find the address of the object ----  id()\n",
    "\n",
    "print(id(L1))\n",
    "\n",
    "# function to check the size/length. of the object --- len()\n",
    "\n",
    "# python syntex are case sensitive\n",
    "\n",
    "print(len(L3[3]))\n",
    "\n",
    "# reds are string/ greens are reserved names/function\n",
    "\n",
    "\n",
    "# never try to use reserved keys/function as name /variables"
   ]
  },
  {
   "cell_type": "code",
   "execution_count": 33,
   "id": "e7656e41",
   "metadata": {},
   "outputs": [
    {
     "name": "stdout",
     "output_type": "stream",
     "text": [
      "3\n",
      "<class 'list'>\n",
      "4378586312\n",
      "['sun', 'mon', 'TUESDAY']\n",
      "4378586312\n",
      "4380740936\n"
     ]
    }
   ],
   "source": [
    "L1 = ['sun','mon','tue'] \n",
    "\n",
    "print(len(L1))\n",
    "print(type(L1))\n",
    "print(id(L1))\n",
    "\n",
    "# update the 3rd element of list L1 and make it 'Tuesday'\n",
    "# list indexing/selection is done by []\n",
    "\n",
    "\n",
    "L1[2] = 'TUESDAY'\n",
    "print(L1)\n",
    "print(id(L1))\n",
    "\n",
    "\n",
    "# altogether a new object\n",
    "L1 = ['wed', 'thu','fri']\n",
    "print(id(L1))\n",
    "\n"
   ]
  },
  {
   "cell_type": "markdown",
   "id": "2e5d795d",
   "metadata": {},
   "source": [
    "### Data types ----summary"
   ]
  },
  {
   "cell_type": "code",
   "execution_count": null,
   "id": "14cb9c6a",
   "metadata": {},
   "outputs": [],
   "source": [
    "1. List \n",
    "declaration = [], list()\n",
    "mutable\n",
    "ordered\n",
    "indexing\n",
    "\n",
    "2. Tuple \n",
    "declaration = ()\n",
    "immutable (data-protected)\n",
    "Indexing\n",
    "\n",
    "3. string\n",
    "declaration = '', \"\", '''  ''' (multiline string)\n",
    "immutable\n",
    "\n",
    "4. Sets\n",
    "declaration = set()\n",
    "not ordered\n",
    "collection of keys\n",
    "eliminate duplicates\n",
    "indexing has no meanign here\n",
    "\n",
    "5. Dictionaries\n",
    "declaration = dict(),   avoid using--{}\n",
    "key value pairs\n",
    "\n",
    "6. integer\n",
    "delaration = int()\n",
    "immuatble\n",
    "\n",
    "7. float\n",
    "declare =float()\n",
    "immuatable\n"
   ]
  },
  {
   "cell_type": "code",
   "execution_count": 36,
   "id": "952110f1",
   "metadata": {},
   "outputs": [
    {
     "name": "stdout",
     "output_type": "stream",
     "text": [
      "(1, 2, 3, 'sun', 'mon')\n",
      "<class 'tuple'>\n"
     ]
    },
    {
     "ename": "TypeError",
     "evalue": "'tuple' object does not support item assignment",
     "output_type": "error",
     "traceback": [
      "\u001b[0;31m---------------------------------------------------------------------------\u001b[0m",
      "\u001b[0;31mTypeError\u001b[0m                                 Traceback (most recent call last)",
      "\u001b[0;32m<ipython-input-36-b1bb07e423a4>\u001b[0m in \u001b[0;36m<module>\u001b[0;34m\u001b[0m\n\u001b[1;32m      3\u001b[0m \u001b[0mprint\u001b[0m\u001b[0;34m(\u001b[0m\u001b[0mtype\u001b[0m\u001b[0;34m(\u001b[0m\u001b[0mT1\u001b[0m\u001b[0;34m)\u001b[0m\u001b[0;34m)\u001b[0m\u001b[0;34m\u001b[0m\u001b[0m\n\u001b[1;32m      4\u001b[0m \u001b[0;34m\u001b[0m\u001b[0m\n\u001b[0;32m----> 5\u001b[0;31m \u001b[0mT1\u001b[0m\u001b[0;34m[\u001b[0m\u001b[0;36m3\u001b[0m\u001b[0;34m]\u001b[0m\u001b[0;34m=\u001b[0m \u001b[0;34m'SUNDAY'\u001b[0m\u001b[0;34m\u001b[0m\u001b[0m\n\u001b[0m",
      "\u001b[0;31mTypeError\u001b[0m: 'tuple' object does not support item assignment"
     ]
    }
   ],
   "source": [
    "T1 = (1,2,3,'sun','mon')\n",
    "print(T1)\n",
    "print(type(T1))\n",
    "\n",
    "T1[3]= 'SUNDAY'"
   ]
  },
  {
   "cell_type": "code",
   "execution_count": 37,
   "id": "3c5924e4",
   "metadata": {},
   "outputs": [
    {
     "name": "stdout",
     "output_type": "stream",
     "text": [
      "<class 'str'>\n"
     ]
    }
   ],
   "source": [
    "\n",
    "S1 = '''I am masood\n",
    "I am siddhu\n",
    "I prasanth'''\n",
    "\n",
    "print(type(S1))"
   ]
  },
  {
   "cell_type": "code",
   "execution_count": 38,
   "id": "c3db4361",
   "metadata": {},
   "outputs": [
    {
     "ename": "TypeError",
     "evalue": "'str' object does not support item assignment",
     "output_type": "error",
     "traceback": [
      "\u001b[0;31m---------------------------------------------------------------------------\u001b[0m",
      "\u001b[0;31mTypeError\u001b[0m                                 Traceback (most recent call last)",
      "\u001b[0;32m<ipython-input-38-df858e873c92>\u001b[0m in \u001b[0;36m<module>\u001b[0;34m\u001b[0m\n\u001b[1;32m      1\u001b[0m \u001b[0mDay\u001b[0m \u001b[0;34m=\u001b[0m \u001b[0;34m'SUNDAI'\u001b[0m\u001b[0;34m\u001b[0m\u001b[0m\n\u001b[0;32m----> 2\u001b[0;31m \u001b[0mDay\u001b[0m\u001b[0;34m[\u001b[0m\u001b[0;36m5\u001b[0m\u001b[0;34m]\u001b[0m \u001b[0;34m=\u001b[0m \u001b[0;34m'Y'\u001b[0m\u001b[0;34m\u001b[0m\u001b[0m\n\u001b[0m",
      "\u001b[0;31mTypeError\u001b[0m: 'str' object does not support item assignment"
     ]
    }
   ],
   "source": [
    "Day = 'SUNDAI'\n",
    "Day[5] = 'Y'\n"
   ]
  },
  {
   "cell_type": "code",
   "execution_count": 47,
   "id": "06b36dfd",
   "metadata": {},
   "outputs": [
    {
     "name": "stdout",
     "output_type": "stream",
     "text": [
      "<class 'dict'>\n",
      "{'year': 2022, 'mon': 'jan', 1: 'one'}\n",
      "{'year': 2022, 'mon': 'jan', 1: 'ONE', 2: 'TWO'}\n"
     ]
    }
   ],
   "source": [
    "D = {'year':2022,'mon':'jan',1:'one'}\n",
    "print(type(D))\n",
    "\n",
    "print(D)\n",
    "\n",
    "# retrieve the value for key =1\n",
    "D[1]\n",
    "\n",
    "D[1]= 'ONE'\n",
    "\n",
    "D[2]= 'TWO'\n",
    "\n",
    "\n",
    "\n",
    "\n",
    "\n",
    "\n",
    "print(D)"
   ]
  },
  {
   "cell_type": "code",
   "execution_count": 50,
   "id": "94add588",
   "metadata": {},
   "outputs": [
    {
     "name": "stdout",
     "output_type": "stream",
     "text": [
      "0 0.0 \n"
     ]
    }
   ],
   "source": [
    "I = int()\n",
    "F = float()\n",
    "\n",
    "\n",
    "print(I,F,S)"
   ]
  },
  {
   "cell_type": "code",
   "execution_count": 51,
   "id": "2ef1d0e4",
   "metadata": {},
   "outputs": [
    {
     "name": "stdout",
     "output_type": "stream",
     "text": [
      "\n"
     ]
    }
   ],
   "source": [
    "S = str()\n",
    "print(S)"
   ]
  },
  {
   "cell_type": "markdown",
   "id": "cc3c1749",
   "metadata": {},
   "source": [
    "## Indexing"
   ]
  },
  {
   "cell_type": "code",
   "execution_count": 60,
   "id": "8cb37304",
   "metadata": {},
   "outputs": [
    {
     "name": "stdout",
     "output_type": "stream",
     "text": [
      "400\n",
      "400\n",
      "5\n"
     ]
    }
   ],
   "source": [
    "#Forward indexing\n",
    "#Backward indexing\n",
    "\n",
    "list1 = [100,200,400,800,'mango']\n",
    "\n",
    "#Findex = [0,1,2,3,4]\n",
    "\n",
    "#Bindex = [-5,-4,-3,-2,-1]\n",
    "\n",
    "# Gindex= eliminate len(list1) from each element of Findex  [0-5,1-5,2-5,3-5,4-5] = [-5,-4,-3,-2,-1] (Bindex)\n",
    "\n",
    "print(list1[2])\n",
    "print(list1[-3])\n",
    "print(len(list1))\n"
   ]
  },
  {
   "cell_type": "code",
   "execution_count": 56,
   "id": "01d97381",
   "metadata": {},
   "outputs": [
    {
     "data": {
      "text/plain": [
       "200"
      ]
     },
     "execution_count": 56,
     "metadata": {},
     "output_type": "execute_result"
    }
   ],
   "source": []
  },
  {
   "cell_type": "code",
   "execution_count": 76,
   "id": "0fae9796",
   "metadata": {},
   "outputs": [
    {
     "name": "stdout",
     "output_type": "stream",
     "text": [
      "[800, 'mango']\n"
     ]
    }
   ],
   "source": [
    "list1 = [100,200,400,800,'mango']\n",
    "# slicing = if yu want toextract more than one element.\n",
    "\n",
    "print(list1[3:5]) # [3:5] means 4th and 5th element\n",
    " \n"
   ]
  },
  {
   "cell_type": "markdown",
   "id": "4612d8ce",
   "metadata": {},
   "source": [
    "### Conversion of Data Types\n",
    "\n"
   ]
  },
  {
   "cell_type": "code",
   "execution_count": 67,
   "id": "1e2551f9",
   "metadata": {},
   "outputs": [
    {
     "name": "stdout",
     "output_type": "stream",
     "text": [
      "13\n"
     ]
    }
   ],
   "source": [
    "S =  'My age is 13'\n",
    "#print(len(S))\n",
    "print(S[10:12])\n",
    "\n",
    "# for a sliciing [i:j] elements of i to j-1 are selected\n",
    "# j is excluded in slicing [i:j]"
   ]
  },
  {
   "cell_type": "code",
   "execution_count": 91,
   "id": "4fcfb8ba",
   "metadata": {},
   "outputs": [
    {
     "name": "stdout",
     "output_type": "stream",
     "text": [
      "<class 'float'>\n",
      "<class 'int'>\n",
      "<class 'float'>\n",
      "<class 'str'>\n",
      "<class 'list'>\n",
      "{400, 1, 2, 3} <class 'set'>\n",
      "(1, 2, 3, 400, 400) <class 'tuple'>\n"
     ]
    }
   ],
   "source": [
    "#1. int to float Vice versa\n",
    "\n",
    "\n",
    "a= 8.06\n",
    "print(type(a))\n",
    "b=int(a)\n",
    "print(type(b))\n",
    "\n",
    "2. # string to an integer --- depends on compatibility\n",
    "# integer/float to string    ---\n",
    "\n",
    "a =3.90\n",
    "print(type(a))\n",
    "b=str(a)\n",
    "print(type(b))\n",
    "\n",
    "3. \n",
    "L1=[1,2,3,400,400]\n",
    "print(type(L1))\n",
    "\n",
    "S1 = set(L1)\n",
    "print(S1,type(S1))\n",
    "\n",
    "T1 = tuple(L1)\n",
    "print(T1,type(T1))\n",
    "\n",
    "\n",
    "\n",
    "\n",
    "\n"
   ]
  },
  {
   "cell_type": "code",
   "execution_count": null,
   "id": "2bdddb8f",
   "metadata": {},
   "outputs": [],
   "source": []
  }
 ],
 "metadata": {
  "kernelspec": {
   "display_name": "Python 3",
   "language": "python",
   "name": "python3"
  },
  "language_info": {
   "codemirror_mode": {
    "name": "ipython",
    "version": 3
   },
   "file_extension": ".py",
   "mimetype": "text/x-python",
   "name": "python",
   "nbconvert_exporter": "python",
   "pygments_lexer": "ipython3",
   "version": "3.6.2"
  }
 },
 "nbformat": 4,
 "nbformat_minor": 5
}
