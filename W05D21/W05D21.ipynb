{
 "cells": [
  {
   "cell_type": "code",
   "execution_count": 20,
   "id": "d822099c",
   "metadata": {},
   "outputs": [
    {
     "name": "stdout",
     "output_type": "stream",
     "text": [
      "yep\n"
     ]
    }
   ],
   "source": [
    "# Question:1\n",
    "# check different bool values or true equivalents \n",
    "\n",
    "x = [1]\n",
    "\n",
    "if x:\n",
    "    print('yep')\n",
    "    \n",
    "else:\n",
    "    print('oh no')\n",
    "    \n",
    "\n",
    "  \n",
    "    "
   ]
  },
  {
   "cell_type": "code",
   "execution_count": 18,
   "id": "5cc95209",
   "metadata": {},
   "outputs": [
    {
     "data": {
      "text/plain": [
       "False"
      ]
     },
     "execution_count": 18,
     "metadata": {},
     "output_type": "execute_result"
    }
   ],
   "source": [
    "bool equivalent  = False\n",
    "\n",
    "# 0\n",
    "# 0.0\n",
    "# False\n",
    "# None\n",
    "# {},[]"
   ]
  },
  {
   "cell_type": "code",
   "execution_count": 23,
   "id": "0dd4c379",
   "metadata": {},
   "outputs": [
    {
     "data": {
      "text/plain": [
       "''"
      ]
     },
     "execution_count": 23,
     "metadata": {},
     "output_type": "execute_result"
    }
   ],
   "source": [
    "x = str()\n",
    "x"
   ]
  },
  {
   "cell_type": "code",
   "execution_count": 55,
   "id": "91408fa6",
   "metadata": {},
   "outputs": [
    {
     "data": {
      "text/plain": [
       "{'cube': 3, 'monkey': 4}"
      ]
     },
     "execution_count": 55,
     "metadata": {},
     "output_type": "execute_result"
    }
   ],
   "source": [
    "# how to change the key of a dictionary\n",
    "\n",
    "\n",
    "D = {'cube':3,'square':4}\n",
    "\n",
    "D['monkey'] = D.pop('square')       # assignment/key generation after popping\n",
    "\n",
    "D\n",
    "\n"
   ]
  },
  {
   "cell_type": "code",
   "execution_count": 31,
   "id": "59712376",
   "metadata": {},
   "outputs": [
    {
     "data": {
      "text/plain": [
       "4.0"
      ]
     },
     "execution_count": 31,
     "metadata": {},
     "output_type": "execute_result"
    }
   ],
   "source": [
    "# round of the values in python\n",
    "# round(float_number, no of digits)\n",
    "\n",
    "\n",
    "round(4.987,4)\n",
    "\n",
    "4.999//1\n",
    "\n",
    "round(4.491,0)"
   ]
  },
  {
   "cell_type": "code",
   "execution_count": 52,
   "id": "0cd80fda",
   "metadata": {},
   "outputs": [
    {
     "data": {
      "text/plain": [
       "4"
      ]
     },
     "execution_count": 52,
     "metadata": {},
     "output_type": "execute_result"
    }
   ],
   "source": [
    "import math\n",
    "\n",
    "\n",
    "math.__doc__\n",
    "\n",
    "dir(math)\n",
    "\n",
    "\n",
    "\n",
    "math.ceil(4.987)   # round up\n",
    "math.floor(4.987)  # round down\n"
   ]
  },
  {
   "cell_type": "code",
   "execution_count": 56,
   "id": "dcd73f22",
   "metadata": {},
   "outputs": [
    {
     "name": "stdout",
     "output_type": "stream",
     "text": [
      "!\n",
      "\"\n",
      "#\n",
      "$\n",
      "%\n",
      "&\n",
      "'\n",
      "(\n",
      ")\n"
     ]
    }
   ],
   "source": [
    "for i in range(ord('!'),ord('*')):\n",
    "    print(chr(i))"
   ]
  },
  {
   "cell_type": "code",
   "execution_count": null,
   "id": "c3c083d6",
   "metadata": {},
   "outputs": [],
   "source": [
    "def parrot(voltage, state='a stiff', action='voom', type='Norwegian Blue'):\n",
    "    \n",
    "    print(\"-- This parrot wouldn't\", action, end=' ')\n",
    "    \n",
    "    print(\"if you put\", voltage, \"volts through it.\")\n",
    "    \n",
    "    print(\"-- Lovely plumage, the\", type)\n",
    "    \n",
    "    print(\"-- It's\", state, \"!\")\n",
    "    \n",
    "\n"
   ]
  },
  {
   "cell_type": "code",
   "execution_count": null,
   "id": "f1fe0754",
   "metadata": {},
   "outputs": [],
   "source": [
    "# keyword aguments\n",
    "# indifferent\n",
    "func(a = 100, b=200)\n",
    "\n",
    "func(b = 200,a = 100)\n",
    "\n",
    "\n",
    "# positional arguments\n",
    "func (a,b)\n",
    "\n",
    "\n",
    "different\n",
    "func(100,200)\n",
    "func(200,100)\n"
   ]
  },
  {
   "cell_type": "code",
   "execution_count": null,
   "id": "9b5e1bb7",
   "metadata": {},
   "outputs": [],
   "source": [
    "parrot(1000)                                          # 1 positional argument\n",
    "parrot(voltage=1000)                                  # 1 keyword argument\n",
    "parrot(voltage=1000000, action='VOOOOOM')             # 2 keyword arguments\n",
    "parrot(action='VOOOOOM', voltage=1000000)             # 2 keyword arguments\n",
    "parrot('a million', 'bereft of life', 'jump')         # 3 positional arguments\n",
    "parrot('a thousand', state='pushing up the daisies')  # 1 positional, 1 keyword\n"
   ]
  },
  {
   "cell_type": "code",
   "execution_count": 59,
   "id": "1a630c62",
   "metadata": {},
   "outputs": [],
   "source": [
    "def parrot(voltage, state='a stiff', action='voom', type='Norwegian Blue'):\n",
    "    \n",
    "    print(\"-- This parrot wouldn't\", action, end=' ')\n",
    "    \n",
    "    print(\"if you put\", voltage, \"volts through it.\")\n",
    "    \n",
    "    print(\"-- Lovely plumage, the\", type)\n",
    "    \n",
    "    print(\"-- It's\", state, \"!\")\n",
    "    \n",
    "                                         "
   ]
  },
  {
   "cell_type": "code",
   "execution_count": 67,
   "id": "64c43528",
   "metadata": {},
   "outputs": [
    {
     "name": "stdout",
     "output_type": "stream",
     "text": [
      "-- This parrot wouldn't jump if you put a million volts through it.\n",
      "-- Lovely plumage, the Norwegian Blue\n",
      "-- It's bereft of life !\n",
      "-- This parrot wouldn't voom if you put a thousand volts through it.\n",
      "-- Lovely plumage, the Norwegian Blue\n",
      "-- It's pushing up the daisies !\n"
     ]
    }
   ],
   "source": [
    "# parrot(1000)                                          # 1 positional argument\n",
    "\n",
    "# parrot(voltage=1000)                                  # 1 keyword argument\n",
    "\n",
    "# parrot(voltage=1000000, action='VOOOOOM')             # 2 keyword arguments\n",
    "\n",
    "# parrot(action='VOOOOOM', voltage=1000000)             # 2 keyword arguments\n",
    "\n",
    "# parrot('a million', 'bereft of life', 'jump')         # 3 positional arguments\n",
    "\n",
    "# parrot('a thousand', state='pushing up the daisies')  # 1 positional, 1 keyword\n",
    "\n"
   ]
  },
  {
   "cell_type": "code",
   "execution_count": 68,
   "id": "9ab0a62a",
   "metadata": {},
   "outputs": [
    {
     "name": "stdout",
     "output_type": "stream",
     "text": [
      "0\n",
      "1\n",
      "2\n"
     ]
    }
   ],
   "source": [
    "# intitislise\n",
    "# condition\n",
    "# increment/decrement\n",
    "\n",
    "i = 0\n",
    "\n",
    "while i < 5:\n",
    "\tprint(i)\n",
    "\ti += 1\n",
    "\tif i == 3:\n",
    "\t\tbreak\n",
    "else:\n",
    "\tprint(0)\n",
    "\n",
    "    "
   ]
  },
  {
   "cell_type": "code",
   "execution_count": 76,
   "id": "ecbcc6f4",
   "metadata": {},
   "outputs": [
    {
     "ename": "TabError",
     "evalue": "inconsistent use of tabs and spaces in indentation (<ipython-input-76-8002be48b86d>, line 4)",
     "output_type": "error",
     "traceback": [
      "\u001b[0;36m  File \u001b[0;32m\"<ipython-input-76-8002be48b86d>\"\u001b[0;36m, line \u001b[0;32m4\u001b[0m\n\u001b[0;31m    a = a * 2\u001b[0m\n\u001b[0m             ^\u001b[0m\n\u001b[0;31mTabError\u001b[0m\u001b[0;31m:\u001b[0m inconsistent use of tabs and spaces in indentation\n"
     ]
    }
   ],
   "source": [
    "def myfunc(a):\n",
    "    \n",
    "\ta = a + 2\n",
    " \n",
    "        a = a * 2\n",
    "        \n",
    "\treturn a\n",
    "\n",
    "\n",
    "print(myfunc(2))\n"
   ]
  },
  {
   "cell_type": "code",
   "execution_count": 75,
   "id": "9d6d31df",
   "metadata": {},
   "outputs": [
    {
     "data": {
      "text/plain": [
       "8"
      ]
     },
     "execution_count": 75,
     "metadata": {},
     "output_type": "execute_result"
    }
   ],
   "source": []
  },
  {
   "cell_type": "code",
   "execution_count": 77,
   "id": "2e49b3a1",
   "metadata": {},
   "outputs": [
    {
     "name": "stdout",
     "output_type": "stream",
     "text": [
      "abcd\n"
     ]
    }
   ],
   "source": [
    "L = ['a','b','c','d']\n",
    "print(\"\".join(L))\n"
   ]
  },
  {
   "cell_type": "code",
   "execution_count": null,
   "id": "36a92bf3",
   "metadata": {},
   "outputs": [],
   "source": [
    "Given a string s = “Welcome”, which of the following code is incorrect?\n",
    "(A) print(s[0])\n",
    "(B) print(s.lower())\n",
    "(C) s[1] = ‘r’\n",
    "(D) print(s.strip())"
   ]
  },
  {
   "cell_type": "markdown",
   "id": "cb730740",
   "metadata": {},
   "source": [
    "### Arbitrary Keyword Argument"
   ]
  },
  {
   "cell_type": "code",
   "execution_count": null,
   "id": "4ef0d7b9",
   "metadata": {},
   "outputs": [],
   "source": [
    "*args\n",
    "\n",
    "#mutiple argumentz of varied length can be taken with *args\n",
    "# tuple ---packed\n",
    "**kwargs\n",
    "\n",
    "#mutiple keyword arguments of varied length can be taken with *kwargs\n",
    "# dictionary---packed\n",
    "# name = 'value'"
   ]
  },
  {
   "cell_type": "code",
   "execution_count": 80,
   "id": "7f3fbcd5",
   "metadata": {},
   "outputs": [
    {
     "name": "stdout",
     "output_type": "stream",
     "text": [
      "('Akshay', 'Asad', 'Ayushi', 'Akansha', 'Anwesh')\n"
     ]
    }
   ],
   "source": [
    "def AFP(*args):\n",
    "    print(args)\n",
    "    \n",
    "AFP('Akshay','Asad','Ayushi','Akansha','Anwesh')"
   ]
  },
  {
   "cell_type": "code",
   "execution_count": 97,
   "id": "baf35938",
   "metadata": {},
   "outputs": [],
   "source": [
    "def AFP1(**names):\n",
    "    #print(names)\n",
    "    \n",
    "    print('welcome  ' + names['fname'] + '  ' +names['mname'] +' ' + names['lname'])\n",
    "\n"
   ]
  },
  {
   "cell_type": "code",
   "execution_count": 98,
   "id": "0ce8b90b",
   "metadata": {},
   "outputs": [
    {
     "name": "stdout",
     "output_type": "stream",
     "text": [
      "welcome  sachin  ramesh tendulkar\n"
     ]
    }
   ],
   "source": [
    "AFP1(fname='sachin',mname = 'ramesh',lname ='tendulkar',animal = 'monkey')"
   ]
  },
  {
   "cell_type": "code",
   "execution_count": null,
   "id": "d53cee1a",
   "metadata": {},
   "outputs": [],
   "source": [
    "example_function(*a,**b)\n",
    "\n",
    "# Q:  can this function take more than 1 keyword argument?\n",
    "\n"
   ]
  },
  {
   "cell_type": "code",
   "execution_count": 102,
   "id": "462e1bab",
   "metadata": {},
   "outputs": [
    {
     "name": "stdout",
     "output_type": "stream",
     "text": [
      "/Library/Frameworks/Python.framework/Versions/3.6/lib/python36.zip\n",
      "/Library/Frameworks/Python.framework/Versions/3.6/lib/python3.6\n",
      "/Library/Frameworks/Python.framework/Versions/3.6/lib/python3.6/lib-dynload\n",
      "\n",
      "/Library/Frameworks/Python.framework/Versions/3.6/lib/python3.6/site-packages\n",
      "/Library/Frameworks/Python.framework/Versions/3.6/lib/python3.6/site-packages/IPython/extensions\n",
      "/Users/yogeshnailwal/.ipython\n"
     ]
    }
   ],
   "source": [
    "# where do we keep our package and modules\n",
    "\n",
    "import sys\n",
    "\n",
    "for i in sys.path:\n",
    "    print(i)\n",
    "    \n"
   ]
  },
  {
   "cell_type": "code",
   "execution_count": 113,
   "id": "0a29f292",
   "metadata": {},
   "outputs": [
    {
     "data": {
      "text/plain": [
       "['name', 'age', 'really']"
      ]
     },
     "execution_count": 113,
     "metadata": {},
     "output_type": "execute_result"
    }
   ],
   "source": [
    "# dict to list conversion\n",
    "\n",
    "A = {'name':\"Kelly\",'age':9000}\n",
    "\n",
    "A['really?'] = 'kidding'\n",
    "\n",
    "list(A)"
   ]
  },
  {
   "cell_type": "code",
   "execution_count": null,
   "id": "d6a901e2",
   "metadata": {},
   "outputs": [],
   "source": [
    "# create two modules:\n",
    "\n",
    "# freq of a letter in a word\n",
    "\n",
    "# key for maximum value\n",
    "\n",
    "#"
   ]
  },
  {
   "cell_type": "code",
   "execution_count": 119,
   "id": "02790776",
   "metadata": {},
   "outputs": [
    {
     "name": "stdout",
     "output_type": "stream",
     "text": [
      "age\n"
     ]
    }
   ],
   "source": [
    "##getting key for maximum value in a dictionary\n",
    "\n",
    "A = {'name':6000,'age':9000}\n",
    "V = list(A.values())\n",
    "K = list(A.keys())\n",
    "B.index(max(B))\n",
    "print(K[B.index(max(B))])"
   ]
  },
  {
   "cell_type": "code",
   "execution_count": 1,
   "id": "ad83d695",
   "metadata": {},
   "outputs": [],
   "source": [
    "from PACKAGE2 import *"
   ]
  },
  {
   "cell_type": "code",
   "execution_count": 2,
   "id": "b233c217",
   "metadata": {},
   "outputs": [
    {
     "data": {
      "text/plain": [
       "{'A': 1, 'B': 1, 'C': 1}"
      ]
     },
     "execution_count": 2,
     "metadata": {},
     "output_type": "execute_result"
    }
   ],
   "source": [
    "module1.freq('ABC')\n",
    "module2"
   ]
  },
  {
   "cell_type": "code",
   "execution_count": 3,
   "id": "82fa1e17",
   "metadata": {},
   "outputs": [
    {
     "data": {
      "text/plain": [
       "<module 'PACKAGE2.module2' from '/Users/yogeshnailwal/Desktop/EDYODA/W05D21/PACKAGE2/module2.py'>"
      ]
     },
     "execution_count": 3,
     "metadata": {},
     "output_type": "execute_result"
    }
   ],
   "source": [
    "# a name/variable of __all__ equal to all the modules to be imported\n",
    "\n",
    "# then your from package import * command will fetch only those modules\n",
    "\n",
    "––all__ is a list = ['mod1','mod2',......,'modn']\n",
    "\n"
   ]
  },
  {
   "cell_type": "code",
   "execution_count": null,
   "id": "993d57d8",
   "metadata": {},
   "outputs": [],
   "source": []
  }
 ],
 "metadata": {
  "kernelspec": {
   "display_name": "Python 3",
   "language": "python",
   "name": "python3"
  },
  "language_info": {
   "codemirror_mode": {
    "name": "ipython",
    "version": 3
   },
   "file_extension": ".py",
   "mimetype": "text/x-python",
   "name": "python",
   "nbconvert_exporter": "python",
   "pygments_lexer": "ipython3",
   "version": "3.6.2"
  }
 },
 "nbformat": 4,
 "nbformat_minor": 5
}
