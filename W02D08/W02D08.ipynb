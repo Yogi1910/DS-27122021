{
 "cells": [
  {
   "cell_type": "code",
   "execution_count": 1,
   "id": "5ac05aa7",
   "metadata": {},
   "outputs": [],
   "source": [
    "# Functions till now \n",
    "\n",
    "type()\n",
    "len()\n",
    "id()\n",
    "input()\n",
    "print(object,sep,end)\n",
    "range()\n",
    "int()\n",
    "str()\n",
    "bool()\n",
    "\n",
    "# juicer(orange) = juice\n",
    "# func(argymnet/inpu) = output\n",
    "\n",
    "# TypeError\n"
   ]
  },
  {
   "cell_type": "code",
   "execution_count": 4,
   "id": "f9a0c689",
   "metadata": {},
   "outputs": [
    {
     "name": "stdout",
     "output_type": "stream",
     "text": [
      "False\n",
      "False\n",
      "False\n",
      "False\n",
      "False\n",
      "False\n"
     ]
    }
   ],
   "source": [
    "# errors that we have faced so far\n",
    "# True equivalents\n",
    "\n",
    "print(bool(0))\n",
    "print(bool(0.0))\n",
    "print(bool([]))\n",
    "print(bool({}))\n",
    "print(bool(False))\n",
    "print(bool(None))\n"
   ]
  },
  {
   "cell_type": "markdown",
   "id": "0d6720a7",
   "metadata": {},
   "source": [
    "##### 3. The given number is of one digited or two digited or three digited or more than three digited."
   ]
  },
  {
   "cell_type": "code",
   "execution_count": 31,
   "id": "ba11d1aa",
   "metadata": {},
   "outputs": [
    {
     "name": "stdout",
     "output_type": "stream",
     "text": [
      "9090\n",
      "4\n",
      "9090\n"
     ]
    }
   ],
   "source": [
    "# abs()  for absolute value [to convert it into a postive int ]\n",
    "\n",
    "n = input()\n",
    "\n",
    "print(len(str(abs(int(n)))))\n",
    "\n",
    "\n",
    "print(str(abs(int(n))))\n",
    "\n",
    "#'-90'\n",
    "#-90\n",
    "# 90\n",
    "#'90'\n",
    "#lenght of 2"
   ]
  },
  {
   "cell_type": "code",
   "execution_count": 37,
   "id": "2f43f8ea",
   "metadata": {},
   "outputs": [
    {
     "ename": "TypeError",
     "evalue": "object of type 'int' has no len()",
     "output_type": "error",
     "traceback": [
      "\u001b[0;31m---------------------------------------------------------------------------\u001b[0m",
      "\u001b[0;31mTypeError\u001b[0m                                 Traceback (most recent call last)",
      "\u001b[0;32m<ipython-input-37-ef6a1befdb1b>\u001b[0m in \u001b[0;36m<module>\u001b[0;34m\u001b[0m\n\u001b[1;32m      3\u001b[0m \u001b[0mb\u001b[0m \u001b[0;34m=\u001b[0m \u001b[0mabs\u001b[0m\u001b[0;34m(\u001b[0m\u001b[0ma\u001b[0m\u001b[0;34m)\u001b[0m\u001b[0;34m\u001b[0m\u001b[0m\n\u001b[1;32m      4\u001b[0m \u001b[0;34m\u001b[0m\u001b[0m\n\u001b[0;32m----> 5\u001b[0;31m \u001b[0mlen\u001b[0m\u001b[0;34m(\u001b[0m\u001b[0mb\u001b[0m\u001b[0;34m)\u001b[0m\u001b[0;34m\u001b[0m\u001b[0m\n\u001b[0m",
      "\u001b[0;31mTypeError\u001b[0m: object of type 'int' has no len()"
     ]
    }
   ],
   "source": [
    "a = -1000\n",
    "\n",
    "b = abs(a)\n",
    "\n",
    "len(b)\n"
   ]
  },
  {
   "cell_type": "code",
   "execution_count": 38,
   "id": "18f3bb8c",
   "metadata": {},
   "outputs": [
    {
     "ename": "TypeError",
     "evalue": "object of type 'int' has no len()",
     "output_type": "error",
     "traceback": [
      "\u001b[0;31m---------------------------------------------------------------------------\u001b[0m",
      "\u001b[0;31mTypeError\u001b[0m                                 Traceback (most recent call last)",
      "\u001b[0;32m<ipython-input-38-e34b6cf96d31>\u001b[0m in \u001b[0;36m<module>\u001b[0;34m\u001b[0m\n\u001b[0;32m----> 1\u001b[0;31m \u001b[0mlen\u001b[0m\u001b[0;34m(\u001b[0m\u001b[0;36m3000\u001b[0m\u001b[0;34m)\u001b[0m\u001b[0;34m\u001b[0m\u001b[0m\n\u001b[0m",
      "\u001b[0;31mTypeError\u001b[0m: object of type 'int' has no len()"
     ]
    }
   ],
   "source": [
    "len(3000)"
   ]
  },
  {
   "cell_type": "code",
   "execution_count": 42,
   "id": "e5759e72",
   "metadata": {},
   "outputs": [
    {
     "name": "stdout",
     "output_type": "stream",
     "text": [
      "enter the english marks90\n",
      "enter the math marks10\n",
      "enter the science marks50\n",
      "enter the social marks95\n",
      "humanities stream\n"
     ]
    }
   ],
   "source": [
    "english = int(input(\"enter the english marks\"))\n",
    "math = int(input(\"enter the math marks\"))\n",
    "science = int(input(\"enter the science marks\"))\n",
    "social = int(input(\"enter the social marks\"))\n",
    "\n",
    "\n",
    "if (english>80) and (math>80) and (science>80) and (social>80):\n",
    "    print(\"science stream\")\n",
    "elif english>80 and math>50 and science>50:\n",
    "    print(\"commerce stream\")\n",
    "elif english>80 and social>80:\n",
    "    print(\"humanities stream\")\n",
    "else:\n",
    "    print(\"undefined\")"
   ]
  },
  {
   "cell_type": "code",
   "execution_count": null,
   "id": "7ee6b333",
   "metadata": {},
   "outputs": [],
   "source": [
    "'''I will do whatever it takes to learn python, I hope I will\n",
    "be able to spend some time on math problems.'''\n",
    "\n",
    "s = \"I will do whatever it takes to learn python, I hope I will be able to spend some time on math problems.\""
   ]
  },
  {
   "cell_type": "markdown",
   "id": "fa9148bf",
   "metadata": {},
   "source": [
    "#### Q: Please remove 'o' from the  string and print it\n",
    "    \n",
    "    \n",
    "8:12  # Hint : for loop"
   ]
  },
  {
   "cell_type": "code",
   "execution_count": 43,
   "id": "95bc931c",
   "metadata": {},
   "outputs": [
    {
     "name": "stdout",
     "output_type": "stream",
     "text": [
      "I will d whatever it takes t learn pythn, I hpe I will be able t spend sme time n math prblems.\n"
     ]
    }
   ],
   "source": [
    "s = \"I will do whatever it takes to learn python, I hope I will be able to spend some time on math problems.\"\n",
    "\n",
    "a=''\n",
    "\n",
    "\n",
    "for i in s:\n",
    "    if i!='o':\n",
    "        a=a+i\n",
    "print(a)"
   ]
  },
  {
   "cell_type": "code",
   "execution_count": 7,
   "id": "37496d32",
   "metadata": {},
   "outputs": [
    {
     "name": "stdout",
     "output_type": "stream",
     "text": [
      "a\n",
      "p\n",
      "p\n",
      "l\n",
      "e\n",
      "2\n",
      "30\n",
      "16\n",
      "26\n",
      "36\n"
     ]
    }
   ],
   "source": [
    "for i in 'apple':# taking one value at a time and taht value changes for each iteration\n",
    "    print(i)\n",
    "    \n",
    "    \n",
    "for j in [1,2,30,15,16,26,35,36]:\n",
    "    if j%2==0:\n",
    "        print(j)"
   ]
  },
  {
   "cell_type": "code",
   "execution_count": 6,
   "id": "809ee66d",
   "metadata": {},
   "outputs": [
    {
     "name": "stdout",
     "output_type": "stream",
     "text": [
      "I will d whatever it takes t learn pythn, I hpe I will be able t spend sme time n math prblems."
     ]
    }
   ],
   "source": [
    "s = \"I will do whatever it takes to learn python, I hope I will be able to spend some time on math problems.\"\n",
    "\n",
    "import time\n",
    "\n",
    "\n",
    "for i in s:\n",
    "    \n",
    "    if i=='o':\n",
    "        pass\n",
    "    else:\n",
    "        print(i,end='')\n"
   ]
  },
  {
   "cell_type": "code",
   "execution_count": 22,
   "id": "fb3a4930",
   "metadata": {},
   "outputs": [
    {
     "name": "stdout",
     "output_type": "stream",
     "text": [
      "9 * 1  =  9\n",
      "9 * 2  =  18\n",
      "9 * 3  =  27\n",
      "9 * 4  =  36\n",
      "9 * 5  =  45\n",
      "9 * 6  =  54\n",
      "9 * 7  =  63\n",
      "9 * 8  =  72\n",
      "9 * 9  =  81\n",
      "9 * 10  =  90\n"
     ]
    }
   ],
   "source": [
    "# Print table of 9 as given:\n",
    "\n",
    "#9 * 1 = 9\n",
    "#9 * 2 = 18\n",
    "# range(start, end, step)\n",
    "\n",
    "for ieshaan in range(1,11):\n",
    "    print('9 *',ieshaan,' = ',9*ieshaan)\n",
    "    \n",
    "\n",
    "    "
   ]
  },
  {
   "cell_type": "markdown",
   "id": "5b1e40e5",
   "metadata": {},
   "source": [
    "### len()\n",
    "### range()"
   ]
  },
  {
   "cell_type": "code",
   "execution_count": 32,
   "id": "a6c0386d",
   "metadata": {},
   "outputs": [
    {
     "data": {
      "text/plain": [
       "[3, 6, 9, 12, 15]"
      ]
     },
     "execution_count": 32,
     "metadata": {},
     "output_type": "execute_result"
    }
   ],
   "source": [
    "list(range(18,0,-1))\n",
    "# stop index is ignored\n",
    "\n",
    "\n",
    "list(range(3,18,3))\n",
    "\n"
   ]
  },
  {
   "cell_type": "code",
   "execution_count": 42,
   "id": "5a142251",
   "metadata": {},
   "outputs": [
    {
     "name": "stdout",
     "output_type": "stream",
     "text": [
      "['kiwi', 'banana']   contains       kiwi\n",
      "['kiwi', 'banana']   contains       banana\n",
      "['chocs', 'icecreams']   contains       chocs\n",
      "['chocs', 'icecreams']   contains       icecreams\n",
      "10\n",
      "100\n",
      "20\n",
      "200\n",
      "30\n",
      "300\n",
      "40\n",
      "400\n",
      "50\n",
      "500\n",
      "60\n",
      "600\n",
      "70\n",
      "700\n",
      "80\n",
      "800\n",
      "90\n",
      "900\n"
     ]
    }
   ],
   "source": [
    "### Nested for loop \n",
    "\n",
    "G = [['kiwi','banana'],['chocs','icecreams']]\n",
    "\n",
    "#G = [list1,list2]\n",
    "\n",
    "#print('kiwi' in G)\n",
    "\n",
    "#print(['kiwi','banana'] in G)\n",
    "\n",
    "\n",
    "\n",
    "### I want you to print all the items bought\n",
    "\n",
    "\n",
    "for g in G: # g is an iterator, G is iterable\n",
    "    \n",
    "    for h in g: # at this step 1 g = ['kiwi', 'banana']\n",
    "                # g iterable and h iterator\n",
    "        \n",
    "        print(g,'  contains      ',h)\n",
    "    \n",
    "\n",
    "\n",
    "\n",
    "\n"
   ]
  },
  {
   "cell_type": "code",
   "execution_count": null,
   "id": "b4d80f2b",
   "metadata": {},
   "outputs": [],
   "source": [
    "### how to print this pattern\n",
    "\n",
    "1       # 1 is repeated 1 time\n",
    "22      # 2 is repeated 2 times\n",
    "333\n",
    "4444"
   ]
  },
  {
   "cell_type": "code",
   "execution_count": 56,
   "id": "22cde029",
   "metadata": {},
   "outputs": [
    {
     "name": "stdout",
     "output_type": "stream",
     "text": [
      "1\n",
      "22\n",
      "333\n",
      "4444\n"
     ]
    }
   ],
   "source": [
    "for x in range(1,5):\n",
    "    for y in range(x):\n",
    "        print(x,end='')\n",
    "    print('',end='\\n')\n",
    "    \n"
   ]
  },
  {
   "cell_type": "code",
   "execution_count": 61,
   "id": "0e2d9c7d",
   "metadata": {},
   "outputs": [
    {
     "name": "stdout",
     "output_type": "stream",
     "text": [
      "aaaaaaaaaa"
     ]
    }
   ],
   "source": [
    "\n",
    "#[2,34,5,46,56,34,87,98]\n",
    "\n",
    "#print() the count of odd numbers here"
   ]
  },
  {
   "cell_type": "code",
   "execution_count": 68,
   "id": "a40a0bea",
   "metadata": {},
   "outputs": [
    {
     "name": "stdout",
     "output_type": "stream",
     "text": [
      "2 even\n",
      "34 even\n",
      "5 odd\n",
      "\n",
      "46 even\n",
      "56 even\n",
      "34 even\n",
      "87 odd\n",
      "\n",
      "98 even\n",
      "2\n"
     ]
    }
   ],
   "source": [
    "# counters:   keeping a track of a separate object / updating it\n",
    "L1 = [2,34,5,46,56,34,87,98]\n",
    "\n",
    "count = 0  # initialise\n",
    "\n",
    "\n",
    "for z in L1:\n",
    "    if z%2==0:\n",
    "    \n",
    "        print(z,'even')\n",
    "    else:\n",
    "        count =count+1\n",
    "        print(z,'odd',end='\\n\\n')\n",
    "        \n",
    "print(count)     \n"
   ]
  },
  {
   "cell_type": "code",
   "execution_count": 70,
   "id": "db4e594c",
   "metadata": {},
   "outputs": [
    {
     "name": "stdout",
     "output_type": "stream",
     "text": [
      "2\n"
     ]
    }
   ],
   "source": [
    "l1 = [2,34,5,46,56,34,87,98]\n",
    "count = 0\n",
    "for i in l1:\n",
    "    if i%2 ==0:\n",
    "        pass\n",
    "    else:\n",
    "        count= count+1\n",
    "print(count)"
   ]
  },
  {
   "cell_type": "code",
   "execution_count": 71,
   "id": "7db18ef7",
   "metadata": {},
   "outputs": [
    {
     "name": "stdout",
     "output_type": "stream",
     "text": [
      "2\n"
     ]
    }
   ],
   "source": [
    "l1 = [2,34,5,46,56,34,87,98]\n",
    "count = 0\n",
    "for i in l1:\n",
    "    if i%2 ==0:\n",
    "        pass\n",
    "    else:\n",
    "        count= count+1\n",
    "print(count)\n",
    "\n"
   ]
  },
  {
   "cell_type": "markdown",
   "id": "4bbeccdc",
   "metadata": {},
   "source": [
    "#### help()"
   ]
  },
  {
   "cell_type": "code",
   "execution_count": 77,
   "id": "d52b9394",
   "metadata": {},
   "outputs": [
    {
     "data": {
      "text/plain": [
       "2"
      ]
     },
     "execution_count": 77,
     "metadata": {},
     "output_type": "execute_result"
    }
   ],
   "source": [
    "#help(object)\n",
    "# shft+tab inmac\n"
   ]
  },
  {
   "cell_type": "code",
   "execution_count": 78,
   "id": "4124980e",
   "metadata": {},
   "outputs": [
    {
     "name": "stdout",
     "output_type": "stream",
     "text": [
      "Help on class list in module builtins:\n",
      "\n",
      "class list(object)\n",
      " |  list() -> new empty list\n",
      " |  list(iterable) -> new list initialized from iterable's items\n",
      " |  \n",
      " |  Methods defined here:\n",
      " |  \n",
      " |  __add__(self, value, /)\n",
      " |      Return self+value.\n",
      " |  \n",
      " |  __contains__(self, key, /)\n",
      " |      Return key in self.\n",
      " |  \n",
      " |  __delitem__(self, key, /)\n",
      " |      Delete self[key].\n",
      " |  \n",
      " |  __eq__(self, value, /)\n",
      " |      Return self==value.\n",
      " |  \n",
      " |  __ge__(self, value, /)\n",
      " |      Return self>=value.\n",
      " |  \n",
      " |  __getattribute__(self, name, /)\n",
      " |      Return getattr(self, name).\n",
      " |  \n",
      " |  __getitem__(...)\n",
      " |      x.__getitem__(y) <==> x[y]\n",
      " |  \n",
      " |  __gt__(self, value, /)\n",
      " |      Return self>value.\n",
      " |  \n",
      " |  __iadd__(self, value, /)\n",
      " |      Implement self+=value.\n",
      " |  \n",
      " |  __imul__(self, value, /)\n",
      " |      Implement self*=value.\n",
      " |  \n",
      " |  __init__(self, /, *args, **kwargs)\n",
      " |      Initialize self.  See help(type(self)) for accurate signature.\n",
      " |  \n",
      " |  __iter__(self, /)\n",
      " |      Implement iter(self).\n",
      " |  \n",
      " |  __le__(self, value, /)\n",
      " |      Return self<=value.\n",
      " |  \n",
      " |  __len__(self, /)\n",
      " |      Return len(self).\n",
      " |  \n",
      " |  __lt__(self, value, /)\n",
      " |      Return self<value.\n",
      " |  \n",
      " |  __mul__(self, value, /)\n",
      " |      Return self*value.n\n",
      " |  \n",
      " |  __ne__(self, value, /)\n",
      " |      Return self!=value.\n",
      " |  \n",
      " |  __new__(*args, **kwargs) from builtins.type\n",
      " |      Create and return a new object.  See help(type) for accurate signature.\n",
      " |  \n",
      " |  __repr__(self, /)\n",
      " |      Return repr(self).\n",
      " |  \n",
      " |  __reversed__(...)\n",
      " |      L.__reversed__() -- return a reverse iterator over the list\n",
      " |  \n",
      " |  __rmul__(self, value, /)\n",
      " |      Return self*value.\n",
      " |  \n",
      " |  __setitem__(self, key, value, /)\n",
      " |      Set self[key] to value.\n",
      " |  \n",
      " |  __sizeof__(...)\n",
      " |      L.__sizeof__() -- size of L in memory, in bytes\n",
      " |  \n",
      " |  append(...)\n",
      " |      L.append(object) -> None -- append object to end\n",
      " |  \n",
      " |  clear(...)\n",
      " |      L.clear() -> None -- remove all items from L\n",
      " |  \n",
      " |  copy(...)\n",
      " |      L.copy() -> list -- a shallow copy of L\n",
      " |  \n",
      " |  count(...)\n",
      " |      L.count(value) -> integer -- return number of occurrences of value\n",
      " |  \n",
      " |  extend(...)\n",
      " |      L.extend(iterable) -> None -- extend list by appending elements from the iterable\n",
      " |  \n",
      " |  index(...)\n",
      " |      L.index(value, [start, [stop]]) -> integer -- return first index of value.\n",
      " |      Raises ValueError if the value is not present.\n",
      " |  \n",
      " |  insert(...)\n",
      " |      L.insert(index, object) -- insert object before index\n",
      " |  \n",
      " |  pop(...)\n",
      " |      L.pop([index]) -> item -- remove and return item at index (default last).\n",
      " |      Raises IndexError if list is empty or index is out of range.\n",
      " |  \n",
      " |  remove(...)\n",
      " |      L.remove(value) -> None -- remove first occurrence of value.\n",
      " |      Raises ValueError if the value is not present.\n",
      " |  \n",
      " |  reverse(...)\n",
      " |      L.reverse() -- reverse *IN PLACE*\n",
      " |  \n",
      " |  sort(...)\n",
      " |      L.sort(key=None, reverse=False) -> None -- stable sort *IN PLACE*\n",
      " |  \n",
      " |  ----------------------------------------------------------------------\n",
      " |  Data and other attributes defined here:\n",
      " |  \n",
      " |  __hash__ = None\n",
      "\n"
     ]
    }
   ],
   "source": [
    "help(list)"
   ]
  },
  {
   "cell_type": "code",
   "execution_count": 80,
   "id": "6b4f14da",
   "metadata": {},
   "outputs": [
    {
     "data": {
      "text/plain": [
       "[1, 2, 100000]"
      ]
     },
     "execution_count": 80,
     "metadata": {},
     "output_type": "execute_result"
    }
   ],
   "source": [
    "l=[1,2]\n",
    "l.append(100000)\n",
    "l"
   ]
  },
  {
   "cell_type": "code",
   "execution_count": 81,
   "id": "1baf0480",
   "metadata": {},
   "outputs": [
    {
     "name": "stdout",
     "output_type": "stream",
     "text": [
      "Help on int object:\n",
      "\n",
      "class int(object)\n",
      " |  int(x=0) -> integer\n",
      " |  int(x, base=10) -> integer\n",
      " |  \n",
      " |  Convert a number or string to an integer, or return 0 if no arguments\n",
      " |  are given.  If x is a number, return x.__int__().  For floating point\n",
      " |  numbers, this truncates towards zero.\n",
      " |  \n",
      " |  If x is not a number or if base is given, then x must be a string,\n",
      " |  bytes, or bytearray instance representing an integer literal in the\n",
      " |  given base.  The literal can be preceded by '+' or '-' and be surrounded\n",
      " |  by whitespace.  The base defaults to 10.  Valid bases are 0 and 2-36.\n",
      " |  Base 0 means to interpret the base from the string as an integer literal.\n",
      " |  >>> int('0b100', base=0)\n",
      " |  4\n",
      " |  \n",
      " |  Methods defined here:\n",
      " |  \n",
      " |  __abs__(self, /)\n",
      " |      abs(self)\n",
      " |  \n",
      " |  __add__(self, value, /)\n",
      " |      Return self+value.\n",
      " |  \n",
      " |  __and__(self, value, /)\n",
      " |      Return self&value.\n",
      " |  \n",
      " |  __bool__(self, /)\n",
      " |      self != 0\n",
      " |  \n",
      " |  __ceil__(...)\n",
      " |      Ceiling of an Integral returns itself.\n",
      " |  \n",
      " |  __divmod__(self, value, /)\n",
      " |      Return divmod(self, value).\n",
      " |  \n",
      " |  __eq__(self, value, /)\n",
      " |      Return self==value.\n",
      " |  \n",
      " |  __float__(self, /)\n",
      " |      float(self)\n",
      " |  \n",
      " |  __floor__(...)\n",
      " |      Flooring an Integral returns itself.\n",
      " |  \n",
      " |  __floordiv__(self, value, /)\n",
      " |      Return self//value.\n",
      " |  \n",
      " |  __format__(...)\n",
      " |      default object formatter\n",
      " |  \n",
      " |  __ge__(self, value, /)\n",
      " |      Return self>=value.\n",
      " |  \n",
      " |  __getattribute__(self, name, /)\n",
      " |      Return getattr(self, name).\n",
      " |  \n",
      " |  __getnewargs__(...)\n",
      " |  \n",
      " |  __gt__(self, value, /)\n",
      " |      Return self>value.\n",
      " |  \n",
      " |  __hash__(self, /)\n",
      " |      Return hash(self).\n",
      " |  \n",
      " |  __index__(self, /)\n",
      " |      Return self converted to an integer, if self is suitable for use as an index into a list.\n",
      " |  \n",
      " |  __int__(self, /)\n",
      " |      int(self)\n",
      " |  \n",
      " |  __invert__(self, /)\n",
      " |      ~self\n",
      " |  \n",
      " |  __le__(self, value, /)\n",
      " |      Return self<=value.\n",
      " |  \n",
      " |  __lshift__(self, value, /)\n",
      " |      Return self<<value.\n",
      " |  \n",
      " |  __lt__(self, value, /)\n",
      " |      Return self<value.\n",
      " |  \n",
      " |  __mod__(self, value, /)\n",
      " |      Return self%value.\n",
      " |  \n",
      " |  __mul__(self, value, /)\n",
      " |      Return self*value.\n",
      " |  \n",
      " |  __ne__(self, value, /)\n",
      " |      Return self!=value.\n",
      " |  \n",
      " |  __neg__(self, /)\n",
      " |      -self\n",
      " |  \n",
      " |  __new__(*args, **kwargs) from builtins.type\n",
      " |      Create and return a new object.  See help(type) for accurate signature.\n",
      " |  \n",
      " |  __or__(self, value, /)\n",
      " |      Return self|value.\n",
      " |  \n",
      " |  __pos__(self, /)\n",
      " |      +self\n",
      " |  \n",
      " |  __pow__(self, value, mod=None, /)\n",
      " |      Return pow(self, value, mod).\n",
      " |  \n",
      " |  __radd__(self, value, /)\n",
      " |      Return value+self.\n",
      " |  \n",
      " |  __rand__(self, value, /)\n",
      " |      Return value&self.\n",
      " |  \n",
      " |  __rdivmod__(self, value, /)\n",
      " |      Return divmod(value, self).\n",
      " |  \n",
      " |  __repr__(self, /)\n",
      " |      Return repr(self).\n",
      " |  \n",
      " |  __rfloordiv__(self, value, /)\n",
      " |      Return value//self.\n",
      " |  \n",
      " |  __rlshift__(self, value, /)\n",
      " |      Return value<<self.\n",
      " |  \n",
      " |  __rmod__(self, value, /)\n",
      " |      Return value%self.\n",
      " |  \n",
      " |  __rmul__(self, value, /)\n",
      " |      Return value*self.\n",
      " |  \n",
      " |  __ror__(self, value, /)\n",
      " |      Return value|self.\n",
      " |  \n",
      " |  __round__(...)\n",
      " |      Rounding an Integral returns itself.\n",
      " |      Rounding with an ndigits argument also returns an integer.\n",
      " |  \n",
      " |  __rpow__(self, value, mod=None, /)\n",
      " |      Return pow(value, self, mod).\n",
      " |  \n",
      " |  __rrshift__(self, value, /)\n",
      " |      Return value>>self.\n",
      " |  \n",
      " |  __rshift__(self, value, /)\n",
      " |      Return self>>value.\n",
      " |  \n",
      " |  __rsub__(self, value, /)\n",
      " |      Return value-self.\n",
      " |  \n",
      " |  __rtruediv__(self, value, /)\n",
      " |      Return value/self.\n",
      " |  \n",
      " |  __rxor__(self, value, /)\n",
      " |      Return value^self.\n",
      " |  \n",
      " |  __sizeof__(...)\n",
      " |      Returns size in memory, in bytes\n",
      " |  \n",
      " |  __str__(self, /)\n",
      " |      Return str(self).\n",
      " |  \n",
      " |  __sub__(self, value, /)\n",
      " |      Return self-value.\n",
      " |  \n",
      " |  __truediv__(self, value, /)\n",
      " |      Return self/value.\n",
      " |  \n",
      " |  __trunc__(...)\n",
      " |      Truncating an Integral returns itself.\n",
      " |  \n",
      " |  __xor__(self, value, /)\n",
      " |      Return self^value.\n",
      " |  \n",
      " |  bit_length(...)\n",
      " |      int.bit_length() -> int\n",
      " |      \n",
      " |      Number of bits necessary to represent self in binary.\n",
      " |      >>> bin(37)\n",
      " |      '0b100101'\n",
      " |      >>> (37).bit_length()\n",
      " |      6\n",
      " |  \n",
      " |  conjugate(...)\n",
      " |      Returns self, the complex conjugate of any int.\n",
      " |  \n",
      " |  from_bytes(...) from builtins.type\n",
      " |      int.from_bytes(bytes, byteorder, *, signed=False) -> int\n",
      " |      \n",
      " |      Return the integer represented by the given array of bytes.\n",
      " |      \n",
      " |      The bytes argument must be a bytes-like object (e.g. bytes or bytearray).\n",
      " |      \n",
      " |      The byteorder argument determines the byte order used to represent the\n",
      " |      integer.  If byteorder is 'big', the most significant byte is at the\n",
      " |      beginning of the byte array.  If byteorder is 'little', the most\n",
      " |      significant byte is at the end of the byte array.  To request the native\n",
      " |      byte order of the host system, use `sys.byteorder' as the byte order value.\n",
      " |      \n",
      " |      The signed keyword-only argument indicates whether two's complement is\n",
      " |      used to represent the integer.\n",
      " |  \n",
      " |  to_bytes(...)\n",
      " |      int.to_bytes(length, byteorder, *, signed=False) -> bytes\n",
      " |      \n",
      " |      Return an array of bytes representing an integer.\n",
      " |      \n",
      " |      The integer is represented using length bytes.  An OverflowError is\n",
      " |      raised if the integer is not representable with the given number of\n",
      " |      bytes.\n",
      " |      \n",
      " |      The byteorder argument determines the byte order used to represent the\n",
      " |      integer.  If byteorder is 'big', the most significant byte is at the\n",
      " |      beginning of the byte array.  If byteorder is 'little', the most\n",
      " |      significant byte is at the end of the byte array.  To request the native\n",
      " |      byte order of the host system, use `sys.byteorder' as the byte order value.\n",
      " |      \n",
      " |      The signed keyword-only argument determines whether two's complement is\n",
      " |      used to represent the integer.  If signed is False and a negative integer\n",
      " |      is given, an OverflowError is raised.\n",
      " |  \n",
      " |  ----------------------------------------------------------------------\n",
      " |  Data descriptors defined here:\n",
      " |  \n",
      " |  denominator\n",
      " |      the denominator of a rational number in lowest terms\n",
      " |  \n",
      " |  imag\n",
      " |      the imaginary part of a complex number\n",
      " |  \n",
      " |  numerator\n",
      " |      the numerator of a rational number in lowest terms\n",
      " |  \n",
      " |  real\n",
      " |      the real part of a complex number\n",
      "\n"
     ]
    }
   ],
   "source": [
    "x = 8\n",
    "help(x)"
   ]
  },
  {
   "cell_type": "code",
   "execution_count": null,
   "id": "49e7a41a",
   "metadata": {},
   "outputs": [],
   "source": [
    "Assignment:\n",
    "\n",
    "#create a new list L2 with square of these items in a list\n",
    "#l1 = [10,5,0]\n",
    "# list.append() use this to add items to list\n",
    "\n",
    "\n",
    "Question:\n",
    "    \n",
    "    \n",
    "{'ramesh':'doc','suresh':'engg','videsh':'cook'}\n",
    "\n",
    "# write a for loop and display these comments:\n",
    "    \n",
    "doc:     1) Thank you for saving me\n",
    "engg:    2) I like that bridge that you made\n",
    "cook:    3) I never tasted food better than this\n",
    "    \n",
    "take a name from user\n"
   ]
  },
  {
   "cell_type": "code",
   "execution_count": 83,
   "id": "4df7597f",
   "metadata": {},
   "outputs": [],
   "source": [
    "D1 = {'ramesh':'doc','suresh':'engg','videsh':'cook'}"
   ]
  },
  {
   "cell_type": "code",
   "execution_count": 90,
   "id": "7d405be7",
   "metadata": {},
   "outputs": [
    {
     "name": "stdout",
     "output_type": "stream",
     "text": [
      "videsh\n",
      "cook\n",
      "I never tasted food better than this\n"
     ]
    }
   ],
   "source": [
    "name = input('')\n",
    "print(D1[name])\n",
    "\n",
    "\n",
    "if D1[name]=='doc':\n",
    "    print('1) Thank you for saving me')\n",
    "      \n",
    "elif D1[name]=='cook':\n",
    "    print('I never tasted food better than this')\n",
    "    \n",
    "else:\n",
    "    print('2) I like that bridge that you made')"
   ]
  },
  {
   "cell_type": "code",
   "execution_count": 91,
   "id": "c032cb05",
   "metadata": {},
   "outputs": [
    {
     "name": "stdout",
     "output_type": "stream",
     "text": [
      "Enter your name here:videsh\n",
      "cook\n",
      "I never tasted food better than this\n"
     ]
    }
   ],
   "source": []
  },
  {
   "cell_type": "code",
   "execution_count": null,
   "id": "f1bc38ee",
   "metadata": {},
   "outputs": [],
   "source": []
  }
 ],
 "metadata": {
  "kernelspec": {
   "display_name": "Python 3",
   "language": "python",
   "name": "python3"
  },
  "language_info": {
   "codemirror_mode": {
    "name": "ipython",
    "version": 3
   },
   "file_extension": ".py",
   "mimetype": "text/x-python",
   "name": "python",
   "nbconvert_exporter": "python",
   "pygments_lexer": "ipython3",
   "version": "3.6.2"
  }
 },
 "nbformat": 4,
 "nbformat_minor": 5
}
