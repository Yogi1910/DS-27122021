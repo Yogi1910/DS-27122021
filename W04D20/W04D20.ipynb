{
 "cells": [
  {
   "cell_type": "code",
   "execution_count": 9,
   "id": "5dcedbfa",
   "metadata": {},
   "outputs": [
    {
     "name": "stdout",
     "output_type": "stream",
     "text": [
      "I love Paris in the summer!\n"
     ]
    }
   ],
   "source": [
    "# Q1 :\n",
    "\n",
    "\n",
    "\n",
    "def f():\n",
    "    \n",
    "    print(s)\n",
    "    \n",
    "    \n",
    "s = \"I love Paris in the summer!\"\n",
    "\n",
    "\n",
    "f()\n",
    "\n"
   ]
  },
  {
   "cell_type": "code",
   "execution_count": 10,
   "id": "7a1ee0a5",
   "metadata": {},
   "outputs": [
    {
     "name": "stdout",
     "output_type": "stream",
     "text": [
      "I love London!\n",
      "I love Paris!\n"
     ]
    }
   ],
   "source": [
    "def f():\n",
    "    \n",
    "    \n",
    "    s = \"I love London!\"  # LV\n",
    "    print(s) \n",
    "\n",
    "s = \"I love Paris!\"       # GV\n",
    "\n",
    "f()\n",
    "\n",
    "print(s)\n",
    "\n",
    "\n"
   ]
  },
  {
   "cell_type": "code",
   "execution_count": 22,
   "id": "9ec131e1",
   "metadata": {},
   "outputs": [
    {
     "name": "stdout",
     "output_type": "stream",
     "text": [
      "I love Paris!\n",
      "I love London!\n"
     ]
    }
   ],
   "source": [
    "# Contradiction python doesn't allow\n",
    "# UnboundLocalError\n",
    "\n",
    "\n",
    "\n",
    "\n",
    "def f():\n",
    "    \n",
    "    \n",
    "    \n",
    "    print(s)                 # GV\n",
    "    s = \"I love London!\"     # defining LV s\n",
    "    print(s)\n",
    "\n",
    "\n",
    "s = \"I love Paris!\"\n",
    "f()\n",
    "\n",
    "\n",
    "\n",
    "\n",
    "\n"
   ]
  },
  {
   "cell_type": "code",
   "execution_count": 21,
   "id": "4a9f8fd0",
   "metadata": {},
   "outputs": [
    {
     "name": "stdout",
     "output_type": "stream",
     "text": [
      "I am looking for a course in Paris!\n",
      "Only in spring, but London is great as well!\n",
      "Only in spring, but London is great as well!\n"
     ]
    }
   ],
   "source": [
    "def f():\n",
    "    \n",
    "    \n",
    "    global s\n",
    "    print(s)\n",
    "    s = \"Only in spring, but London is great as well!\"    # GV. modification are happning in GV s\n",
    "    print(s)\n",
    "\n",
    "\n",
    "s = \"I am looking for a course in Paris!\" \n",
    "\n",
    "\n",
    "f()\n",
    "\n",
    "print(s)\n",
    "\n"
   ]
  },
  {
   "cell_type": "code",
   "execution_count": 23,
   "id": "9085521d",
   "metadata": {},
   "outputs": [
    {
     "name": "stdout",
     "output_type": "stream",
     "text": [
      "I am globally not known\n",
      "I love London!\n"
     ]
    }
   ],
   "source": [
    "def f():\n",
    "    s = \"I am globally not known\"\n",
    "    print(s) \n",
    "\n",
    "f()\n",
    "print(s)"
   ]
  },
  {
   "cell_type": "code",
   "execution_count": 24,
   "id": "8e4b3b3c",
   "metadata": {},
   "outputs": [
    {
     "name": "stdout",
     "output_type": "stream",
     "text": [
      "Before calling g: Hamburg\n",
      "Calling g now:\n",
      "After calling g: Hamburg\n",
      "Value of city in main: Geneva\n"
     ]
    }
   ],
   "source": [
    "\n",
    "\n",
    "\n",
    "def f():\n",
    "    \n",
    "    city = \"Hamburg\"   # enclosed variable\n",
    "    \n",
    "    \n",
    "    def g():\n",
    "        global city\n",
    "        city = \"Geneva\"    # local variable\n",
    "        \n",
    "        \n",
    "    print(\"Before calling g: \" + city)\n",
    "    print(\"Calling g now:\")\n",
    "    g()\n",
    "    print(\"After calling g: \" + city)\n",
    "    \n",
    "f()\n",
    "\n",
    "\n",
    "print(\"Value of city in main: \" + city)\n",
    "\n",
    "\n",
    "\n"
   ]
  },
  {
   "cell_type": "markdown",
   "id": "2c8150ea",
   "metadata": {},
   "source": [
    "### non local keyword\n",
    "##### we use this keyword to access an enclosed variable inside a function instead of local variable as we do in the case of a global variable"
   ]
  },
  {
   "cell_type": "code",
   "execution_count": 32,
   "id": "7837de69",
   "metadata": {},
   "outputs": [
    {
     "name": "stdout",
     "output_type": "stream",
     "text": [
      "Before calling g: Hamburg\n",
      "Calling g now:\n",
      "Hamburg\n",
      "After calling g: Hamburg\n",
      "Value of city in main: monkey\n"
     ]
    }
   ],
   "source": [
    "city ='monkey'\n",
    "\n",
    "def f():\n",
    "    \n",
    "    city = \"Hamburg\"   # enclosed variable\n",
    "    \n",
    "    \n",
    "    def g():\n",
    "        \n",
    "        #global city   # local variable\n",
    "        \n",
    "        nonlocal city\n",
    "        \n",
    "        print(city)\n",
    "        \n",
    "    \n",
    "    print(\"Before calling g: \" + city)\n",
    "    print(\"Calling g now:\")\n",
    "    g()\n",
    "    print(\"After calling g: \" + city)\n",
    "    \n",
    "f()\n",
    "\n",
    "\n",
    "print(\"Value of city in main: \" + city)\n",
    "\n",
    "\n",
    "\n"
   ]
  },
  {
   "cell_type": "markdown",
   "id": "1b492337",
   "metadata": {},
   "source": [
    "### Modules"
   ]
  },
  {
   "cell_type": "code",
   "execution_count": null,
   "id": "70c290c5",
   "metadata": {},
   "outputs": [],
   "source": [
    "#from PIL import Image\n",
    "\n",
    "#from package import module\n",
    "\n",
    "# module is a simple python file that contains collection of functions and global variables etc and .py extension."
   ]
  },
  {
   "cell_type": "code",
   "execution_count": null,
   "id": "f9b27793",
   "metadata": {},
   "outputs": [],
   "source": [
    "# syntax\n",
    "\n",
    "import module "
   ]
  },
  {
   "cell_type": "code",
   "execution_count": 1,
   "id": "b27832c7",
   "metadata": {},
   "outputs": [
    {
     "name": "stdout",
     "output_type": "stream",
     "text": [
      "module is being imported..ta da....imported!\n"
     ]
    }
   ],
   "source": [
    "import MODULE1\n",
    "\n",
    "# that pre written python codes are being used by users just by importing them"
   ]
  },
  {
   "cell_type": "code",
   "execution_count": 38,
   "id": "ee2be5bc",
   "metadata": {},
   "outputs": [
    {
     "name": "stdout",
     "output_type": "stream",
     "text": [
      "10 * 0 = 0\n",
      "10 * 1 = 10\n",
      "10 * 2 = 20\n",
      "10 * 3 = 30\n",
      "10 * 4 = 40\n",
      "10 * 5 = 50\n",
      "10 * 6 = 60\n",
      "10 * 7 = 70\n",
      "10 * 8 = 80\n",
      "10 * 9 = 90\n",
      "10 * 10 = 100\n"
     ]
    }
   ],
   "source": [
    "# how to use a functionality from module\n",
    "\n",
    "# module.function_name\n",
    "\n",
    "MODULE1.table(10)"
   ]
  },
  {
   "cell_type": "code",
   "execution_count": 2,
   "id": "bb545254",
   "metadata": {},
   "outputs": [
    {
     "data": {
      "text/plain": [
       "120"
      ]
     },
     "execution_count": 2,
     "metadata": {},
     "output_type": "execute_result"
    }
   ],
   "source": [
    "MODULE1.factorial(5)"
   ]
  },
  {
   "cell_type": "code",
   "execution_count": 3,
   "id": "2617153b",
   "metadata": {},
   "outputs": [
    {
     "data": {
      "text/plain": [
       "28"
      ]
     },
     "execution_count": 3,
     "metadata": {},
     "output_type": "execute_result"
    }
   ],
   "source": [
    "MODULE1.date"
   ]
  },
  {
   "cell_type": "code",
   "execution_count": 2,
   "id": "2ad7bd86",
   "metadata": {},
   "outputs": [
    {
     "name": "stdout",
     "output_type": "stream",
     "text": [
      "5 * 0 = 0\n",
      "5 * 1 = 5\n",
      "5 * 2 = 10\n",
      "5 * 3 = 15\n",
      "5 * 4 = 20\n",
      "5 * 5 = 25\n",
      "5 * 6 = 30\n",
      "5 * 7 = 35\n",
      "5 * 8 = 40\n",
      "5 * 9 = 45\n",
      "5 * 10 = 50\n"
     ]
    },
    {
     "data": {
      "text/plain": [
       "120"
      ]
     },
     "execution_count": 2,
     "metadata": {},
     "output_type": "execute_result"
    }
   ],
   "source": [
    "from MODULE1 import table\n",
    "from MODULE1 import factorial\n",
    "\n",
    "# asterik ---asterisk\n",
    "\n",
    "table(5)\n",
    "\n",
    "factorial(5)"
   ]
  },
  {
   "cell_type": "code",
   "execution_count": 4,
   "id": "3792e35d",
   "metadata": {},
   "outputs": [],
   "source": [
    "import MODULE2\n"
   ]
  },
  {
   "cell_type": "code",
   "execution_count": 5,
   "id": "7ff129f0",
   "metadata": {},
   "outputs": [
    {
     "data": {
      "text/plain": [
       "720"
      ]
     },
     "execution_count": 5,
     "metadata": {},
     "output_type": "execute_result"
    }
   ],
   "source": [
    "MODULE2.factorial(6)"
   ]
  },
  {
   "cell_type": "code",
   "execution_count": null,
   "id": "ded279e7",
   "metadata": {},
   "outputs": [],
   "source": [
    "After importing a module a file called __pycache__ will be created, which just helps you run the programmes"
   ]
  },
  {
   "cell_type": "markdown",
   "id": "c62e4ab7",
   "metadata": {},
   "source": [
    "### Package "
   ]
  },
  {
   "cell_type": "code",
   "execution_count": null,
   "id": "3fa137bb",
   "metadata": {},
   "outputs": [],
   "source": [
    "Are a way of structuring many modules or subpackages to have a well managed and organised hierarchy of data sets.\n",
    "e.g we have drive and folders in operating systems"
   ]
  },
  {
   "cell_type": "code",
   "execution_count": null,
   "id": "cff97d6f",
   "metadata": {},
   "outputs": [],
   "source": [
    "__init__.py is a recognition file that tells python that it is a folder that is a package.\n",
    "\n",
    "\"3.3+ python version don't make it mandatory\""
   ]
  },
  {
   "cell_type": "code",
   "execution_count": 19,
   "id": "6e31c5bc",
   "metadata": {},
   "outputs": [
    {
     "data": {
      "text/plain": [
       "120"
      ]
     },
     "execution_count": 19,
     "metadata": {},
     "output_type": "execute_result"
    }
   ],
   "source": [
    "from PACKAGE1.NIKHIL import *\n",
    "\n",
    "factorial(5)\n"
   ]
  },
  {
   "cell_type": "code",
   "execution_count": 5,
   "id": "8176bc23",
   "metadata": {},
   "outputs": [
    {
     "name": "stdout",
     "output_type": "stream",
     "text": [
      "10 * 0 = 0\n",
      "10 * 1 = 10\n",
      "10 * 2 = 20\n",
      "10 * 3 = 30\n",
      "10 * 4 = 40\n",
      "10 * 5 = 50\n",
      "10 * 6 = 60\n",
      "10 * 7 = 70\n",
      "10 * 8 = 80\n",
      "10 * 9 = 90\n",
      "10 * 10 = 100\n"
     ]
    }
   ],
   "source": [
    "from PACKAGE1.AKSHAY import *\n",
    "table(10)"
   ]
  },
  {
   "cell_type": "code",
   "execution_count": null,
   "id": "3cc13d60",
   "metadata": {},
   "outputs": [],
   "source": [
    "steps:\n",
    "\n",
    "1. module : In the same directory where you ipynb file is create a .py file \n",
    "    with a/more functions\n",
    "    \n",
    "2. import modules or module.fucntion_name or import *  (optional)\n",
    "\n",
    "3. package : create a folder of your choice in the same directory\n",
    "    \n",
    "4. put few modules (any number of) in that folder along with __init__.py file\n",
    "\n",
    "5. import package.module or from package import module or from package.module import function\n",
    "\n",
    "\n",
    "    "
   ]
  },
  {
   "cell_type": "code",
   "execution_count": 1,
   "id": "d556b4e1",
   "metadata": {},
   "outputs": [],
   "source": [
    "import MOD_DUMMY"
   ]
  },
  {
   "cell_type": "code",
   "execution_count": 3,
   "id": "d4735112",
   "metadata": {},
   "outputs": [
    {
     "name": "stdout",
     "output_type": "stream",
     "text": [
      "showing you how to make 1\n"
     ]
    }
   ],
   "source": [
    "MOD_DUMMY.mod_first()"
   ]
  },
  {
   "cell_type": "code",
   "execution_count": 5,
   "id": "df366eb0",
   "metadata": {},
   "outputs": [],
   "source": [
    "import PACKAGE_DUMMY.MOD_DUMMY"
   ]
  },
  {
   "cell_type": "code",
   "execution_count": 7,
   "id": "b66db445",
   "metadata": {},
   "outputs": [
    {
     "name": "stdout",
     "output_type": "stream",
     "text": [
      "showing you how to make 1\n"
     ]
    }
   ],
   "source": [
    "MOD_DUMMY.mod_first()"
   ]
  },
  {
   "cell_type": "code",
   "execution_count": 12,
   "id": "463a4135",
   "metadata": {},
   "outputs": [],
   "source": [
    "def factorial(n):\n",
    "    \n",
    "    '''this function equips to get the factorial\n",
    "    of any umber input'''\n",
    "    \n",
    "    if n<=1:\n",
    "        return 1\n",
    "    else:\n",
    "        n=n*factorial(n-1)\n",
    "        return n"
   ]
  },
  {
   "cell_type": "code",
   "execution_count": 13,
   "id": "ac3c4b35",
   "metadata": {},
   "outputs": [
    {
     "data": {
      "text/plain": [
       "'this function equips to get the factorial\\n    of any umber input'"
      ]
     },
     "execution_count": 13,
     "metadata": {},
     "output_type": "execute_result"
    }
   ],
   "source": [
    "factorial.__doc__"
   ]
  },
  {
   "cell_type": "code",
   "execution_count": null,
   "id": "5a49db47",
   "metadata": {},
   "outputs": [],
   "source": [
    "def function_name(parameter):\n",
    "    \n",
    "    '''document string'''\n",
    "    \n",
    "    block\n",
    "    return"
   ]
  },
  {
   "cell_type": "code",
   "execution_count": 18,
   "id": "868acb5d",
   "metadata": {},
   "outputs": [
    {
     "data": {
      "text/plain": [
       "'Return the number of items in a container.'"
      ]
     },
     "execution_count": 18,
     "metadata": {},
     "output_type": "execute_result"
    }
   ],
   "source": [
    "len.__doc__"
   ]
  },
  {
   "cell_type": "code",
   "execution_count": null,
   "id": "4a82e96a",
   "metadata": {},
   "outputs": [],
   "source": []
  }
 ],
 "metadata": {
  "kernelspec": {
   "display_name": "Python 3",
   "language": "python",
   "name": "python3"
  },
  "language_info": {
   "codemirror_mode": {
    "name": "ipython",
    "version": 3
   },
   "file_extension": ".py",
   "mimetype": "text/x-python",
   "name": "python",
   "nbconvert_exporter": "python",
   "pygments_lexer": "ipython3",
   "version": "3.6.2"
  }
 },
 "nbformat": 4,
 "nbformat_minor": 5
}
