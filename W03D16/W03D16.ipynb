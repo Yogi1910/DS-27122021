{
 "cells": [
  {
   "cell_type": "code",
   "execution_count": 7,
   "id": "64ba3b90",
   "metadata": {},
   "outputs": [
    {
     "ename": "NameError",
     "evalue": "name 'B' is not defined",
     "output_type": "error",
     "traceback": [
      "\u001b[0;31m---------------------------------------------------------------------------\u001b[0m",
      "\u001b[0;31mNameError\u001b[0m                                 Traceback (most recent call last)",
      "\u001b[0;32m<ipython-input-7-579a5cc338e8>\u001b[0m in \u001b[0;36m<module>\u001b[0;34m\u001b[0m\n\u001b[0;32m----> 1\u001b[0;31m \u001b[0;32mdel\u001b[0m \u001b[0mB\u001b[0m\u001b[0;34m\u001b[0m\u001b[0m\n\u001b[0m\u001b[1;32m      2\u001b[0m \u001b[0;32mdel\u001b[0m \u001b[0mC\u001b[0m\u001b[0;34m\u001b[0m\u001b[0m\n\u001b[1;32m      3\u001b[0m \u001b[0mA\u001b[0m \u001b[0;34m=\u001b[0m \u001b[0mlist\u001b[0m\u001b[0;34m(\u001b[0m\u001b[0mrange\u001b[0m\u001b[0;34m(\u001b[0m\u001b[0;36m2\u001b[0m\u001b[0;34m,\u001b[0m\u001b[0;36m98\u001b[0m\u001b[0;34m,\u001b[0m\u001b[0;36m3\u001b[0m\u001b[0;34m)\u001b[0m\u001b[0;34m)\u001b[0m\u001b[0;34m[\u001b[0m\u001b[0;36m3\u001b[0m\u001b[0;34m:\u001b[0m\u001b[0;36m6\u001b[0m\u001b[0;34m]\u001b[0m\u001b[0;34m\u001b[0m\u001b[0m\n\u001b[1;32m      4\u001b[0m \u001b[0mprint\u001b[0m\u001b[0;34m(\u001b[0m\u001b[0mA\u001b[0m\u001b[0;34m)\u001b[0m\u001b[0;34m\u001b[0m\u001b[0m\n",
      "\u001b[0;31mNameError\u001b[0m: name 'B' is not defined"
     ]
    }
   ],
   "source": [
    "del B\n",
    "del C\n",
    "A = list(range(2,98,3))[3:6]\n",
    "print(A)"
   ]
  },
  {
   "cell_type": "code",
   "execution_count": 2,
   "id": "2177fc1c",
   "metadata": {},
   "outputs": [
    {
     "data": {
      "text/plain": [
       "[11, 14, 17]"
      ]
     },
     "execution_count": 2,
     "metadata": {},
     "output_type": "execute_result"
    }
   ],
   "source": [
    "list(range(2,98,3))[3:6]"
   ]
  },
  {
   "cell_type": "code",
   "execution_count": 20,
   "id": "a4905649",
   "metadata": {},
   "outputs": [
    {
     "data": {
      "text/plain": [
       "{'cauliflower': 5,\n",
       " 'capsicum': 3,\n",
       " 'pineapple': 4,\n",
       " 'apple': 2,\n",
       " 'mushroom': 3,\n",
       " 'banana': 3}"
      ]
     },
     "execution_count": 20,
     "metadata": {},
     "output_type": "execute_result"
    }
   ],
   "source": [
    "basket = ['cauliflower','capsicum','pineapple','apple','mushroom','banana']\n",
    "\n",
    "#Create a dictionary such that\n",
    "\n",
    "#{name of fruit/veg: no of vowels in the word}\n",
    "\n",
    "D = dict()\n",
    "\n",
    "for items in basket:\n",
    "\n",
    "    count = 0\n",
    "    V = set('aeiouAEIOU')\n",
    "\n",
    "    \n",
    "\n",
    "    for letter in items:\n",
    "        \n",
    "        if letter in V:\n",
    "\n",
    "            count+=1\n",
    "    \n",
    "    D[items] = count\n",
    "\n",
    "D\n",
    "\n",
    "\n"
   ]
  },
  {
   "cell_type": "code",
   "execution_count": 18,
   "id": "a61c6182",
   "metadata": {},
   "outputs": [
    {
     "data": {
      "text/plain": [
       "'a'"
      ]
     },
     "execution_count": 18,
     "metadata": {},
     "output_type": "execute_result"
    }
   ],
   "source": [
    "letter"
   ]
  },
  {
   "cell_type": "markdown",
   "id": "f1df5c79",
   "metadata": {},
   "source": [
    "### DICTIONARY"
   ]
  },
  {
   "cell_type": "code",
   "execution_count": null,
   "id": "214a3656",
   "metadata": {},
   "outputs": [],
   "source": [
    "clear()\n",
    "copy()\n",
    "items()#pair\n",
    "keys()\n",
    "values()\n",
    "pop()### requires an argument\n",
    "popitem()\n",
    "get()#### access\n",
    "setdefault()##### update\n"
   ]
  },
  {
   "cell_type": "code",
   "execution_count": 30,
   "id": "c7253a93",
   "metadata": {},
   "outputs": [
    {
     "name": "stdout",
     "output_type": "stream",
     "text": [
      "{'cauliflower': 5, 'capsicum': 3, 'apple': 2, 'mushroom': 3, 'banana': 3}\n",
      "{'cauliflower': 5, 'capsicum': 3, 'apple': 2, 'mushroom': 3, 'banana': 3, 'pineapple': 4}\n",
      "{'cauliflower': 5, 'capsicum': 3, 'apple': 2, 'mushroom': 3, 'banana': 3, 'pineapple': 4}\n"
     ]
    }
   ],
   "source": [
    "D = {'cauliflower': 5,'capsicum': 3, 'pineapple': 4,'apple': 2, 'mushroom': 3, 'banana': 3}\n",
    "\n",
    "# unlike Dict and tuples pop needs one argument\n",
    "D.pop('pineapple')\n",
    "\n",
    "D.get('pineapple','Oh you already ate this fruit from the basket')\n",
    "\n",
    "# returns the popped pair as well\n",
    "print(D)\n",
    "D.setdefault('pineapple',4)\n",
    "print(D)\n",
    "D.setdefault('apple',200)\n",
    "print(D)\n",
    "\n",
    "\n"
   ]
  },
  {
   "cell_type": "code",
   "execution_count": 27,
   "id": "ce8a04c4",
   "metadata": {
    "scrolled": true
   },
   "outputs": [
    {
     "data": {
      "text/plain": [
       "{2, 3, 4, 5}"
      ]
     },
     "execution_count": 27,
     "metadata": {},
     "output_type": "execute_result"
    }
   ],
   "source": [
    "Q: Create a dictionary for first 100 numbers such that\n",
    "\n",
    "SQ = {number: square of the number}    #{0:0,1:1,2:4,3:9}\n",
    "but \n",
    "\n",
    "A = {7:'forty nine', 8: 'sixty four'} should be items for keys 7 and 8\n",
    "\n",
    "\n"
   ]
  },
  {
   "cell_type": "code",
   "execution_count": 35,
   "id": "bacbd5e8",
   "metadata": {},
   "outputs": [
    {
     "data": {
      "text/plain": [
       "{7: 'forty nine', 8: 'sixty four', 0: 0, 1: 1, 2: 4, 3: 9}"
      ]
     },
     "execution_count": 35,
     "metadata": {},
     "output_type": "execute_result"
    }
   ],
   "source": [
    "D1 = dict()\n",
    "\n",
    "A = {7:'forty nine', 8: 'sixty four'}\n",
    "\n",
    "for i in range(4):\n",
    "    \n",
    "    A.setdefault(i,i**2)\n",
    "    \n",
    "A\n",
    "  \n",
    "    "
   ]
  },
  {
   "cell_type": "markdown",
   "id": "43691fff",
   "metadata": {},
   "source": [
    "### SETS"
   ]
  },
  {
   "cell_type": "code",
   "execution_count": null,
   "id": "35e8a35c",
   "metadata": {},
   "outputs": [],
   "source": [
    "# unordered\n",
    "# mutable\n",
    "# collection of keys\n",
    "# items of set are what: immuatble\n",
    "# do not allow duplicates\n",
    "# heterogenous\n",
    "# all data types can be members\n",
    "\n"
   ]
  },
  {
   "cell_type": "code",
   "execution_count": 37,
   "id": "16798601",
   "metadata": {},
   "outputs": [
    {
     "data": {
      "text/plain": [
       "{0, '3.14', 'A', None, 'prashant'}"
      ]
     },
     "execution_count": 37,
     "metadata": {},
     "output_type": "execute_result"
    }
   ],
   "source": [
    "# constructor\n",
    "set1 =  {'A',0,'3.14','prashant',None}\n",
    "set1\n",
    "\n"
   ]
  },
  {
   "cell_type": "code",
   "execution_count": 38,
   "id": "e79280e3",
   "metadata": {},
   "outputs": [
    {
     "ename": "TypeError",
     "evalue": "'set' object does not support indexing",
     "output_type": "error",
     "traceback": [
      "\u001b[0;31m---------------------------------------------------------------------------\u001b[0m",
      "\u001b[0;31mTypeError\u001b[0m                                 Traceback (most recent call last)",
      "\u001b[0;32m<ipython-input-38-96d7479b7e25>\u001b[0m in \u001b[0;36m<module>\u001b[0;34m\u001b[0m\n\u001b[1;32m      1\u001b[0m \u001b[0;31m# access items in a list\u001b[0m\u001b[0;34m\u001b[0m\u001b[0;34m\u001b[0m\u001b[0m\n\u001b[1;32m      2\u001b[0m \u001b[0;34m\u001b[0m\u001b[0m\n\u001b[0;32m----> 3\u001b[0;31m \u001b[0mset1\u001b[0m\u001b[0;34m[\u001b[0m\u001b[0;36m3\u001b[0m\u001b[0;34m]\u001b[0m\u001b[0;34m\u001b[0m\u001b[0m\n\u001b[0m",
      "\u001b[0;31mTypeError\u001b[0m: 'set' object does not support indexing"
     ]
    }
   ],
   "source": [
    "# access items in a list\n",
    "# TypeError: 'set' object does not support indexing\n",
    "\n",
    "\n",
    "set1[3]"
   ]
  },
  {
   "cell_type": "code",
   "execution_count": 53,
   "id": "1ea0091a",
   "metadata": {},
   "outputs": [
    {
     "data": {
      "text/plain": [
       "{0, '3.14', 'A', None, 'prashant', 'share', 'subscribe'}"
      ]
     },
     "execution_count": 53,
     "metadata": {},
     "output_type": "execute_result"
    }
   ],
   "source": [
    "# membership operator\n",
    "\n",
    "set1 =  {'A',0,'3.14','prashant',None,False}\n",
    "\n",
    "False in set1\n",
    "\n",
    "\n",
    "# add()   ### add any item to the set\n",
    "\n",
    "set1.add('subscribe')\n",
    "set1\n",
    "\n",
    "# update   ### add any iterable to the set\n",
    "\n",
    "set1.update({'share'})\n",
    "set1\n",
    "\n",
    "set1.update(('share',))\n",
    "set1\n",
    "\n",
    "set1.update(('share',))\n",
    "set1\n",
    "\n",
    "# not allowing duplicates\n",
    "\n",
    "\n"
   ]
  },
  {
   "cell_type": "code",
   "execution_count": 57,
   "id": "914e696e",
   "metadata": {},
   "outputs": [
    {
     "data": {
      "text/plain": [
       "{0, '3.14', 'A', None, 'share', 'subscribe'}"
      ]
     },
     "execution_count": 57,
     "metadata": {},
     "output_type": "execute_result"
    }
   ],
   "source": [
    "## remove an item\n",
    "\n",
    "set1 = {0, '3.14', 'A', None, 'prashant', 'share', 'subscribe'}\n",
    "set1.remove('prashant')\n",
    "\n",
    "set1\n",
    "\n",
    "### you use discard when you don't want an error apearing\n",
    "### if key in set:\n",
    "#         discard will remove it\n",
    "#    else:\n",
    "#        Nothing(nont throw an error)\n",
    "\n",
    "### discard\n",
    "\n",
    "\n",
    "set1.discard('Yamuna')\n",
    "set1\n",
    "\n",
    "\n",
    "# pop\n",
    "\n",
    "set2 = {'x','INDIA'}\n",
    "set2.pop()\n",
    "set2"
   ]
  },
  {
   "cell_type": "code",
   "execution_count": 68,
   "id": "3b9e2cb6",
   "metadata": {},
   "outputs": [],
   "source": [
    "# immutability of key:\n",
    "\n",
    "x= (1,)\n",
    "set2 = {x,'INDIA'}\n",
    "\n",
    "# unhashable type: 'list'\n",
    "# revisit these:\n"
   ]
  },
  {
   "cell_type": "code",
   "execution_count": 67,
   "id": "f63b0fca",
   "metadata": {},
   "outputs": [
    {
     "data": {
      "text/plain": [
       "tuple"
      ]
     },
     "execution_count": 67,
     "metadata": {},
     "output_type": "execute_result"
    }
   ],
   "source": [
    "x= (1,{'a':'apple'})\n"
   ]
  },
  {
   "cell_type": "code",
   "execution_count": 70,
   "id": "ea959bca",
   "metadata": {},
   "outputs": [
    {
     "data": {
      "text/plain": [
       "{'x'}"
      ]
     },
     "execution_count": 70,
     "metadata": {},
     "output_type": "execute_result"
    }
   ],
   "source": []
  },
  {
   "cell_type": "code",
   "execution_count": null,
   "id": "9ba5a7ae",
   "metadata": {},
   "outputs": [],
   "source": [
    "####. join two sets\n",
    "\n",
    "dancers = {'AG','YY','AT','AS','KKS'}\n",
    "readers = {'UJ','RN','LS','AT','AS'}\n",
    "\n",
    "\n",
    "Q1can we have all danceers or readers\n",
    "\n",
    "\n"
   ]
  },
  {
   "cell_type": "markdown",
   "id": "5fc7b38f",
   "metadata": {},
   "source": [
    "\n",
    "### Union"
   ]
  },
  {
   "cell_type": "code",
   "execution_count": 74,
   "id": "3c5ee0d9",
   "metadata": {},
   "outputs": [
    {
     "data": {
      "text/plain": [
       "{'AG', 'AS', 'AT', 'KKS', 'LS', 'RN', 'UJ', 'YY'}"
      ]
     },
     "execution_count": 74,
     "metadata": {},
     "output_type": "execute_result"
    }
   ],
   "source": [
    "#### ALL READERS AS WELL AS DANCERS\n",
    "#### ADDING BOTH SETS\n",
    "\n",
    "dancers = {'AG','YY','AT','AS','KKS'}\n",
    "readers = {'UJ','RN','LS','AT','AS'}\n",
    "DR = dancers.union(readers)\n",
    "\n",
    "DR"
   ]
  },
  {
   "cell_type": "markdown",
   "id": "2b3b95ad",
   "metadata": {},
   "source": [
    "### Intersection"
   ]
  },
  {
   "cell_type": "code",
   "execution_count": 78,
   "id": "044030d5",
   "metadata": {},
   "outputs": [
    {
     "name": "stdout",
     "output_type": "stream",
     "text": [
      "{'AS', 'AG', 'YY', 'AT', 'KKS'}\n"
     ]
    },
    {
     "data": {
      "text/plain": [
       "{'AS', 'AT'}"
      ]
     },
     "execution_count": 78,
     "metadata": {},
     "output_type": "execute_result"
    }
   ],
   "source": [
    "#### PEOPLE WHO ARE DANCERS AND READERS\n",
    "#### return a set\n",
    "IS = dancers.intersection(readers)\n",
    "IS\n",
    "\n",
    "print(dancers)\n",
    "\n",
    "\n",
    "\n",
    "\n",
    "#### intersection_update() \n",
    "#### return nothing, update the setitself\n",
    "\n",
    "dancers.intersection_update(readers)\n",
    "dancers\n",
    "\n",
    "\n"
   ]
  },
  {
   "cell_type": "markdown",
   "id": "cce2daa9",
   "metadata": {},
   "source": [
    "### difference"
   ]
  },
  {
   "cell_type": "code",
   "execution_count": 81,
   "id": "ef082c18",
   "metadata": {},
   "outputs": [
    {
     "data": {
      "text/plain": [
       "{'AG', 'KKS', 'YY'}"
      ]
     },
     "execution_count": 81,
     "metadata": {},
     "output_type": "execute_result"
    }
   ],
   "source": [
    "dancers = {'AG','YY','AT','AS','KKS'}\n",
    "readers = {'UJ','RN','LS','AT','AS'}\n",
    "\n",
    "#### PEOPLE WHO ARE DANCERS BUT NOT READERS\n",
    "\n",
    "D_R = dancers.difference(readers)\n",
    "D_R\n",
    "\n",
    "\n",
    "dancers.difference_update(readers)\n",
    "dancers\n"
   ]
  },
  {
   "cell_type": "code",
   "execution_count": 77,
   "id": "19afe4aa",
   "metadata": {},
   "outputs": [
    {
     "data": {
      "text/plain": [
       "{'AS', 'AT'}"
      ]
     },
     "execution_count": 77,
     "metadata": {},
     "output_type": "execute_result"
    }
   ],
   "source": []
  },
  {
   "cell_type": "code",
   "execution_count": 86,
   "id": "c65f5230",
   "metadata": {},
   "outputs": [
    {
     "name": "stdout",
     "output_type": "stream",
     "text": [
      "{2, 3, 4, 6, 8, 9, 10, 12, 14, 15}\n",
      "{12, 6}\n",
      "{2, 4, 8, 10, 14}\n",
      "{9, 3, 15}\n"
     ]
    }
   ],
   "source": [
    "A = {3,6,9,12,15}\n",
    "B = {2,4,6,8,10,12,14}\n",
    "\n",
    "\n",
    "# UNION\n",
    "#tell me all the number if are divisible by 2 or 3\n",
    "\n",
    "print(A.union(B))\n",
    "\n",
    "# Intersection\n",
    "#tell me all the numbers if are divisible both by 2 and 3\n",
    "\n",
    "print(A.intersection(B))\n",
    "\n",
    "\n",
    "# Difference\n",
    "#tell me all the numbers if are divisible by 2 not by 3\n",
    "\n",
    "print(B.difference(A))\n",
    "\n",
    "\n",
    "# Difference\n",
    "#tell me all the numbers if are divisible by 3 not by 2\n",
    "\n",
    "print(A.difference(B))"
   ]
  },
  {
   "cell_type": "code",
   "execution_count": 91,
   "id": "9e831b9b",
   "metadata": {},
   "outputs": [
    {
     "data": {
      "text/plain": [
       "26"
      ]
     },
     "execution_count": 91,
     "metadata": {},
     "output_type": "execute_result"
    }
   ],
   "source": [
    "str1= 'I love python and it is free source, but my problem is I dont know python zqg'\n",
    "\n",
    "len(set(str1))"
   ]
  },
  {
   "cell_type": "code",
   "execution_count": 94,
   "id": "850bc6eb",
   "metadata": {},
   "outputs": [],
   "source": [
    "\n",
    "\n",
    "# Question: \n",
    "\n",
    "\n",
    "alpha  = list('aaccehikloosvz')\n",
    "ind    = [10,13,0,3,2,4,12,11,7,5,8,6,9,1]\n",
    "\n",
    "# Question: redo this\n",
    "# I want you to create a string which put alphabets from alpha in the order of their index fron Ind\n",
    "\n",
    "\n"
   ]
  },
  {
   "cell_type": "code",
   "execution_count": 108,
   "id": "febefb25",
   "metadata": {},
   "outputs": [
    {
     "data": {
      "text/plain": [
       "'czechoslovakia'"
      ]
     },
     "execution_count": 108,
     "metadata": {},
     "output_type": "execute_result"
    }
   ],
   "source": [
    "word = ''\n",
    "\n",
    "\n",
    "for i in range(len(ind)):\n",
    "    \n",
    "    x = ind.index(i)\n",
    "    word+=alpha[x]\n",
    "   \n",
    " \n",
    "\n",
    "word\n",
    "\n",
    "\n",
    "#from 0 how do i get c?\n",
    "\n",
    "#find index of 0 which is 3\n",
    "\n",
    "#find the third alphabet\n",
    "\n"
   ]
  },
  {
   "cell_type": "code",
   "execution_count": 111,
   "id": "8f165507",
   "metadata": {},
   "outputs": [
    {
     "name": "stdout",
     "output_type": "stream",
     "text": [
      "[0]\n",
      "[0, 1]\n",
      "[0, 1, 2]\n",
      "[0, 1, 2, 3]\n",
      "[0, 1, 2, 3, 4]\n"
     ]
    },
    {
     "data": {
      "text/plain": [
       "[[0], [0, 1], [0, 1, 2], [0, 1, 2, 3], [0, 1, 2, 3, 4]]"
      ]
     },
     "execution_count": 111,
     "metadata": {},
     "output_type": "execute_result"
    }
   ],
   "source": [
    "[[0],[0,1],[0,1,2],[0,1,2,3]]\n",
    "\n",
    "l1= []\n",
    "g1= []\n",
    "\n",
    "for i in range(5):\n",
    "    \n",
    "    l1=l1+[i]\n",
    "    \n",
    "    print(l1)\n",
    "    \n",
    "    g1.append(l1)\n",
    "    \n",
    "g1\n",
    "    \n",
    "    \n"
   ]
  },
  {
   "cell_type": "code",
   "execution_count": null,
   "id": "5c41b1e2",
   "metadata": {},
   "outputs": [],
   "source": [
    "#. Question:   Assignment: print fibonacci series for first 15 numbers:\n"
   ]
  }
 ],
 "metadata": {
  "kernelspec": {
   "display_name": "Python 3",
   "language": "python",
   "name": "python3"
  },
  "language_info": {
   "codemirror_mode": {
    "name": "ipython",
    "version": 3
   },
   "file_extension": ".py",
   "mimetype": "text/x-python",
   "name": "python",
   "nbconvert_exporter": "python",
   "pygments_lexer": "ipython3",
   "version": "3.6.2"
  }
 },
 "nbformat": 4,
 "nbformat_minor": 5
}
