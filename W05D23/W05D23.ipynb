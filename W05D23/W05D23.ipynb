{
 "cells": [
  {
   "cell_type": "markdown",
   "id": "37d38888",
   "metadata": {},
   "source": [
    "### File handling"
   ]
  },
  {
   "cell_type": "code",
   "execution_count": null,
   "id": "e52489bc",
   "metadata": {},
   "outputs": [],
   "source": [
    "# EOL characters ---\\n ,','\n",
    "\n",
    "# open(filename,mode)\n",
    "\n",
    "# modes :  r,w,a,r+,w+,a+,rb\n",
    "\n",
    "# rb :  read binary format. data is stored in bytes\n",
    "        #FASTER :  jpeg, png\n",
    "    \n",
    "# how to open binary mode\n",
    "\n",
    "# open(filename, mode='rb')\n",
    "\n",
    "# readline()\n",
    "\n",
    "# readlines()\n",
    "\n",
    "# read() -----reads the whole file as a string\n",
    "    \n",
    "# readline(input)\n",
    "\n",
    "    \n",
    "\n",
    "\n",
    "\n",
    "\n",
    "\n"
   ]
  },
  {
   "cell_type": "code",
   "execution_count": 13,
   "id": "2ccc711b",
   "metadata": {},
   "outputs": [
    {
     "data": {
      "text/plain": [
       "'one\\n'"
      ]
     },
     "execution_count": 13,
     "metadata": {},
     "output_type": "execute_result"
    }
   ],
   "source": [
    "# read() -----reads the whole file as a string\n",
    "\n",
    "file1 =open('COUNTING.txt')\n",
    "\n",
    "file1.tell()\n",
    "\n",
    "x = file1.read\n",
    "\n",
    "file1.tell()\n",
    "\n",
    "x   # will print everythin inthe file"
   ]
  },
  {
   "cell_type": "code",
   "execution_count": 26,
   "id": "313c89e1",
   "metadata": {},
   "outputs": [
    {
     "data": {
      "text/plain": [
       "'one\\n'"
      ]
     },
     "execution_count": 26,
     "metadata": {},
     "output_type": "execute_result"
    }
   ],
   "source": [
    "# readline(input)\n",
    "# input = characters you want to print from the line\n",
    "\n",
    "file1 =open('COUNTING.txt')\n",
    "\n",
    "file1.tell()\n",
    "\n",
    "x = file1.readline()\n",
    "\n",
    "file1.tell()\n",
    "\n",
    "file1.close()\n",
    "\n",
    "x   # will print everything in the file"
   ]
  },
  {
   "cell_type": "code",
   "execution_count": 27,
   "id": "8f13bf45",
   "metadata": {},
   "outputs": [
    {
     "data": {
      "text/plain": [
       "True"
      ]
     },
     "execution_count": 27,
     "metadata": {},
     "output_type": "execute_result"
    }
   ],
   "source": [
    "# open\n",
    "# operation\n",
    "# close\n",
    "\n",
    "\n",
    "# to check if a file is still opened\n",
    "\n",
    "file1.closed\n"
   ]
  },
  {
   "cell_type": "code",
   "execution_count": 51,
   "id": "a19c4893",
   "metadata": {},
   "outputs": [
    {
     "data": {
      "text/plain": [
       "b'one\\n2\\nthree\\n4\\nfive\\n6\\nseven\\n8\\nnine\\n10'"
      ]
     },
     "execution_count": 51,
     "metadata": {},
     "output_type": "execute_result"
    }
   ],
   "source": [
    "### with command\n",
    "\n",
    "with open('COUNTING.txt','rb') as monkey:\n",
    "    \n",
    "    data = monkey.read()\n",
    "    \n",
    "    \n",
    "\n",
    "\n",
    "    \n",
    "    # do all operations here\n",
    "    # do not worry about closing your file\n",
    "\n",
    "    \n",
    "monkey.closed\n",
    "data\n",
    "\n",
    "\n",
    "\n",
    "\n",
    "# local variable space\n",
    "# we dont need variables to live longer\n",
    "# maybe outside the function\n",
    "# that is why we create them inside the function"
   ]
  },
  {
   "cell_type": "code",
   "execution_count": 39,
   "id": "208abd99",
   "metadata": {},
   "outputs": [
    {
     "ename": "SyntaxError",
     "evalue": "invalid syntax (<ipython-input-39-38b4d71025ec>, line 14)",
     "output_type": "error",
     "traceback": [
      "\u001b[0;36m  File \u001b[0;32m\"<ipython-input-39-38b4d71025ec>\"\u001b[0;36m, line \u001b[0;32m14\u001b[0m\n\u001b[0;31m    `\u001b[0m\n\u001b[0m    ^\u001b[0m\n\u001b[0;31mSyntaxError\u001b[0m\u001b[0;31m:\u001b[0m invalid syntax\n"
     ]
    }
   ],
   "source": [
    "### seek()  # helps you move your handle as per your choice\n",
    " \n",
    "#. seek(offset, from_what)\n",
    "\n",
    "# offset -    how many units you wnat it to move\n",
    "\n",
    "#.from_what --- beginning or end or current\n",
    "\n",
    "#  0 -  beginning\n",
    "#. 1 - current\n",
    "#. 2 - end of the file\n",
    "\n",
    "\n"
   ]
  },
  {
   "cell_type": "code",
   "execution_count": 52,
   "id": "deb2757f",
   "metadata": {},
   "outputs": [
    {
     "name": "stdout",
     "output_type": "stream",
     "text": [
      "0\n",
      "b'one\\n'\n",
      "15\n",
      "15\n",
      "29\n",
      "b'nine\\n'\n"
     ]
    },
    {
     "data": {
      "text/plain": [
       "True"
      ]
     },
     "execution_count": 52,
     "metadata": {},
     "output_type": "execute_result"
    }
   ],
   "source": [
    "### with command\n",
    "\n",
    "### binary files will support this operations\n",
    "\n",
    "with open('COUNTING.txt','rb') as monkey:\n",
    "    \n",
    "    print(monkey.tell())\n",
    "    \n",
    "    print(monkey.readline())\n",
    "    \n",
    "    monkey.seek(15,0)\n",
    "    \n",
    "    print(monkey.tell())\n",
    "    \n",
    "    print(monkey.tell())\n",
    "    \n",
    "    monkey.seek(17,0)\n",
    "    \n",
    "    \n",
    "    \n",
    "    print(monkey.tell())\n",
    "    \n",
    "    print(monkey.readline())\n",
    "    \n",
    "    # do all operations here\n",
    "    # do not worry about closing your file\n",
    "\n",
    "    \n",
    "monkey.closed\n"
   ]
  },
  {
   "cell_type": "code",
   "execution_count": null,
   "id": "ece17cb2",
   "metadata": {},
   "outputs": [],
   "source": [
    "#r character (r portal) (raw string)\n",
    "#b charatcer (binary file)"
   ]
  },
  {
   "cell_type": "code",
   "execution_count": 57,
   "id": "e9e62dc1",
   "metadata": {},
   "outputs": [
    {
     "name": "stdout",
     "output_type": "stream",
     "text": [
      "5\n",
      "19\n",
      "24\n"
     ]
    },
    {
     "data": {
      "text/plain": [
       "True"
      ]
     },
     "execution_count": 57,
     "metadata": {},
     "output_type": "execute_result"
    }
   ],
   "source": [
    "with open('COUNTING.txt','rb') as monkey:\n",
    "    \n",
    "    monkey.seek(5,0)    \n",
    "    \n",
    "    print(monkey.tell())\n",
    "    \n",
    "    monkey.seek(-17,2)  #----end position total characters = 36\n",
    "    \n",
    "    print(monkey.tell())\n",
    "    \n",
    "    monkey.seek(5,1)    #-----current\n",
    "    \n",
    "    print(monkey.tell())\n",
    "    \n",
    "monkey.closed\n",
    "\n"
   ]
  },
  {
   "cell_type": "code",
   "execution_count": 67,
   "id": "b78a43ac",
   "metadata": {},
   "outputs": [
    {
     "data": {
      "text/plain": [
       "b'Python was conceived in the late 1980s[39] by Guido van Rossum at Centrum Wiskunde & Informatica (CWI) in the Netherlands as a successor to the ABC programming language, which was inspired by SETL,[40] capable of exception handling and interfacing with the Amoeba operating system.[10] Its implementation began in December 1989.[41] Van Rossum shouldered sole responsibility for the project, as the lead developer, until 12 July 2018, when he announced his \"permanent vacation\" from his responsibilities as Python\\'s \"benevolent dictator for life\", a title the Python community bestowed upon him to reflect his long-term commitment as the project\\'s chief decision-maker.[42] In January 2019, active Python core developers elected a five-member \"Steering Council\" to lead the project.[43][44]\\n'"
      ]
     },
     "execution_count": 67,
     "metadata": {},
     "output_type": "execute_result"
    }
   ],
   "source": [
    "with open('python.txt','rb') as ape:\n",
    "    print(ape.readline())\n",
    "    \n",
    "    \n",
    "# Assignment\n",
    "\n",
    "1. How many times python is appearing?\n",
    "2. How many nouns are there?\n",
    "3. how mnay lines have Python?\n",
    "4. No of char in each line?\n",
    "\n"
   ]
  },
  {
   "cell_type": "code",
   "execution_count": 71,
   "id": "01394617",
   "metadata": {},
   "outputs": [
    {
     "name": "stdout",
     "output_type": "stream",
     "text": [
      "[b'8\\n', b'nine\\n', b'10']\n"
     ]
    },
    {
     "data": {
      "text/plain": [
       "True"
      ]
     },
     "execution_count": 71,
     "metadata": {},
     "output_type": "execute_result"
    }
   ],
   "source": [
    "# Question: How would you read last 3 lines of your text file?\n",
    "# what is the function that gives bool output and I told you today?----closed\n",
    "\n",
    "with open('COUNTING.txt','rb') as ape:\n",
    "    print(ape.readlines()[-3:])\n",
    "    \n",
    "ape.closed"
   ]
  },
  {
   "cell_type": "markdown",
   "id": "7bc16c09",
   "metadata": {},
   "source": [
    "### Regular Expression ---RegEx"
   ]
  },
  {
   "cell_type": "code",
   "execution_count": null,
   "id": "4c5e20b8",
   "metadata": {},
   "outputs": [],
   "source": [
    "# Regex is a sequence of characters that forms a search pattern\n",
    "\n",
    "IFSC CODE -  SBIN0002680  ----> bankname - digits ---branch code\n",
    "\n",
    "PAN CARD  -  five letters -> 5 sigits\n",
    "\n",
    "PINCODE --  4/3-  west\n",
    "            2/1-north\n",
    "            5/6-chennai\n",
    "            7 - east\n",
    "            \n",
    "\n",
    "     \n",
    "# regex can used to check if a string contains the specified search pattern?     \n"
   ]
  },
  {
   "cell_type": "code",
   "execution_count": null,
   "id": "bf0fd9b4",
   "metadata": {},
   "outputs": [],
   "source": [
    "# module\n",
    "\n",
    "import re\n",
    "\n"
   ]
  },
  {
   "cell_type": "code",
   "execution_count": null,
   "id": "e98838eb",
   "metadata": {},
   "outputs": [],
   "source": [
    "# functions that are supported:\n",
    "\n",
    "search    ----- searches and tells if found for the first occurance\n",
    "findall   ----- finds and returns\n",
    "split     ----- splits the string\n",
    "sub       ----- substitute a substring\n",
    "match     ----- match at the beginning\n"
   ]
  },
  {
   "cell_type": "code",
   "execution_count": 76,
   "id": "2bf2548d",
   "metadata": {},
   "outputs": [
    {
     "data": {
      "text/plain": [
       "<_sre.SRE_Match object; span=(10, 12), match='ro'>"
      ]
     },
     "execution_count": 76,
     "metadata": {},
     "output_type": "execute_result"
    }
   ],
   "source": [
    "# syntax for search \n",
    "# re.search(pattern,search_string)\n",
    "\n",
    "string1 = 'Tusar is from Kolkata and his PIN starts from 7'\n",
    "\n",
    "\n",
    "import re\n",
    "\n",
    "re.search('ro',string1)"
   ]
  },
  {
   "cell_type": "code",
   "execution_count": 73,
   "id": "5160bd24",
   "metadata": {},
   "outputs": [
    {
     "data": {
      "text/plain": [
       "'ro'"
      ]
     },
     "execution_count": 73,
     "metadata": {},
     "output_type": "execute_result"
    }
   ],
   "source": [
    "string1[10:12]"
   ]
  },
  {
   "cell_type": "code",
   "execution_count": 74,
   "id": "01ba4953",
   "metadata": {},
   "outputs": [
    {
     "data": {
      "text/plain": [
       "(10, 12)"
      ]
     },
     "execution_count": 74,
     "metadata": {},
     "output_type": "execute_result"
    }
   ],
   "source": [
    "#  span function on search object gives you the span of the pattern\n",
    "\n",
    "S = re.search('ro',string1)\n",
    "S.span()"
   ]
  },
  {
   "cell_type": "markdown",
   "id": "769cf0ee",
   "metadata": {},
   "source": [
    "#### meta characters"
   ]
  },
  {
   "cell_type": "code",
   "execution_count": null,
   "id": "e9ea8d0d",
   "metadata": {},
   "outputs": [],
   "source": [
    "1) .  = any/all charatcers\n",
    "\n",
    "2) ^ CARET = starts with\n",
    "\n",
    "3) $ dollar =  ends with\n",
    "\n",
    "4) |       either or\n",
    "\n",
    "5) ?\n",
    "\n",
    "6) +\n",
    "\n",
    "7) {}\n",
    "\n",
    "8) []"
   ]
  },
  {
   "cell_type": "code",
   "execution_count": 94,
   "id": "343280d7",
   "metadata": {},
   "outputs": [
    {
     "data": {
      "text/plain": [
       "<_sre.SRE_Match object; span=(0, 1), match='T'>"
      ]
     },
     "execution_count": 94,
     "metadata": {},
     "output_type": "execute_result"
    }
   ],
   "source": [
    "string1 = 'Tusar is from Kolkata and his PIN starts from 7'\n",
    "\n",
    "\n",
    "import re\n",
    "\n",
    "re.search('^T',string1)"
   ]
  },
  {
   "cell_type": "code",
   "execution_count": 96,
   "id": "b85948f8",
   "metadata": {},
   "outputs": [
    {
     "data": {
      "text/plain": [
       "<_sre.SRE_Match object; span=(54, 55), match='7'>"
      ]
     },
     "execution_count": 96,
     "metadata": {},
     "output_type": "execute_result"
    }
   ],
   "source": [
    "string1 = 'Tusar is from Kolkata ....... and his PIN starts from 7'\n",
    "\n",
    "\n",
    "import re\n",
    "\n",
    "re.search('7$',string1) "
   ]
  },
  {
   "cell_type": "code",
   "execution_count": 102,
   "id": "c3336367",
   "metadata": {},
   "outputs": [
    {
     "data": {
      "text/plain": [
       "<_sre.SRE_Match object; span=(0, 5), match='Tusar'>"
      ]
     },
     "execution_count": 102,
     "metadata": {},
     "output_type": "execute_result"
    }
   ],
   "source": [
    "string1 = 'Tusar is from Kolkata ....... and his PIN starts from 7'\n",
    "\n",
    "\n",
    "import re\n",
    "\n",
    "re.search('Tusar|mondal',string1) "
   ]
  },
  {
   "cell_type": "code",
   "execution_count": null,
   "id": "875b95cb",
   "metadata": {},
   "outputs": [],
   "source": []
  }
 ],
 "metadata": {
  "kernelspec": {
   "display_name": "Python 3",
   "language": "python",
   "name": "python3"
  },
  "language_info": {
   "codemirror_mode": {
    "name": "ipython",
    "version": 3
   },
   "file_extension": ".py",
   "mimetype": "text/x-python",
   "name": "python",
   "nbconvert_exporter": "python",
   "pygments_lexer": "ipython3",
   "version": "3.6.2"
  }
 },
 "nbformat": 4,
 "nbformat_minor": 5
}
