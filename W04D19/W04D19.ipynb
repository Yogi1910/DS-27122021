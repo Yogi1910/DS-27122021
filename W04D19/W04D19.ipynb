{
 "cells": [
  {
   "cell_type": "code",
   "execution_count": 13,
   "id": "697e50e8",
   "metadata": {},
   "outputs": [],
   "source": [
    "# We understood:\n",
    "    \n",
    "    \n",
    "How function are defined:––––––> def F()\n",
    "How functions are called:------> F()\n",
    "    \n",
    "    \n",
    "# argument and paramater\n",
    "\n",
    "while we define a function inputs that are required by a function are called parameters\n",
    "while I call the function inputs that are passed to the function are called arguments\n",
    "\n",
    "\n"
   ]
  },
  {
   "cell_type": "code",
   "execution_count": 2,
   "id": "b35155df",
   "metadata": {},
   "outputs": [
    {
     "name": "stdout",
     "output_type": "stream",
     "text": [
      "56 * 0 = 0\n",
      "56 * 1 = 56\n",
      "56 * 2 = 112\n",
      "56 * 3 = 168\n",
      "56 * 4 = 224\n",
      "56 * 5 = 280\n",
      "56 * 6 = 336\n",
      "56 * 7 = 392\n",
      "56 * 8 = 448\n",
      "56 * 9 = 504\n",
      "56 * 10 = 560\n"
     ]
    }
   ],
   "source": [
    "# make a function which prints table of any positive numbers\n",
    "# fixed argument\n",
    "\n",
    "def table(number):\n",
    "    for i in range(11):\n",
    "        print(\"{} * {} = {}\".format(number,i,number*i))\n",
    "\n",
    "table(56)\n",
    "\n",
    "\n",
    "# In this above example parameters are\n",
    "# ------> number\n",
    "\n",
    "# In this above example arguments are\n",
    "# ------> 56\n"
   ]
  },
  {
   "cell_type": "code",
   "execution_count": 5,
   "id": "c2e0ec41",
   "metadata": {},
   "outputs": [
    {
     "name": "stdout",
     "output_type": "stream",
     "text": [
      "56 * 0 = 0\n",
      "56 * 1 = 56\n",
      "56 * 2 = 112\n",
      "56 * 3 = 168\n",
      "56 * 4 = 224\n",
      "56 * 5 = 280\n",
      "56 * 6 = 336\n",
      "56 * 7 = 392\n",
      "56 * 8 = 448\n",
      "56 * 9 = 504\n",
      "56 * 10 = 560\n"
     ]
    }
   ],
   "source": [
    "# make a function which prints table of any positive numbers\n",
    "\n",
    "def table(number):\n",
    "    for i in range(11):\n",
    "        print(\"{} * {} = {}\".format(number,i,number*i))\n",
    "\n",
    "table(56)"
   ]
  },
  {
   "cell_type": "code",
   "execution_count": 24,
   "id": "719a9e0a",
   "metadata": {},
   "outputs": [
    {
     "name": "stdout",
     "output_type": "stream",
     "text": [
      "student has got 80 marks in the subject\n"
     ]
    }
   ],
   "source": [
    "##  parameter passing\n",
    "\n",
    "##  Defalt argument\n",
    "\n",
    "##  key =value (this pair of parameter passing is helpful when you want to have certaidefault input going to your function)\n",
    "\n",
    "\n",
    "def result(marks, name ='student'):\n",
    "    \n",
    "    print('{1} has got {0} marks in the subject'.format(marks,name))\n",
    "    \n",
    "result(80)\n",
    "\n"
   ]
  },
  {
   "cell_type": "code",
   "execution_count": 21,
   "id": "9ba2e6c1",
   "metadata": {},
   "outputs": [
    {
     "data": {
      "text/plain": [
       "[20, 4, 3, 1]"
      ]
     },
     "execution_count": 21,
     "metadata": {},
     "output_type": "execute_result"
    }
   ],
   "source": [
    "L = [1,20,3,4]\n",
    "\n",
    "L.sort()\n",
    "\n",
    "L\n",
    "\n",
    "#default argumnet means if you are notpassing any argument for the parameter it has some default value\n",
    "#sort(...)\n",
    "#|      L.sort(key=None, reverse=False) -> None -- stable sort *IN PLACE*"
   ]
  },
  {
   "cell_type": "code",
   "execution_count": 27,
   "id": "b70b559b",
   "metadata": {},
   "outputs": [
    {
     "name": "stdout",
     "output_type": "stream",
     "text": [
      "12 * 0 = 0\n",
      "12 * 1 = 12\n",
      "12 * 2 = 24\n",
      "12 * 3 = 36\n",
      "12 * 4 = 48\n",
      "12 * 5 = 60\n",
      "12 * 6 = 72\n",
      "12 * 7 = 84\n",
      "12 * 8 = 96\n",
      "12 * 9 = 108\n",
      "12 * 10 = 120\n"
     ]
    }
   ],
   "source": [
    "#  make a function which prints table of any positive numbers\n",
    "#  default arguemnt passing\n",
    "\n",
    "\n",
    "def table(number=10):\n",
    "    for i in range(11):\n",
    "        print(\"{} * {} = {}\".format(number,i,number*i))\n",
    "\n",
    "table(12)"
   ]
  },
  {
   "cell_type": "code",
   "execution_count": 30,
   "id": "cc0c41e9",
   "metadata": {},
   "outputs": [
    {
     "ename": "SyntaxError",
     "evalue": "non-default argument follows default argument (<ipython-input-30-29607ad48531>, line 1)",
     "output_type": "error",
     "traceback": [
      "\u001b[0;36m  File \u001b[0;32m\"<ipython-input-30-29607ad48531>\"\u001b[0;36m, line \u001b[0;32m1\u001b[0m\n\u001b[0;31m    def result(name ='student',marks):\u001b[0m\n\u001b[0m              ^\u001b[0m\n\u001b[0;31mSyntaxError\u001b[0m\u001b[0;31m:\u001b[0m non-default argument follows default argument\n"
     ]
    }
   ],
   "source": [
    "# name is default argument\n",
    "# marks is non default argument\n",
    "\n",
    "# SyntaxError: non-default argument follows default argumen\n",
    "# any default argumnent should not come before a non- default argumnet\n",
    "\n",
    "def result(marks, name ='student'):\n",
    "    \n",
    "    print('{1} has got {0} marks in the subject'.format(marks,name))\n",
    "    \n",
    "result(80)\n",
    "\n",
    "\n",
    "\n"
   ]
  },
  {
   "cell_type": "code",
   "execution_count": 36,
   "id": "c7dda95f",
   "metadata": {},
   "outputs": [],
   "source": [
    "# aribitrary arguments\n",
    "\n",
    "# Sometimes we do not know in advance that how many number of arguments there should be passed into a function\n",
    "# asteric followed by a parameter will take multiple arguments which we can loop over\n",
    "# *args is a special keyword which allows us to take variable length arguments\n",
    "\n",
    "def greet(*monkey):\n",
    "    \n",
    "    for i in monkey:\n",
    "        print('hello! ', i)\n",
    "        \n",
    "    "
   ]
  },
  {
   "cell_type": "code",
   "execution_count": 37,
   "id": "3f6a2ad7",
   "metadata": {},
   "outputs": [
    {
     "name": "stdout",
     "output_type": "stream",
     "text": [
      "hello!  prasad\n",
      "hello!  asad\n",
      "hello!  yash\n",
      "hello!  komal\n"
     ]
    }
   ],
   "source": [
    "greet('prasad','asad','yash','komal')"
   ]
  },
  {
   "cell_type": "code",
   "execution_count": 35,
   "id": "42fdb302",
   "metadata": {},
   "outputs": [
    {
     "name": "stdout",
     "output_type": "stream",
     "text": [
      "hello!  prasad\n",
      "hello!  asad\n",
      "hello!  yash\n",
      "hello!  komal\n"
     ]
    }
   ],
   "source": [
    "names = ('prasad','asad','yash','komal')\n",
    "def greet(names):\n",
    "    \n",
    "    \n",
    "    print('hello! ', i)\n",
    "    \n",
    "for i in names:\n",
    "    greet(i)"
   ]
  },
  {
   "cell_type": "markdown",
   "id": "d7d082e4",
   "metadata": {},
   "source": [
    "### Recursion"
   ]
  },
  {
   "cell_type": "code",
   "execution_count": null,
   "id": "4f430712",
   "metadata": {},
   "outputs": [],
   "source": [
    "# RecursionError: maximum recursion depth exceeded in comparison\n",
    "\n",
    "def sum_3(x):\n",
    "    print(x+3)\n",
    "    \n",
    "    \n",
    "    sum_3(x+3)\n",
    "\n",
    "\n",
    "#sum_3(0)\n",
    "\n",
    "\n",
    "# Function called inside a function is called recursion\n",
    "# python has by default the depth ofrecursion is 1000 to avoid \n",
    "# having infinite recursive error\n",
    "\n",
    "\n",
    "# object between two mirrors would be reflected infinitely\n"
   ]
  },
  {
   "cell_type": "code",
   "execution_count": null,
   "id": "928bba9f",
   "metadata": {},
   "outputs": [],
   "source": [
    "# factorial of a number?\n",
    "\n",
    "n!  =  n*(n-1)*(n-2)\n",
    "\n",
    "5! = 5*4*3*2*1= 120\n",
    "\n",
    "\n"
   ]
  },
  {
   "cell_type": "code",
   "execution_count": 46,
   "id": "82e7323e",
   "metadata": {},
   "outputs": [
    {
     "name": "stdout",
     "output_type": "stream",
     "text": [
      "enter num= 5\n",
      "factorial of num is:  120\n"
     ]
    }
   ],
   "source": [
    "def f(n):\n",
    "    if n<=1:\n",
    "        return 1\n",
    "    else:\n",
    "        n=n*f(n-1)\n",
    "        return n\n",
    "    \n",
    "        \n",
    "n=int(input(\"enter num = \"))\n",
    "print(\"factorial of num is: \" ,f(n))"
   ]
  },
  {
   "cell_type": "code",
   "execution_count": 49,
   "id": "2f2ddf7d",
   "metadata": {},
   "outputs": [
    {
     "data": {
      "text/plain": [
       "720"
      ]
     },
     "execution_count": 49,
     "metadata": {},
     "output_type": "execute_result"
    }
   ],
   "source": [
    "n =6\n",
    "\n",
    "f=1\n",
    "\n",
    "for i in range(n,0,-1):\n",
    "    f = i*f\n",
    "    \n",
    "f"
   ]
  },
  {
   "cell_type": "code",
   "execution_count": null,
   "id": "1a8970ed",
   "metadata": {},
   "outputs": [],
   "source": [
    "# factorial formula\n",
    "\n",
    "6! = 6*5*4*3*2*1\n",
    "5! =   5*4*3*2*1\n",
    "\n",
    "6! = 6*5!\n",
    "\n",
    "n! = n*(n-1)!\n",
    "factorial(n) = n*factorial(n-1)"
   ]
  },
  {
   "cell_type": "code",
   "execution_count": 52,
   "id": "4d89f7ed",
   "metadata": {},
   "outputs": [
    {
     "name": "stdout",
     "output_type": "stream",
     "text": [
      "enter num = 5\n",
      "factorial of num is:  120\n"
     ]
    }
   ],
   "source": [
    "def factorial(n):\n",
    "    if n<=1:\n",
    "        return 1\n",
    "    else:\n",
    "        n=n*factorial(n-1)\n",
    "        return n\n",
    "    \n",
    "       \n",
    "n=int(input(\"enter num = \"))\n",
    "print(\"factorial of num is: \" ,factorial(n))"
   ]
  },
  {
   "cell_type": "markdown",
   "id": "a6691466",
   "metadata": {},
   "source": [
    "### LEGB"
   ]
  },
  {
   "cell_type": "code",
   "execution_count": null,
   "id": "eb178ea0",
   "metadata": {},
   "outputs": [],
   "source": [
    "Local\n",
    "Enclosed\n",
    "Global\n",
    "Builtin\n",
    "\n"
   ]
  },
  {
   "cell_type": "code",
   "execution_count": 68,
   "id": "13c88189",
   "metadata": {},
   "outputs": [
    {
     "name": "stdout",
     "output_type": "stream",
     "text": [
      "5\n"
     ]
    },
    {
     "data": {
      "text/plain": [
       "5"
      ]
     },
     "execution_count": 68,
     "metadata": {},
     "output_type": "execute_result"
    }
   ],
   "source": [
    "# global keyword\n",
    "# this keyword helps me define a global variable inside the function\n",
    "# global keyword outside the function\n",
    "\n",
    "\n",
    "\n",
    "def P():\n",
    "    \n",
    "    global c\n",
    "    c=3\n",
    "    c=c+2\n",
    "    print(c)\n",
    "    \n",
    "P()\n",
    "\n",
    "c"
   ]
  },
  {
   "cell_type": "code",
   "execution_count": 71,
   "id": "21c51565",
   "metadata": {},
   "outputs": [
    {
     "name": "stdout",
     "output_type": "stream",
     "text": [
      "1\n"
     ]
    }
   ],
   "source": [
    "### Enclosed variable\n",
    "\n",
    "### when we have a nested function we may have. an enclosed variable\n",
    "\n",
    "\n",
    "def outer():\n",
    "    \n",
    "    num1 = 1  ### is this a enclosed local variable\n",
    "    \n",
    "    def inner():\n",
    "        num1 = 0\n",
    "        num2 = 1\n",
    "        print(num1)\n",
    "        \n",
    "        \n",
    "    print(num1)\n",
    "        \n",
    "        \n",
    "    inner()\n",
    "\n",
    "    \n",
    "outer()"
   ]
  },
  {
   "cell_type": "code",
   "execution_count": 95,
   "id": "8ffebcf4",
   "metadata": {},
   "outputs": [
    {
     "name": "stdout",
     "output_type": "stream",
     "text": [
      "this is printed by f:  4\n",
      "this is printed by g:  4\n",
      "this is global      :  4\n"
     ]
    }
   ],
   "source": [
    "d = 4\n",
    "\n",
    "\n",
    "def g():\n",
    "       # enclosed local variable\n",
    "          # local for function g()\n",
    "    \n",
    "    d=0\n",
    "    def f():\n",
    "        \n",
    "          # I am updating local variable\n",
    "        print('this is printed by f: ',d)\n",
    "        \n",
    "        \n",
    "    f()\n",
    "    \n",
    "    print('this is printed by g: ',d)\n",
    "    \n",
    "    \n",
    "g()\n",
    "print('this is global      : ',d)\n",
    "\n",
    "\n",
    "\n",
    "# L = Local\n",
    "# E = Enclosed\n",
    "# G = Global\n",
    "# B = Builtins"
   ]
  },
  {
   "cell_type": "code",
   "execution_count": 80,
   "id": "9d6bb447",
   "metadata": {},
   "outputs": [
    {
     "name": "stdout",
     "output_type": "stream",
     "text": [
      "3\n"
     ]
    }
   ],
   "source": [
    "def f1():\n",
    "    print(3)\n",
    "    \n",
    "\n",
    "f1()"
   ]
  },
  {
   "cell_type": "code",
   "execution_count": 97,
   "id": "3ae2886b",
   "metadata": {},
   "outputs": [
    {
     "data": {
      "text/plain": [
       "{1, 4}"
      ]
     },
     "execution_count": 97,
     "metadata": {},
     "output_type": "execute_result"
    }
   ],
   "source": [
    "A= {1,2,3,4}\n",
    "B = {2,3}\n",
    "\n",
    "A.difference_update(B)\n",
    "A\n",
    "\n",
    "# modification in the original set\n",
    "\n",
    "# union, differenc, intersection, symmetric-difference"
   ]
  },
  {
   "cell_type": "code",
   "execution_count": 101,
   "id": "03c8f6f6",
   "metadata": {},
   "outputs": [
    {
     "name": "stdout",
     "output_type": "stream",
     "text": [
      "27\n"
     ]
    }
   ],
   "source": [
    "#print() # -----function\n",
    "#return # ----- keyword\n",
    "\n",
    "\n",
    "a = 2\n",
    "b= 10\n",
    "\n",
    "a*b  # I NEVER ASKED MY FUNCTIONOR OPERATOR TO PRINT\n",
    "     # IN JUPYTER FOR INTERPREATABILIY AUTO PRINT HAPPENS\n",
    "    \n",
    "    \n",
    "def cube(x):\n",
    "    \n",
    "    return x**3\n",
    "    \n",
    "cube_of_3 = cube(3)\n",
    "\n",
    "print(cube_of_3)"
   ]
  },
  {
   "cell_type": "code",
   "execution_count": null,
   "id": "5acca0b6",
   "metadata": {},
   "outputs": [],
   "source": [
    "# run a python file from CMD\n",
    "\n",
    "open cmd on windows\n",
    "py -m\n",
    "python3 -m\n",
    "\n",
    "\n",
    "go to the directory where the file is with this command\n",
    "\n",
    "hp/amit/\n",
    "\n",
    "cd /Users/yogeshnailwal/Desktop/EDYODA/W04D19\n",
    "\n",
    "/Users/yogeshnailwal/Desktop/EDYODA/W04D19/py -m CODE_FILE.py\n",
    "\n"
   ]
  },
  {
   "cell_type": "code",
   "execution_count": null,
   "id": "f9542345",
   "metadata": {},
   "outputs": [],
   "source": []
  }
 ],
 "metadata": {
  "kernelspec": {
   "display_name": "Python 3",
   "language": "python",
   "name": "python3"
  },
  "language_info": {
   "codemirror_mode": {
    "name": "ipython",
    "version": 3
   },
   "file_extension": ".py",
   "mimetype": "text/x-python",
   "name": "python",
   "nbconvert_exporter": "python",
   "pygments_lexer": "ipython3",
   "version": "3.6.2"
  }
 },
 "nbformat": 4,
 "nbformat_minor": 5
}
