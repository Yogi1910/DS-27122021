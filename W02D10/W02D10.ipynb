{
 "cells": [
  {
   "cell_type": "code",
   "execution_count": null,
   "id": "0db77c88",
   "metadata": {},
   "outputs": [],
   "source": [
    "Write a program to print table of number given as input\n",
    "\n",
    "Write a python program to find the sum of all even numbers from 0 to n\n",
    "\n",
    "Write a program to reverse a number\n",
    "\n",
    "Write a program to calculate sum of digits of a number\n",
    "\n",
    "Write a program to swap first and last digits of a number\n",
    "\n",
    "Write a program that keep on accepting number from the user until user enters Zero. Display the sum and average of all the numbers\n",
    "\n",
    "Write a program to find frequency of each digit in a given integer: 1345673628956372\n",
    "\n",
    "Write a program to check whether a given number is palindrome or not\n",
    "\n",
    "Write a python program to print the first 10 numbers Fibonacci series\n",
    "\n",
    "Print elements of a list till we get a 5\n",
    "\n",
    "\n",
    "Write a program to print the following pattern\n",
    "\n",
    "A    A    A    A\n",
    "\n",
    "A    A    A    A\n",
    "\n",
    "A    A    A    A\n",
    "\n",
    "A    A    A    A\n",
    "\n",
    "\n",
    "\n",
    "Write a program to print the following pattern\n",
    "\n",
    "1    2     3    4 \n",
    "\n",
    "1    2     3\n",
    "\n",
    "1   2\n",
    "\n",
    "1\n",
    "\n",
    "\n",
    "\n",
    "\n",
    "\n"
   ]
  },
  {
   "cell_type": "code",
   "execution_count": 125,
   "id": "e0e966a8",
   "metadata": {},
   "outputs": [],
   "source": [
    "i = 0\n",
    "\n",
    "while i<10: # False at last iteration\n",
    "    \n",
    "    i+=1\n",
    "    break\n",
    "    print(i)\n",
    "     \n",
    "\n",
    "else:\n",
    "    print('bye')\n",
    "\n",
    "    \n",
    "\n",
    "    \n",
    "\n",
    "\n",
    "\n",
    "\n",
    "    "
   ]
  },
  {
   "cell_type": "code",
   "execution_count": 207,
   "id": "032cba5f",
   "metadata": {},
   "outputs": [
    {
     "name": "stdout",
     "output_type": "stream",
     "text": [
      "3 2 4 2 4 2 4 5 2 4 [6, 5, 4, 3, 2, 1]\n"
     ]
    }
   ],
   "source": [
    "# time\n",
    "# random\n",
    "# \n",
    "\n",
    "import random\n",
    "L1 = [1,2,3,4,5,6]\n",
    "\n",
    "for i in range(10):\n",
    "    print(random.choice(L1),end=' ')\n",
    "    \n",
    "\n",
    "    \n"
   ]
  },
  {
   "cell_type": "markdown",
   "id": "d057a083",
   "metadata": {},
   "source": [
    "### Q1:  Write a program to print table of number given as input:\n",
    "\n",
    "        "
   ]
  },
  {
   "cell_type": "code",
   "execution_count": 141,
   "id": "8e4756b4",
   "metadata": {},
   "outputs": [
    {
     "name": "stdout",
     "output_type": "stream",
     "text": [
      "table of number5\n",
      "5 * 1 = 5\n",
      "5 * 2 = 10\n",
      "5 * 3 = 15\n",
      "5 * 4 = 20\n",
      "5 * 5 = 25\n",
      "5 * 6 = 30\n",
      "5 * 7 = 35\n",
      "5 * 8 = 40\n",
      "5 * 9 = 45\n",
      "5 * 10 = 50\n"
     ]
    }
   ],
   "source": [
    "table = int(input(\"table of number\"))\n",
    "\n",
    "for i in range(1,11):\n",
    "    print(table,'*', i,'=', table*i )"
   ]
  },
  {
   "cell_type": "markdown",
   "id": "576bb053",
   "metadata": {},
   "source": [
    "### Q2: Write a python program to find the sum of all even numbers from 0 to 20"
   ]
  },
  {
   "cell_type": "code",
   "execution_count": 146,
   "id": "61fb5314",
   "metadata": {},
   "outputs": [
    {
     "name": "stdout",
     "output_type": "stream",
     "text": [
      "110\n"
     ]
    }
   ],
   "source": [
    "s=0\n",
    "\n",
    "for i in range(0,21,2):  \n",
    "    s=s+i\n",
    "    \n",
    "    \n",
    "print(s)"
   ]
  },
  {
   "cell_type": "code",
   "execution_count": 147,
   "id": "16ab7715",
   "metadata": {},
   "outputs": [
    {
     "data": {
      "text/plain": [
       "[0, 2, 4, 6, 8, 10, 12, 14, 16, 18, 20]"
      ]
     },
     "execution_count": 147,
     "metadata": {},
     "output_type": "execute_result"
    }
   ],
   "source": [
    "list(range(0,21,2))\n",
    "\n",
    "#range(start,end,step)  end index is ignored\n",
    "\n"
   ]
  },
  {
   "cell_type": "code",
   "execution_count": 145,
   "id": "263d477b",
   "metadata": {},
   "outputs": [
    {
     "name": "stdout",
     "output_type": "stream",
     "text": [
      "110\n"
     ]
    }
   ],
   "source": [
    "i=0\n",
    "sum=0\n",
    "\n",
    "\n",
    "while(i<20):\n",
    "    \n",
    "    \n",
    "    if i%2==0:\n",
    "        sum=sum+i  \n",
    "    i+=1\n",
    "    \n",
    "    \n",
    "print(sum)"
   ]
  },
  {
   "cell_type": "markdown",
   "id": "42af66e3",
   "metadata": {},
   "source": [
    "### Q3: Write a program to calculate sum of digits of a number 1045673"
   ]
  },
  {
   "cell_type": "code",
   "execution_count": 148,
   "id": "6e8613bc",
   "metadata": {},
   "outputs": [
    {
     "name": "stdout",
     "output_type": "stream",
     "text": [
      "enter no1045673\n",
      "given no is :  1045673\n",
      "sum is : 26\n"
     ]
    }
   ],
   "source": [
    "i=int(input(\"enter no\"))\n",
    "\n",
    "\n",
    "print(\"given no is : \",i)\n",
    "print(\"sum is : \",end=\"\")\n",
    "\n",
    "\n",
    "sum=0\n",
    "while i > 0:\n",
    "    temp=i\n",
    "    d=int(i%10)\n",
    "    \n",
    "    sum=sum+d\n",
    "    i=int(temp/10)\n",
    "\n",
    "    \n",
    "print(sum)\n"
   ]
  },
  {
   "cell_type": "code",
   "execution_count": 157,
   "id": "32db304e",
   "metadata": {},
   "outputs": [
    {
     "name": "stdout",
     "output_type": "stream",
     "text": [
      "enter a number1045673\n",
      "1\n",
      "0\n",
      "4\n",
      "5\n",
      "6\n",
      "7\n",
      "3\n",
      "26\n"
     ]
    }
   ],
   "source": [
    "a = input('enter a number')\n",
    "\n",
    "\n",
    "sum=0\n",
    "for i in a :\n",
    "    print(i,end='')\n",
    "    \n",
    "    sum=sum+int(i)\n",
    "\n",
    "    print()    \n",
    "print(sum)\n",
    "\n",
    "\n"
   ]
  },
  {
   "cell_type": "code",
   "execution_count": null,
   "id": "c5236ae1",
   "metadata": {},
   "outputs": [],
   "source": [
    "i = 456\n",
    "\n",
    "temp = 456"
   ]
  },
  {
   "cell_type": "code",
   "execution_count": 158,
   "id": "577d0ae3",
   "metadata": {},
   "outputs": [
    {
     "data": {
      "text/plain": [
       "6"
      ]
     },
     "execution_count": 158,
     "metadata": {},
     "output_type": "execute_result"
    }
   ],
   "source": [
    "456%10"
   ]
  },
  {
   "cell_type": "code",
   "execution_count": 162,
   "id": "4f7ee9f6",
   "metadata": {},
   "outputs": [
    {
     "data": {
      "text/plain": [
       "45"
      ]
     },
     "execution_count": 162,
     "metadata": {},
     "output_type": "execute_result"
    }
   ],
   "source": [
    "456//10"
   ]
  },
  {
   "cell_type": "code",
   "execution_count": 163,
   "id": "05152c49",
   "metadata": {},
   "outputs": [
    {
     "data": {
      "text/plain": [
       "99"
      ]
     },
     "execution_count": 163,
     "metadata": {},
     "output_type": "execute_result"
    }
   ],
   "source": [
    "int(99.9)"
   ]
  },
  {
   "cell_type": "markdown",
   "id": "95ffbe5b",
   "metadata": {},
   "source": [
    "### Q4.  Write a program to swap first and last digits of a number (456-654)"
   ]
  },
  {
   "cell_type": "code",
   "execution_count": 181,
   "id": "f25b664a",
   "metadata": {},
   "outputs": [
    {
     "name": "stdout",
     "output_type": "stream",
     "text": [
      "4567\n",
      "7564\n"
     ]
    },
    {
     "data": {
      "text/plain": [
       "'7564'"
      ]
     },
     "execution_count": 181,
     "metadata": {},
     "output_type": "execute_result"
    }
   ],
   "source": [
    "#num = 456 \n",
    "\n",
    "#print(str(num))\n",
    "\n",
    "#print(num1)\n",
    "#\n",
    "\n",
    "num = input()\n",
    "\n",
    "a= list(num)\n",
    "a\n",
    "\n",
    "FN = a[0]\n",
    "\n",
    "LN = a[-1]\n",
    "\n",
    "a[0] = LN\n",
    "a[-1] = FN\n",
    "\n",
    "a\n",
    "\n",
    "x = ''\n",
    "# method 1\n",
    "\n",
    "\n",
    "for i in a:\n",
    "    x =x+i\n",
    "    \n",
    "print(x)\n",
    "    \n",
    "# method 2\n",
    "\n",
    "L1 = ['a','b','c']\n",
    "\n",
    "#function join\n",
    "\n",
    "''.join(a)\n"
   ]
  },
  {
   "cell_type": "code",
   "execution_count": 180,
   "id": "cb554e4a",
   "metadata": {},
   "outputs": [
    {
     "data": {
      "text/plain": [
       "'a+++++b+++++c'"
      ]
     },
     "execution_count": 180,
     "metadata": {},
     "output_type": "execute_result"
    }
   ],
   "source": [
    "L1 = ['a','b','c']\n",
    "'+++++'.join(L1)\n"
   ]
  },
  {
   "cell_type": "markdown",
   "id": "fa5cfef7",
   "metadata": {},
   "source": [
    "#### Q5.Write a program that keep on accepting number from the user until user enters Zero. Display the sum and average of all the numbers\n",
    "\n"
   ]
  },
  {
   "cell_type": "code",
   "execution_count": 184,
   "id": "8a7c2877",
   "metadata": {},
   "outputs": [
    {
     "name": "stdout",
     "output_type": "stream",
     "text": [
      "enter a number1\n",
      "next\n",
      "enter a number4\n",
      "next\n",
      "enter a number6\n",
      "next\n",
      "enter a number0\n",
      "sorry you lost\n",
      "11\n"
     ]
    }
   ],
   "source": [
    "\n",
    "\n",
    "sum = 0\n",
    "for i in range(1000000):\n",
    "    \n",
    "    x = int(input('enter a number'))\n",
    "    \n",
    "    if x ==0:\n",
    "        print('sorry you lost')\n",
    "        break\n",
    "    else:\n",
    "        sum = sum+x\n",
    "        print('next')\n",
    "        #L1.append(x)\n",
    "        \n",
    "print(sum)"
   ]
  },
  {
   "cell_type": "markdown",
   "id": "ede0baca",
   "metadata": {},
   "source": [
    "###  Q6:Write a program to find frequency of each digit in a given integer: 1345673628956372"
   ]
  },
  {
   "cell_type": "code",
   "execution_count": 197,
   "id": "95ff8505",
   "metadata": {},
   "outputs": [
    {
     "name": "stdout",
     "output_type": "stream",
     "text": [
      "number please1334455556\n",
      "{'1': 1, '3': 2, '4': 2, '5': 4, '6': 1}\n"
     ]
    }
   ],
   "source": [
    "s  = input('number please')\n",
    "\n",
    "freq = dict()\n",
    "for i in s:\n",
    "    freq[i] = 0\n",
    "\n",
    " \n",
    "    \n",
    "for x in s:\n",
    "    freq[x]=freq[x]+1\n",
    " \n",
    "        \n",
    "print(freq)\n",
    "    \n",
    "\n",
    "\n"
   ]
  },
  {
   "cell_type": "markdown",
   "id": "d2b213fe",
   "metadata": {},
   "source": [
    "freq\n"
   ]
  },
  {
   "cell_type": "code",
   "execution_count": 194,
   "id": "88cd1b91",
   "metadata": {},
   "outputs": [
    {
     "data": {
      "text/plain": [
       "{'1': 0, '3': 0, '5': 0}"
      ]
     },
     "execution_count": 194,
     "metadata": {},
     "output_type": "execute_result"
    }
   ],
   "source": [
    "freq"
   ]
  },
  {
   "cell_type": "code",
   "execution_count": 196,
   "id": "2483a605",
   "metadata": {},
   "outputs": [
    {
     "data": {
      "text/plain": [
       "{'1': 11, '3': 0, '5': 0}"
      ]
     },
     "execution_count": 196,
     "metadata": {},
     "output_type": "execute_result"
    }
   ],
   "source": [
    "freq['1'] =freq['1']+10\n",
    "freq"
   ]
  },
  {
   "cell_type": "code",
   "execution_count": 198,
   "id": "c960a6ab",
   "metadata": {},
   "outputs": [],
   "source": [
    "x = 0\n",
    "\n",
    "x = x+1"
   ]
  },
  {
   "cell_type": "code",
   "execution_count": 199,
   "id": "8eee8902",
   "metadata": {},
   "outputs": [],
   "source": [
    "freq['1']=freq['1']+5"
   ]
  },
  {
   "cell_type": "code",
   "execution_count": 200,
   "id": "27ed39c3",
   "metadata": {},
   "outputs": [
    {
     "data": {
      "text/plain": [
       "{'1': 6, '3': 2, '4': 2, '5': 4, '6': 1}"
      ]
     },
     "execution_count": 200,
     "metadata": {},
     "output_type": "execute_result"
    }
   ],
   "source": [
    "freq\n"
   ]
  },
  {
   "cell_type": "markdown",
   "id": "4e0d32c7",
   "metadata": {},
   "source": [
    "#### Q7: Print elements of a list till we get a 5"
   ]
  },
  {
   "cell_type": "code",
   "execution_count": 205,
   "id": "cb479a3e",
   "metadata": {},
   "outputs": [
    {
     "name": "stdout",
     "output_type": "stream",
     "text": [
      "1\n",
      "11\n",
      "56\n",
      "76\n",
      "45\n",
      "6\n"
     ]
    }
   ],
   "source": [
    "a=[1,11,56,76,45,6,5,67,89,70,45]\n",
    "for i in a:\n",
    "    if i!=5:\n",
    "        print(i)\n",
    "    else:\n",
    "        break"
   ]
  },
  {
   "cell_type": "markdown",
   "id": "cc0fe25b",
   "metadata": {},
   "source": [
    "####   Home work: \n",
    "1.Write a python program to print the first 10 numbers Fibonacci series\n",
    "#### next number is sum of previous two:\n",
    "\n",
    "\n",
    "#### 2. Write a program to check whether a given number is palindrome or not\n",
    "#### MARKRAM, 123454321, malayalam\n",
    "\n",
    "\n"
   ]
  },
  {
   "cell_type": "code",
   "execution_count": 214,
   "id": "238bb6fd",
   "metadata": {},
   "outputs": [
    {
     "name": "stdout",
     "output_type": "stream",
     "text": [
      "ytisrevinu\n",
      "ytisrevinu\n"
     ]
    }
   ],
   "source": [
    "L1 = [1,2,3,4,5,6,7]\n",
    "L1.reverse()\n",
    "\n",
    "\n",
    "S = 'university'\n",
    "S1 = list(S)\n",
    "S1.reverse()\n",
    "\n",
    "print(''.join(S1))\n",
    "\n",
    "\n",
    "favourite_team = \"university\"[::-1]\n",
    "print(favourite_team)"
   ]
  },
  {
   "cell_type": "markdown",
   "id": "1123e011",
   "metadata": {},
   "source": [
    "### Write a program to print the following pattern\n",
    "\n",
    "1    2     3    4 \n",
    "\n",
    "1    2     3\n",
    "\n",
    "1   2\n",
    "\n",
    "1"
   ]
  },
  {
   "cell_type": "code",
   "execution_count": 225,
   "id": "6200f42c",
   "metadata": {},
   "outputs": [
    {
     "name": "stdout",
     "output_type": "stream",
     "text": [
      "1234\n",
      "123\n",
      "12\n",
      "1\n",
      "\n"
     ]
    }
   ],
   "source": [
    "for x in range(5,0,-1):\n",
    "    for y in range(1,x):\n",
    "        print(y,end='')\n",
    "    print()\n",
    "        "
   ]
  },
  {
   "cell_type": "code",
   "execution_count": 235,
   "id": "4dfcfe12",
   "metadata": {},
   "outputs": [
    {
     "name": "stdout",
     "output_type": "stream",
     "text": [
      "******\n",
      "*****\n",
      "****\n",
      "***\n",
      "**\n",
      "*\n",
      "\n",
      "\n",
      "\n",
      "*\n",
      "**\n",
      "***\n",
      "****\n",
      "*****\n",
      "******\n"
     ]
    }
   ],
   "source": [
    "for x in range(7,0,-1):\n",
    "    for y in range(1,x):\n",
    "        print('*',end='')\n",
    "    print()\n",
    " \n",
    "\n",
    "for x in range(8):\n",
    "    for y in range(1,x):\n",
    "        print('*',end='')\n",
    "    print()\n",
    "        "
   ]
  },
  {
   "cell_type": "code",
   "execution_count": 232,
   "id": "9cee6a4d",
   "metadata": {},
   "outputs": [
    {
     "name": "stdout",
     "output_type": "stream",
     "text": [
      "*****\n",
      "*****\n",
      "*****\n",
      "*****\n"
     ]
    }
   ],
   "source": [
    "x =list(range(5,1,-1))\n",
    "\n",
    "for i in x:\n",
    "    for j in range(5):\n",
    "        print('*',end='')\n",
    "    print('',end='\\n')"
   ]
  },
  {
   "cell_type": "code",
   "execution_count": null,
   "id": "774ca561",
   "metadata": {},
   "outputs": [],
   "source": []
  }
 ],
 "metadata": {
  "kernelspec": {
   "display_name": "Python 3",
   "language": "python",
   "name": "python3"
  },
  "language_info": {
   "codemirror_mode": {
    "name": "ipython",
    "version": 3
   },
   "file_extension": ".py",
   "mimetype": "text/x-python",
   "name": "python",
   "nbconvert_exporter": "python",
   "pygments_lexer": "ipython3",
   "version": "3.6.2"
  }
 },
 "nbformat": 4,
 "nbformat_minor": 5
}
