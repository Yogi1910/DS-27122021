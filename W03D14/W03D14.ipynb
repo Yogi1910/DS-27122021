{
 "cells": [
  {
   "cell_type": "code",
   "execution_count": 1,
   "id": "a20a8d77",
   "metadata": {},
   "outputs": [],
   "source": [
    "A ='''Python was conceived in the late 1980sby Guido van Rossum at Centrum Wiskunde & Informatica (CWI) in the\n",
    "Netherlands as a successor to the ABC programming language, which was inspired by SETL, capable of exception \n",
    "handling and interfacing with the Amoeba operating system.Its implementation began in December 1989.[41] Van \n",
    "Rossum shouldered sole responsibility for the project, as the lead developer, until 12 July 2018, when he announced \n",
    "his \"permanent vacation\" from his responsibilities as Python's \"benevolent dictator for life\", a title the Python \n",
    "community bestowed upon him to reflect his long-term commitment as the project's chief decision-maker. In \n",
    "January 2019, active Python core developers elected a five-member \"Steering Council\" to lead the project.\n",
    "\n",
    "Python 2.0 was released on 16 October 2000, with many major new features, including a cycle-detecting garbage \n",
    "collector (in addition to reference counting) for memory management and support for Unicode.\n",
    "\n",
    "Python 3.0 was released on 3 December 2008. It was a major revision of the language that is not \n",
    "completely backward-compatible. Many of its major features were backported to Python 2.6.x and 2.7.x version series. \n",
    "Releases of Python 3 include the 2to3 utility, which automates the translation of Python 2 code to Python 3.\n",
    "\n",
    "Python 2.7's end-of-life date was initially set at 2015 then postponed to 2020 out of concern that a large body of \n",
    "existing code could not easily be forward-ported to Python 3.No more security patches or other improvements \n",
    "will be released for it. With Python 2's end-of-life, only Python 3.6.xand later are supported.\n",
    "\n",
    "Python 3.9.2 and 3.8.8 were expedited as all versions of Python (including 2.7) had security issues, leading \n",
    "to possible remote code executionand web cache poisoning.'''\n",
    "\n",
    "\n",
    "### Assignments:\n",
    "\n",
    "\n",
    "# upper case first character words (Nouns)----istitle()\n",
    "# lengthiest word-----------------    loop through and store maximum length variable\n",
    "# unique words from---------------- convert into a set\n"
   ]
  },
  {
   "cell_type": "code",
   "execution_count": 5,
   "id": "912cdb87",
   "metadata": {},
   "outputs": [
    {
     "data": {
      "text/plain": [
       "'backward-compatible.'"
      ]
     },
     "execution_count": 5,
     "metadata": {},
     "output_type": "execute_result"
    }
   ],
   "source": [
    "A1 = A.split(' ')\n",
    "len(A1)\n",
    "\n",
    "\n",
    "LW = ''\n",
    "\n",
    "\n",
    "# I am updating the lenghtiestword so far\n",
    "for x in A1:\n",
    "    \n",
    "    if len(x)> len(LW):\n",
    "        LW = x\n",
    "\n",
    "        \n",
    "LW"
   ]
  },
  {
   "cell_type": "code",
   "execution_count": 18,
   "id": "9c120789",
   "metadata": {},
   "outputs": [
    {
     "data": {
      "text/plain": [
       "'backward-compatible.'"
      ]
     },
     "execution_count": 18,
     "metadata": {},
     "output_type": "execute_result"
    }
   ],
   "source": [
    "A1 = A.split(' ')\n",
    "len(A1)\n",
    "\n",
    "\n",
    "length = [] # trying to make a lits of lengths of all the words\n",
    "\n",
    "for x in A1:\n",
    "    length.append(len(x))\n",
    "    \n",
    "max(length)\n",
    "\n",
    "length.index(20)\n",
    "\n",
    "A1[160]\n",
    "    \n",
    "\n",
    "        "
   ]
  },
  {
   "cell_type": "code",
   "execution_count": 20,
   "id": "57d287d8",
   "metadata": {},
   "outputs": [
    {
     "data": {
      "text/plain": [
       "193"
      ]
     },
     "execution_count": 20,
     "metadata": {},
     "output_type": "execute_result"
    }
   ],
   "source": [
    "# no of words in my string/paragraph\n",
    "# set is a collection if keys\n",
    "\n",
    "\n",
    "len(A1)\n",
    "\n",
    "unique = set(A1)\n",
    "\n",
    "len(unique)"
   ]
  },
  {
   "cell_type": "code",
   "execution_count": 28,
   "id": "132b7529",
   "metadata": {},
   "outputs": [
    {
     "name": "stdout",
     "output_type": "stream",
     "text": [
      "[1, 1, 2, 2, 3, 4]\n",
      "{1, 2, 3, 4}\n",
      "[1, 2, 3, 4]\n"
     ]
    },
    {
     "ename": "TypeError",
     "evalue": "unsupported operand type(s) for -: 'list' and 'list'",
     "output_type": "error",
     "traceback": [
      "\u001b[0;31m---------------------------------------------------------------------------\u001b[0m",
      "\u001b[0;31mTypeError\u001b[0m                                 Traceback (most recent call last)",
      "\u001b[0;32m<ipython-input-28-070d17250f1f>\u001b[0m in \u001b[0;36m<module>\u001b[0;34m\u001b[0m\n\u001b[1;32m      9\u001b[0m \u001b[0mprint\u001b[0m\u001b[0;34m(\u001b[0m\u001b[0mC\u001b[0m\u001b[0;34m)\u001b[0m\u001b[0;34m\u001b[0m\u001b[0m\n\u001b[1;32m     10\u001b[0m \u001b[0;34m\u001b[0m\u001b[0m\n\u001b[0;32m---> 11\u001b[0;31m \u001b[0;34m[\u001b[0m\u001b[0;36m2\u001b[0m\u001b[0;34m,\u001b[0m\u001b[0;36m3\u001b[0m\u001b[0;34m]\u001b[0m \u001b[0;34m-\u001b[0m \u001b[0;34m[\u001b[0m\u001b[0;36m3\u001b[0m\u001b[0;34m,\u001b[0m\u001b[0;36m4\u001b[0m\u001b[0;34m]\u001b[0m\u001b[0;34m\u001b[0m\u001b[0m\n\u001b[0m",
      "\u001b[0;31mTypeError\u001b[0m: unsupported operand type(s) for -: 'list' and 'list'"
     ]
    }
   ],
   "source": [
    "A = [1,1,2,2,3,4]\n",
    "    \n",
    "B = set(A)\n",
    "\n",
    "C = list(B)\n",
    "\n",
    "print(A)\n",
    "print(B)\n",
    "print(C)"
   ]
  },
  {
   "cell_type": "code",
   "execution_count": 46,
   "id": "8e73f9e7",
   "metadata": {},
   "outputs": [
    {
     "data": {
      "text/plain": [
       "3"
      ]
     },
     "execution_count": 46,
     "metadata": {},
     "output_type": "execute_result"
    }
   ],
   "source": [
    "### Strings \n",
    "\n",
    "# methods :   must know\n",
    "# should know\n",
    "# may know : doesn't really matter\n",
    "\n",
    "\n",
    "'A boy'.capitalize()\n",
    "'A boy'.title()\n",
    "'A boy'.upper()\n",
    "'A boy'.lower()\n",
    "'A boy'.count('A')\n",
    "'A boy'.find('A')\n",
    "'A boy'.rfind('A')\n",
    "'A boy'.replace('A','one')\n",
    "'A boy'.split('b')\n",
    "'  A boy  '.join(['item1','item2'])\n",
    "'A boy'.swapcase()  ### upper to lower and vice versa\n",
    "'A boy'.index('o')\n",
    "\n",
    "\n",
    "##function\n",
    "\n",
    "len(string)\n",
    "print(string)\n",
    "id(string)\n",
    "int(string)  -----specific\n"
   ]
  },
  {
   "cell_type": "code",
   "execution_count": 48,
   "id": "7b6380fc",
   "metadata": {},
   "outputs": [
    {
     "data": {
      "text/plain": [
       "3"
      ]
     },
     "execution_count": 48,
     "metadata": {},
     "output_type": "execute_result"
    }
   ],
   "source": [
    "int('3')# as we do in input function"
   ]
  },
  {
   "cell_type": "code",
   "execution_count": 54,
   "id": "3df5e64c",
   "metadata": {},
   "outputs": [
    {
     "ename": "SyntaxError",
     "evalue": "invalid syntax (<ipython-input-54-e90dd51717f3>, line 1)",
     "output_type": "error",
     "traceback": [
      "\u001b[0;36m  File \u001b[0;32m\"<ipython-input-54-e90dd51717f3>\"\u001b[0;36m, line \u001b[0;32m1\u001b[0m\n\u001b[0;31m    chr()-----will ask for an int and return int\u001b[0m\n\u001b[0m                     ^\u001b[0m\n\u001b[0;31mSyntaxError\u001b[0m\u001b[0;31m:\u001b[0m invalid syntax\n"
     ]
    }
   ],
   "source": [
    "chr()-----will ask for an int and return str\n",
    "ord()-----will ask for a str and return int\n",
    "\n",
    "\n",
    "ord('a')\n",
    "\n",
    "x = 30\n",
    "\n",
    "y =  'c'\n",
    "\n",
    "x == ord(chr(x))\n",
    "\n",
    "y == chr(ord(y))"
   ]
  },
  {
   "cell_type": "markdown",
   "id": "2645e759",
   "metadata": {},
   "source": [
    "### Lists"
   ]
  },
  {
   "cell_type": "code",
   "execution_count": 74,
   "id": "e9f39b09",
   "metadata": {},
   "outputs": [
    {
     "name": "stdout",
     "output_type": "stream",
     "text": [
      "[1, 20, 300, 4000, 'x']\n",
      "[1, 20, 300, 4000, 'x', 'apple', 'mango']\n",
      "6\n",
      "['mango', 'apple', 'x', 4000, 300, 20, 1]\n"
     ]
    },
    {
     "data": {
      "text/plain": [
       "[500, 30, 4, 2, 1]"
      ]
     },
     "execution_count": 74,
     "metadata": {},
     "output_type": "execute_result"
    }
   ],
   "source": [
    "L1 = [1,20,300,4000]\n",
    "L1.append('x')\n",
    "print(L1)\n",
    "\n",
    "L1.extend(['apple','mango'])\n",
    "print(L1)\n",
    "\n",
    "print(L1.index('mango'))\n",
    "\n",
    "L1.reverse()\n",
    "print(L1)\n",
    "\n",
    "L1.pop()  ### remove and return/throw\n",
    "\n",
    "\n",
    "\n",
    "\n",
    "\n",
    "# I want to insert at start\n",
    "\n",
    "#insert('index','value to be inserted')\n",
    "L1.insert(0,True)\n",
    "L1.insert(3,None)\n",
    "L1\n",
    "\n",
    "\n",
    "# sorting\n",
    "L1 = [1,2,30,4,500]\n",
    "\n",
    "\n",
    "# no argument is mandatory by default it is ascending,  reverse/descending = False\n",
    "# if descending is required  reverse = True\n",
    "\n",
    "L1.sort()\n",
    "L1\n",
    "\n",
    "\n",
    "L1.sort(reverse =True)\n",
    "L1"
   ]
  },
  {
   "cell_type": "code",
   "execution_count": 75,
   "id": "d19d9d88",
   "metadata": {},
   "outputs": [
    {
     "data": {
      "text/plain": [
       "[16, 25, 100, 121, 296, 625, 1331]"
      ]
     },
     "execution_count": 75,
     "metadata": {},
     "output_type": "execute_result"
    }
   ],
   "source": [
    "L1 = [25,100,121,296,625,1331,16]\n",
    "\n",
    "L1.sort()  # it automatically sort the items in ascending order\n",
    "L1\n",
    "\n"
   ]
  },
  {
   "cell_type": "code",
   "execution_count": 76,
   "id": "2e12bf58",
   "metadata": {},
   "outputs": [
    {
     "data": {
      "text/plain": [
       "[1331, 625, 296, 121, 100, 25, 16]"
      ]
     },
     "execution_count": 76,
     "metadata": {},
     "output_type": "execute_result"
    }
   ],
   "source": [
    "L1 = [25,100,121,296,625,1331,16]\n",
    "\n",
    "L1.sort(reverse = True)  # To  sort the items in descending order\n",
    "L1\n",
    "\n"
   ]
  },
  {
   "cell_type": "code",
   "execution_count": 80,
   "id": "8f18c2d1",
   "metadata": {},
   "outputs": [
    {
     "data": {
      "text/plain": [
       "1331"
      ]
     },
     "execution_count": 80,
     "metadata": {},
     "output_type": "execute_result"
    }
   ],
   "source": [
    "L1 = [25,100,121,296,625,1331,16]\n",
    "\n",
    "L1.pop(-2)"
   ]
  },
  {
   "cell_type": "code",
   "execution_count": 81,
   "id": "39f2f651",
   "metadata": {},
   "outputs": [
    {
     "data": {
      "text/plain": [
       "[1, 2, 34]"
      ]
     },
     "execution_count": 81,
     "metadata": {},
     "output_type": "execute_result"
    }
   ],
   "source": [
    "A = [1,2,34]\n",
    "B = A\n",
    "\n",
    "B\n"
   ]
  },
  {
   "cell_type": "code",
   "execution_count": null,
   "id": "a1116951",
   "metadata": {},
   "outputs": [],
   "source": [
    "####. A = B  and A = B.copy()  are two different opoerations in python\n",
    "\n",
    "#Q : how do I make list of uncommo elements in 2 lists\n",
    "\n"
   ]
  },
  {
   "cell_type": "code",
   "execution_count": 84,
   "id": "fcf91206",
   "metadata": {},
   "outputs": [
    {
     "data": {
      "text/plain": [
       "[1, 2, 5, 6, 7, 8, 9, 10]"
      ]
     },
     "execution_count": 84,
     "metadata": {},
     "output_type": "execute_result"
    }
   ],
   "source": [
    "#Q : how do I make list of uncommon elements in 2 lists\n",
    "\n",
    "\n",
    "A = [1,2,3,4,5,6]\n",
    "B = [7,8,9,3,4,10]\n",
    "\n",
    "\n",
    "UC = []\n",
    "\n",
    "for x in A:\n",
    "    if x not in B:\n",
    "        UC.append(x)\n",
    "\n",
    "for y in B:\n",
    "    if y not in A:\n",
    "        UC.append(y)\n",
    "        \n",
    "UC\n",
    "        \n",
    "    \n",
    "\n",
    "\n"
   ]
  },
  {
   "cell_type": "code",
   "execution_count": 89,
   "id": "13067b3e",
   "metadata": {},
   "outputs": [
    {
     "data": {
      "text/plain": [
       "[1, 2, 5, 6, 7, 8, 9, 10]"
      ]
     },
     "execution_count": 89,
     "metadata": {},
     "output_type": "execute_result"
    }
   ],
   "source": [
    "C = A+B\n",
    "UC = []\n",
    "for i in C:\n",
    "    if C.count(i)==1:\n",
    "        UC.append(i)\n",
    "        \n",
    "UC\n",
    "        "
   ]
  },
  {
   "cell_type": "code",
   "execution_count": 96,
   "id": "f3e6b1a6",
   "metadata": {},
   "outputs": [
    {
     "data": {
      "text/plain": [
       "[1, 2, 5, 6, 7, 8]"
      ]
     },
     "execution_count": 96,
     "metadata": {},
     "output_type": "execute_result"
    }
   ],
   "source": [
    "#### practice these\n",
    "\n",
    "UC = [1, 2, 5, 6, 7, 8, 9, 10]\n",
    "UC[:-2:]\n",
    "\n",
    "\n",
    "\n"
   ]
  },
  {
   "cell_type": "code",
   "execution_count": 97,
   "id": "f143889e",
   "metadata": {},
   "outputs": [
    {
     "data": {
      "text/plain": [
       "[[0], [0, 1], [0, 1, 2], [0, 1, 2, 3], [0, 1, 2, 3, 4]]"
      ]
     },
     "execution_count": 97,
     "metadata": {},
     "output_type": "execute_result"
    }
   ],
   "source": [
    "#### Please print the following nested list with a for loop\n",
    "\n",
    "[[0],[0,1],[0,1,2],[0,1,2,3],[0,1,2,3,4]]\n",
    "\n",
    "\n",
    "hint:\n",
    "    \n",
    "1 1\n",
    "2 2\n",
    "3 3\n",
    "4 4--range(4)"
   ]
  },
  {
   "cell_type": "code",
   "execution_count": 105,
   "id": "2a53105e",
   "metadata": {},
   "outputs": [
    {
     "data": {
      "text/plain": [
       "'monkey'"
      ]
     },
     "execution_count": 105,
     "metadata": {},
     "output_type": "execute_result"
    }
   ],
   "source": [
    "L3 = [[[0],[0,1],[0,1,2],[0,1,2,3],[0,1,'monkey',3,4]]]\n",
    "\n",
    "L3[0][4][2]\n"
   ]
  },
  {
   "cell_type": "markdown",
   "id": "d1d736ed",
   "metadata": {},
   "source": [
    "## Tuple"
   ]
  },
  {
   "cell_type": "code",
   "execution_count": 112,
   "id": "f7d7e10d",
   "metadata": {},
   "outputs": [
    {
     "name": "stdout",
     "output_type": "stream",
     "text": [
      "<class 'tuple'>\n",
      "<class 'tuple'>\n",
      "<class 'tuple'>\n",
      "<class 'tuple'>\n"
     ]
    }
   ],
   "source": [
    "T1 = (1,2,3,400)\n",
    "print(type(T1))\n",
    "\n",
    "T1= (1)##### integer\n",
    "\n",
    "T1 = (1,)###### tuple\n",
    "print(type(T1))\n",
    "\n",
    "T1 = tuple((1,2,3))\n",
    "print(type(T1))\n",
    "\n",
    "T1 = 1,2,3\n",
    "print(type(T1))\n",
    "\n",
    "#modifications not allowed\n",
    "#hetergenous dat types\n",
    "#allow duplicates\n",
    "#"
   ]
  },
  {
   "cell_type": "code",
   "execution_count": 114,
   "id": "52c4e092",
   "metadata": {},
   "outputs": [
    {
     "name": "stdout",
     "output_type": "stream",
     "text": [
      "(1, 2, 3) 1 2 3\n"
     ]
    }
   ],
   "source": [
    "\n",
    "# multiple variable assignment\n",
    " \n",
    "a,b,c = 1,2,3\n",
    "\n",
    "# tuple assignment\n",
    "\n",
    "A =1,2,3\n",
    "\n",
    "print(A,a,b,c)"
   ]
  },
  {
   "cell_type": "code",
   "execution_count": 116,
   "id": "0111249d",
   "metadata": {},
   "outputs": [
    {
     "data": {
      "text/plain": [
       "8"
      ]
     },
     "execution_count": 116,
     "metadata": {},
     "output_type": "execute_result"
    }
   ],
   "source": [
    "### inexing works\n",
    "\n",
    "T4 = (1, 2, 5, 6, 7, 8)\n",
    "T4[-1]"
   ]
  },
  {
   "cell_type": "code",
   "execution_count": 118,
   "id": "6f34a3a2",
   "metadata": {},
   "outputs": [
    {
     "data": {
      "text/plain": [
       "True"
      ]
     },
     "execution_count": 118,
     "metadata": {},
     "output_type": "execute_result"
    }
   ],
   "source": [
    "## membership\n",
    "\n",
    "7 in T4"
   ]
  },
  {
   "cell_type": "code",
   "execution_count": 120,
   "id": "a6666971",
   "metadata": {},
   "outputs": [
    {
     "data": {
      "text/plain": [
       "(1, 2, 3, 5, 6, 7)"
      ]
     },
     "execution_count": 120,
     "metadata": {},
     "output_type": "execute_result"
    }
   ],
   "source": [
    "#repititive creation\n",
    "\n",
    "T5 = ('a','b','')*5\n",
    "T5\n",
    "\n",
    "# concatenation\n",
    "\n",
    "(1,2,3)+(5,6,7)"
   ]
  },
  {
   "cell_type": "code",
   "execution_count": 122,
   "id": "8484025e",
   "metadata": {},
   "outputs": [
    {
     "name": "stdout",
     "output_type": "stream",
     "text": [
      "3\n",
      "2\n"
     ]
    }
   ],
   "source": [
    "# methods\n",
    "T6 = (1, 2, 20,20,2,20,5, 6, 7, 8)\n",
    "\n",
    "print(T6.count(20))\n",
    "\n",
    "print(T6.index(20))   # the min index will be returned\n",
    "\n",
    "\n"
   ]
  },
  {
   "cell_type": "code",
   "execution_count": 123,
   "id": "e7900763",
   "metadata": {},
   "outputs": [
    {
     "data": {
      "text/plain": [
       "10"
      ]
     },
     "execution_count": 123,
     "metadata": {},
     "output_type": "execute_result"
    }
   ],
   "source": [
    "len(T6)"
   ]
  },
  {
   "cell_type": "code",
   "execution_count": 125,
   "id": "aa51c10f",
   "metadata": {},
   "outputs": [
    {
     "data": {
      "text/plain": [
       "(1, 2, 20, 20, 2, 20, 5, 6, 7, 8, 'monkey')"
      ]
     },
     "execution_count": 125,
     "metadata": {},
     "output_type": "execute_result"
    }
   ],
   "source": [
    "# replacing an item\n",
    "\n",
    "# operations where you have to update any tuple: converting it inot a list and then \n",
    "# back to tuple would be the right approach\n",
    "\n",
    "\n",
    "#I want to append monkey at the end\n",
    "\n",
    "T7 = (1, 2, 20,20,2,20,5, 6, 7, 8)\n",
    "L7 = list(T7)\n",
    "L7.append('monkey')\n",
    "T7 = tuple(L7)\n",
    "T7\n",
    "\n",
    "(1, 2, 20,20,2,20,5, 6, 7, 8)"
   ]
  },
  {
   "cell_type": "code",
   "execution_count": 126,
   "id": "9559c0df",
   "metadata": {},
   "outputs": [
    {
     "data": {
      "text/plain": [
       "(1, 2, 20, 20, 2, 20, 5, 6, 7, 8)"
      ]
     },
     "execution_count": 126,
     "metadata": {},
     "output_type": "execute_result"
    }
   ],
   "source": [
    "#I want to delete monkey at the end\n",
    "\n",
    "T7 = (1, 2, 20,20,2,20,5, 6, 7, 8,'monkey')\n",
    "\n",
    "L7 = list(T7)\n",
    "\n",
    "L7.pop()\n",
    "\n",
    "T7 = tuple(L7)\n",
    "\n",
    "T7\n",
    "\n"
   ]
  },
  {
   "cell_type": "code",
   "execution_count": 128,
   "id": "d3d207b6",
   "metadata": {},
   "outputs": [
    {
     "data": {
      "text/plain": [
       "(1, 2, 20, 20, 2, 20, 5, 6, 7, 8, 'monkey')"
      ]
     },
     "execution_count": 128,
     "metadata": {},
     "output_type": "execute_result"
    }
   ],
   "source": [
    "(1, 2, 20,20,2,20,5, 6, 7, 8) + ('monkey',)"
   ]
  },
  {
   "cell_type": "code",
   "execution_count": 130,
   "id": "e656fce7",
   "metadata": {},
   "outputs": [
    {
     "data": {
      "text/plain": [
       "17"
      ]
     },
     "execution_count": 130,
     "metadata": {},
     "output_type": "execute_result"
    }
   ],
   "source": [
    "str1 = 'let us 2 learn how 2 use find'\n",
    "\n",
    "str1.find('2')\n",
    "str1.rfind('2')"
   ]
  },
  {
   "cell_type": "code",
   "execution_count": 136,
   "id": "2a0e04cd",
   "metadata": {},
   "outputs": [
    {
     "data": {
      "text/plain": [
       "'a-----b-----c-----d-----e'"
      ]
     },
     "execution_count": 136,
     "metadata": {},
     "output_type": "execute_result"
    }
   ],
   "source": [
    "'a b c d e'\n",
    "\n",
    "L = ('a', 'b', 'c', 'd', 'e')\n",
    "\n",
    "# separator.join(iterable)\n",
    "\n",
    "\"-----\".join(L)\n",
    "\n",
    "\n"
   ]
  },
  {
   "cell_type": "code",
   "execution_count": null,
   "id": "3de30d7f",
   "metadata": {},
   "outputs": [],
   "source": []
  }
 ],
 "metadata": {
  "kernelspec": {
   "display_name": "Python 3",
   "language": "python",
   "name": "python3"
  },
  "language_info": {
   "codemirror_mode": {
    "name": "ipython",
    "version": 3
   },
   "file_extension": ".py",
   "mimetype": "text/x-python",
   "name": "python",
   "nbconvert_exporter": "python",
   "pygments_lexer": "ipython3",
   "version": "3.6.2"
  }
 },
 "nbformat": 4,
 "nbformat_minor": 5
}
