{
 "cells": [
  {
   "cell_type": "code",
   "execution_count": 2,
   "id": "f1536ad7",
   "metadata": {},
   "outputs": [
    {
     "name": "stdout",
     "output_type": "stream",
     "text": [
      "sun\n"
     ]
    }
   ],
   "source": [
    "A = ['sun','mon','tue','wed']\n",
    "\n",
    "n = len(A)\n",
    "\n",
    "print(A[-n])"
   ]
  },
  {
   "cell_type": "code",
   "execution_count": 3,
   "id": "569b28f2",
   "metadata": {},
   "outputs": [
    {
     "data": {
      "text/plain": [
       "'ab'"
      ]
     },
     "execution_count": 3,
     "metadata": {},
     "output_type": "execute_result"
    }
   ],
   "source": [
    "# Data types which are collections\n",
    "\n",
    "Lists\n",
    "tuples\n",
    "sets\n",
    "dictionaries\n",
    "\n",
    "# Iterable types (can be looped through)\n",
    "# object is able to return its members one by one\n",
    "# loops are used to iterate\n",
    "\n",
    "strings\n",
    "lists\n",
    "sets\n",
    "dictionaries\n",
    "tuples\n",
    "\n",
    "# mutable \n",
    "\n",
    "List\n",
    "Dict\n",
    "Sets\n",
    "\n",
    "# Immutable\n",
    "\n",
    "Int\n",
    "float\n",
    "tuple\n",
    "str\n",
    "bool\n",
    "\n",
    "\n",
    "\n",
    "\n"
   ]
  },
  {
   "cell_type": "code",
   "execution_count": 4,
   "id": "d0dd1800",
   "metadata": {},
   "outputs": [
    {
     "data": {
      "text/plain": [
       "'Y'"
      ]
     },
     "execution_count": 4,
     "metadata": {},
     "output_type": "execute_result"
    }
   ],
   "source": [
    "S1 = 'cauliflower'\n",
    "\n",
    "vowels = a e i o u\n",
    "\n",
    "\n",
    "# if a is there ----condition else---\n",
    "# "
   ]
  },
  {
   "cell_type": "code",
   "execution_count": null,
   "id": "982c0b04",
   "metadata": {},
   "outputs": [],
   "source": [
    "# collections has although a different topic"
   ]
  },
  {
   "cell_type": "markdown",
   "id": "083ab3e7",
   "metadata": {},
   "source": [
    "## Variable assignment\n"
   ]
  },
  {
   "cell_type": "code",
   "execution_count": 7,
   "id": "15ed0c27",
   "metadata": {},
   "outputs": [
    {
     "name": "stdout",
     "output_type": "stream",
     "text": [
      "<class 'list'>\n"
     ]
    }
   ],
   "source": [
    "A = 3\n",
    "\n",
    "#variable/name = object\n",
    "\n",
    "# = assignment operator like we have + - * / (arithmatic operators)\n",
    "\n",
    "# how many objects are there in [[1,2],[3,4]]\n",
    "\n",
    "L1 = [1,2,[3,'Keerthana']]\n",
    "\n",
    "6 objects\n",
    "\n",
    "\n",
    "D1 = [11,2,[3,'Keerthana'],{1:'mon',2:'tue'}]\n"
   ]
  },
  {
   "cell_type": "code",
   "execution_count": null,
   "id": "3f0f5f4a",
   "metadata": {},
   "outputs": [],
   "source": [
    "D1 = {'1:'mon',2:'tue',3:['wed','thu','fri']}"
   ]
  },
  {
   "cell_type": "code",
   "execution_count": 9,
   "id": "c78ddaf2",
   "metadata": {},
   "outputs": [
    {
     "data": {
      "text/plain": [
       "'One'"
      ]
     },
     "execution_count": 9,
     "metadata": {},
     "output_type": "execute_result"
    }
   ],
   "source": [
    "D2 = {1:'One','2':'TWO','2':'two'}\n",
    "\n",
    "D2[1]"
   ]
  },
  {
   "cell_type": "code",
   "execution_count": 19,
   "id": "850c3cec",
   "metadata": {},
   "outputs": [
    {
     "name": "stdout",
     "output_type": "stream",
     "text": [
      "[10, 20]\n",
      "4378595400\n",
      "4378588552\n",
      "(1, 2, [10000, 20])\n",
      "4378595400\n",
      "4378588552\n"
     ]
    }
   ],
   "source": [
    "# mutable objects inside immuatable objects don't lose their mutablility\n",
    "# update, insert, delete\n",
    "# Datatype conversion\n",
    "#an int, an int, a list\n",
    "\n",
    "\n",
    "T1 = (1,2,[10,20])\n",
    "print(T1[2])\n",
    "print(id(T1))\n",
    "print(id(T1[2]))\n",
    "\n",
    "\n",
    "\n",
    "T1[2][0] = 10000\n",
    "\n",
    "#an int, an int, a list\n",
    "print(T1)\n",
    "print(id(T1))\n",
    "print(id(T1[2]))"
   ]
  },
  {
   "cell_type": "code",
   "execution_count": null,
   "id": "20ec4a7c",
   "metadata": {},
   "outputs": [],
   "source": [
    "D1 = ([1,2,3],'india')\n",
    "\n",
    "D1[0][0] = 100\n",
    "\n",
    "A = [(1,2,3),100]\n",
    "\n",
    "print(type(A[0]))\n",
    "\n",
    "A[0][1]=100\n",
    "# mutation of tuple\n",
    "\n",
    "A[1] =10000\n",
    "#mutation of list\n",
    "\n",
    "\n",
    "#S1 = {1,2,3}"
   ]
  },
  {
   "cell_type": "code",
   "execution_count": null,
   "id": "75ddd41d",
   "metadata": {},
   "outputs": [],
   "source": [
    "1) Disctionary keys are unique\"\n",
    "\n",
    "\n",
    "2) Which one is immutable\n",
    "\n",
    "1) Dict\n",
    "2) Set\n",
    "3) List\n",
    "4) string\n",
    "\n",
    "3)Indexing is not possible in?\n",
    "\n",
    "1) list\n",
    "2) tuple\n",
    "3) set\n",
    "4) string\n"
   ]
  },
  {
   "cell_type": "code",
   "execution_count": 27,
   "id": "1d558907",
   "metadata": {},
   "outputs": [
    {
     "name": "stdout",
     "output_type": "stream",
     "text": [
      "<class 'str'>\n",
      ",\n"
     ]
    }
   ],
   "source": [
    "# list to strings <->\n",
    "\n",
    "S1 = \"My name is Yogesh\"\n",
    "\n",
    "L1 = list(S1)\n",
    "# create a string of all charatcters including spaces\n",
    "\n",
    "L2= [1,2]\n",
    "\n",
    "S1 = str(L2)\n",
    "print(type(S1))\n",
    "\n",
    "print(S1[2])\n",
    "\n",
    "# All data types can not be converted into each other sometimes of no use.\n"
   ]
  },
  {
   "cell_type": "code",
   "execution_count": null,
   "id": "995167ca",
   "metadata": {},
   "outputs": [],
   "source": [
    "# Arithmatic\n",
    "\n",
    "Addition +\n",
    "Substraction - \n",
    "multiplication *\n",
    "Division /\n",
    "modulus %----remainder\n",
    "Exponentiation **\n",
    "floor division // # the nearest integer value to its lower integer\n",
    "                  # wipes of decimal and after it\n",
    "                  # ruound off down\n",
    "\n"
   ]
  },
  {
   "cell_type": "code",
   "execution_count": 36,
   "id": "597c2b31",
   "metadata": {},
   "outputs": [
    {
     "name": "stdout",
     "output_type": "stream",
     "text": [
      "3.3333333333333335\n",
      "20\n",
      "64\n"
     ]
    }
   ],
   "source": [
    "print(10/3)\n",
    "\n",
    "# 10= 3*3+1\n",
    "\n",
    "print(120%50)\n",
    "\n",
    "print(4**3) # 2*2*2"
   ]
  },
  {
   "cell_type": "code",
   "execution_count": 40,
   "id": "b5299a67",
   "metadata": {},
   "outputs": [
    {
     "name": "stdout",
     "output_type": "stream",
     "text": [
      "2\n"
     ]
    }
   ],
   "source": [
    "print(11//4)"
   ]
  },
  {
   "cell_type": "code",
   "execution_count": 42,
   "id": "0809d883",
   "metadata": {},
   "outputs": [
    {
     "data": {
      "text/plain": [
       "10"
      ]
     },
     "execution_count": 42,
     "metadata": {},
     "output_type": "execute_result"
    }
   ],
   "source": [
    "74//7"
   ]
  },
  {
   "cell_type": "code",
   "execution_count": null,
   "id": "443fcf5f",
   "metadata": {},
   "outputs": [],
   "source": []
  }
 ],
 "metadata": {
  "kernelspec": {
   "display_name": "Python 3",
   "language": "python",
   "name": "python3"
  },
  "language_info": {
   "codemirror_mode": {
    "name": "ipython",
    "version": 3
   },
   "file_extension": ".py",
   "mimetype": "text/x-python",
   "name": "python",
   "nbconvert_exporter": "python",
   "pygments_lexer": "ipython3",
   "version": "3.6.2"
  }
 },
 "nbformat": 4,
 "nbformat_minor": 5
}
